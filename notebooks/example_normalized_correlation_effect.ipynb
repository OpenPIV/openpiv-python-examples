{
 "cells": [
  {
   "cell_type": "markdown",
   "id": "54065334",
   "metadata": {
    "papermill": {
     "duration": 0.002695,
     "end_time": "2022-10-20T19:14:24.265157",
     "exception": false,
     "start_time": "2022-10-20T19:14:24.262462",
     "status": "completed"
    },
    "tags": []
   },
   "source": [
    "# Single pass on complex images, effect of normalized correlation"
   ]
  },
  {
   "cell_type": "code",
   "execution_count": 1,
   "id": "42a8ab67",
   "metadata": {
    "execution": {
     "iopub.execute_input": "2022-10-20T19:14:24.271075Z",
     "iopub.status.busy": "2022-10-20T19:14:24.270816Z",
     "iopub.status.idle": "2022-10-20T19:14:25.282853Z",
     "shell.execute_reply": "2022-10-20T19:14:25.282152Z"
    },
    "papermill": {
     "duration": 1.016857,
     "end_time": "2022-10-20T19:14:25.284783",
     "exception": false,
     "start_time": "2022-10-20T19:14:24.267926",
     "status": "completed"
    },
    "tags": []
   },
   "outputs": [],
   "source": [
    "from openpiv import tools, pyprocess, scaling, validation, filters\n",
    "import numpy as np\n",
    "import glob\n",
    "import matplotlib.pyplot as plt\n",
    "%matplotlib inline"
   ]
  },
  {
   "cell_type": "code",
   "execution_count": 2,
   "id": "6c53db83",
   "metadata": {
    "execution": {
     "iopub.execute_input": "2022-10-20T19:14:25.289599Z",
     "iopub.status.busy": "2022-10-20T19:14:25.289308Z",
     "iopub.status.idle": "2022-10-20T19:14:25.293035Z",
     "shell.execute_reply": "2022-10-20T19:14:25.292473Z"
    },
    "papermill": {
     "duration": 0.007502,
     "end_time": "2022-10-20T19:14:25.294329",
     "exception": false,
     "start_time": "2022-10-20T19:14:25.286827",
     "status": "completed"
    },
    "tags": []
   },
   "outputs": [],
   "source": [
    "# set of typical parameters\n",
    "window_size = 32  # pixels 32 x 32 pixels interrogation window, in frame A.\n",
    "overlap = 16  # overlap is 8 pixels, i.e. 25% of the window\n",
    "search_size = 32  # pixels 64 x 64 in frame B, avoids some peak locking for \n",
    "                  # large displacements"
   ]
  },
  {
   "cell_type": "code",
   "execution_count": 3,
   "id": "1702663c",
   "metadata": {
    "execution": {
     "iopub.execute_input": "2022-10-20T19:14:25.298678Z",
     "iopub.status.busy": "2022-10-20T19:14:25.298438Z",
     "iopub.status.idle": "2022-10-20T19:14:25.305545Z",
     "shell.execute_reply": "2022-10-20T19:14:25.305051Z"
    },
    "papermill": {
     "duration": 0.010732,
     "end_time": "2022-10-20T19:14:25.306755",
     "exception": false,
     "start_time": "2022-10-20T19:14:25.296023",
     "status": "completed"
    },
    "tags": []
   },
   "outputs": [],
   "source": [
    "def openpiv_default_run(im1,im2,normalized_correlation=False):\n",
    "    \"\"\" default settings for OpenPIV analysis using\n",
    "    extended_search_area_piv algorithm for two images\n",
    "    \n",
    "    Inputs:\n",
    "        im1,im2 : str,str = path of two image\n",
    "    \"\"\"\n",
    "    frame_a  = tools.imread(im1)\n",
    "    frame_b  = tools.imread(im2)\n",
    "\n",
    "    u, v, sig2noise = pyprocess.extended_search_area_piv(frame_a.astype(np.int32), \n",
    "                                                       frame_b.astype(np.int32), \n",
    "                                                       window_size=window_size, \n",
    "                                                       overlap=overlap, \n",
    "                                                       dt=1, \n",
    "                                                       search_area_size=search_size, \n",
    "                                                       sig2noise_method='peak2peak',\n",
    "                                                        correlation_method='linear',\n",
    "                                                        normalized_correlation=normalized_correlation)\n",
    "    x, y = pyprocess.get_coordinates(frame_a.shape, \n",
    "                                     search_size, \n",
    "                                     overlap)\n",
    "    mask = validation.sig2noise_val(sig2noise, threshold = 1.0 )\n",
    "    plt.figure()\n",
    "    plt.hist(sig2noise.flatten(),51)\n",
    "    plt.ylabel('Signal to noise ratio')\n",
    "    u, v,_ = filters.replace_outliers( u, v, mask, method='localmean', \n",
    "                                    max_iter=1, kernel_size=2)\n",
    "    x, y, u, v = scaling.uniform(x, y, u, v, scaling_factor = 1. )\n",
    "    tools.save(x, y, u, v, mask, list_of_images[0]+'.txt' )\n",
    "    fig, ax = plt.subplots(figsize=(8,8))\n",
    "    fig,ax = tools.display_vector_field(list_of_images[0]+'.txt', \n",
    "                                        on_img=True,image_name=list_of_images[0],\n",
    "                                        scaling_factor=1.,\n",
    "                                        scale=20,\n",
    "                                        ax=ax)"
   ]
  },
  {
   "cell_type": "code",
   "execution_count": 4,
   "id": "d2c47f05",
   "metadata": {
    "execution": {
     "iopub.execute_input": "2022-10-20T19:14:25.311112Z",
     "iopub.status.busy": "2022-10-20T19:14:25.310916Z",
     "iopub.status.idle": "2022-10-20T19:14:25.315169Z",
     "shell.execute_reply": "2022-10-20T19:14:25.314690Z"
    },
    "lines_to_next_cell": 2,
    "papermill": {
     "duration": 0.007874,
     "end_time": "2022-10-20T19:14:25.316435",
     "exception": false,
     "start_time": "2022-10-20T19:14:25.308561",
     "status": "completed"
    },
    "tags": []
   },
   "outputs": [],
   "source": [
    "alist_filter = ['jpg','bmp','png','tif','tiff']\n",
    "\n",
    "# all test cases in /openpiv/examples/\n",
    "list_of_files = glob.glob('../test3/*.*')\n",
    "list_of_files.sort()\n",
    "list_of_images = [f for f in list_of_files if f[-3:] in alist_filter]\n",
    "list_of_images.sort()\n",
    "if len(list_of_images) > 1:\n",
    "    print(list_of_images[0], list_of_images[1])\n",
    "    openpiv_default_run(list_of_images[0],list_of_images[1],normalized_correlation=False)"
   ]
  },
  {
   "cell_type": "code",
   "execution_count": 5,
   "id": "9c833492",
   "metadata": {
    "execution": {
     "iopub.execute_input": "2022-10-20T19:14:25.320859Z",
     "iopub.status.busy": "2022-10-20T19:14:25.320643Z",
     "iopub.status.idle": "2022-10-20T19:14:25.324065Z",
     "shell.execute_reply": "2022-10-20T19:14:25.323467Z"
    },
    "papermill": {
     "duration": 0.007108,
     "end_time": "2022-10-20T19:14:25.325446",
     "exception": false,
     "start_time": "2022-10-20T19:14:25.318338",
     "status": "completed"
    },
    "tags": []
   },
   "outputs": [],
   "source": [
    "if len(list_of_images) > 1:\n",
    "    print(list_of_images[0], list_of_images[1])\n",
    "    openpiv_default_run(list_of_images[0],list_of_images[1],normalized_correlation=True)"
   ]
  },
  {
   "cell_type": "code",
   "execution_count": null,
   "id": "e74c3d29",
   "metadata": {
    "papermill": {
     "duration": 0.001669,
     "end_time": "2022-10-20T19:14:25.328875",
     "exception": false,
     "start_time": "2022-10-20T19:14:25.327206",
     "status": "completed"
    },
    "tags": []
   },
   "outputs": [],
   "source": []
  },
  {
   "cell_type": "code",
   "execution_count": null,
   "id": "c470c037",
   "metadata": {
    "papermill": {
     "duration": 0.001636,
     "end_time": "2022-10-20T19:14:25.332174",
     "exception": false,
     "start_time": "2022-10-20T19:14:25.330538",
     "status": "completed"
    },
    "tags": []
   },
   "outputs": [],
   "source": []
  },
  {
   "cell_type": "code",
   "execution_count": null,
   "id": "17b3d1c4",
   "metadata": {
    "papermill": {
     "duration": 0.001613,
     "end_time": "2022-10-20T19:14:25.335570",
     "exception": false,
     "start_time": "2022-10-20T19:14:25.333957",
     "status": "completed"
    },
    "tags": []
   },
   "outputs": [],
   "source": []
  }
 ],
 "metadata": {
  "anaconda-cloud": {},
  "jupytext": {
   "formats": "ipynb,py:percent"
  },
  "kernelspec": {
   "display_name": "Python 3.8.12 ('echopiv')",
   "language": "python",
   "name": "python3"
  },
  "language_info": {
   "codemirror_mode": {
    "name": "ipython",
    "version": 3
   },
   "file_extension": ".py",
   "mimetype": "text/x-python",
   "name": "python",
   "nbconvert_exporter": "python",
   "pygments_lexer": "ipython3",
   "version": "3.8.12"
  },
  "papermill": {
   "default_parameters": {},
   "duration": 2.33955,
   "end_time": "2022-10-20T19:14:25.555981",
   "environment_variables": {},
   "exception": null,
   "input_path": "./notebooks/example_normalized_correlation_effect.ipynb",
   "output_path": "./notebooks/example_normalized_correlation_effect.ipynb",
   "parameters": {},
   "start_time": "2022-10-20T19:14:23.216431",
   "version": "2.4.0"
  },
  "vscode": {
   "interpreter": {
    "hash": "f83b0c3a4910470a1212112b1707d582432916ed4ba8aec962241a050aa18fae"
   }
  }
 },
 "nbformat": 4,
 "nbformat_minor": 5
}