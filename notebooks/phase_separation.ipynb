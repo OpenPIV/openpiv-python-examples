{
 "cells": [
  {
   "cell_type": "markdown",
   "id": "4fab0024",
   "metadata": {
    "papermill": {
     "duration": null,
     "end_time": null,
     "exception": null,
     "start_time": null,
     "status": "completed"
    },
    "tags": []
   },
   "source": [
    "# Phase separation tutorial\n",
    "In the first section, we load an artificial two-phase PIV image and then use different phase separation methods to discriminate the two phases and save them as separate images. This section aims to introduce different methods that are available.\n",
    "\n",
    "In the second section, we demonstrate phase separation on real images followed by actual PIV process as a more realistic example."
   ]
  },
  {
   "cell_type": "markdown",
   "id": "fcd311b4",
   "metadata": {
    "papermill": {
     "duration": null,
     "end_time": null,
     "exception": null,
     "start_time": null,
     "status": "completed"
    },
    "tags": []
   },
   "source": [
    "# Section 1 - Introducing different methods"
   ]
  },
  {
   "cell_type": "markdown",
   "id": "8b90eb5b",
   "metadata": {
    "papermill": {
     "duration": null,
     "end_time": null,
     "exception": null,
     "start_time": null,
     "status": "completed"
    },
    "tags": []
   },
   "source": [
    "## Loading image"
   ]
  },
  {
   "cell_type": "code",
   "execution_count": null,
   "id": "20bbcc32",
   "metadata": {
    "papermill": {
     "duration": null,
     "end_time": null,
     "exception": null,
     "start_time": null,
     "status": "completed"
    },
    "tags": []
   },
   "outputs": [],
   "source": [
    "from openpiv import tools, phase_separation\n",
    "import matplotlib.pyplot as plt\n",
    "plt.gray()"
   ]
  },
  {
   "cell_type": "code",
   "execution_count": null,
   "id": "e2684157",
   "metadata": {
    "papermill": {
     "duration": null,
     "end_time": null,
     "exception": null,
     "start_time": null,
     "status": "completed"
    },
    "tags": []
   },
   "outputs": [],
   "source": [
    "two_phase_image = tools.imread('../two_phase_piv/artificial_A.tif')\n",
    "plt.figure(figsize=(10,10))\n",
    "plt.imshow(two_phase_image)\n",
    "plt.show()"
   ]
  },
  {
   "cell_type": "markdown",
   "id": "f076d66f",
   "metadata": {
    "papermill": {
     "duration": null,
     "end_time": null,
     "exception": null,
     "start_time": null,
     "status": "completed"
    },
    "tags": []
   },
   "source": [
    "## Opening method"
   ]
  },
  {
   "cell_type": "code",
   "execution_count": null,
   "id": "5b0cbefd",
   "metadata": {
    "papermill": {
     "duration": null,
     "end_time": null,
     "exception": null,
     "start_time": null,
     "status": "completed"
    },
    "tags": []
   },
   "outputs": [],
   "source": [
    "big_particles_image, small_particles_image = phase_separation.opening_method( two_phase_image, 11, thresh_factor=1.05 )\n",
    "fig, ax = plt.subplots(1, 2, figsize=(16,10))\n",
    "ax[0].imshow( big_particles_image, vmin=0, vmax=255 )\n",
    "ax[1].imshow( small_particles_image, interpolation='bicubic', vmin=0, vmax=255 )\n",
    "plt.show()"
   ]
  },
  {
   "cell_type": "markdown",
   "id": "454ef927",
   "metadata": {
    "papermill": {
     "duration": null,
     "end_time": null,
     "exception": null,
     "start_time": null,
     "status": "completed"
    },
    "tags": []
   },
   "source": [
    "## Median filter method"
   ]
  },
  {
   "cell_type": "code",
   "execution_count": null,
   "id": "ddb66d66",
   "metadata": {
    "papermill": {
     "duration": null,
     "end_time": null,
     "exception": null,
     "start_time": null,
     "status": "completed"
    },
    "tags": []
   },
   "outputs": [],
   "source": [
    "big_particles_image, small_particles_image = phase_separation.median_filter_method(two_phase_image, 11)\n",
    "fig, ax = plt.subplots(1, 2, figsize=(16,10))\n",
    "ax[0].imshow( big_particles_image)\n",
    "ax[1].imshow( small_particles_image, vmin=0, vmax=255 )\n",
    "plt.show()"
   ]
  },
  {
   "cell_type": "markdown",
   "id": "16f017db",
   "metadata": {
    "papermill": {
     "duration": null,
     "end_time": null,
     "exception": null,
     "start_time": null,
     "status": "completed"
    },
    "tags": []
   },
   "source": [
    "## Khalitov-Longmire method"
   ]
  },
  {
   "cell_type": "markdown",
   "id": "203407c7",
   "metadata": {
    "papermill": {
     "duration": null,
     "end_time": null,
     "exception": null,
     "start_time": null,
     "status": "completed"
    },
    "tags": []
   },
   "source": [
    "### Using a simple size limit"
   ]
  },
  {
   "cell_type": "code",
   "execution_count": null,
   "id": "aa1b53eb",
   "metadata": {
    "papermill": {
     "duration": null,
     "end_time": null,
     "exception": null,
     "start_time": null,
     "status": "completed"
    },
    "tags": []
   },
   "outputs": [],
   "source": [
    "# Plot size distribution\n",
    "plt.hist( phase_separation.get_particles_size_array(two_phase_image), 30)\n",
    "plt.yscale('log')\n",
    "plt.title('Particle size distribution')\n",
    "plt.show()"
   ]
  },
  {
   "cell_type": "code",
   "execution_count": null,
   "id": "70105674",
   "metadata": {
    "papermill": {
     "duration": null,
     "end_time": null,
     "exception": null,
     "start_time": null,
     "status": "completed"
    },
    "tags": []
   },
   "outputs": [],
   "source": [
    "# Choose size limit = 100 \n",
    "big_particles_criteria = {'min_size' : 75}\n",
    "small_particles_criteria = {'max_size' : 75}\n",
    "big_particles_image, small_particles_image = \\\n",
    "    phase_separation.khalitov_longmire( two_phase_image, big_particles_criteria, small_particles_criteria ) \n",
    "fig, ax = plt.subplots(1, 2, figsize=(16,10))\n",
    "ax[0].imshow( big_particles_image )\n",
    "ax[1].imshow( small_particles_image )\n",
    "plt.show()"
   ]
  },
  {
   "cell_type": "markdown",
   "id": "6f26cac5",
   "metadata": {
    "papermill": {
     "duration": null,
     "end_time": null,
     "exception": null,
     "start_time": null,
     "status": "completed"
    },
    "tags": []
   },
   "source": [
    "### Using size and brightness limits"
   ]
  },
  {
   "cell_type": "code",
   "execution_count": null,
   "id": "75c9a87c",
   "metadata": {
    "papermill": {
     "duration": null,
     "end_time": null,
     "exception": null,
     "start_time": null,
     "status": "completed"
    },
    "tags": []
   },
   "outputs": [],
   "source": [
    "# First plot size-brightness map\n",
    "sb_map = phase_separation.get_size_brightness_map( two_phase_image ) # It is possible to sum over maps of multiple images\n",
    "plt.figure(figsize=(10,8))\n",
    "plt.imshow( sb_map, interpolation='nearest', aspect='auto', origin='lower', cmap='jet' )\n",
    "plt.colorbar()\n",
    "plt.xlabel('Brightness')\n",
    "plt.ylabel('Size (px)')\n",
    "plt.title('Signal density')\n",
    "plt.show()"
   ]
  },
  {
   "cell_type": "code",
   "execution_count": null,
   "id": "86be0f8c",
   "metadata": {
    "papermill": {
     "duration": null,
     "end_time": null,
     "exception": null,
     "start_time": null,
     "status": "completed"
    },
    "tags": []
   },
   "outputs": [],
   "source": [
    "# size-brightness rectangle regions \n",
    "big_particles_criteria = {\n",
    "    'min_size' : 100 ,'max_size' : 350 , 'min_brightness' : 100 , 'max_brightness' : 180 }\n",
    "small_particles_criteria = {\n",
    "    'min_size' : 25 ,'max_size' : 100 , 'min_brightness' : 30 , 'max_brightness' : 100}\n",
    "big_particles_image , small_particles_image = \\\n",
    "    phase_separation.khalitov_longmire( two_phase_image, big_particles_criteria, small_particles_criteria ) \n",
    "fig, ax = plt.subplots(1, 2, figsize=(16,10))\n",
    "ax[0].imshow( big_particles_image )\n",
    "ax[1].imshow( small_particles_image )\n",
    "plt.show()"
   ]
  },
  {
   "cell_type": "markdown",
   "id": "6f68de57",
   "metadata": {
    "papermill": {
     "duration": null,
     "end_time": null,
     "exception": null,
     "start_time": null,
     "status": "completed"
    },
    "tags": []
   },
   "source": [
    "# Section 2 - Practical example"
   ]
  },
  {
   "cell_type": "markdown",
   "id": "0d69ccd3",
   "metadata": {
    "papermill": {
     "duration": null,
     "end_time": null,
     "exception": null,
     "start_time": null,
     "status": "completed"
    },
    "tags": []
   },
   "source": [
    "## Loading image"
   ]
  },
  {
   "cell_type": "code",
   "execution_count": null,
   "id": "290c92fc",
   "metadata": {
    "papermill": {
     "duration": null,
     "end_time": null,
     "exception": null,
     "start_time": null,
     "status": "completed"
    },
    "tags": []
   },
   "outputs": [],
   "source": [
    "raw_A = tools.imread('../two_phase_piv/real_A.tif')\n",
    "raw_B = tools.imread('../two_phase_piv/real_B.tif')\n",
    "fig, ax = plt.subplots(1, 2, figsize=(16,10))\n",
    "ax[0].imshow( raw_A )\n",
    "ax[1].imshow( raw_B )\n",
    "plt.show()"
   ]
  },
  {
   "cell_type": "markdown",
   "id": "b9d98d4f",
   "metadata": {
    "papermill": {
     "duration": null,
     "end_time": null,
     "exception": null,
     "start_time": null,
     "status": "completed"
    },
    "tags": []
   },
   "source": [
    "## Separating phases"
   ]
  },
  {
   "cell_type": "code",
   "execution_count": null,
   "id": "0e4ed1b6",
   "metadata": {
    "papermill": {
     "duration": null,
     "end_time": null,
     "exception": null,
     "start_time": null,
     "status": "completed"
    },
    "tags": []
   },
   "outputs": [],
   "source": [
    "solid_A, carrier_A = phase_separation.opening_method( raw_A, 7, thresh_factor=1.05 )\n",
    "solid_B, carrier_B = phase_separation.opening_method( raw_B, 7, thresh_factor=1.05 )\n",
    "fig, ax = plt.subplots(2, 2, figsize=(16,10))\n",
    "ax[0,0].imshow( solid_A, vmin=0, vmax=255 )\n",
    "ax[0,1].imshow( carrier_A, vmin=0, vmax=255 )\n",
    "ax[1,0].imshow( solid_B, vmin=0, vmax=255 )\n",
    "ax[1,1].imshow( carrier_A, vmin=0, vmax=255 )\n",
    "plt.show()"
   ]
  },
  {
   "cell_type": "markdown",
   "id": "ea878bde",
   "metadata": {
    "papermill": {
     "duration": null,
     "end_time": null,
     "exception": null,
     "start_time": null,
     "status": "completed"
    },
    "tags": []
   },
   "source": [
    "## Carrier phase PIV"
   ]
  },
  {
   "cell_type": "code",
   "execution_count": null,
   "id": "c09e21c6",
   "metadata": {
    "papermill": {
     "duration": null,
     "end_time": null,
     "exception": null,
     "start_time": null,
     "status": "completed"
    },
    "tags": []
   },
   "outputs": [],
   "source": [
    "from openpiv import tools, validation, filters, scaling, pyprocess\n",
    "import numpy as np "
   ]
  },
  {
   "cell_type": "code",
   "execution_count": null,
   "id": "8f2e6c3e",
   "metadata": {
    "papermill": {
     "duration": null,
     "end_time": null,
     "exception": null,
     "start_time": null,
     "status": "completed"
    },
    "tags": []
   },
   "outputs": [],
   "source": [
    "winsize = 48 # pixels\n",
    "searchsize = 128  # pixels, search in image B\n",
    "overlap = 24 # pixels\n",
    "dt = 20e-6 # sec\n",
    "scaling_factor = 2500 # pixels/meter\n",
    "\n",
    "u0, v0, sig2noise = pyprocess.extended_search_area_piv( carrier_A.astype(np.int32), carrier_B.astype(np.int32),\n",
    "                subpixel_method ='parabolic', window_size=winsize, \n",
    "                overlap=overlap, dt=dt, search_area_size=searchsize, \n",
    "                sig2noise_method='peak2peak' )\n",
    "x, y = pyprocess.get_coordinates(carrier_A.shape,searchsize,overlap)"
   ]
  },
  {
   "cell_type": "code",
   "execution_count": null,
   "id": "d5cc8167",
   "metadata": {
    "papermill": {
     "duration": null,
     "end_time": null,
     "exception": null,
     "start_time": null,
     "status": "completed"
    },
    "tags": []
   },
   "outputs": [],
   "source": [
    "u1, v1, mask = validation.sig2noise_val( u0, v0, sig2noise, w=None, threshold=3.2 )\n",
    "u2, v2 = filters.replace_outliers( u1, v1, method='localmean', max_iter=5, kernel_size=2 )\n",
    "x, y, u3, v3 = scaling.uniform( x, y, u2, v2, scaling_factor=scaling_factor )\n",
    "x, y, u3, v3 = tools.transform_coordinates(x, y, u3, v3)\n",
    "tools.save( x, y, u3, v3, mask, 'data.txt' )\n",
    "tools.save( x[::5, ::5], y[::5, ::5], u3[::5, ::5], v3[::5, ::5], mask[::5, ::5], 'preview.txt' )"
   ]
  },
  {
   "cell_type": "code",
   "execution_count": null,
   "id": "8b90ddda",
   "metadata": {
    "papermill": {
     "duration": null,
     "end_time": null,
     "exception": null,
     "start_time": null,
     "status": "completed"
    },
    "tags": []
   },
   "outputs": [],
   "source": [
    "fig, ax = plt.subplots(figsize=(16,10))\n",
    "tools.display_vector_field( 'preview.txt', on_img=True, \n",
    "                           image_name='../two_phase_piv/real_A.tif', \n",
    "                           scaling_factor=scaling_factor, ax=ax )"
   ]
  },
  {
   "cell_type": "markdown",
   "id": "3d2db5eb",
   "metadata": {
    "papermill": {
     "duration": null,
     "end_time": null,
     "exception": null,
     "start_time": null,
     "status": "completed"
    },
    "tags": []
   },
   "source": [
    "## Solid phase PTV"
   ]
  },
  {
   "cell_type": "code",
   "execution_count": null,
   "id": "cfc377af",
   "metadata": {
    "papermill": {
     "duration": null,
     "end_time": null,
     "exception": null,
     "start_time": null,
     "status": "completed"
    },
    "tags": []
   },
   "outputs": [],
   "source": [
    "# Note that this is an over-simplified PTV code, just for demonstration.\n",
    "# Please use OpenPTV or other PTV software for meaningful results.\n",
    "\n",
    "%matplotlib inline\n",
    "%config InlineBackend.close_figures=False\n",
    "\n",
    "import numpy as np\n",
    "from skimage.measure import label, regionprops\n",
    "from scipy.spatial.distance import cdist\n",
    "from IPython.display import clear_output\n",
    "\n",
    "centers_A = np.asarray([ p.centroid for p in regionprops( label( solid_A > 2 * np.mean(solid_A))) ])\n",
    "centers_B = np.asarray([ p.centroid for p in regionprops( label( solid_B > 2 * np.mean(solid_B))) ])\n",
    "\n",
    "cross_distance = cdist( centers_B, centers_A )\n",
    "\n",
    "PTV_X = []\n",
    "PTV_Y = []\n",
    "PTV_U = []\n",
    "PTV_V = []\n",
    "for i in range(1, len(centers_A)):\n",
    "    if np.min(cross_distance, 0)[i] < 5:\n",
    "        j = np.argmin(cross_distance, 0)[i]\n",
    "        PTV_X.append( centers_A[i,1]/scaling_factor )\n",
    "        PTV_Y.append( centers_A[i,0]/scaling_factor )\n",
    "        PTV_U.append( (centers_B[j,1] - centers_A[i,1])/(scaling_factor * dt) )\n",
    "        PTV_V.append( -(centers_B[j,0] - centers_A[i,0])/(scaling_factor * dt) )\n",
    "\n",
    "PTV_X = np.asarray(PTV_X)\n",
    "PTV_Y = np.asarray(PTV_Y)\n",
    "PTV_U = np.asarray(PTV_U)\n",
    "PTV_V = np.asarray(PTV_V)\n",
    "\n",
    "width = solid_A.shape[1] / scaling_factor \n",
    "height = solid_A.shape[0] / scaling_factor \n",
    "fig2, ax2 = plt.subplots(figsize=(16,10))\n",
    "ax2.imshow( solid_A, extent=[0, width, 0, height], origin='lower' )\n",
    "tools.display_vector_field( 'preview.txt', scaling_factor=scaling_factor, ax=ax2 )\n",
    "ax2.invert_yaxis()\n",
    "ax2.quiver( PTV_X, PTV_Y, PTV_U, PTV_V, color='yellow', width=0.003)\n",
    "ax2.invert_yaxis()\n",
    "clear_output(wait=True)\n",
    "plt.show()"
   ]
  },
  {
   "cell_type": "code",
   "execution_count": null,
   "id": "1e9dd5f5",
   "metadata": {
    "papermill": {
     "duration": null,
     "end_time": null,
     "exception": null,
     "start_time": null,
     "status": "completed"
    },
    "tags": []
   },
   "outputs": [],
   "source": []
  },
  {
   "cell_type": "code",
   "execution_count": null,
   "id": "3b9870a6",
   "metadata": {
    "papermill": {
     "duration": null,
     "end_time": null,
     "exception": null,
     "start_time": null,
     "status": "completed"
    },
    "tags": []
   },
   "outputs": [],
   "source": []
  }
 ],
 "metadata": {
  "jupytext": {
   "formats": "ipynb,py:percent"
  },
  "kernelspec": {
   "display_name": "Python [conda env:openpiv] *",
   "language": "python",
   "name": "conda-env-openpiv-py"
  },
  "language_info": {
   "codemirror_mode": {
    "name": "ipython",
    "version": 3
   },
   "file_extension": ".py",
   "mimetype": "text/x-python",
   "name": "python",
   "nbconvert_exporter": "python",
   "pygments_lexer": "ipython3",
   "version": "3.8.5"
  },
  "papermill": {
   "default_parameters": {},
   "duration": 0.049117,
   "end_time": "2022-10-20T19:15:34.713003",
   "environment_variables": {},
   "exception": null,
   "input_path": "./notebooks/phase_separation.ipynb",
   "output_path": "./notebooks/phase_separation.ipynb",
   "parameters": {},
   "start_time": "2022-10-20T19:15:34.663886",
   "version": "2.4.0"
  }
 },
 "nbformat": 4,
 "nbformat_minor": 5
}