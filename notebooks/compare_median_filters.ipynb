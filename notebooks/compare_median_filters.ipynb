{
 "cells": [
  {
   "cell_type": "markdown",
   "id": "71948fa1",
   "metadata": {},
   "source": [
    "# Compare original median filter with normalized median filter.\n",
    "Once a velocity field has been obtained from a PIV processor, there might be vectors that, visually, look as outliers. One way to get rid of them is to apply a median filter: compare every velocity vector to the average vector in its, say, 3x3 neighborhoud and, if it is bigger than a threshold, replace it with the average vector.\n",
    "\n",
    "As described in Adrain & Westerweel, \"Particle image velocimetry\", 2011, J. Westerweel and coauthors created two versions of the median filter. The original one was created in 1994. Its main disadvantage is that it uses one (global) threshold for all the vectors in the velocity field. In 2005, it was proposed to normalize every vector in the velocity field before comparing it to the global threshold, thereby mitigating the disadvantage of the 1994 version of the median filter (see J. Westerweel, F. Scarano, \"Universal outlier detection for PIV data\", Experiments in fluids, 39(6), p.1096-1100, 2005).\n",
    "\n",
    "OpenPIV has implemented both version of the filter. The 1994 version (the original version) is given by the function `validation.local_median_val()`. The 2005 version (the normalized version) is given by the function `validation.local_norm_median_val()`.\n",
    "\n",
    "The phylosophy of their usage is the following. Both filters just check every vector in the velocity field and create a \"mask\" of the velocity field where those vector that didn't pass the threshold requirement are marked as NaNs. Then the OpenPIV function `filters.replace_outliers()` must be implemented. That function reads the \"mask\" and replace every NaN vector with the average of its neighbourhood.\n",
    "\n",
    "The purpose of this tutorial is compare the two fitlers for a rather difficult case of PIV of a two-phase cap_bubbly air-water flow"
   ]
  },
  {
   "cell_type": "code",
   "execution_count": null,
   "id": "5b98dbef",
   "metadata": {
    "vscode": {
     "languageId": "plaintext"
    }
   },
   "outputs": [],
   "source": [
    "import pathlib\n",
    "import cv2\n",
    "import numpy as np\n",
    "import matplotlib.pyplot as plt\n",
    "from openpiv import tools, pyprocess, preprocess, validation, filters"
   ]
  }
 ],
 "metadata": {
  "kernelspec": {
   "display_name": "Python 3.10.4 64-bit",
   "language": "python",
   "name": "python3"
  },
  "language_info": {
   "codemirror_mode": {
    "name": "ipython",
    "version": 3
   },
   "file_extension": ".py",
   "mimetype": "text/x-python",
   "name": "python",
   "nbconvert_exporter": "python",
   "pygments_lexer": "ipython3",
   "version": "3.10.4"
  },
  "papermill": {
   "default_parameters": {},
   "duration": 2.878747,
   "end_time": "2022-10-20T19:15:56.638287",
   "environment_variables": {},
   "exception": true,
   "input_path": "./notebooks/analyse_movie.ipynb",
   "output_path": "./notebooks/analyse_movie.ipynb",
   "parameters": {},
   "start_time": "2022-10-20T19:15:53.759540",
   "version": "2.4.0"
  },
  "vscode": {
   "interpreter": {
    "hash": "3ad933181bd8a04b432d3370b9dc3b0662ad032c4dfaa4e4f1596c548f763858"
   }
  }
 },
 "nbformat": 4,
 "nbformat_minor": 5
}
