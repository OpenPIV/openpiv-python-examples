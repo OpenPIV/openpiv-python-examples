{
 "cells": [
  {
   "cell_type": "markdown",
   "id": "0adee4f3",
   "metadata": {
    "tags": [
     "papermill-error-cell-tag"
    ]
   },
   "source": [
    "<span style=\"color:red; font-family:Helvetica Neue, Helvetica, Arial, sans-serif; font-size:2em;\">An Exception was encountered at '<a href=\"#papermill-error-cell\">In [7]</a>'.</span>"
   ]
  },
  {
   "cell_type": "code",
   "execution_count": 1,
   "id": "cfee6bcb",
   "metadata": {
    "execution": {
     "iopub.execute_input": "2022-10-20T19:14:17.257783Z",
     "iopub.status.busy": "2022-10-20T19:14:17.256584Z",
     "iopub.status.idle": "2022-10-20T19:14:17.271539Z",
     "shell.execute_reply": "2022-10-20T19:14:17.269578Z"
    },
    "papermill": {
     "duration": 0.03779,
     "end_time": "2022-10-20T19:14:17.277912",
     "exception": false,
     "start_time": "2022-10-20T19:14:17.240122",
     "status": "completed"
    },
    "tags": []
   },
   "outputs": [],
   "source": [
    "# we need to read frames from the movie\n",
    "# so we install opencv-python - change the next cell type to \"Code\""
   ]
  },
  {
   "cell_type": "raw",
   "id": "f78cc9c3",
   "metadata": {
    "papermill": {
     "duration": 0.007055,
     "end_time": "2022-10-20T19:14:17.290594",
     "exception": false,
     "start_time": "2022-10-20T19:14:17.283539",
     "status": "completed"
    },
    "tags": []
   },
   "source": [
    "# !pip install opencv-python-headless"
   ]
  },
  {
   "cell_type": "code",
   "execution_count": 2,
   "id": "3dafcac7",
   "metadata": {
    "execution": {
     "iopub.execute_input": "2022-10-20T19:14:17.298033Z",
     "iopub.status.busy": "2022-10-20T19:14:17.297542Z",
     "iopub.status.idle": "2022-10-20T19:14:17.411631Z",
     "shell.execute_reply": "2022-10-20T19:14:17.411116Z"
    },
    "papermill": {
     "duration": 0.119278,
     "end_time": "2022-10-20T19:14:17.413106",
     "exception": false,
     "start_time": "2022-10-20T19:14:17.293828",
     "status": "completed"
    },
    "tags": []
   },
   "outputs": [],
   "source": [
    "import cv2"
   ]
  },
  {
   "cell_type": "code",
   "execution_count": 3,
   "id": "a13b68d5",
   "metadata": {
    "execution": {
     "iopub.execute_input": "2022-10-20T19:14:17.420178Z",
     "iopub.status.busy": "2022-10-20T19:14:17.419573Z",
     "iopub.status.idle": "2022-10-20T19:14:18.009932Z",
     "shell.execute_reply": "2022-10-20T19:14:18.009303Z"
    },
    "papermill": {
     "duration": 0.596412,
     "end_time": "2022-10-20T19:14:18.011455",
     "exception": false,
     "start_time": "2022-10-20T19:14:17.415043",
     "status": "completed"
    },
    "tags": []
   },
   "outputs": [],
   "source": [
    "import numpy as np\n",
    "import matplotlib.pyplot as plt"
   ]
  },
  {
   "cell_type": "code",
   "execution_count": 4,
   "id": "0442a567",
   "metadata": {
    "execution": {
     "iopub.execute_input": "2022-10-20T19:14:18.016781Z",
     "iopub.status.busy": "2022-10-20T19:14:18.016490Z",
     "iopub.status.idle": "2022-10-20T19:14:18.370202Z",
     "shell.execute_reply": "2022-10-20T19:14:18.369566Z"
    },
    "papermill": {
     "duration": 0.357898,
     "end_time": "2022-10-20T19:14:18.371719",
     "exception": false,
     "start_time": "2022-10-20T19:14:18.013821",
     "status": "completed"
    },
    "tags": []
   },
   "outputs": [],
   "source": [
    "from openpiv import pyprocess, piv"
   ]
  },
  {
   "cell_type": "markdown",
   "id": "2728866b",
   "metadata": {
    "papermill": {
     "duration": 0.00177,
     "end_time": "2022-10-20T19:14:18.375326",
     "exception": false,
     "start_time": "2022-10-20T19:14:18.373556",
     "status": "completed"
    },
    "tags": []
   },
   "source": [
    "## Video creators\n",
    "\n",
    "Please cite: \n",
    "\n",
    "Qualitative and quantitative schlieren optical measurement of the human thermal plume\n",
    "AW Gena, C Voelker, GS Settles\n",
    "Indoor Air 30 (4), 757-766\n",
    "               \n",
    "\n",
    "Qualitative evaluation of the flow supplied by personalized ventilation using schlieren imaging and thermography\n",
    "H Alsaad, C Voelker\n",
    "Building and Environment 167, 106450\n",
    "\n",
    " \n",
    "\n",
    "The spread of breathing air from wind instruments and singers using schlieren techniques\n",
    "L Becher, AW Gena, H Alsaad, B Richter, C Spahn, C Voelker\n",
    "Indoor air 31 (6), 1798-1814\n"
   ]
  },
  {
   "cell_type": "code",
   "execution_count": 5,
   "id": "e21717cd",
   "metadata": {
    "execution": {
     "iopub.execute_input": "2022-10-20T19:14:18.379482Z",
     "iopub.status.busy": "2022-10-20T19:14:18.379253Z",
     "iopub.status.idle": "2022-10-20T19:14:18.384159Z",
     "shell.execute_reply": "2022-10-20T19:14:18.383513Z"
    },
    "papermill": {
     "duration": 0.008521,
     "end_time": "2022-10-20T19:14:18.385413",
     "exception": false,
     "start_time": "2022-10-20T19:14:18.376892",
     "status": "completed"
    },
    "tags": []
   },
   "outputs": [],
   "source": [
    "vidcap = cv2.VideoCapture('../test_movie/videoplayback.mp4')\n",
    "success, image1 = vidcap.read()\n",
    "count = 0\n",
    "\n",
    "while success and count < 2:\n",
    "    # cv2.imwrite(\"frame%d.jpg\" % count, image)     # save frame as JPEG file      \n",
    "    success, image2 = vidcap.read()\n",
    "    # print('Read a new frame: ', success)\n",
    "    if success:\n",
    "        x,y,u,v = piv.simple_piv(image1[100:,370:850].sum(axis=2), \\\n",
    "            image2[100:,370:850].sum(axis=2), plot=True);\n",
    "        image1 = image2.copy()\n",
    "        count += 1"
   ]
  },
  {
   "cell_type": "code",
   "execution_count": 6,
   "id": "8a93fb06",
   "metadata": {
    "execution": {
     "iopub.execute_input": "2022-10-20T19:14:18.390001Z",
     "iopub.status.busy": "2022-10-20T19:14:18.389765Z",
     "iopub.status.idle": "2022-10-20T19:14:18.394688Z",
     "shell.execute_reply": "2022-10-20T19:14:18.394084Z"
    },
    "papermill": {
     "duration": 0.008772,
     "end_time": "2022-10-20T19:14:18.396020",
     "exception": false,
     "start_time": "2022-10-20T19:14:18.387248",
     "status": "completed"
    },
    "tags": []
   },
   "outputs": [
    {
     "name": "stderr",
     "output_type": "stream",
     "text": [
      "[ERROR:0@0.993] global /io/opencv/modules/videoio/src/cap.cpp (164) open VIDEOIO(CV_IMAGES): raised OpenCV exception:\n",
      "\n",
      "OpenCV(4.6.0) /io/opencv/modules/videoio/src/cap_images.cpp:253: error: (-5:Bad argument) CAP_IMAGES: can't find starting number (in the name of file): ../test_movie/Manikin_Thermal_Plume.MOV in function 'icvExtractPattern'\n",
      "\n",
      "\n"
     ]
    }
   ],
   "source": [
    "\n",
    "vidcap = cv2.VideoCapture('../test_movie/Manikin_Thermal_Plume.MOV')\n",
    "success, image1 = vidcap.read()\n",
    "count = 0\n",
    "U = []\n",
    "V = []\n",
    "\n",
    "while success:\n",
    "    # cv2.imwrite(\"frame%d.jpg\" % count, image)     # save frame as JPEG file      \n",
    "    success, image2 = vidcap.read()\n",
    "    # print('Read a new frame: ', success)\n",
    "    if success:\n",
    "        x,y,u,v = piv.simple_piv(image1[100:,370:850].sum(axis=2), \\\n",
    "            image2[100:,370:850].sum(axis=2), plot=False);\n",
    "        image1 = image2.copy()\n",
    "        count += 1\n",
    "        U.append(u)\n",
    "        V.append(v)"
   ]
  },
  {
   "cell_type": "markdown",
   "id": "2070c69b",
   "metadata": {
    "tags": [
     "papermill-error-cell-tag"
    ]
   },
   "source": [
    "<span id=\"papermill-error-cell\" style=\"color:red; font-family:Helvetica Neue, Helvetica, Arial, sans-serif; font-size:2em;\">Execution using papermill encountered an exception here and stopped:</span>"
   ]
  },
  {
   "cell_type": "code",
   "execution_count": 7,
   "id": "81f40093",
   "metadata": {
    "execution": {
     "iopub.execute_input": "2022-10-20T19:14:18.401058Z",
     "iopub.status.busy": "2022-10-20T19:14:18.400798Z",
     "iopub.status.idle": "2022-10-20T19:14:18.941548Z",
     "shell.execute_reply": "2022-10-20T19:14:18.940681Z"
    },
    "papermill": {
     "duration": 0.544481,
     "end_time": "2022-10-20T19:14:18.942553",
     "exception": true,
     "start_time": "2022-10-20T19:14:18.398072",
     "status": "failed"
    },
    "tags": []
   },
   "outputs": [
    {
     "ename": "ValueError",
     "evalue": "need at least one array to stack",
     "output_type": "error",
     "traceback": [
      "\u001b[0;31m---------------------------------------------------------------------------\u001b[0m",
      "\u001b[0;31mValueError\u001b[0m                                Traceback (most recent call last)",
      "Input \u001b[0;32mIn [7]\u001b[0m, in \u001b[0;36m<cell line: 1>\u001b[0;34m()\u001b[0m\n\u001b[0;32m----> 1\u001b[0m U \u001b[38;5;241m=\u001b[39m \u001b[43mnp\u001b[49m\u001b[38;5;241;43m.\u001b[39;49m\u001b[43mstack\u001b[49m\u001b[43m(\u001b[49m\u001b[43mU\u001b[49m\u001b[43m)\u001b[49m\n\u001b[1;32m      2\u001b[0m Umean \u001b[38;5;241m=\u001b[39m np\u001b[38;5;241m.\u001b[39mnanmean(U, axis\u001b[38;5;241m=\u001b[39m\u001b[38;5;241m0\u001b[39m)\n\u001b[1;32m      3\u001b[0m V \u001b[38;5;241m=\u001b[39m np\u001b[38;5;241m.\u001b[39mstack(V)\n",
      "File \u001b[0;32m<__array_function__ internals>:180\u001b[0m, in \u001b[0;36mstack\u001b[0;34m(*args, **kwargs)\u001b[0m\n",
      "File \u001b[0;32m~/.edm/envs/echopiv/lib/python3.8/site-packages/numpy/core/shape_base.py:422\u001b[0m, in \u001b[0;36mstack\u001b[0;34m(arrays, axis, out)\u001b[0m\n\u001b[1;32m    420\u001b[0m arrays \u001b[38;5;241m=\u001b[39m [asanyarray(arr) \u001b[38;5;28;01mfor\u001b[39;00m arr \u001b[38;5;129;01min\u001b[39;00m arrays]\n\u001b[1;32m    421\u001b[0m \u001b[38;5;28;01mif\u001b[39;00m \u001b[38;5;129;01mnot\u001b[39;00m arrays:\n\u001b[0;32m--> 422\u001b[0m     \u001b[38;5;28;01mraise\u001b[39;00m \u001b[38;5;167;01mValueError\u001b[39;00m(\u001b[38;5;124m'\u001b[39m\u001b[38;5;124mneed at least one array to stack\u001b[39m\u001b[38;5;124m'\u001b[39m)\n\u001b[1;32m    424\u001b[0m shapes \u001b[38;5;241m=\u001b[39m {arr\u001b[38;5;241m.\u001b[39mshape \u001b[38;5;28;01mfor\u001b[39;00m arr \u001b[38;5;129;01min\u001b[39;00m arrays}\n\u001b[1;32m    425\u001b[0m \u001b[38;5;28;01mif\u001b[39;00m \u001b[38;5;28mlen\u001b[39m(shapes) \u001b[38;5;241m!=\u001b[39m \u001b[38;5;241m1\u001b[39m:\n",
      "\u001b[0;31mValueError\u001b[0m: need at least one array to stack"
     ]
    }
   ],
   "source": [
    "U = np.stack(U)\n",
    "Umean = np.nanmean(U, axis=0)\n",
    "V = np.stack(V)\n",
    "Vmean = np.nanmean(V,axis=0)"
   ]
  },
  {
   "cell_type": "code",
   "execution_count": null,
   "id": "f4a8eeba",
   "metadata": {
    "papermill": {
     "duration": null,
     "end_time": null,
     "exception": null,
     "start_time": null,
     "status": "pending"
    },
    "tags": []
   },
   "outputs": [],
   "source": [
    "fig,ax = plt.subplots(figsize=(8,8))\n",
    "ax.imshow(image1[100:,370:850],alpha=0.5)\n",
    "cm = ax.quiver(x,y,Umean,-Vmean,np.abs(Vmean),scale=20,width=.008)\n",
    "# plt.show()\n",
    "plt.plot(x[10,:], np.nanmean(Vmean[:10],axis=0)*100+200,color='r',lw=3)\n",
    "plt.colorbar(cm);"
   ]
  }
 ],
 "metadata": {
  "kernelspec": {
   "display_name": "Python 3 (ipykernel)",
   "language": "python",
   "name": "python3"
  },
  "language_info": {
   "codemirror_mode": {
    "name": "ipython",
    "version": 3
   },
   "file_extension": ".py",
   "mimetype": "text/x-python",
   "name": "python",
   "nbconvert_exporter": "python",
   "pygments_lexer": "ipython3",
   "version": "3.8.12"
  },
  "papermill": {
   "default_parameters": {},
   "duration": 3.047335,
   "end_time": "2022-10-20T19:14:19.260777",
   "environment_variables": {},
   "exception": true,
   "input_path": "./notebooks/analyse_movie_thermal_plume.ipynb",
   "output_path": "./notebooks/analyse_movie_thermal_plume.ipynb",
   "parameters": {},
   "start_time": "2022-10-20T19:14:16.213442",
   "version": "2.4.0"
  },
  "vscode": {
   "interpreter": {
    "hash": "527f8b2821ddd06ad9de53fa6852824bf4860374cd5a0b7076d3fcd9bfd7fc9a"
   }
  }
 },
 "nbformat": 4,
 "nbformat_minor": 5
}