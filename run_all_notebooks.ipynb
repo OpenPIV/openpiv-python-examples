{
 "cells": [
  {
   "cell_type": "code",
   "execution_count": 1,
   "metadata": {},
   "outputs": [],
   "source": [
    "# !pip install nbconvert"
   ]
  },
  {
   "cell_type": "code",
   "execution_count": 2,
   "metadata": {},
   "outputs": [
    {
     "name": "stdout",
     "output_type": "stream",
     "text": [
      "./notebooks/testing_rotation_differences.ipynb\n"
     ]
    },
    {
     "name": "stderr",
     "output_type": "stream",
     "text": [
      "[NbConvertApp] Converting notebook ./notebooks/testing_rotation_differences.ipynb to notebook\n",
      "[NbConvertApp] Writing 103837 bytes to notebooks/testing_rotation_differences.nbconvert.ipynb\n"
     ]
    },
    {
     "name": "stdout",
     "output_type": "stream",
     "text": [
      "./notebooks/dynamic_masking.ipynb\n"
     ]
    },
    {
     "name": "stderr",
     "output_type": "stream",
     "text": [
      "[NbConvertApp] Converting notebook ./notebooks/dynamic_masking.ipynb to notebook\n",
      "[NbConvertApp] Writing 643797 bytes to notebooks/dynamic_masking.nbconvert.ipynb\n"
     ]
    },
    {
     "name": "stdout",
     "output_type": "stream",
     "text": [
      "./notebooks/pyprocess_correlations.ipynb\n"
     ]
    },
    {
     "name": "stderr",
     "output_type": "stream",
     "text": [
      "[NbConvertApp] Converting notebook ./notebooks/pyprocess_correlations.ipynb to notebook\n",
      "[NbConvertApp] Writing 451354 bytes to notebooks/pyprocess_correlations.nbconvert.ipynb\n"
     ]
    },
    {
     "name": "stdout",
     "output_type": "stream",
     "text": [
      "./notebooks/openpiv_night_lava_movie.ipynb\n"
     ]
    },
    {
     "name": "stderr",
     "output_type": "stream",
     "text": [
      "[NbConvertApp] Converting notebook ./notebooks/openpiv_night_lava_movie.ipynb to notebook\n",
      "[NbConvertApp] Writing 320374 bytes to notebooks/openpiv_night_lava_movie.nbconvert.ipynb\n"
     ]
    },
    {
     "name": "stdout",
     "output_type": "stream",
     "text": [
      "./notebooks/tutorial1.ipynb\n"
     ]
    },
    {
     "name": "stderr",
     "output_type": "stream",
     "text": [
      "[NbConvertApp] Converting notebook ./notebooks/tutorial1.ipynb to notebook\n",
      "[NbConvertApp] Writing 1194183 bytes to notebooks/tutorial1.nbconvert.ipynb\n"
     ]
    },
    {
     "name": "stdout",
     "output_type": "stream",
     "text": [
      "./notebooks/all_test_cases_sample.ipynb\n"
     ]
    },
    {
     "name": "stderr",
     "output_type": "stream",
     "text": [
      "[NbConvertApp] Converting notebook ./notebooks/all_test_cases_sample.ipynb to notebook\n",
      "[NbConvertApp] Writing 9273371 bytes to notebooks/all_test_cases_sample.nbconvert.ipynb\n"
     ]
    },
    {
     "name": "stdout",
     "output_type": "stream",
     "text": [
      "./notebooks/tutorial_multipass.ipynb\n"
     ]
    },
    {
     "name": "stderr",
     "output_type": "stream",
     "text": [
      "[NbConvertApp] Converting notebook ./notebooks/tutorial_multipass.ipynb to notebook\n",
      "[NbConvertApp] Writing 399062 bytes to notebooks/tutorial_multipass.nbconvert.ipynb\n"
     ]
    },
    {
     "name": "stdout",
     "output_type": "stream",
     "text": [
      "./notebooks/extended_search_area_vectorized.ipynb\n"
     ]
    },
    {
     "name": "stderr",
     "output_type": "stream",
     "text": [
      "[NbConvertApp] Converting notebook ./notebooks/extended_search_area_vectorized.ipynb to notebook\n",
      "[NbConvertApp] Writing 125959 bytes to notebooks/extended_search_area_vectorized.nbconvert.ipynb\n"
     ]
    },
    {
     "name": "stdout",
     "output_type": "stream",
     "text": [
      "./notebooks/test_rectangular_windows.ipynb\n"
     ]
    },
    {
     "name": "stderr",
     "output_type": "stream",
     "text": [
      "[NbConvertApp] Converting notebook ./notebooks/test_rectangular_windows.ipynb to notebook\n",
      "[NbConvertApp] Writing 127454 bytes to notebooks/test_rectangular_windows.nbconvert.ipynb\n"
     ]
    },
    {
     "name": "stdout",
     "output_type": "stream",
     "text": [
      "./notebooks/analyse_movie_thermal_plume.ipynb\n"
     ]
    },
    {
     "name": "stderr",
     "output_type": "stream",
     "text": [
      "[NbConvertApp] Converting notebook ./notebooks/analyse_movie_thermal_plume.ipynb to notebook\n",
      "[NbConvertApp] Writing 317275 bytes to notebooks/analyse_movie_thermal_plume.nbconvert.ipynb\n"
     ]
    },
    {
     "name": "stdout",
     "output_type": "stream",
     "text": [
      "./notebooks/window_deformation_comparison.ipynb\n"
     ]
    },
    {
     "name": "stderr",
     "output_type": "stream",
     "text": [
      "[NbConvertApp] Converting notebook ./notebooks/window_deformation_comparison.ipynb to notebook\n",
      "[NbConvertApp] Writing 27778 bytes to notebooks/window_deformation_comparison.nbconvert.ipynb\n"
     ]
    },
    {
     "name": "stdout",
     "output_type": "stream",
     "text": [
      "./notebooks/example_normalized_correlation_effect.ipynb\n"
     ]
    },
    {
     "name": "stderr",
     "output_type": "stream",
     "text": [
      "[NbConvertApp] Converting notebook ./notebooks/example_normalized_correlation_effect.ipynb to notebook\n",
      "[NbConvertApp] Writing 337558 bytes to notebooks/example_normalized_correlation_effect.nbconvert.ipynb\n"
     ]
    },
    {
     "name": "stdout",
     "output_type": "stream",
     "text": [
      "./notebooks/PIV_3D_example.ipynb\n"
     ]
    },
    {
     "name": "stderr",
     "output_type": "stream",
     "text": [
      "[NbConvertApp] Converting notebook ./notebooks/PIV_3D_example.ipynb to notebook\n",
      "[NbConvertApp] Writing 650598 bytes to notebooks/PIV_3D_example.nbconvert.ipynb\n"
     ]
    },
    {
     "name": "stdout",
     "output_type": "stream",
     "text": [
      "./notebooks/test_vectorized_functions.ipynb\n"
     ]
    },
    {
     "name": "stderr",
     "output_type": "stream",
     "text": [
      "[NbConvertApp] Converting notebook ./notebooks/test_vectorized_functions.ipynb to notebook\n",
      "[NbConvertApp] Writing 154410 bytes to notebooks/test_vectorized_functions.nbconvert.ipynb\n"
     ]
    },
    {
     "name": "stdout",
     "output_type": "stream",
     "text": [
      "./notebooks/phase_separation.ipynb\n"
     ]
    },
    {
     "name": "stderr",
     "output_type": "stream",
     "text": [
      "[NbConvertApp] Converting notebook ./notebooks/phase_separation.ipynb to notebook\n",
      "[NbConvertApp] Writing 3230032 bytes to notebooks/phase_separation.nbconvert.ipynb\n"
     ]
    },
    {
     "name": "stdout",
     "output_type": "stream",
     "text": [
      "./notebooks/openpiv_snow.ipynb\n"
     ]
    },
    {
     "name": "stderr",
     "output_type": "stream",
     "text": [
      "[NbConvertApp] Converting notebook ./notebooks/openpiv_snow.ipynb to notebook\n",
      "[NbConvertApp] Writing 497730 bytes to notebooks/openpiv_snow.nbconvert.ipynb\n"
     ]
    },
    {
     "name": "stdout",
     "output_type": "stream",
     "text": [
      "./notebooks/openpiv_static_masking_example.ipynb\n"
     ]
    },
    {
     "name": "stderr",
     "output_type": "stream",
     "text": [
      "[NbConvertApp] Converting notebook ./notebooks/openpiv_static_masking_example.ipynb to notebook\n",
      "[NbConvertApp] Writing 3260976 bytes to notebooks/openpiv_static_masking_example.nbconvert.ipynb\n"
     ]
    },
    {
     "name": "stdout",
     "output_type": "stream",
     "text": [
      "./notebooks/tutorial2.ipynb\n"
     ]
    },
    {
     "name": "stderr",
     "output_type": "stream",
     "text": [
      "[NbConvertApp] Converting notebook ./notebooks/tutorial2.ipynb to notebook\n",
      "[NbConvertApp] Writing 86679 bytes to notebooks/tutorial2.nbconvert.ipynb\n"
     ]
    },
    {
     "name": "stdout",
     "output_type": "stream",
     "text": [
      "./notebooks/case_B_windef_small_window.ipynb\n"
     ]
    },
    {
     "name": "stderr",
     "output_type": "stream",
     "text": [
      "[NbConvertApp] Converting notebook ./notebooks/case_B_windef_small_window.ipynb to notebook\n",
      "[NbConvertApp] Writing 2617259 bytes to notebooks/case_B_windef_small_window.nbconvert.ipynb\n"
     ]
    },
    {
     "name": "stdout",
     "output_type": "stream",
     "text": [
      "./notebooks/openpiv_gifs.ipynb\n"
     ]
    },
    {
     "name": "stderr",
     "output_type": "stream",
     "text": [
      "[NbConvertApp] Converting notebook ./notebooks/openpiv_gifs.ipynb to notebook\n",
      "[NbConvertApp] Writing 2578303 bytes to notebooks/openpiv_gifs.nbconvert.ipynb\n"
     ]
    },
    {
     "name": "stdout",
     "output_type": "stream",
     "text": [
      "./notebooks/test_find_subpixel_position.ipynb\n"
     ]
    },
    {
     "name": "stderr",
     "output_type": "stream",
     "text": [
      "[NbConvertApp] Converting notebook ./notebooks/test_find_subpixel_position.ipynb to notebook\n",
      "[NbConvertApp] Writing 33507 bytes to notebooks/test_find_subpixel_position.nbconvert.ipynb\n"
     ]
    },
    {
     "name": "stdout",
     "output_type": "stream",
     "text": [
      "./notebooks/vonKarman_openpiv_11_maps.ipynb\n"
     ]
    },
    {
     "name": "stderr",
     "output_type": "stream",
     "text": [
      "[NbConvertApp] Converting notebook ./notebooks/vonKarman_openpiv_11_maps.ipynb to notebook\n",
      "[NbConvertApp] Writing 4438286 bytes to notebooks/vonKarman_openpiv_11_maps.nbconvert.ipynb\n"
     ]
    },
    {
     "name": "stdout",
     "output_type": "stream",
     "text": [
      "./notebooks/openpiv_bird_gifs.ipynb\n"
     ]
    },
    {
     "name": "stderr",
     "output_type": "stream",
     "text": [
      "[NbConvertApp] Converting notebook ./notebooks/openpiv_bird_gifs.ipynb to notebook\n",
      "[NbConvertApp] Writing 1117872 bytes to notebooks/openpiv_bird_gifs.nbconvert.ipynb\n"
     ]
    },
    {
     "name": "stdout",
     "output_type": "stream",
     "text": [
      "./notebooks/analyse_movie.ipynb\n"
     ]
    },
    {
     "name": "stderr",
     "output_type": "stream",
     "text": [
      "[NbConvertApp] Converting notebook ./notebooks/analyse_movie.ipynb to notebook\n",
      "[NbConvertApp] Writing 512224 bytes to notebooks/analyse_movie.nbconvert.ipynb\n"
     ]
    },
    {
     "name": "stdout",
     "output_type": "stream",
     "text": [
      "./notebooks/studying_correlations.ipynb\n"
     ]
    },
    {
     "name": "stderr",
     "output_type": "stream",
     "text": [
      "[NbConvertApp] Converting notebook ./notebooks/studying_correlations.ipynb to notebook\n",
      "[NbConvertApp] Writing 106456 bytes to notebooks/studying_correlations.nbconvert.ipynb\n"
     ]
    },
    {
     "name": "stdout",
     "output_type": "stream",
     "text": [
      "./notebooks/openpiv_bridgepile_wake.ipynb\n"
     ]
    },
    {
     "name": "stderr",
     "output_type": "stream",
     "text": [
      "[NbConvertApp] Converting notebook ./notebooks/openpiv_bridgepile_wake.ipynb to notebook\n",
      "[NbConvertApp] Writing 1367486 bytes to notebooks/openpiv_bridgepile_wake.nbconvert.ipynb\n"
     ]
    },
    {
     "name": "stdout",
     "output_type": "stream",
     "text": [
      "./notebooks/preprocessing_filters.ipynb\n"
     ]
    },
    {
     "name": "stderr",
     "output_type": "stream",
     "text": [
      "[NbConvertApp] Converting notebook ./notebooks/preprocessing_filters.ipynb to notebook\n",
      "[NbConvertApp] Writing 3134430 bytes to notebooks/preprocessing_filters.nbconvert.ipynb\n"
     ]
    },
    {
     "name": "stdout",
     "output_type": "stream",
     "text": [
      "./notebooks/pyprocess_test.ipynb\n"
     ]
    },
    {
     "name": "stderr",
     "output_type": "stream",
     "text": [
      "[NbConvertApp] Converting notebook ./notebooks/pyprocess_test.ipynb to notebook\n",
      "[NbConvertApp] Writing 900409 bytes to notebooks/pyprocess_test.nbconvert.ipynb\n"
     ]
    },
    {
     "name": "stdout",
     "output_type": "stream",
     "text": [
      "./notebooks/vonKarman_pivlab_with_openpiv.ipynb\n"
     ]
    },
    {
     "name": "stderr",
     "output_type": "stream",
     "text": [
      "[NbConvertApp] Converting notebook ./notebooks/vonKarman_pivlab_with_openpiv.ipynb to notebook\n",
      "[NbConvertApp] Writing 3821278 bytes to notebooks/vonKarman_pivlab_with_openpiv.nbconvert.ipynb\n"
     ]
    }
   ],
   "source": [
    "import subprocess\n",
    "from glob import glob\n",
    "\n",
    "for nb in glob('./notebooks/*.ipynb'):\n",
    "    print(nb)\n",
    "    # subprocess.run(['papermill',nb,nb])\n",
    "    subprocess.run(['jupyter','nbconvert','--to','notebook','--execute',nb])"
   ]
  },
  {
   "cell_type": "code",
   "execution_count": null,
   "metadata": {},
   "outputs": [],
   "source": []
  },
  {
   "cell_type": "code",
   "execution_count": null,
   "metadata": {},
   "outputs": [],
   "source": []
  }
 ],
 "metadata": {
  "kernelspec": {
   "display_name": "Python 3 (ipykernel)",
   "language": "python",
   "name": "python3"
  },
  "language_info": {
   "codemirror_mode": {
    "name": "ipython",
    "version": 3
   },
   "file_extension": ".py",
   "mimetype": "text/x-python",
   "name": "python",
   "nbconvert_exporter": "python",
   "pygments_lexer": "ipython3",
   "version": "3.8.12"
  },
  "vscode": {
   "interpreter": {
    "hash": "f83b0c3a4910470a1212112b1707d582432916ed4ba8aec962241a050aa18fae"
   }
  }
 },
 "nbformat": 4,
 "nbformat_minor": 4
}
