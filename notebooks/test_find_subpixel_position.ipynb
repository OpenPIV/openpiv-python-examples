{
 "cells": [
  {
   "cell_type": "code",
   "execution_count": null,
   "id": "043ef2da",
   "metadata": {
    "papermill": {
     "duration": null,
     "end_time": null,
     "exception": null,
     "start_time": null,
     "status": "completed"
    },
    "tags": []
   },
   "outputs": [],
   "source": [
    "# let's make a test for subpixel localization"
   ]
  },
  {
   "cell_type": "code",
   "execution_count": null,
   "id": "7300b425",
   "metadata": {
    "papermill": {
     "duration": null,
     "end_time": null,
     "exception": null,
     "start_time": null,
     "status": "completed"
    },
    "tags": []
   },
   "outputs": [],
   "source": [
    "import numpy as np\n",
    "import matplotlib.pyplot as plt\n",
    "from openpiv.pyprocess import find_first_peak"
   ]
  },
  {
   "cell_type": "code",
   "execution_count": null,
   "id": "680b9942",
   "metadata": {
    "papermill": {
     "duration": null,
     "end_time": null,
     "exception": null,
     "start_time": null,
     "status": "completed"
    },
    "tags": []
   },
   "outputs": [],
   "source": [
    "N = 64\n",
    "\n",
    "corr = np.zeros((N,N))\n",
    "\n",
    "corr[2:5,2:5] = 1\n",
    "corr[3,3] = 2\n",
    "corr[3,4] = 3\n",
    "corr[3,5] = 1\n",
    "corr"
   ]
  },
  {
   "cell_type": "code",
   "execution_count": null,
   "id": "de28200e",
   "metadata": {
    "papermill": {
     "duration": null,
     "end_time": null,
     "exception": null,
     "start_time": null,
     "status": "completed"
    },
    "tags": []
   },
   "outputs": [],
   "source": [
    "pos,height = find_first_peak(corr)"
   ]
  },
  {
   "cell_type": "code",
   "execution_count": null,
   "id": "19823114",
   "metadata": {
    "papermill": {
     "duration": null,
     "end_time": null,
     "exception": null,
     "start_time": null,
     "status": "completed"
    },
    "tags": []
   },
   "outputs": [],
   "source": [
    "pos,height"
   ]
  },
  {
   "cell_type": "code",
   "execution_count": null,
   "id": "68af0a7b",
   "metadata": {
    "papermill": {
     "duration": null,
     "end_time": null,
     "exception": null,
     "start_time": null,
     "status": "completed"
    },
    "tags": []
   },
   "outputs": [],
   "source": [
    "from openpiv.pyprocess import find_subpixel_peak_position"
   ]
  },
  {
   "cell_type": "code",
   "execution_count": null,
   "id": "b5f53e0a",
   "metadata": {
    "papermill": {
     "duration": null,
     "end_time": null,
     "exception": null,
     "start_time": null,
     "status": "completed"
    },
    "tags": []
   },
   "outputs": [],
   "source": [
    "find_subpixel_peak_position(corr)"
   ]
  },
  {
   "cell_type": "markdown",
   "id": "cc6e6498",
   "metadata": {
    "papermill": {
     "duration": null,
     "end_time": null,
     "exception": null,
     "start_time": null,
     "status": "completed"
    },
    "tags": []
   },
   "source": [
    "## let's find some corner cases"
   ]
  },
  {
   "cell_type": "code",
   "execution_count": null,
   "id": "1c8c40ec",
   "metadata": {
    "papermill": {
     "duration": null,
     "end_time": null,
     "exception": null,
     "start_time": null,
     "status": "completed"
    },
    "tags": []
   },
   "outputs": [],
   "source": [
    "# peak on the border \n",
    "corr = np.zeros((N,N))\n",
    "\n",
    "corr[:3,:3] = 1\n",
    "corr[0,0] = 2\n",
    "corr[0,2] = 3\n",
    "corr[0,3] = 1\n",
    "corr"
   ]
  },
  {
   "cell_type": "markdown",
   "id": "b0afe09e",
   "metadata": {
    "papermill": {
     "duration": null,
     "end_time": null,
     "exception": null,
     "start_time": null,
     "status": "completed"
    },
    "tags": []
   },
   "source": [
    "## Corner case 1: peak on the border\n",
    "\n",
    "it is disregarded in our function because we cannot define well the subpixel\n",
    "position. Or do we? "
   ]
  },
  {
   "cell_type": "code",
   "execution_count": null,
   "id": "39f9bff0",
   "metadata": {
    "papermill": {
     "duration": null,
     "end_time": null,
     "exception": null,
     "start_time": null,
     "status": "completed"
    },
    "tags": []
   },
   "outputs": [],
   "source": [
    "find_subpixel_peak_position(corr)"
   ]
  },
  {
   "cell_type": "code",
   "execution_count": null,
   "id": "d0b38f19",
   "metadata": {
    "papermill": {
     "duration": null,
     "end_time": null,
     "exception": null,
     "start_time": null,
     "status": "completed"
    },
    "tags": []
   },
   "outputs": [],
   "source": [
    "# peak on the border \n",
    "corr = np.flipud(corr)\n",
    "corr"
   ]
  },
  {
   "cell_type": "code",
   "execution_count": null,
   "id": "71793f8d",
   "metadata": {
    "papermill": {
     "duration": null,
     "end_time": null,
     "exception": null,
     "start_time": null,
     "status": "completed"
    },
    "tags": []
   },
   "outputs": [],
   "source": [
    "find_subpixel_peak_position(corr)"
   ]
  },
  {
   "cell_type": "code",
   "execution_count": null,
   "id": "119c92fc",
   "metadata": {
    "papermill": {
     "duration": null,
     "end_time": null,
     "exception": null,
     "start_time": null,
     "status": "completed"
    },
    "tags": []
   },
   "outputs": [],
   "source": [
    "corr = np.fliplr(corr)\n",
    "corr[-2,-1]=5\n",
    "corr"
   ]
  },
  {
   "cell_type": "code",
   "execution_count": null,
   "id": "bde394a1",
   "metadata": {
    "papermill": {
     "duration": null,
     "end_time": null,
     "exception": null,
     "start_time": null,
     "status": "completed"
    },
    "tags": []
   },
   "outputs": [],
   "source": [
    "find_subpixel_peak_position(corr)"
   ]
  },
  {
   "cell_type": "code",
   "execution_count": null,
   "id": "fa9319e0",
   "metadata": {
    "papermill": {
     "duration": null,
     "end_time": null,
     "exception": null,
     "start_time": null,
     "status": "completed"
    },
    "tags": []
   },
   "outputs": [],
   "source": [
    "## Corner case 2: zero next to the peak - the log(0) fails"
   ]
  },
  {
   "cell_type": "code",
   "execution_count": null,
   "id": "3d8758f4",
   "metadata": {
    "papermill": {
     "duration": null,
     "end_time": null,
     "exception": null,
     "start_time": null,
     "status": "completed"
    },
    "tags": []
   },
   "outputs": [],
   "source": [
    "corr = np.zeros((N,N))\n",
    "\n",
    "corr[2:5,2:5] = 1\n",
    "corr[3,3] = 2\n",
    "corr[3,4] = 3\n",
    "# corr[3,5] = 1\n",
    "corr"
   ]
  },
  {
   "cell_type": "code",
   "execution_count": null,
   "id": "9292c060",
   "metadata": {
    "papermill": {
     "duration": null,
     "end_time": null,
     "exception": null,
     "start_time": null,
     "status": "completed"
    },
    "tags": []
   },
   "outputs": [],
   "source": [
    "find_subpixel_peak_position(corr)"
   ]
  },
  {
   "cell_type": "code",
   "execution_count": null,
   "id": "f2617e23",
   "metadata": {
    "papermill": {
     "duration": null,
     "end_time": null,
     "exception": null,
     "start_time": null,
     "status": "completed"
    },
    "tags": []
   },
   "outputs": [],
   "source": [
    "fig, ax = plt.subplots(figsize=(12,12))\n",
    "ax.pcolor(corr[:8,:8])\n",
    "for eps in np.logspace(-15,5):\n",
    "    i,j = find_subpixel_peak_position(corr+eps)\n",
    "    # print(i,j)\n",
    "    ax.plot(i,j,'rx')"
   ]
  },
  {
   "cell_type": "code",
   "execution_count": null,
   "id": "d297f8a0",
   "metadata": {
    "papermill": {
     "duration": null,
     "end_time": null,
     "exception": null,
     "start_time": null,
     "status": "completed"
    },
    "tags": []
   },
   "outputs": [],
   "source": [
    "import matplotlib.pyplot as plt"
   ]
  },
  {
   "cell_type": "code",
   "execution_count": null,
   "id": "ff7b8ef3",
   "metadata": {
    "papermill": {
     "duration": null,
     "end_time": null,
     "exception": null,
     "start_time": null,
     "status": "completed"
    },
    "tags": []
   },
   "outputs": [],
   "source": [
    "plt.pcolor(corr[:8,:8])\n",
    "plt.plot(i,j,'ro')"
   ]
  },
  {
   "cell_type": "code",
   "execution_count": null,
   "id": "97a41ea0",
   "metadata": {
    "papermill": {
     "duration": null,
     "end_time": null,
     "exception": null,
     "start_time": null,
     "status": "completed"
    },
    "tags": []
   },
   "outputs": [],
   "source": [
    "for method in ['gaussian','parabolic','centroid']:\n",
    "    i,j = find_subpixel_peak_position(corr,method)\n",
    "    print(i,j)\n",
    "    i,j = find_subpixel_peak_position(corr+eps,method)\n",
    "    print(i,j)\n"
   ]
  },
  {
   "cell_type": "code",
   "execution_count": null,
   "id": "fe560a6e",
   "metadata": {
    "papermill": {
     "duration": null,
     "end_time": null,
     "exception": null,
     "start_time": null,
     "status": "completed"
    },
    "tags": []
   },
   "outputs": [],
   "source": []
  }
 ],
 "metadata": {
  "kernelspec": {
   "display_name": "Python [conda env:openpiv] *",
   "language": "python",
   "name": "conda-env-openpiv-py"
  },
  "language_info": {
   "codemirror_mode": {
    "name": "ipython",
    "version": 3
   },
   "file_extension": ".py",
   "mimetype": "text/x-python",
   "name": "python",
   "nbconvert_exporter": "python",
   "pygments_lexer": "ipython3",
   "version": "3.8.5"
  },
  "papermill": {
   "default_parameters": {},
   "duration": 0.043478,
   "end_time": "2022-10-20T19:15:51.831878",
   "environment_variables": {},
   "exception": null,
   "input_path": "./notebooks/test_find_subpixel_position.ipynb",
   "output_path": "./notebooks/test_find_subpixel_position.ipynb",
   "parameters": {},
   "start_time": "2022-10-20T19:15:51.788400",
   "version": "2.4.0"
  }
 },
 "nbformat": 4,
 "nbformat_minor": 5
}