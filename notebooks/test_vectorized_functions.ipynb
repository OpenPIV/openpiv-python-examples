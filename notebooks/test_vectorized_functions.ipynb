{
 "cells": [
  {
   "cell_type": "markdown",
   "id": "79782d85",
   "metadata": {
    "papermill": {
     "duration": 0.023123,
     "end_time": "2022-10-20T19:15:31.090183",
     "exception": false,
     "start_time": "2022-10-20T19:15:31.067060",
     "status": "completed"
    },
    "tags": []
   },
   "source": [
    "### Comparison with vectorized and original functions\n",
    "#### Edited by Erich Zimmer\n",
    "#### Created at 20210817, 2109 CTZ"
   ]
  },
  {
   "cell_type": "code",
   "execution_count": 1,
   "id": "5db8e4ac",
   "metadata": {
    "execution": {
     "iopub.execute_input": "2022-10-20T19:15:31.116768Z",
     "iopub.status.busy": "2022-10-20T19:15:31.116464Z",
     "iopub.status.idle": "2022-10-20T19:15:32.286663Z",
     "shell.execute_reply": "2022-10-20T19:15:32.285991Z"
    },
    "papermill": {
     "duration": 1.182654,
     "end_time": "2022-10-20T19:15:32.288436",
     "exception": false,
     "start_time": "2022-10-20T19:15:31.105782",
     "status": "completed"
    },
    "tags": []
   },
   "outputs": [],
   "source": [
    "import numpy as np\n",
    "import matplotlib.pyplot as plt\n",
    "from openpiv.pyprocess import find_first_peak,\\\n",
    "    vectorized_correlation_to_displacements\n",
    "from openpiv.tools import imread\n",
    "from numpy import log\n",
    "from glob import glob"
   ]
  },
  {
   "cell_type": "markdown",
   "id": "429dfe2c",
   "metadata": {
    "papermill": {
     "duration": 0.006363,
     "end_time": "2022-10-20T19:15:32.301461",
     "exception": false,
     "start_time": "2022-10-20T19:15:32.295098",
     "status": "completed"
    },
    "tags": []
   },
   "source": [
    "### Vectorized solution for subpixel estimation"
   ]
  },
  {
   "cell_type": "code",
   "execution_count": 2,
   "id": "d60be221",
   "metadata": {
    "execution": {
     "iopub.execute_input": "2022-10-20T19:15:32.314989Z",
     "iopub.status.busy": "2022-10-20T19:15:32.314669Z",
     "iopub.status.idle": "2022-10-20T19:15:32.324802Z",
     "shell.execute_reply": "2022-10-20T19:15:32.324287Z"
    },
    "papermill": {
     "duration": 0.019484,
     "end_time": "2022-10-20T19:15:32.326509",
     "exception": false,
     "start_time": "2022-10-20T19:15:32.307025",
     "status": "completed"
    },
    "tags": []
   },
   "outputs": [
    {
     "data": {
      "text/plain": [
       "array([[0., 0., 0., ..., 0., 0., 0.],\n",
       "       [0., 0., 0., ..., 0., 0., 0.],\n",
       "       [0., 0., 1., ..., 0., 0., 0.],\n",
       "       ...,\n",
       "       [0., 0., 0., ..., 0., 0., 0.],\n",
       "       [0., 0., 0., ..., 0., 0., 0.],\n",
       "       [0., 0., 0., ..., 0., 0., 0.]])"
      ]
     },
     "execution_count": 2,
     "metadata": {},
     "output_type": "execute_result"
    }
   ],
   "source": [
    "N = 64\n",
    "\n",
    "corr = np.zeros((N,N))\n",
    "\n",
    "corr[2:5,2:5] = 1\n",
    "corr[3,3] = 2\n",
    "corr[3,4] = 3\n",
    "corr[3,5] = 1\n",
    "corr"
   ]
  },
  {
   "cell_type": "code",
   "execution_count": 3,
   "id": "c967d238",
   "metadata": {
    "execution": {
     "iopub.execute_input": "2022-10-20T19:15:32.342728Z",
     "iopub.status.busy": "2022-10-20T19:15:32.342426Z",
     "iopub.status.idle": "2022-10-20T19:15:32.346742Z",
     "shell.execute_reply": "2022-10-20T19:15:32.345544Z"
    },
    "papermill": {
     "duration": 0.014086,
     "end_time": "2022-10-20T19:15:32.348807",
     "exception": false,
     "start_time": "2022-10-20T19:15:32.334721",
     "status": "completed"
    },
    "tags": []
   },
   "outputs": [],
   "source": [
    "pos,height = find_first_peak(corr)"
   ]
  },
  {
   "cell_type": "code",
   "execution_count": 4,
   "id": "f8ee5cbe",
   "metadata": {
    "execution": {
     "iopub.execute_input": "2022-10-20T19:15:32.367527Z",
     "iopub.status.busy": "2022-10-20T19:15:32.367313Z",
     "iopub.status.idle": "2022-10-20T19:15:32.372024Z",
     "shell.execute_reply": "2022-10-20T19:15:32.371292Z"
    },
    "papermill": {
     "duration": 0.013843,
     "end_time": "2022-10-20T19:15:32.373318",
     "exception": false,
     "start_time": "2022-10-20T19:15:32.359475",
     "status": "completed"
    },
    "tags": []
   },
   "outputs": [
    {
     "data": {
      "text/plain": [
       "((3, 4), 3.0)"
      ]
     },
     "execution_count": 4,
     "metadata": {},
     "output_type": "execute_result"
    }
   ],
   "source": [
    "pos,height"
   ]
  },
  {
   "cell_type": "code",
   "execution_count": 5,
   "id": "7aaf4162",
   "metadata": {
    "execution": {
     "iopub.execute_input": "2022-10-20T19:15:32.390893Z",
     "iopub.status.busy": "2022-10-20T19:15:32.390621Z",
     "iopub.status.idle": "2022-10-20T19:15:32.393762Z",
     "shell.execute_reply": "2022-10-20T19:15:32.393178Z"
    },
    "papermill": {
     "duration": 0.014968,
     "end_time": "2022-10-20T19:15:32.395482",
     "exception": false,
     "start_time": "2022-10-20T19:15:32.380514",
     "status": "completed"
    },
    "tags": []
   },
   "outputs": [],
   "source": [
    "from openpiv.pyprocess import find_subpixel_peak_position"
   ]
  },
  {
   "cell_type": "code",
   "execution_count": 6,
   "id": "d5085e5c",
   "metadata": {
    "execution": {
     "iopub.execute_input": "2022-10-20T19:15:32.413569Z",
     "iopub.status.busy": "2022-10-20T19:15:32.413081Z",
     "iopub.status.idle": "2022-10-20T19:15:32.417788Z",
     "shell.execute_reply": "2022-10-20T19:15:32.417134Z"
    },
    "papermill": {
     "duration": 0.013886,
     "end_time": "2022-10-20T19:15:32.419262",
     "exception": false,
     "start_time": "2022-10-20T19:15:32.405376",
     "status": "completed"
    },
    "tags": []
   },
   "outputs": [
    {
     "data": {
      "text/plain": [
       "(3.0, 3.769577293545741)"
      ]
     },
     "execution_count": 6,
     "metadata": {},
     "output_type": "execute_result"
    }
   ],
   "source": [
    "find_subpixel_peak_position(corr) "
   ]
  },
  {
   "cell_type": "code",
   "execution_count": 7,
   "id": "4a77844f",
   "metadata": {
    "execution": {
     "iopub.execute_input": "2022-10-20T19:15:32.434837Z",
     "iopub.status.busy": "2022-10-20T19:15:32.434506Z",
     "iopub.status.idle": "2022-10-20T19:15:32.441399Z",
     "shell.execute_reply": "2022-10-20T19:15:32.440916Z"
    },
    "papermill": {
     "duration": 0.016083,
     "end_time": "2022-10-20T19:15:32.442680",
     "exception": false,
     "start_time": "2022-10-20T19:15:32.426597",
     "status": "completed"
    },
    "tags": []
   },
   "outputs": [
    {
     "name": "stdout",
     "output_type": "stream",
     "text": [
      "Found 0 bad peak(s)\n"
     ]
    },
    {
     "data": {
      "text/plain": [
       "array([[3.        ],\n",
       "       [3.76957734]])"
      ]
     },
     "execution_count": 7,
     "metadata": {},
     "output_type": "execute_result"
    }
   ],
   "source": [
    "np.flip(vectorized_correlation_to_displacements(corr[np.newaxis, :, :]) + np.floor(corr.shape[0] / 2))"
   ]
  },
  {
   "cell_type": "markdown",
   "id": "44327587",
   "metadata": {
    "papermill": {
     "duration": 0.00684,
     "end_time": "2022-10-20T19:15:32.456756",
     "exception": false,
     "start_time": "2022-10-20T19:15:32.449916",
     "status": "completed"
    },
    "tags": []
   },
   "source": [
    "## let's find some corner cases"
   ]
  },
  {
   "cell_type": "code",
   "execution_count": 8,
   "id": "a0c8f9bc",
   "metadata": {
    "execution": {
     "iopub.execute_input": "2022-10-20T19:15:32.471128Z",
     "iopub.status.busy": "2022-10-20T19:15:32.470909Z",
     "iopub.status.idle": "2022-10-20T19:15:32.475984Z",
     "shell.execute_reply": "2022-10-20T19:15:32.475366Z"
    },
    "papermill": {
     "duration": 0.013915,
     "end_time": "2022-10-20T19:15:32.477376",
     "exception": false,
     "start_time": "2022-10-20T19:15:32.463461",
     "status": "completed"
    },
    "tags": []
   },
   "outputs": [
    {
     "data": {
      "text/plain": [
       "array([[2., 1., 3., ..., 0., 0., 0.],\n",
       "       [1., 1., 1., ..., 0., 0., 0.],\n",
       "       [1., 1., 1., ..., 0., 0., 0.],\n",
       "       ...,\n",
       "       [0., 0., 0., ..., 0., 0., 0.],\n",
       "       [0., 0., 0., ..., 0., 0., 0.],\n",
       "       [0., 0., 0., ..., 0., 0., 0.]])"
      ]
     },
     "execution_count": 8,
     "metadata": {},
     "output_type": "execute_result"
    }
   ],
   "source": [
    "# peak on the border \n",
    "corr = np.zeros((N,N))\n",
    "\n",
    "corr[:3,:3] = 1\n",
    "corr[0,0] = 2\n",
    "corr[0,2] = 3\n",
    "corr[0,3] = 1\n",
    "corr"
   ]
  },
  {
   "cell_type": "markdown",
   "id": "38c409c3",
   "metadata": {
    "papermill": {
     "duration": 0.006859,
     "end_time": "2022-10-20T19:15:32.492632",
     "exception": false,
     "start_time": "2022-10-20T19:15:32.485773",
     "status": "completed"
    },
    "tags": []
   },
   "source": [
    "## Corner case 1: peak on the border\n",
    "\n",
    "it is disregarded in our function because we cannot define well the subpixel\n",
    "position. Or do we? "
   ]
  },
  {
   "cell_type": "code",
   "execution_count": 9,
   "id": "635304dd",
   "metadata": {
    "execution": {
     "iopub.execute_input": "2022-10-20T19:15:32.507214Z",
     "iopub.status.busy": "2022-10-20T19:15:32.507001Z",
     "iopub.status.idle": "2022-10-20T19:15:32.511203Z",
     "shell.execute_reply": "2022-10-20T19:15:32.510762Z"
    },
    "papermill": {
     "duration": 0.012562,
     "end_time": "2022-10-20T19:15:32.512528",
     "exception": false,
     "start_time": "2022-10-20T19:15:32.499966",
     "status": "completed"
    },
    "tags": []
   },
   "outputs": [
    {
     "data": {
      "text/plain": [
       "(nan, nan)"
      ]
     },
     "execution_count": 9,
     "metadata": {},
     "output_type": "execute_result"
    }
   ],
   "source": [
    "find_subpixel_peak_position(corr)"
   ]
  },
  {
   "cell_type": "code",
   "execution_count": 10,
   "id": "b642593f",
   "metadata": {
    "execution": {
     "iopub.execute_input": "2022-10-20T19:15:32.547136Z",
     "iopub.status.busy": "2022-10-20T19:15:32.546925Z",
     "iopub.status.idle": "2022-10-20T19:15:32.552012Z",
     "shell.execute_reply": "2022-10-20T19:15:32.551570Z"
    },
    "papermill": {
     "duration": 0.033546,
     "end_time": "2022-10-20T19:15:32.553392",
     "exception": false,
     "start_time": "2022-10-20T19:15:32.519846",
     "status": "completed"
    },
    "tags": []
   },
   "outputs": [
    {
     "name": "stdout",
     "output_type": "stream",
     "text": [
      "Found 1 bad peak(s)\n"
     ]
    },
    {
     "data": {
      "text/plain": [
       "array([[nan, nan]])"
      ]
     },
     "execution_count": 10,
     "metadata": {},
     "output_type": "execute_result"
    }
   ],
   "source": [
    "np.flip(vectorized_correlation_to_displacements(corr[np.newaxis, :, :]) + np.floor(corr.shape[0] / 2))"
   ]
  },
  {
   "cell_type": "code",
   "execution_count": 11,
   "id": "991f026d",
   "metadata": {
    "execution": {
     "iopub.execute_input": "2022-10-20T19:15:32.593124Z",
     "iopub.status.busy": "2022-10-20T19:15:32.592895Z",
     "iopub.status.idle": "2022-10-20T19:15:32.597579Z",
     "shell.execute_reply": "2022-10-20T19:15:32.597067Z"
    },
    "papermill": {
     "duration": 0.037145,
     "end_time": "2022-10-20T19:15:32.598979",
     "exception": false,
     "start_time": "2022-10-20T19:15:32.561834",
     "status": "completed"
    },
    "tags": []
   },
   "outputs": [
    {
     "data": {
      "text/plain": [
       "array([[0., 0., 0., ..., 0., 0., 0.],\n",
       "       [0., 0., 0., ..., 0., 0., 0.],\n",
       "       [0., 0., 0., ..., 0., 0., 0.],\n",
       "       ...,\n",
       "       [1., 1., 1., ..., 0., 0., 0.],\n",
       "       [1., 1., 1., ..., 0., 0., 0.],\n",
       "       [2., 1., 3., ..., 0., 0., 0.]])"
      ]
     },
     "execution_count": 11,
     "metadata": {},
     "output_type": "execute_result"
    }
   ],
   "source": [
    "# peak on the border \n",
    "corr = np.flipud(corr)\n",
    "corr"
   ]
  },
  {
   "cell_type": "code",
   "execution_count": 12,
   "id": "380f26d3",
   "metadata": {
    "execution": {
     "iopub.execute_input": "2022-10-20T19:15:32.615184Z",
     "iopub.status.busy": "2022-10-20T19:15:32.614675Z",
     "iopub.status.idle": "2022-10-20T19:15:32.619395Z",
     "shell.execute_reply": "2022-10-20T19:15:32.618834Z"
    },
    "papermill": {
     "duration": 0.014138,
     "end_time": "2022-10-20T19:15:32.620794",
     "exception": false,
     "start_time": "2022-10-20T19:15:32.606656",
     "status": "completed"
    },
    "tags": []
   },
   "outputs": [
    {
     "data": {
      "text/plain": [
       "(nan, nan)"
      ]
     },
     "execution_count": 12,
     "metadata": {},
     "output_type": "execute_result"
    }
   ],
   "source": [
    "find_subpixel_peak_position(corr)"
   ]
  },
  {
   "cell_type": "code",
   "execution_count": 13,
   "id": "2128b70a",
   "metadata": {
    "execution": {
     "iopub.execute_input": "2022-10-20T19:15:32.634965Z",
     "iopub.status.busy": "2022-10-20T19:15:32.634761Z",
     "iopub.status.idle": "2022-10-20T19:15:32.640322Z",
     "shell.execute_reply": "2022-10-20T19:15:32.639659Z"
    },
    "papermill": {
     "duration": 0.01411,
     "end_time": "2022-10-20T19:15:32.641673",
     "exception": false,
     "start_time": "2022-10-20T19:15:32.627563",
     "status": "completed"
    },
    "tags": []
   },
   "outputs": [
    {
     "name": "stdout",
     "output_type": "stream",
     "text": [
      "Found 1 bad peak(s)\n"
     ]
    },
    {
     "data": {
      "text/plain": [
       "array([[nan, nan]])"
      ]
     },
     "execution_count": 13,
     "metadata": {},
     "output_type": "execute_result"
    }
   ],
   "source": [
    "np.flip(vectorized_correlation_to_displacements(corr[np.newaxis, :, :]) + np.floor(corr.shape[0] / 2))"
   ]
  },
  {
   "cell_type": "code",
   "execution_count": 14,
   "id": "dec2efb1",
   "metadata": {
    "execution": {
     "iopub.execute_input": "2022-10-20T19:15:32.656506Z",
     "iopub.status.busy": "2022-10-20T19:15:32.656258Z",
     "iopub.status.idle": "2022-10-20T19:15:32.662158Z",
     "shell.execute_reply": "2022-10-20T19:15:32.661480Z"
    },
    "papermill": {
     "duration": 0.014884,
     "end_time": "2022-10-20T19:15:32.663508",
     "exception": false,
     "start_time": "2022-10-20T19:15:32.648624",
     "status": "completed"
    },
    "tags": []
   },
   "outputs": [
    {
     "data": {
      "text/plain": [
       "array([[0., 0., 0., ..., 0., 0., 0.],\n",
       "       [0., 0., 0., ..., 0., 0., 0.],\n",
       "       [0., 0., 0., ..., 0., 0., 0.],\n",
       "       ...,\n",
       "       [0., 0., 0., ..., 1., 1., 1.],\n",
       "       [0., 0., 0., ..., 1., 1., 5.],\n",
       "       [0., 0., 0., ..., 3., 1., 2.]])"
      ]
     },
     "execution_count": 14,
     "metadata": {},
     "output_type": "execute_result"
    }
   ],
   "source": [
    "corr = np.fliplr(corr)\n",
    "corr[-2,-1]=5\n",
    "corr"
   ]
  },
  {
   "cell_type": "code",
   "execution_count": 15,
   "id": "573828a6",
   "metadata": {
    "execution": {
     "iopub.execute_input": "2022-10-20T19:15:32.680149Z",
     "iopub.status.busy": "2022-10-20T19:15:32.679883Z",
     "iopub.status.idle": "2022-10-20T19:15:32.685488Z",
     "shell.execute_reply": "2022-10-20T19:15:32.684689Z"
    },
    "papermill": {
     "duration": 0.016191,
     "end_time": "2022-10-20T19:15:32.686761",
     "exception": false,
     "start_time": "2022-10-20T19:15:32.670570",
     "status": "completed"
    },
    "tags": []
   },
   "outputs": [
    {
     "data": {
      "text/plain": [
       "(nan, nan)"
      ]
     },
     "execution_count": 15,
     "metadata": {},
     "output_type": "execute_result"
    }
   ],
   "source": [
    "find_subpixel_peak_position(corr)"
   ]
  },
  {
   "cell_type": "code",
   "execution_count": 16,
   "id": "b8e1b889",
   "metadata": {
    "execution": {
     "iopub.execute_input": "2022-10-20T19:15:32.703969Z",
     "iopub.status.busy": "2022-10-20T19:15:32.703433Z",
     "iopub.status.idle": "2022-10-20T19:15:32.709175Z",
     "shell.execute_reply": "2022-10-20T19:15:32.708317Z"
    },
    "papermill": {
     "duration": 0.015636,
     "end_time": "2022-10-20T19:15:32.710797",
     "exception": false,
     "start_time": "2022-10-20T19:15:32.695161",
     "status": "completed"
    },
    "tags": []
   },
   "outputs": [
    {
     "name": "stdout",
     "output_type": "stream",
     "text": [
      "Found 1 bad peak(s)\n"
     ]
    },
    {
     "data": {
      "text/plain": [
       "array([[nan, nan]])"
      ]
     },
     "execution_count": 16,
     "metadata": {},
     "output_type": "execute_result"
    }
   ],
   "source": [
    "np.flip(vectorized_correlation_to_displacements(corr[np.newaxis, :, :]) + np.floor(corr.shape[0] / 2))"
   ]
  },
  {
   "cell_type": "code",
   "execution_count": 17,
   "id": "62707987",
   "metadata": {
    "execution": {
     "iopub.execute_input": "2022-10-20T19:15:32.728191Z",
     "iopub.status.busy": "2022-10-20T19:15:32.727843Z",
     "iopub.status.idle": "2022-10-20T19:15:32.730844Z",
     "shell.execute_reply": "2022-10-20T19:15:32.730361Z"
    },
    "papermill": {
     "duration": 0.01318,
     "end_time": "2022-10-20T19:15:32.732108",
     "exception": false,
     "start_time": "2022-10-20T19:15:32.718928",
     "status": "completed"
    },
    "tags": []
   },
   "outputs": [],
   "source": [
    "## Corner case 2: negative value next to peak - the log(n<0) fails"
   ]
  },
  {
   "cell_type": "code",
   "execution_count": 18,
   "id": "33477849",
   "metadata": {
    "execution": {
     "iopub.execute_input": "2022-10-20T19:15:32.748359Z",
     "iopub.status.busy": "2022-10-20T19:15:32.748149Z",
     "iopub.status.idle": "2022-10-20T19:15:32.753540Z",
     "shell.execute_reply": "2022-10-20T19:15:32.752973Z"
    },
    "papermill": {
     "duration": 0.015461,
     "end_time": "2022-10-20T19:15:32.754791",
     "exception": false,
     "start_time": "2022-10-20T19:15:32.739330",
     "status": "completed"
    },
    "tags": []
   },
   "outputs": [
    {
     "data": {
      "text/plain": [
       "array([[-0.5, -0.5, -0.5, ..., -0.5, -0.5, -0.5],\n",
       "       [-0.5, -0.5, -0.5, ..., -0.5, -0.5, -0.5],\n",
       "       [-0.5, -0.5,  0.5, ..., -0.5, -0.5, -0.5],\n",
       "       ...,\n",
       "       [-0.5, -0.5, -0.5, ..., -0.5, -0.5, -0.5],\n",
       "       [-0.5, -0.5, -0.5, ..., -0.5, -0.5, -0.5],\n",
       "       [-0.5, -0.5, -0.5, ..., -0.5, -0.5, -0.5]])"
      ]
     },
     "execution_count": 18,
     "metadata": {},
     "output_type": "execute_result"
    }
   ],
   "source": [
    "corr = np.zeros((N,N))\n",
    "\n",
    "corr[2:5,2:5] = 1\n",
    "corr[3,3] = 2\n",
    "corr[3,4] = 3\n",
    "# corr[3,5] = 1\n",
    "corr -= 0.5\n",
    "corr"
   ]
  },
  {
   "cell_type": "code",
   "execution_count": 19,
   "id": "e154cf93",
   "metadata": {
    "execution": {
     "iopub.execute_input": "2022-10-20T19:15:32.771299Z",
     "iopub.status.busy": "2022-10-20T19:15:32.771035Z",
     "iopub.status.idle": "2022-10-20T19:15:32.776170Z",
     "shell.execute_reply": "2022-10-20T19:15:32.775034Z"
    },
    "papermill": {
     "duration": 0.015355,
     "end_time": "2022-10-20T19:15:32.778225",
     "exception": false,
     "start_time": "2022-10-20T19:15:32.762870",
     "status": "completed"
    },
    "tags": []
   },
   "outputs": [
    {
     "data": {
      "text/plain": [
       "(3.0, 3.75)"
      ]
     },
     "execution_count": 19,
     "metadata": {},
     "output_type": "execute_result"
    }
   ],
   "source": [
    "find_subpixel_peak_position(corr) # automatically uses parabolic method"
   ]
  },
  {
   "cell_type": "code",
   "execution_count": 20,
   "id": "37dd50f2",
   "metadata": {
    "execution": {
     "iopub.execute_input": "2022-10-20T19:15:32.798417Z",
     "iopub.status.busy": "2022-10-20T19:15:32.797716Z",
     "iopub.status.idle": "2022-10-20T19:15:32.804879Z",
     "shell.execute_reply": "2022-10-20T19:15:32.804098Z"
    },
    "papermill": {
     "duration": 0.018951,
     "end_time": "2022-10-20T19:15:32.806342",
     "exception": false,
     "start_time": "2022-10-20T19:15:32.787391",
     "status": "completed"
    },
    "tags": []
   },
   "outputs": [
    {
     "name": "stdout",
     "output_type": "stream",
     "text": [
      "Found 0 bad peak(s)\n",
      "Found 1 negative correlation indices resulting in NaNs\n",
      "Fallback for negative indices is a 3 point parabolic curve method\n"
     ]
    },
    {
     "name": "stderr",
     "output_type": "stream",
     "text": [
      "/home/user/Documents/repos/openpiv-python/openpiv/pyprocess.py:1201: RuntimeWarning: invalid value encountered in log\n",
      "  nom2 = log(cd) - log(cu)\n",
      "/home/user/Documents/repos/openpiv-python/openpiv/pyprocess.py:1202: RuntimeWarning: invalid value encountered in log\n",
      "  den2 = 2 * log(cd) - 4 * log(c) + 2 * log(cu)\n"
     ]
    },
    {
     "data": {
      "text/plain": [
       "array([[3.        ],\n",
       "       [3.74999997]])"
      ]
     },
     "execution_count": 20,
     "metadata": {},
     "output_type": "execute_result"
    }
   ],
   "source": [
    "np.flip(vectorized_correlation_to_displacements(corr[np.newaxis, :, :]) + np.floor(corr.shape[0] / 2))"
   ]
  },
  {
   "cell_type": "code",
   "execution_count": 21,
   "id": "cd6bacb4",
   "metadata": {
    "execution": {
     "iopub.execute_input": "2022-10-20T19:15:32.825931Z",
     "iopub.status.busy": "2022-10-20T19:15:32.825323Z",
     "iopub.status.idle": "2022-10-20T19:15:32.829424Z",
     "shell.execute_reply": "2022-10-20T19:15:32.828710Z"
    },
    "papermill": {
     "duration": 0.015253,
     "end_time": "2022-10-20T19:15:32.830931",
     "exception": false,
     "start_time": "2022-10-20T19:15:32.815678",
     "status": "completed"
    },
    "tags": []
   },
   "outputs": [],
   "source": [
    "## Corner case 3: zero next to the peak - the log(0) fails"
   ]
  },
  {
   "cell_type": "code",
   "execution_count": 22,
   "id": "703609dc",
   "metadata": {
    "execution": {
     "iopub.execute_input": "2022-10-20T19:15:32.850397Z",
     "iopub.status.busy": "2022-10-20T19:15:32.850177Z",
     "iopub.status.idle": "2022-10-20T19:15:32.855512Z",
     "shell.execute_reply": "2022-10-20T19:15:32.854977Z"
    },
    "papermill": {
     "duration": 0.016947,
     "end_time": "2022-10-20T19:15:32.856734",
     "exception": false,
     "start_time": "2022-10-20T19:15:32.839787",
     "status": "completed"
    },
    "tags": []
   },
   "outputs": [
    {
     "data": {
      "text/plain": [
       "array([[0., 0., 0., ..., 0., 0., 0.],\n",
       "       [0., 0., 0., ..., 0., 0., 0.],\n",
       "       [0., 0., 1., ..., 0., 0., 0.],\n",
       "       ...,\n",
       "       [0., 0., 0., ..., 0., 0., 0.],\n",
       "       [0., 0., 0., ..., 0., 0., 0.],\n",
       "       [0., 0., 0., ..., 0., 0., 0.]])"
      ]
     },
     "execution_count": 22,
     "metadata": {},
     "output_type": "execute_result"
    }
   ],
   "source": [
    "corr = np.zeros((N,N))\n",
    "\n",
    "corr[2:5,2:5] = 1\n",
    "corr[3,3] = 2\n",
    "corr[3,4] = 3\n",
    "# corr[3,5] = 1\n",
    "corr"
   ]
  },
  {
   "cell_type": "code",
   "execution_count": 23,
   "id": "5a7b23fa",
   "metadata": {
    "execution": {
     "iopub.execute_input": "2022-10-20T19:15:32.874116Z",
     "iopub.status.busy": "2022-10-20T19:15:32.873842Z",
     "iopub.status.idle": "2022-10-20T19:15:32.878988Z",
     "shell.execute_reply": "2022-10-20T19:15:32.878203Z"
    },
    "papermill": {
     "duration": 0.015107,
     "end_time": "2022-10-20T19:15:32.880466",
     "exception": false,
     "start_time": "2022-10-20T19:15:32.865359",
     "status": "completed"
    },
    "tags": []
   },
   "outputs": [
    {
     "data": {
      "text/plain": [
       "(3.0, 3.5230088020336483)"
      ]
     },
     "execution_count": 23,
     "metadata": {},
     "output_type": "execute_result"
    }
   ],
   "source": [
    "find_subpixel_peak_position(corr)"
   ]
  },
  {
   "cell_type": "code",
   "execution_count": 24,
   "id": "a9c886dd",
   "metadata": {
    "execution": {
     "iopub.execute_input": "2022-10-20T19:15:32.899022Z",
     "iopub.status.busy": "2022-10-20T19:15:32.898766Z",
     "iopub.status.idle": "2022-10-20T19:15:32.904518Z",
     "shell.execute_reply": "2022-10-20T19:15:32.903950Z"
    },
    "papermill": {
     "duration": 0.017336,
     "end_time": "2022-10-20T19:15:32.905817",
     "exception": false,
     "start_time": "2022-10-20T19:15:32.888481",
     "status": "completed"
    },
    "tags": []
   },
   "outputs": [
    {
     "name": "stdout",
     "output_type": "stream",
     "text": [
      "Found 0 bad peak(s)\n"
     ]
    },
    {
     "data": {
      "text/plain": [
       "array([[3.        ],\n",
       "       [3.52395087]])"
      ]
     },
     "execution_count": 24,
     "metadata": {},
     "output_type": "execute_result"
    }
   ],
   "source": [
    "np.flip(vectorized_correlation_to_displacements(corr[np.newaxis, :, :]) + np.floor(corr.shape[0] / 2))"
   ]
  },
  {
   "cell_type": "code",
   "execution_count": 25,
   "id": "080d081c",
   "metadata": {
    "execution": {
     "iopub.execute_input": "2022-10-20T19:15:32.924984Z",
     "iopub.status.busy": "2022-10-20T19:15:32.924590Z",
     "iopub.status.idle": "2022-10-20T19:15:32.930971Z",
     "shell.execute_reply": "2022-10-20T19:15:32.930237Z"
    },
    "papermill": {
     "duration": 0.015988,
     "end_time": "2022-10-20T19:15:32.932294",
     "exception": false,
     "start_time": "2022-10-20T19:15:32.916306",
     "status": "completed"
    },
    "tags": []
   },
   "outputs": [
    {
     "name": "stdout",
     "output_type": "stream",
     "text": [
      "3.0 3.5239508804084627\n",
      "3.0 3.5249733967346586\n",
      "3.0 3.75\n",
      "3.0 3.75\n",
      "3.0 3.600000095999977\n",
      "2.9999999999999996 3.600000143999948\n"
     ]
    }
   ],
   "source": [
    "eps = 1e-7\n",
    "for method in ['gaussian','parabolic','centroid']:\n",
    "    i,j = find_subpixel_peak_position(corr,method)\n",
    "    print(i,j)\n",
    "    i,j = find_subpixel_peak_position(corr+eps,method)\n",
    "    print(i,j)\n"
   ]
  },
  {
   "cell_type": "code",
   "execution_count": 26,
   "id": "70f94805",
   "metadata": {
    "execution": {
     "iopub.execute_input": "2022-10-20T19:15:32.952865Z",
     "iopub.status.busy": "2022-10-20T19:15:32.951794Z",
     "iopub.status.idle": "2022-10-20T19:15:32.957888Z",
     "shell.execute_reply": "2022-10-20T19:15:32.957346Z"
    },
    "papermill": {
     "duration": 0.019242,
     "end_time": "2022-10-20T19:15:32.959708",
     "exception": false,
     "start_time": "2022-10-20T19:15:32.940466",
     "status": "completed"
    },
    "tags": []
   },
   "outputs": [
    {
     "name": "stdout",
     "output_type": "stream",
     "text": [
      "Found 0 bad peak(s)\n",
      "[3.] [3.52532142]\n",
      "Found 0 bad peak(s)\n",
      "[3.] [3.75]\n",
      "Found 0 bad peak(s)\n",
      "[3.] [3.60000014]\n"
     ]
    }
   ],
   "source": [
    "for method in ['gaussian','parabolic','centroid']:\n",
    "    j, i = vectorized_correlation_to_displacements(corr[np.newaxis, :, :], subpixel_method = method) + np.floor(corr.shape[0] / 2)\n",
    "    print(i, j)"
   ]
  },
  {
   "cell_type": "markdown",
   "id": "fcbd904b",
   "metadata": {
    "papermill": {
     "duration": 0.008762,
     "end_time": "2022-10-20T19:15:32.977293",
     "exception": false,
     "start_time": "2022-10-20T19:15:32.968531",
     "status": "completed"
    },
    "tags": []
   },
   "source": [
    "### Speed increase demonstration"
   ]
  },
  {
   "cell_type": "code",
   "execution_count": 27,
   "id": "c1d66b68",
   "metadata": {
    "execution": {
     "iopub.execute_input": "2022-10-20T19:15:32.998802Z",
     "iopub.status.busy": "2022-10-20T19:15:32.998551Z",
     "iopub.status.idle": "2022-10-20T19:15:33.002563Z",
     "shell.execute_reply": "2022-10-20T19:15:33.002035Z"
    },
    "papermill": {
     "duration": 0.017783,
     "end_time": "2022-10-20T19:15:33.003886",
     "exception": false,
     "start_time": "2022-10-20T19:15:32.986103",
     "status": "completed"
    },
    "tags": []
   },
   "outputs": [],
   "source": [
    "import pylab"
   ]
  },
  {
   "cell_type": "code",
   "execution_count": 28,
   "id": "0fb4b3c6",
   "metadata": {
    "execution": {
     "iopub.execute_input": "2022-10-20T19:15:33.023186Z",
     "iopub.status.busy": "2022-10-20T19:15:33.022820Z",
     "iopub.status.idle": "2022-10-20T19:15:33.752115Z",
     "shell.execute_reply": "2022-10-20T19:15:33.751325Z"
    },
    "papermill": {
     "duration": 0.739413,
     "end_time": "2022-10-20T19:15:33.753080",
     "exception": true,
     "start_time": "2022-10-20T19:15:33.013667",
     "status": "failed"
    },
    "tags": []
   },
   "outputs": [
    {
     "data": {
      "text/plain": [
       "<matplotlib.image.AxesImage at 0x7f5c89d1bee0>"
      ]
     },
     "execution_count": 28,
     "metadata": {},
     "output_type": "execute_result"
    },
    {
     "data": {
      "image/png": "[encoded data removed]",
      "text/plain": [
       "<Figure size 432x288 with 1 Axes>"
      ]
     },
     "metadata": {
      "needs_background": "light"
     },
     "output_type": "display_data"
    }
   ],
   "source": [
    "frame_a = imread('../test11/A001_1.tif')\n",
    "frame_b = imread('../test11/A001_2.tif')\n",
    "pylab.imshow(np.c_[frame_a,np.ones((frame_a.shape[0],20)),frame_b],\n",
    "             cmap=pylab.cm.gray)"
   ]
  },
  {
   "cell_type": "code",
   "execution_count": 29,
   "id": "b2220ccc",
   "metadata": {
    "papermill": {
     "duration": null,
     "end_time": null,
     "exception": null,
     "start_time": null,
     "status": "pending"
    },
    "tags": []
   },
   "outputs": [],
   "source": [
    "window_size = 32\n",
    "overlap = 16\n",
    "from openpiv.pyprocess import moving_window_array, get_field_shape,\\\n",
    "    get_coordinates, fft_correlate_images, correlation_to_displacement\n",
    "\n",
    "n_rows, n_cols = get_field_shape(\n",
    "            frame_a.shape, \n",
    "            window_size, \n",
    "            overlap\n",
    "        )\n",
    "x, y = get_coordinates(frame_a.shape, window_size, overlap)\n",
    "\n",
    "aa = moving_window_array(\n",
    "            frame_a, \n",
    "            window_size, \n",
    "            overlap\n",
    ")\n",
    "\n",
    "bb = moving_window_array(\n",
    "            frame_b, \n",
    "            window_size,\n",
    "            overlap\n",
    ")\n",
    "corr = fft_correlate_images(\n",
    "            aa, bb,\n",
    "            correlation_method='circular',\n",
    "            normalized_correlation = True\n",
    ")"
   ]
  },
  {
   "cell_type": "code",
   "execution_count": 30,
   "id": "c51da976",
   "metadata": {
    "papermill": {
     "duration": null,
     "end_time": null,
     "exception": null,
     "start_time": null,
     "status": "pending"
    },
    "tags": []
   },
   "outputs": [
    {
     "name": "stdout",
     "output_type": "stream",
     "text": [
      "['original', 'vectorized']\n"
     ]
    }
   ],
   "source": [
    "from openpiv.pyprocess import find_all_first_peaks, find_all_second_peaks, find_second_peak\n",
    "peaks_v = find_all_second_peaks(corr)[0]\n",
    "peaks_o = []\n",
    "for i in range(len(corr)):\n",
    "    (k, m), _ = find_second_peak(corr[i,:,:])\n",
    "    peaks_o.append([i, k, m])\n",
    "print(['original', 'vectorized'])\n",
    "for i in range(len(peaks_v)):\n",
    "    #print(peaks_o[i], peaks_v[i])\n",
    "    if peaks_v[i][1] != peaks_o[i][1] or peaks_v[i][2] != peaks_o[i][2]:\n",
    "        print(False)"
   ]
  },
  {
   "cell_type": "code",
   "execution_count": 31,
   "id": "d79b5441",
   "metadata": {
    "papermill": {
     "duration": null,
     "end_time": null,
     "exception": null,
     "start_time": null,
     "status": "pending"
    },
    "tags": []
   },
   "outputs": [
    {
     "name": "stdout",
     "output_type": "stream",
     "text": [
      "CPU times: user 209 ms, sys: 1.15 ms, total: 210 ms\n",
      "Wall time: 207 ms\n"
     ]
    }
   ],
   "source": [
    "%%time\n",
    "u_o, v_o = correlation_to_displacement(\n",
    "            corr, \n",
    "            n_rows,\n",
    "            n_cols,\n",
    "            subpixel_method='gaussian'\n",
    "        )"
   ]
  },
  {
   "cell_type": "code",
   "execution_count": 32,
   "id": "b21308af",
   "metadata": {
    "papermill": {
     "duration": null,
     "end_time": null,
     "exception": null,
     "start_time": null,
     "status": "pending"
    },
    "tags": []
   },
   "outputs": [
    {
     "name": "stdout",
     "output_type": "stream",
     "text": [
      "Found 7 bad peak(s)\n",
      "CPU times: user 9.43 ms, sys: 5.1 ms, total: 14.5 ms\n",
      "Wall time: 12.8 ms\n"
     ]
    }
   ],
   "source": [
    "%%time\n",
    "u_v, v_v = vectorized_correlation_to_displacements(\n",
    "    corr,\n",
    "    n_rows,\n",
    "    n_cols,\n",
    "    subpixel_method='gaussian',\n",
    "    #eps = 1e-7\n",
    ")"
   ]
  },
  {
   "cell_type": "code",
   "execution_count": 33,
   "id": "599c924f",
   "metadata": {
    "papermill": {
     "duration": null,
     "end_time": null,
     "exception": null,
     "start_time": null,
     "status": "pending"
    },
    "tags": []
   },
   "outputs": [
    {
     "name": "stdout",
     "output_type": "stream",
     "text": [
      "[u original, u vectorized]\n",
      "[[-2.36462169 -2.36462164]\n",
      " [-2.42157302 -2.42157295]\n",
      " [-2.77813509 -2.77813515]\n",
      " [-2.9613403  -2.96134032]\n",
      " [-2.84248632 -2.84248634]\n",
      " [-2.90768449 -2.90768454]\n",
      " [-2.90936755 -2.90936758]\n",
      " [-2.97392535 -2.97392533]\n",
      " [-2.99476205 -2.99476203]\n",
      " [-3.01880582 -3.01880579]\n",
      " [-3.02868448 -3.02868447]\n",
      " [-2.98723135 -2.98723136]]\n",
      "(-0.9060849665516473, -0.9060849666233461)\n"
     ]
    }
   ],
   "source": [
    "# slight descrepancies possibly caused by setting eps to 1e-10\n",
    "print('[u original, u vectorized]')\n",
    "print(np.stack((u_o[0, 0:12], u_v[0, 0:12])).T)\n",
    "print((np.nanmean(u_o), np.nanmean(u_v)))"
   ]
  },
  {
   "cell_type": "markdown",
   "id": "7bb4ed15",
   "metadata": {
    "papermill": {
     "duration": null,
     "end_time": null,
     "exception": null,
     "start_time": null,
     "status": "pending"
    },
    "tags": []
   },
   "source": [
    "### Vectorized solution for signal-to-noise calculation"
   ]
  },
  {
   "cell_type": "code",
   "execution_count": 34,
   "id": "cff13441",
   "metadata": {
    "papermill": {
     "duration": null,
     "end_time": null,
     "exception": null,
     "start_time": null,
     "status": "pending"
    },
    "tags": []
   },
   "outputs": [],
   "source": [
    "from openpiv.pyprocess import vectorized_sig2noise_ratio,\\\n",
    "    sig2noise_ratio"
   ]
  },
  {
   "cell_type": "code",
   "execution_count": 35,
   "id": "9ad937b8",
   "metadata": {
    "papermill": {
     "duration": null,
     "end_time": null,
     "exception": null,
     "start_time": null,
     "status": "pending"
    },
    "tags": []
   },
   "outputs": [
    {
     "name": "stdout",
     "output_type": "stream",
     "text": [
      "CPU times: user 372 ms, sys: 547 µs, total: 372 ms\n",
      "Wall time: 371 ms\n"
     ]
    }
   ],
   "source": [
    "%%time\n",
    "peak2peak_o = sig2noise_ratio(corr, 'peak2peak')"
   ]
  },
  {
   "cell_type": "code",
   "execution_count": 36,
   "id": "ceb3e9f7",
   "metadata": {
    "papermill": {
     "duration": null,
     "end_time": null,
     "exception": null,
     "start_time": null,
     "status": "pending"
    },
    "tags": []
   },
   "outputs": [
    {
     "name": "stdout",
     "output_type": "stream",
     "text": [
      "CPU times: user 61 ms, sys: 10.2 ms, total: 71.3 ms\n",
      "Wall time: 69.8 ms\n"
     ]
    }
   ],
   "source": [
    "%%time\n",
    "peak2peak_v = vectorized_sig2noise_ratio(corr, 'peak2peak')"
   ]
  },
  {
   "cell_type": "code",
   "execution_count": 37,
   "id": "ae9d168b",
   "metadata": {
    "papermill": {
     "duration": null,
     "end_time": null,
     "exception": null,
     "start_time": null,
     "status": "pending"
    },
    "tags": []
   },
   "outputs": [
    {
     "name": "stdout",
     "output_type": "stream",
     "text": [
      "CPU times: user 55.4 ms, sys: 0 ns, total: 55.4 ms\n",
      "Wall time: 55.7 ms\n"
     ]
    }
   ],
   "source": [
    "%%time\n",
    "peak2mean_o = sig2noise_ratio(corr, 'peak2mean')"
   ]
  },
  {
   "cell_type": "code",
   "execution_count": 38,
   "id": "f4c317b6",
   "metadata": {
    "papermill": {
     "duration": null,
     "end_time": null,
     "exception": null,
     "start_time": null,
     "status": "pending"
    },
    "tags": []
   },
   "outputs": [
    {
     "name": "stdout",
     "output_type": "stream",
     "text": [
      "CPU times: user 21.8 ms, sys: 4.44 ms, total: 26.3 ms\n",
      "Wall time: 24.5 ms\n"
     ]
    }
   ],
   "source": [
    "%%time\n",
    "peak2mean_v = vectorized_sig2noise_ratio(corr, 'peak2mean')"
   ]
  },
  {
   "cell_type": "code",
   "execution_count": 39,
   "id": "0ba210f8",
   "metadata": {
    "papermill": {
     "duration": null,
     "end_time": null,
     "exception": null,
     "start_time": null,
     "status": "pending"
    },
    "tags": []
   },
   "outputs": [
    {
     "name": "stdout",
     "output_type": "stream",
     "text": [
      "[original, vectorized]\n",
      "[[1.61201227 1.61201227]\n",
      " [1.5020461  1.5020461 ]\n",
      " [1.73240258 1.73240258]\n",
      " [1.77473131 1.77473131]\n",
      " [1.76908876 1.76908876]\n",
      " [1.75000723 1.75000723]\n",
      " [1.81941217 1.81941217]\n",
      " [2.08015106 2.08015106]\n",
      " [2.25951898 2.25951898]\n",
      " [2.30283363 2.30283363]]\n",
      "(1.4506948880797015, 1.6115754802935716)\n"
     ]
    }
   ],
   "source": [
    "print('[original, vectorized]')\n",
    "print(np.stack((peak2peak_o[0:10], peak2peak_v[0:10])).T)\n",
    "print((peak2peak_o.mean(), peak2peak_v.mean()))"
   ]
  },
  {
   "cell_type": "code",
   "execution_count": 40,
   "id": "87b21cfd",
   "metadata": {
    "papermill": {
     "duration": null,
     "end_time": null,
     "exception": null,
     "start_time": null,
     "status": "pending"
    },
    "tags": []
   },
   "outputs": [
    {
     "name": "stdout",
     "output_type": "stream",
     "text": [
      "[original, vectorized]\n",
      "[[2.55781267 2.55781267]\n",
      " [2.50379333 2.50379333]\n",
      " [2.71928329 2.71928329]\n",
      " [2.86304558 2.86304558]\n",
      " [2.81331037 2.81331037]\n",
      " [2.58982427 2.58982427]\n",
      " [2.67415588 2.67415588]\n",
      " [2.9870506  2.9870506 ]\n",
      " [3.23796187 3.23796187]\n",
      " [3.39735305 3.39735305]]\n",
      "(2.5251078513323018, 2.5274277133879197)\n"
     ]
    }
   ],
   "source": [
    "print('[original, vectorized]')\n",
    "print(np.stack((peak2mean_o[0:10], peak2mean_v[0:10])).T)\n",
    "print((peak2mean_o.mean(), peak2mean_v.mean()))"
   ]
  },
  {
   "cell_type": "markdown",
   "id": "37cb46bc",
   "metadata": {
    "papermill": {
     "duration": null,
     "end_time": null,
     "exception": null,
     "start_time": null,
     "status": "pending"
    },
    "tags": []
   },
   "source": [
    "## Test for bias errors"
   ]
  },
  {
   "cell_type": "code",
   "execution_count": 41,
   "id": "294a0b51",
   "metadata": {
    "papermill": {
     "duration": null,
     "end_time": null,
     "exception": null,
     "start_time": null,
     "status": "pending"
    },
    "tags": []
   },
   "outputs": [],
   "source": [
    "from openpiv.pyprocess import correlation_to_displacement, fft_correlate_images, get_field_shape\n",
    "files = glob('../test14/*.bmp')\n",
    "files_a = files[::2]\n",
    "files_b = files[1::2]"
   ]
  },
  {
   "cell_type": "code",
   "execution_count": 42,
   "id": "f9bec390",
   "metadata": {
    "papermill": {
     "duration": null,
     "end_time": null,
     "exception": null,
     "start_time": null,
     "status": "pending"
    },
    "tags": []
   },
   "outputs": [
    {
     "name": "stdout",
     "output_type": "stream",
     "text": [
      "Found 24 bad peak(s)\n",
      "Found 32 bad peak(s)\n",
      "Found 20 bad peak(s)\n",
      "Found 17 bad peak(s)\n",
      "Found 32 bad peak(s)\n",
      "Found 24 bad peak(s)\n",
      "Found 29 bad peak(s)\n",
      "Found 19 bad peak(s)\n",
      "Found 21 bad peak(s)\n",
      "Found 22 bad peak(s)\n",
      "Found 31 bad peak(s)\n",
      "Found 26 bad peak(s)\n",
      "Found 28 bad peak(s)\n",
      "Found 20 bad peak(s)\n",
      "Found 30 bad peak(s)\n",
      "Found 20 bad peak(s)\n",
      "Found 29 bad peak(s)\n",
      "Found 30 bad peak(s)\n",
      "Found 39 bad peak(s)\n",
      "Found 18 bad peak(s)\n",
      "Found 28 bad peak(s)\n",
      "Found 25 bad peak(s)\n",
      "Found 25 bad peak(s)\n",
      "Found 23 bad peak(s)\n",
      "Found 25 bad peak(s)\n",
      "Found 30 bad peak(s)\n",
      "Found 22 bad peak(s)\n",
      "Found 28 bad peak(s)\n",
      "Found 16 bad peak(s)\n",
      "Found 19 bad peak(s)\n",
      "Found 23 bad peak(s)\n",
      "Found 38 bad peak(s)\n",
      "Found 26 bad peak(s)\n"
     ]
    }
   ],
   "source": [
    "bias_error_original = []\n",
    "bias_error_vectorized = []\n",
    "window_size = 32\n",
    "overlap = 16\n",
    "real_disp = 3\n",
    "n = 1/32\n",
    "for i in range(len(files_a)):\n",
    "    frame_a = imread(files_a[i])\n",
    "    frame_b = imread(files_b[i])\n",
    "    n_rows, n_cols = get_field_shape(\n",
    "        frame_a.shape, \n",
    "        window_size, \n",
    "        overlap\n",
    "    )\n",
    "    aa = moving_window_array(frame_a, window_size, overlap)\n",
    "    bb = moving_window_array(frame_b, window_size, overlap)\n",
    "    corr = fft_correlate_images(aa, bb, 'circular', False)\n",
    "    u_o, v_o = correlation_to_displacement(corr, n_rows, n_cols, 'gaussian')\n",
    "    u_v, v_v = vectorized_correlation_to_displacements(corr, n_rows, n_cols, 'gaussian')\n",
    "    u_o = u_o[2:-2, 2:-2] # extract valid components\n",
    "    u_v = u_v[2:-2, 2:-2]\n",
    "    v_o = v_o[2:-2, 2:-2] \n",
    "    v_v = v_v[2:-2, 2:-2]\n",
    "    bias_error_original.append(np.hypot(real_disp,real_disp) - np.nanmean(np.hypot(u_o, v_o))) \n",
    "    bias_error_vectorized.append(np.hypot(real_disp,real_disp) - np.nanmean(np.hypot(u_v, v_v)))\n",
    "    real_disp += n"
   ]
  },
  {
   "cell_type": "code",
   "execution_count": 43,
   "id": "4479b6c7",
   "metadata": {
    "papermill": {
     "duration": null,
     "end_time": null,
     "exception": null,
     "start_time": null,
     "status": "pending"
    },
    "tags": []
   },
   "outputs": [
    {
     "data": {
      "text/plain": [
       "<matplotlib.legend.Legend at 0x7f5c8a1d3250>"
      ]
     },
     "execution_count": 43,
     "metadata": {},
     "output_type": "execute_result"
    },
    {
     "data": {
      "image/png": "[encoded data removed]",
      "text/plain": [
       "<Figure size 432x288 with 1 Axes>"
      ]
     },
     "metadata": {
      "needs_background": "light"
     },
     "output_type": "display_data"
    }
   ],
   "source": [
    "fig, ax = plt.subplots()\n",
    "ax.set_ylabel('Bias error [px]')\n",
    "ax.set_xlabel('Real u and v displacements [px]')\n",
    "ax.plot(np.mgrid[3:4+n:n], bias_error_original)\n",
    "ax.plot(np.mgrid[3:4+n:n], bias_error_vectorized)\n",
    "ax.legend(\n",
    "    ['orginal', 'vectorized'],\n",
    "    loc = 'upper right'\n",
    ")"
   ]
  },
  {
   "cell_type": "code",
   "execution_count": null,
   "id": "4bb3c0ec",
   "metadata": {
    "papermill": {
     "duration": null,
     "end_time": null,
     "exception": null,
     "start_time": null,
     "status": "pending"
    },
    "tags": []
   },
   "outputs": [],
   "source": []
  }
 ],
 "metadata": {
  "kernelspec": {
   "display_name": "Python 3.8.12 ('echopiv')",
   "language": "python",
   "name": "python3"
  },
  "language_info": {
   "codemirror_mode": {
    "name": "ipython",
    "version": 3
   },
   "file_extension": ".py",
   "mimetype": "text/x-python",
   "name": "python",
   "nbconvert_exporter": "python",
   "pygments_lexer": "ipython3",
   "version": "3.8.12"
  },
  "papermill": {
   "default_parameters": {},
   "duration": 4.096182,
   "end_time": "2022-10-20T19:15:34.083542",
   "environment_variables": {},
   "exception": true,
   "input_path": "./notebooks/test_vectorized_functions.ipynb",
   "output_path": "./notebooks/test_vectorized_functions.ipynb",
   "parameters": {},
   "start_time": "2022-10-20T19:15:29.987360",
   "version": "2.4.0"
  },
  "vscode": {
   "interpreter": {
    "hash": "f83b0c3a4910470a1212112b1707d582432916ed4ba8aec962241a050aa18fae"
   }
  }
 },
 "nbformat": 4,
 "nbformat_minor": 5
}
