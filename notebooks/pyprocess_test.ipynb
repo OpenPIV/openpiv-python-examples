{
 "cells": [
  {
   "cell_type": "code",
   "execution_count": null,
   "id": "89e45bab",
   "metadata": {
    "papermill": {
     "duration": null,
     "end_time": null,
     "exception": null,
     "start_time": null,
     "status": "completed"
    },
    "tags": []
   },
   "outputs": [],
   "source": [
    "# testing extended search area piv from pyprocess\n",
    "# this won't show any difference since 0.23 version\n",
    "# because we incorporate the extended_seach_piv\n",
    "# "
   ]
  },
  {
   "cell_type": "code",
   "execution_count": null,
   "id": "ac5a0ec1",
   "metadata": {
    "papermill": {
     "duration": null,
     "end_time": null,
     "exception": null,
     "start_time": null,
     "status": "completed"
    },
    "tags": []
   },
   "outputs": [],
   "source": [
    "import numpy as np\n",
    "from scipy.fft import rfft2, irfft2, fftshift\n",
    "from numpy import log\n",
    "import matplotlib.pyplot as plt\n",
    "from openpiv.tools import imread\n",
    "from openpiv.pyprocess import extended_search_area_piv, normalize_intensity"
   ]
  },
  {
   "cell_type": "code",
   "execution_count": null,
   "id": "2b0aeab2",
   "metadata": {
    "papermill": {
     "duration": null,
     "end_time": null,
     "exception": null,
     "start_time": null,
     "status": "completed"
    },
    "tags": []
   },
   "outputs": [],
   "source": [
    "frame_a = imread('../test1/exp1_001_a.bmp')\n",
    "frame_b = imread('../test1/exp1_001_b.bmp')"
   ]
  },
  {
   "cell_type": "code",
   "execution_count": null,
   "id": "9a7c844e",
   "metadata": {
    "papermill": {
     "duration": null,
     "end_time": null,
     "exception": null,
     "start_time": null,
     "status": "completed"
    },
    "tags": []
   },
   "outputs": [],
   "source": [
    "# frame_a = frame_a[:128,:64]\n",
    "# frame_b = frame_b[:128,:64]"
   ]
  },
  {
   "cell_type": "code",
   "execution_count": null,
   "id": "644916f6",
   "metadata": {
    "papermill": {
     "duration": null,
     "end_time": null,
     "exception": null,
     "start_time": null,
     "status": "completed"
    },
    "tags": []
   },
   "outputs": [],
   "source": [
    "def show_pair(I,J):\n",
    "    fig, ax = plt.subplots(1,2,figsize=(12,8))\n",
    "    ax[0].imshow(I,cmap=plt.cm.gray)\n",
    "    ax[1].imshow(J,cmap=plt.cm.gray)"
   ]
  },
  {
   "cell_type": "code",
   "execution_count": null,
   "id": "a1429ea6",
   "metadata": {
    "papermill": {
     "duration": null,
     "end_time": null,
     "exception": null,
     "start_time": null,
     "status": "completed"
    },
    "tags": []
   },
   "outputs": [],
   "source": [
    "show_pair(frame_a, frame_b)"
   ]
  },
  {
   "cell_type": "code",
   "execution_count": null,
   "id": "29d1344e",
   "metadata": {
    "papermill": {
     "duration": null,
     "end_time": null,
     "exception": null,
     "start_time": null,
     "status": "completed"
    },
    "tags": []
   },
   "outputs": [],
   "source": [
    "frame_a = normalize_intensity(frame_a)\n",
    "frame_b = normalize_intensity(frame_b)\n"
   ]
  },
  {
   "cell_type": "code",
   "execution_count": null,
   "id": "f9815300",
   "metadata": {
    "papermill": {
     "duration": null,
     "end_time": null,
     "exception": null,
     "start_time": null,
     "status": "completed"
    },
    "tags": []
   },
   "outputs": [],
   "source": [
    "show_pair(frame_a, frame_b)"
   ]
  },
  {
   "cell_type": "code",
   "execution_count": null,
   "id": "c65d8fef",
   "metadata": {
    "papermill": {
     "duration": null,
     "end_time": null,
     "exception": null,
     "start_time": null,
     "status": "completed"
    },
    "tags": []
   },
   "outputs": [],
   "source": [
    "window_size = 32\n",
    "overlap = 16\n",
    "dt=1.0\n",
    "search_area_size = 32\n",
    "correlation_method=\"circular\"\n",
    "subpixel_method=\"gaussian\"\n",
    "sig2noise_method='peak2peak'"
   ]
  },
  {
   "cell_type": "code",
   "execution_count": null,
   "id": "68b4e94e",
   "metadata": {
    "papermill": {
     "duration": null,
     "end_time": null,
     "exception": null,
     "start_time": null,
     "status": "completed"
    },
    "tags": []
   },
   "outputs": [],
   "source": [
    "%%time\n",
    "vel1 = extended_search_area_piv(frame_a, frame_b, window_size=window_size,\n",
    "               search_area_size=search_area_size, overlap=overlap,dt=dt,\n",
    "                               correlation_method='circular',\n",
    "                               subpixel_method=subpixel_method,\n",
    "                               sig2noise_method=sig2noise_method)"
   ]
  },
  {
   "cell_type": "code",
   "execution_count": null,
   "id": "c7fd271d",
   "metadata": {
    "papermill": {
     "duration": null,
     "end_time": null,
     "exception": null,
     "start_time": null,
     "status": "completed"
    },
    "tags": []
   },
   "outputs": [],
   "source": [
    "%%time\n",
    "window_size = 24\n",
    "search_area_size = 32\n",
    "vel2 = extended_search_area_piv(frame_a, frame_b, window_size=window_size,\n",
    "               search_area_size=search_area_size, overlap=overlap,dt=dt,\n",
    "                               correlation_method='circular',\n",
    "                               normalized_correlation=True,\n",
    "                               subpixel_method=subpixel_method,\n",
    "                               sig2noise_method=sig2noise_method)"
   ]
  },
  {
   "cell_type": "code",
   "execution_count": null,
   "id": "7544ad11",
   "metadata": {
    "papermill": {
     "duration": null,
     "end_time": null,
     "exception": null,
     "start_time": null,
     "status": "completed"
    },
    "tags": []
   },
   "outputs": [],
   "source": [
    "%%time\n",
    "window_size = 24\n",
    "search_area_size = 32\n",
    "vel2 = extended_search_area_piv(frame_a, frame_b, window_size=window_size,\n",
    "               search_area_size=search_area_size, overlap=overlap,dt=dt,\n",
    "                               correlation_method='linear',\n",
    "                               subpixel_method=subpixel_method,\n",
    "                               sig2noise_method=sig2noise_method)"
   ]
  },
  {
   "cell_type": "code",
   "execution_count": null,
   "id": "4de43c11",
   "metadata": {
    "papermill": {
     "duration": null,
     "end_time": null,
     "exception": null,
     "start_time": null,
     "status": "completed"
    },
    "tags": []
   },
   "outputs": [],
   "source": [
    "%%time\n",
    "window_size = 24\n",
    "search_area_size = 32\n",
    "vel2 = extended_search_area_piv(frame_a, frame_b, window_size=window_size,\n",
    "               search_area_size=search_area_size, overlap=overlap,dt=dt,\n",
    "                               correlation_method='linear',\n",
    "                               normalized_correlation=True,\n",
    "                               subpixel_method=subpixel_method,\n",
    "                               sig2noise_method=sig2noise_method)"
   ]
  },
  {
   "cell_type": "code",
   "execution_count": null,
   "id": "46264058",
   "metadata": {
    "papermill": {
     "duration": null,
     "end_time": null,
     "exception": null,
     "start_time": null,
     "status": "completed"
    },
    "tags": []
   },
   "outputs": [],
   "source": [
    "plt.figure(figsize=(20,20))\n",
    "plt.quiver(vel1[0],-vel1[1],scale=100,color='b',alpha=0.5)"
   ]
  },
  {
   "cell_type": "code",
   "execution_count": null,
   "id": "0163a23a",
   "metadata": {
    "papermill": {
     "duration": null,
     "end_time": null,
     "exception": null,
     "start_time": null,
     "status": "completed"
    },
    "tags": []
   },
   "outputs": [],
   "source": []
  }
 ],
 "metadata": {
  "jupytext": {
   "formats": "ipynb,py:percent"
  },
  "kernelspec": {
   "display_name": "Python [conda env:openpiv] *",
   "language": "python",
   "name": "conda-env-openpiv-py"
  },
  "language_info": {
   "codemirror_mode": {
    "name": "ipython",
    "version": 3
   },
   "file_extension": ".py",
   "mimetype": "text/x-python",
   "name": "python",
   "nbconvert_exporter": "python",
   "pygments_lexer": "ipython3",
   "version": "3.8.5"
  },
  "papermill": {
   "default_parameters": {},
   "duration": 0.04803,
   "end_time": "2022-10-20T19:16:08.950155",
   "environment_variables": {},
   "exception": null,
   "input_path": "./notebooks/pyprocess_test.ipynb",
   "output_path": "./notebooks/pyprocess_test.ipynb",
   "parameters": {},
   "start_time": "2022-10-20T19:16:08.902125",
   "version": "2.4.0"
  }
 },
 "nbformat": 4,
 "nbformat_minor": 5
}