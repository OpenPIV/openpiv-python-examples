{
 "cells": [
  {
   "cell_type": "markdown",
   "id": "1f2c587b",
   "metadata": {
    "tags": [
     "papermill-error-cell-tag"
    ]
   },
   "source": [
    "<span style=\"color:red; font-family:Helvetica Neue, Helvetica, Arial, sans-serif; font-size:2em;\">An Exception was encountered at '<a href=\"#papermill-error-cell\">In [3]</a>'.</span>"
   ]
  },
  {
   "cell_type": "code",
   "execution_count": 1,
   "id": "39e8e114",
   "metadata": {
    "execution": {
     "iopub.execute_input": "2022-10-20T19:14:20.783679Z",
     "iopub.status.busy": "2022-10-20T19:14:20.782374Z",
     "iopub.status.idle": "2022-10-20T19:14:20.800067Z",
     "shell.execute_reply": "2022-10-20T19:14:20.798553Z"
    },
    "papermill": {
     "duration": 0.038755,
     "end_time": "2022-10-20T19:14:20.803484",
     "exception": false,
     "start_time": "2022-10-20T19:14:20.764729",
     "status": "completed"
    },
    "scrolled": true,
    "tags": []
   },
   "outputs": [],
   "source": [
    "#Run the new window deformation"
   ]
  },
  {
   "cell_type": "code",
   "execution_count": 2,
   "id": "9fcb07a4",
   "metadata": {
    "execution": {
     "iopub.execute_input": "2022-10-20T19:14:20.811447Z",
     "iopub.status.busy": "2022-10-20T19:14:20.811158Z",
     "iopub.status.idle": "2022-10-20T19:14:21.832203Z",
     "shell.execute_reply": "2022-10-20T19:14:21.831449Z"
    },
    "papermill": {
     "duration": 1.027015,
     "end_time": "2022-10-20T19:14:21.834292",
     "exception": false,
     "start_time": "2022-10-20T19:14:20.807277",
     "status": "completed"
    },
    "tags": []
   },
   "outputs": [],
   "source": [
    "from openpiv import windef\n",
    "from openpiv import tools, scaling, validation, filters, preprocess\n",
    "import openpiv.pyprocess as process\n",
    "from openpiv import pyprocess\n",
    "import numpy as np\n",
    "import os\n",
    "from time import time\n",
    "import warnings\n",
    "\n",
    "\n",
    "import matplotlib.pyplot as plt\n",
    "%matplotlib inline  "
   ]
  },
  {
   "cell_type": "markdown",
   "id": "8f43621e",
   "metadata": {
    "tags": [
     "papermill-error-cell-tag"
    ]
   },
   "source": [
    "<span id=\"papermill-error-cell\" style=\"color:red; font-family:Helvetica Neue, Helvetica, Arial, sans-serif; font-size:2em;\">Execution using papermill encountered an exception here and stopped:</span>"
   ]
  },
  {
   "cell_type": "code",
   "execution_count": 3,
   "id": "87ea5247",
   "metadata": {
    "execution": {
     "iopub.execute_input": "2022-10-20T19:14:21.838997Z",
     "iopub.status.busy": "2022-10-20T19:14:21.838730Z",
     "iopub.status.idle": "2022-10-20T19:14:22.287728Z",
     "shell.execute_reply": "2022-10-20T19:14:22.286835Z"
    },
    "papermill": {
     "duration": 0.452974,
     "end_time": "2022-10-20T19:14:22.288905",
     "exception": true,
     "start_time": "2022-10-20T19:14:21.835931",
     "status": "failed"
    },
    "tags": []
   },
   "outputs": [
    {
     "ename": "AttributeError",
     "evalue": "module 'openpiv.windef' has no attribute 'Settings'",
     "output_type": "error",
     "traceback": [
      "\u001b[0;31m---------------------------------------------------------------------------\u001b[0m",
      "\u001b[0;31mAttributeError\u001b[0m                            Traceback (most recent call last)",
      "Input \u001b[0;32mIn [3]\u001b[0m, in \u001b[0;36m<cell line: 1>\u001b[0;34m()\u001b[0m\n\u001b[0;32m----> 1\u001b[0m settings \u001b[38;5;241m=\u001b[39m \u001b[43mwindef\u001b[49m\u001b[38;5;241;43m.\u001b[39;49m\u001b[43mSettings\u001b[49m()\n\u001b[1;32m      4\u001b[0m \u001b[38;5;124m'\u001b[39m\u001b[38;5;124mData related settings\u001b[39m\u001b[38;5;124m'\u001b[39m\n\u001b[1;32m      5\u001b[0m \u001b[38;5;66;03m# Folder with the images to process\u001b[39;00m\n",
      "\u001b[0;31mAttributeError\u001b[0m: module 'openpiv.windef' has no attribute 'Settings'"
     ]
    }
   ],
   "source": [
    "settings = windef.PIVSettings()\n",
    "\n",
    "\n",
    "'Data related settings'\n",
    "# Folder with the images to process\n",
    "settings.filepath_images = '../test1/'\n",
    "# Folder for the outputs\n",
    "settings.save_path = '../test1/'\n",
    "# Root name of the output Folder for Result Files\n",
    "settings.save_folder_suffix = 'Test_1'\n",
    "# Format and Image Sequence\n",
    "settings.frame_pattern_a = 'exp1_001_a.bmp'\n",
    "settings.frame_pattern_b = 'exp1_001_b.bmp'\n",
    "\n",
    "'Region of interest'\n",
    "# (50,300,50,300) #Region of interest: (xmin,xmax,ymin,ymax) or 'full' for full image\n",
    "settings.ROI = 'full'\n",
    "\n",
    "'Image preprocessing'\n",
    "# 'None' for no masking, 'edges' for edges masking, 'intensity' for intensity masking\n",
    "# WARNING: This part is under development so better not to use MASKS\n",
    "settings.dynamic_masking_method = 'None'\n",
    "settings.dynamic_masking_threshold = 0.005\n",
    "settings.dynamic_masking_filter_size = 7\n",
    "\n",
    "settings.deformation_method = 'symmetric'\n",
    "\n",
    "'Processing Parameters'\n",
    "settings.correlation_method='circular'  # 'circular' or 'linear'\n",
    "settings.normalized_correlation=False\n",
    "\n",
    "settings.num_iterations = 2  # select the number of PIV passes\n",
    "# add the interroagtion window size for each pass. \n",
    "# For the moment, it should be a power of 2 \n",
    "settings.windowsizes = (64, [32,16]) # if longer than n iteration the rest is ignored, rectangular windows are arrange as [y,x]\n",
    "# The overlap of the interroagtion window for each pass.\n",
    "settings.overlap = (34, [16,8]) # This is 50% overlap\n",
    "# Has to be a value with base two. In general window size/2 is a good choice.\n",
    "# methode used for subpixel interpolation: 'gaussian','centroid','parabolic'\n",
    "settings.subpixel_method = 'gaussian'\n",
    "# use vectorized sig2noise and subpixel approximation functions for speed\n",
    "settings.use_vectorized = False\n",
    "# order of the image interpolation for the window deformation\n",
    "settings.interpolation_order = 3\n",
    "settings.scaling_factor = 1  # scaling factor pixel/meter\n",
    "settings.dt = 1  # time between to frames (in seconds)\n",
    "'Signal to noise ratio options (only for the last pass)'\n",
    "# It is possible to decide if the S/N should be computed (for the last pass) or not\n",
    "# settings.extract_sig2noise = True  # 'True' or 'False' (only for the last pass)\n",
    "# method used to calculate the signal to noise ratio 'peak2peak' or 'peak2mean'\n",
    "settings.sig2noise_method = 'peak2peak'\n",
    "# select the width of the masked to masked out pixels next to the main peak\n",
    "settings.sig2noise_mask = 2\n",
    "# If extract_sig2noise==False the values in the signal to noise ratio\n",
    "# output column are set to NaN\n",
    "'vector validation options'\n",
    "# choose if you want to do validation of the first pass: True or False\n",
    "settings.validation_first_pass = True\n",
    "# only effecting the first pass of the interrogation the following passes\n",
    "# in the multipass will be validated\n",
    "'Validation Parameters'\n",
    "# The validation is done at each iteration based on three filters.\n",
    "# The first filter is based on the min/max ranges. Observe that these values are defined in\n",
    "# terms of minimum and maximum displacement in pixel/frames.\n",
    "settings.MinMax_U_disp = (-30, 30)\n",
    "settings.MinMax_V_disp = (-30, 30)\n",
    "# The second filter is based on the global STD threshold\n",
    "settings.std_threshold = 7  # threshold of the std validation\n",
    "# The third filter is the median test (not normalized at the moment)\n",
    "settings.median_threshold = 3  # threshold of the median validation\n",
    "# On the last iteration, an additional validation can be done based on the S/N.\n",
    "settings.median_size=1 #defines the size of the local median\n",
    "'Validation based on the signal to noise ratio'\n",
    "# Note: only available when extract_sig2noise==True and only for the last\n",
    "# pass of the interrogation\n",
    "# Enable the signal to noise ratio validation. Options: True or False\n",
    "# settings.do_sig2noise_validation = False # This is time consuming\n",
    "# minmum signal to noise ratio that is need for a valid vector\n",
    "settings.sig2noise_threshold = 1.2\n",
    "'Outlier replacement or Smoothing options'\n",
    "# Replacment options for vectors which are masked as invalid by the validation\n",
    "settings.replace_vectors = True # Enable the replacment. Chosse: True or False\n",
    "settings.smoothn=True #Enables smoothing of the displacemenet field\n",
    "settings.smoothn_p=0.5 # This is a smoothing parameter\n",
    "# select a method to replace the outliers: 'localmean', 'disk', 'distance'\n",
    "settings.filter_method = 'localmean'\n",
    "# maximum iterations performed to replace the outliers\n",
    "settings.max_filter_iteration = 4\n",
    "settings.filter_kernel_size = 2  # kernel size for the localmean method\n",
    "'Output options'\n",
    "# Select if you want to save the plotted vectorfield: True or False\n",
    "settings.save_plot = False\n",
    "# Choose wether you want to see the vectorfield or not :True or False\n",
    "#settings.show_plot = True\n",
    "settings.scale_plot = 200  # select a value to scale the quiver plot of the vectorfield\n",
    "# run the script with the given settings"
   ]
  },
  {
   "cell_type": "code",
   "execution_count": null,
   "id": "d9f1e127",
   "metadata": {
    "papermill": {
     "duration": null,
     "end_time": null,
     "exception": null,
     "start_time": null,
     "status": "pending"
    },
    "tags": []
   },
   "outputs": [],
   "source": [
    "windef.piv(settings)"
   ]
  },
  {
   "cell_type": "code",
   "execution_count": null,
   "id": "d2d03f77",
   "metadata": {
    "papermill": {
     "duration": null,
     "end_time": null,
     "exception": null,
     "start_time": null,
     "status": "pending"
    },
    "tags": []
   },
   "outputs": [],
   "source": [
    "#Run the extended search area PIV"
   ]
  },
  {
   "cell_type": "code",
   "execution_count": null,
   "id": "5c73b852",
   "metadata": {
    "papermill": {
     "duration": null,
     "end_time": null,
     "exception": null,
     "start_time": null,
     "status": "pending"
    },
    "tags": []
   },
   "outputs": [],
   "source": [
    "\n",
    "# we can run it from any folder\n",
    "path = settings.filepath_images\n",
    "\n",
    "\n",
    "frame_a  = tools.imread( os.path.join(path,settings.frame_pattern_a))\n",
    "frame_b  = tools.imread( os.path.join(path,settings.frame_pattern_b))\n",
    "\n",
    "frame_a = (frame_a).astype(np.int32)\n",
    "frame_b = (frame_b).astype(np.int32)\n",
    "\n",
    "u, v, sig2noise = process.extended_search_area_piv( frame_a, frame_b, \\\n",
    "    window_size=32, overlap=16, dt=1, search_area_size=64, sig2noise_method='peak2peak' )\n",
    "x, y = process.get_coordinates( image_size=frame_a.shape, \n",
    "                               search_area_size=64, overlap=16 )\n",
    "u, v, mask = validation.sig2noise_val( u, v, sig2noise, threshold = 1.3 )\n",
    "u, v, mask = validation.global_val( u, v, (-1000, 2000), (-1000, 1000) )\n",
    "u, v = filters.replace_outliers( u, v, method='localmean', max_iter=10, kernel_size=2)\n",
    "x, y, u, v = scaling.uniform(x, y, u, v, scaling_factor = 1)\n",
    "x, y, u, v = tools.transform_coordinates(x, y, u, v)\n",
    "tools.save(x, y, u, v, mask, 'test1.vec' )\n",
    "tools.display_vector_field('test1.vec', scale=75, width=0.0035);"
   ]
  },
  {
   "cell_type": "code",
   "execution_count": null,
   "id": "73c9966e",
   "metadata": {
    "papermill": {
     "duration": null,
     "end_time": null,
     "exception": null,
     "start_time": null,
     "status": "pending"
    },
    "tags": []
   },
   "outputs": [],
   "source": []
  }
 ],
 "metadata": {
  "jupytext": {
   "formats": "ipynb,py:percent"
  },
  "kernelspec": {
   "display_name": "Python 3",
   "language": "python",
   "name": "python3"
  },
  "language_info": {
   "codemirror_mode": {
    "name": "ipython",
    "version": 3
   },
   "file_extension": ".py",
   "mimetype": "text/x-python",
   "name": "python",
   "nbconvert_exporter": "python",
   "pygments_lexer": "ipython3",
   "version": "3.8.12"
  },
  "papermill": {
   "default_parameters": {},
   "duration": 2.798272,
   "end_time": "2022-10-20T19:14:22.609748",
   "environment_variables": {},
   "exception": true,
   "input_path": "./notebooks/window_deformation_comparison.ipynb",
   "output_path": "./notebooks/window_deformation_comparison.ipynb",
   "parameters": {},
   "start_time": "2022-10-20T19:14:19.811476",
   "version": "2.4.0"
  }
 },
 "nbformat": 4,
 "nbformat_minor": 5
}