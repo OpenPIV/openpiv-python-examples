{
 "cells": [
  {
   "cell_type": "markdown",
   "id": "2abb4425",
   "metadata": {
    "tags": [
     "papermill-error-cell-tag"
    ]
   },
   "source": [
    "<span style=\"color:red; font-family:Helvetica Neue, Helvetica, Arial, sans-serif; font-size:2em;\">An Exception was encountered at '<a href=\"#papermill-error-cell\">In [28]</a>'.</span>"
   ]
  },
  {
   "cell_type": "markdown",
   "id": "79782d85",
   "metadata": {
    "papermill": {
     "duration": 0.023123,
     "end_time": "2022-10-20T19:15:31.090183",
     "exception": false,
     "start_time": "2022-10-20T19:15:31.067060",
     "status": "completed"
    },
    "tags": []
   },
   "source": [
    "### Comparison with vectorized and original functions\n",
    "#### Edited by Erich Zimmer\n",
    "#### Created at 20210817, 2109 CTZ"
   ]
  },
  {
   "cell_type": "code",
   "execution_count": 1,
   "id": "5db8e4ac",
   "metadata": {
    "execution": {
     "iopub.execute_input": "2022-10-20T19:15:31.116768Z",
     "iopub.status.busy": "2022-10-20T19:15:31.116464Z",
     "iopub.status.idle": "2022-10-20T19:15:32.286663Z",
     "shell.execute_reply": "2022-10-20T19:15:32.285991Z"
    },
    "papermill": {
     "duration": 1.182654,
     "end_time": "2022-10-20T19:15:32.288436",
     "exception": false,
     "start_time": "2022-10-20T19:15:31.105782",
     "status": "completed"
    },
    "tags": []
   },
   "outputs": [],
   "source": [
    "import numpy as np\n",
    "import matplotlib.pyplot as plt\n",
    "from openpiv.pyprocess import find_first_peak,\\\n",
    "    vectorized_correlation_to_displacements\n",
    "from openpiv.tools import imread\n",
    "from numpy import log\n",
    "from glob import glob"
   ]
  },
  {
   "cell_type": "markdown",
   "id": "429dfe2c",
   "metadata": {
    "papermill": {
     "duration": 0.006363,
     "end_time": "2022-10-20T19:15:32.301461",
     "exception": false,
     "start_time": "2022-10-20T19:15:32.295098",
     "status": "completed"
    },
    "tags": []
   },
   "source": [
    "### Vectorized solution for subpixel estimation"
   ]
  },
  {
   "cell_type": "code",
   "execution_count": 2,
   "id": "d60be221",
   "metadata": {
    "execution": {
     "iopub.execute_input": "2022-10-20T19:15:32.314989Z",
     "iopub.status.busy": "2022-10-20T19:15:32.314669Z",
     "iopub.status.idle": "2022-10-20T19:15:32.324802Z",
     "shell.execute_reply": "2022-10-20T19:15:32.324287Z"
    },
    "papermill": {
     "duration": 0.019484,
     "end_time": "2022-10-20T19:15:32.326509",
     "exception": false,
     "start_time": "2022-10-20T19:15:32.307025",
     "status": "completed"
    },
    "tags": []
   },
   "outputs": [
    {
     "data": {
      "text/plain": [
       "array([[0., 0., 0., ..., 0., 0., 0.],\n",
       "       [0., 0., 0., ..., 0., 0., 0.],\n",
       "       [0., 0., 1., ..., 0., 0., 0.],\n",
       "       ...,\n",
       "       [0., 0., 0., ..., 0., 0., 0.],\n",
       "       [0., 0., 0., ..., 0., 0., 0.],\n",
       "       [0., 0., 0., ..., 0., 0., 0.]])"
      ]
     },
     "execution_count": 2,
     "metadata": {},
     "output_type": "execute_result"
    }
   ],
   "source": [
    "N = 64\n",
    "\n",
    "corr = np.zeros((N,N))\n",
    "\n",
    "corr[2:5,2:5] = 1\n",
    "corr[3,3] = 2\n",
    "corr[3,4] = 3\n",
    "corr[3,5] = 1\n",
    "corr"
   ]
  },
  {
   "cell_type": "code",
   "execution_count": 3,
   "id": "c967d238",
   "metadata": {
    "execution": {
     "iopub.execute_input": "2022-10-20T19:15:32.342728Z",
     "iopub.status.busy": "2022-10-20T19:15:32.342426Z",
     "iopub.status.idle": "2022-10-20T19:15:32.346742Z",
     "shell.execute_reply": "2022-10-20T19:15:32.345544Z"
    },
    "papermill": {
     "duration": 0.014086,
     "end_time": "2022-10-20T19:15:32.348807",
     "exception": false,
     "start_time": "2022-10-20T19:15:32.334721",
     "status": "completed"
    },
    "tags": []
   },
   "outputs": [],
   "source": [
    "pos,height = find_first_peak(corr)"
   ]
  },
  {
   "cell_type": "code",
   "execution_count": 4,
   "id": "f8ee5cbe",
   "metadata": {
    "execution": {
     "iopub.execute_input": "2022-10-20T19:15:32.367527Z",
     "iopub.status.busy": "2022-10-20T19:15:32.367313Z",
     "iopub.status.idle": "2022-10-20T19:15:32.372024Z",
     "shell.execute_reply": "2022-10-20T19:15:32.371292Z"
    },
    "papermill": {
     "duration": 0.013843,
     "end_time": "2022-10-20T19:15:32.373318",
     "exception": false,
     "start_time": "2022-10-20T19:15:32.359475",
     "status": "completed"
    },
    "tags": []
   },
   "outputs": [
    {
     "data": {
      "text/plain": [
       "((3, 4), 3.0)"
      ]
     },
     "execution_count": 4,
     "metadata": {},
     "output_type": "execute_result"
    }
   ],
   "source": [
    "pos,height"
   ]
  },
  {
   "cell_type": "code",
   "execution_count": 5,
   "id": "7aaf4162",
   "metadata": {
    "execution": {
     "iopub.execute_input": "2022-10-20T19:15:32.390893Z",
     "iopub.status.busy": "2022-10-20T19:15:32.390621Z",
     "iopub.status.idle": "2022-10-20T19:15:32.393762Z",
     "shell.execute_reply": "2022-10-20T19:15:32.393178Z"
    },
    "papermill": {
     "duration": 0.014968,
     "end_time": "2022-10-20T19:15:32.395482",
     "exception": false,
     "start_time": "2022-10-20T19:15:32.380514",
     "status": "completed"
    },
    "tags": []
   },
   "outputs": [],
   "source": [
    "from openpiv.pyprocess import find_subpixel_peak_position"
   ]
  },
  {
   "cell_type": "code",
   "execution_count": 6,
   "id": "d5085e5c",
   "metadata": {
    "execution": {
     "iopub.execute_input": "2022-10-20T19:15:32.413569Z",
     "iopub.status.busy": "2022-10-20T19:15:32.413081Z",
     "iopub.status.idle": "2022-10-20T19:15:32.417788Z",
     "shell.execute_reply": "2022-10-20T19:15:32.417134Z"
    },
    "papermill": {
     "duration": 0.013886,
     "end_time": "2022-10-20T19:15:32.419262",
     "exception": false,
     "start_time": "2022-10-20T19:15:32.405376",
     "status": "completed"
    },
    "tags": []
   },
   "outputs": [
    {
     "data": {
      "text/plain": [
       "(3.0, 3.769577293545741)"
      ]
     },
     "execution_count": 6,
     "metadata": {},
     "output_type": "execute_result"
    }
   ],
   "source": [
    "find_subpixel_peak_position(corr) "
   ]
  },
  {
   "cell_type": "code",
   "execution_count": 7,
   "id": "4a77844f",
   "metadata": {
    "execution": {
     "iopub.execute_input": "2022-10-20T19:15:32.434837Z",
     "iopub.status.busy": "2022-10-20T19:15:32.434506Z",
     "iopub.status.idle": "2022-10-20T19:15:32.441399Z",
     "shell.execute_reply": "2022-10-20T19:15:32.440916Z"
    },
    "papermill": {
     "duration": 0.016083,
     "end_time": "2022-10-20T19:15:32.442680",
     "exception": false,
     "start_time": "2022-10-20T19:15:32.426597",
     "status": "completed"
    },
    "tags": []
   },
   "outputs": [
    {
     "name": "stdout",
     "output_type": "stream",
     "text": [
      "Found 0 bad peak(s)\n"
     ]
    },
    {
     "data": {
      "text/plain": [
       "array([[3.        ],\n",
       "       [3.76957734]])"
      ]
     },
     "execution_count": 7,
     "metadata": {},
     "output_type": "execute_result"
    }
   ],
   "source": [
    "np.flip(vectorized_correlation_to_displacements(corr[np.newaxis, :, :]) + np.floor(corr.shape[0] / 2))"
   ]
  },
  {
   "cell_type": "markdown",
   "id": "44327587",
   "metadata": {
    "papermill": {
     "duration": 0.00684,
     "end_time": "2022-10-20T19:15:32.456756",
     "exception": false,
     "start_time": "2022-10-20T19:15:32.449916",
     "status": "completed"
    },
    "tags": []
   },
   "source": [
    "## let's find some corner cases"
   ]
  },
  {
   "cell_type": "code",
   "execution_count": 8,
   "id": "a0c8f9bc",
   "metadata": {
    "execution": {
     "iopub.execute_input": "2022-10-20T19:15:32.471128Z",
     "iopub.status.busy": "2022-10-20T19:15:32.470909Z",
     "iopub.status.idle": "2022-10-20T19:15:32.475984Z",
     "shell.execute_reply": "2022-10-20T19:15:32.475366Z"
    },
    "papermill": {
     "duration": 0.013915,
     "end_time": "2022-10-20T19:15:32.477376",
     "exception": false,
     "start_time": "2022-10-20T19:15:32.463461",
     "status": "completed"
    },
    "tags": []
   },
   "outputs": [
    {
     "data": {
      "text/plain": [
       "array([[2., 1., 3., ..., 0., 0., 0.],\n",
       "       [1., 1., 1., ..., 0., 0., 0.],\n",
       "       [1., 1., 1., ..., 0., 0., 0.],\n",
       "       ...,\n",
       "       [0., 0., 0., ..., 0., 0., 0.],\n",
       "       [0., 0., 0., ..., 0., 0., 0.],\n",
       "       [0., 0., 0., ..., 0., 0., 0.]])"
      ]
     },
     "execution_count": 8,
     "metadata": {},
     "output_type": "execute_result"
    }
   ],
   "source": [
    "# peak on the border \n",
    "corr = np.zeros((N,N))\n",
    "\n",
    "corr[:3,:3] = 1\n",
    "corr[0,0] = 2\n",
    "corr[0,2] = 3\n",
    "corr[0,3] = 1\n",
    "corr"
   ]
  },
  {
   "cell_type": "markdown",
   "id": "38c409c3",
   "metadata": {
    "papermill": {
     "duration": 0.006859,
     "end_time": "2022-10-20T19:15:32.492632",
     "exception": false,
     "start_time": "2022-10-20T19:15:32.485773",
     "status": "completed"
    },
    "tags": []
   },
   "source": [
    "## Corner case 1: peak on the border\n",
    "\n",
    "it is disregarded in our function because we cannot define well the subpixel\n",
    "position. Or do we? "
   ]
  },
  {
   "cell_type": "code",
   "execution_count": 9,
   "id": "635304dd",
   "metadata": {
    "execution": {
     "iopub.execute_input": "2022-10-20T19:15:32.507214Z",
     "iopub.status.busy": "2022-10-20T19:15:32.507001Z",
     "iopub.status.idle": "2022-10-20T19:15:32.511203Z",
     "shell.execute_reply": "2022-10-20T19:15:32.510762Z"
    },
    "papermill": {
     "duration": 0.012562,
     "end_time": "2022-10-20T19:15:32.512528",
     "exception": false,
     "start_time": "2022-10-20T19:15:32.499966",
     "status": "completed"
    },
    "tags": []
   },
   "outputs": [
    {
     "data": {
      "text/plain": [
       "(nan, nan)"
      ]
     },
     "execution_count": 9,
     "metadata": {},
     "output_type": "execute_result"
    }
   ],
   "source": [
    "find_subpixel_peak_position(corr)"
   ]
  },
  {
   "cell_type": "code",
   "execution_count": 10,
   "id": "b642593f",
   "metadata": {
    "execution": {
     "iopub.execute_input": "2022-10-20T19:15:32.547136Z",
     "iopub.status.busy": "2022-10-20T19:15:32.546925Z",
     "iopub.status.idle": "2022-10-20T19:15:32.552012Z",
     "shell.execute_reply": "2022-10-20T19:15:32.551570Z"
    },
    "papermill": {
     "duration": 0.033546,
     "end_time": "2022-10-20T19:15:32.553392",
     "exception": false,
     "start_time": "2022-10-20T19:15:32.519846",
     "status": "completed"
    },
    "tags": []
   },
   "outputs": [
    {
     "name": "stdout",
     "output_type": "stream",
     "text": [
      "Found 1 bad peak(s)\n"
     ]
    },
    {
     "data": {
      "text/plain": [
       "array([[nan, nan]])"
      ]
     },
     "execution_count": 10,
     "metadata": {},
     "output_type": "execute_result"
    }
   ],
   "source": [
    "np.flip(vectorized_correlation_to_displacements(corr[np.newaxis, :, :]) + np.floor(corr.shape[0] / 2))"
   ]
  },
  {
   "cell_type": "code",
   "execution_count": 11,
   "id": "991f026d",
   "metadata": {
    "execution": {
     "iopub.execute_input": "2022-10-20T19:15:32.593124Z",
     "iopub.status.busy": "2022-10-20T19:15:32.592895Z",
     "iopub.status.idle": "2022-10-20T19:15:32.597579Z",
     "shell.execute_reply": "2022-10-20T19:15:32.597067Z"
    },
    "papermill": {
     "duration": 0.037145,
     "end_time": "2022-10-20T19:15:32.598979",
     "exception": false,
     "start_time": "2022-10-20T19:15:32.561834",
     "status": "completed"
    },
    "tags": []
   },
   "outputs": [
    {
     "data": {
      "text/plain": [
       "array([[0., 0., 0., ..., 0., 0., 0.],\n",
       "       [0., 0., 0., ..., 0., 0., 0.],\n",
       "       [0., 0., 0., ..., 0., 0., 0.],\n",
       "       ...,\n",
       "       [1., 1., 1., ..., 0., 0., 0.],\n",
       "       [1., 1., 1., ..., 0., 0., 0.],\n",
       "       [2., 1., 3., ..., 0., 0., 0.]])"
      ]
     },
     "execution_count": 11,
     "metadata": {},
     "output_type": "execute_result"
    }
   ],
   "source": [
    "# peak on the border \n",
    "corr = np.flipud(corr)\n",
    "corr"
   ]
  },
  {
   "cell_type": "code",
   "execution_count": 12,
   "id": "380f26d3",
   "metadata": {
    "execution": {
     "iopub.execute_input": "2022-10-20T19:15:32.615184Z",
     "iopub.status.busy": "2022-10-20T19:15:32.614675Z",
     "iopub.status.idle": "2022-10-20T19:15:32.619395Z",
     "shell.execute_reply": "2022-10-20T19:15:32.618834Z"
    },
    "papermill": {
     "duration": 0.014138,
     "end_time": "2022-10-20T19:15:32.620794",
     "exception": false,
     "start_time": "2022-10-20T19:15:32.606656",
     "status": "completed"
    },
    "tags": []
   },
   "outputs": [
    {
     "data": {
      "text/plain": [
       "(nan, nan)"
      ]
     },
     "execution_count": 12,
     "metadata": {},
     "output_type": "execute_result"
    }
   ],
   "source": [
    "find_subpixel_peak_position(corr)"
   ]
  },
  {
   "cell_type": "code",
   "execution_count": 13,
   "id": "2128b70a",
   "metadata": {
    "execution": {
     "iopub.execute_input": "2022-10-20T19:15:32.634965Z",
     "iopub.status.busy": "2022-10-20T19:15:32.634761Z",
     "iopub.status.idle": "2022-10-20T19:15:32.640322Z",
     "shell.execute_reply": "2022-10-20T19:15:32.639659Z"
    },
    "papermill": {
     "duration": 0.01411,
     "end_time": "2022-10-20T19:15:32.641673",
     "exception": false,
     "start_time": "2022-10-20T19:15:32.627563",
     "status": "completed"
    },
    "tags": []
   },
   "outputs": [
    {
     "name": "stdout",
     "output_type": "stream",
     "text": [
      "Found 1 bad peak(s)\n"
     ]
    },
    {
     "data": {
      "text/plain": [
       "array([[nan, nan]])"
      ]
     },
     "execution_count": 13,
     "metadata": {},
     "output_type": "execute_result"
    }
   ],
   "source": [
    "np.flip(vectorized_correlation_to_displacements(corr[np.newaxis, :, :]) + np.floor(corr.shape[0] / 2))"
   ]
  },
  {
   "cell_type": "code",
   "execution_count": 14,
   "id": "dec2efb1",
   "metadata": {
    "execution": {
     "iopub.execute_input": "2022-10-20T19:15:32.656506Z",
     "iopub.status.busy": "2022-10-20T19:15:32.656258Z",
     "iopub.status.idle": "2022-10-20T19:15:32.662158Z",
     "shell.execute_reply": "2022-10-20T19:15:32.661480Z"
    },
    "papermill": {
     "duration": 0.014884,
     "end_time": "2022-10-20T19:15:32.663508",
     "exception": false,
     "start_time": "2022-10-20T19:15:32.648624",
     "status": "completed"
    },
    "tags": []
   },
   "outputs": [
    {
     "data": {
      "text/plain": [
       "array([[0., 0., 0., ..., 0., 0., 0.],\n",
       "       [0., 0., 0., ..., 0., 0., 0.],\n",
       "       [0., 0., 0., ..., 0., 0., 0.],\n",
       "       ...,\n",
       "       [0., 0., 0., ..., 1., 1., 1.],\n",
       "       [0., 0., 0., ..., 1., 1., 5.],\n",
       "       [0., 0., 0., ..., 3., 1., 2.]])"
      ]
     },
     "execution_count": 14,
     "metadata": {},
     "output_type": "execute_result"
    }
   ],
   "source": [
    "corr = np.fliplr(corr)\n",
    "corr[-2,-1]=5\n",
    "corr"
   ]
  },
  {
   "cell_type": "code",
   "execution_count": 15,
   "id": "573828a6",
   "metadata": {
    "execution": {
     "iopub.execute_input": "2022-10-20T19:15:32.680149Z",
     "iopub.status.busy": "2022-10-20T19:15:32.679883Z",
     "iopub.status.idle": "2022-10-20T19:15:32.685488Z",
     "shell.execute_reply": "2022-10-20T19:15:32.684689Z"
    },
    "papermill": {
     "duration": 0.016191,
     "end_time": "2022-10-20T19:15:32.686761",
     "exception": false,
     "start_time": "2022-10-20T19:15:32.670570",
     "status": "completed"
    },
    "tags": []
   },
   "outputs": [
    {
     "data": {
      "text/plain": [
       "(nan, nan)"
      ]
     },
     "execution_count": 15,
     "metadata": {},
     "output_type": "execute_result"
    }
   ],
   "source": [
    "find_subpixel_peak_position(corr)"
   ]
  },
  {
   "cell_type": "code",
   "execution_count": 16,
   "id": "b8e1b889",
   "metadata": {
    "execution": {
     "iopub.execute_input": "2022-10-20T19:15:32.703969Z",
     "iopub.status.busy": "2022-10-20T19:15:32.703433Z",
     "iopub.status.idle": "2022-10-20T19:15:32.709175Z",
     "shell.execute_reply": "2022-10-20T19:15:32.708317Z"
    },
    "papermill": {
     "duration": 0.015636,
     "end_time": "2022-10-20T19:15:32.710797",
     "exception": false,
     "start_time": "2022-10-20T19:15:32.695161",
     "status": "completed"
    },
    "tags": []
   },
   "outputs": [
    {
     "name": "stdout",
     "output_type": "stream",
     "text": [
      "Found 1 bad peak(s)\n"
     ]
    },
    {
     "data": {
      "text/plain": [
       "array([[nan, nan]])"
      ]
     },
     "execution_count": 16,
     "metadata": {},
     "output_type": "execute_result"
    }
   ],
   "source": [
    "np.flip(vectorized_correlation_to_displacements(corr[np.newaxis, :, :]) + np.floor(corr.shape[0] / 2))"
   ]
  },
  {
   "cell_type": "code",
   "execution_count": 17,
   "id": "62707987",
   "metadata": {
    "execution": {
     "iopub.execute_input": "2022-10-20T19:15:32.728191Z",
     "iopub.status.busy": "2022-10-20T19:15:32.727843Z",
     "iopub.status.idle": "2022-10-20T19:15:32.730844Z",
     "shell.execute_reply": "2022-10-20T19:15:32.730361Z"
    },
    "papermill": {
     "duration": 0.01318,
     "end_time": "2022-10-20T19:15:32.732108",
     "exception": false,
     "start_time": "2022-10-20T19:15:32.718928",
     "status": "completed"
    },
    "tags": []
   },
   "outputs": [],
   "source": [
    "## Corner case 2: negative value next to peak - the log(n<0) fails"
   ]
  },
  {
   "cell_type": "code",
   "execution_count": 18,
   "id": "33477849",
   "metadata": {
    "execution": {
     "iopub.execute_input": "2022-10-20T19:15:32.748359Z",
     "iopub.status.busy": "2022-10-20T19:15:32.748149Z",
     "iopub.status.idle": "2022-10-20T19:15:32.753540Z",
     "shell.execute_reply": "2022-10-20T19:15:32.752973Z"
    },
    "papermill": {
     "duration": 0.015461,
     "end_time": "2022-10-20T19:15:32.754791",
     "exception": false,
     "start_time": "2022-10-20T19:15:32.739330",
     "status": "completed"
    },
    "tags": []
   },
   "outputs": [
    {
     "data": {
      "text/plain": [
       "array([[-0.5, -0.5, -0.5, ..., -0.5, -0.5, -0.5],\n",
       "       [-0.5, -0.5, -0.5, ..., -0.5, -0.5, -0.5],\n",
       "       [-0.5, -0.5,  0.5, ..., -0.5, -0.5, -0.5],\n",
       "       ...,\n",
       "       [-0.5, -0.5, -0.5, ..., -0.5, -0.5, -0.5],\n",
       "       [-0.5, -0.5, -0.5, ..., -0.5, -0.5, -0.5],\n",
       "       [-0.5, -0.5, -0.5, ..., -0.5, -0.5, -0.5]])"
      ]
     },
     "execution_count": 18,
     "metadata": {},
     "output_type": "execute_result"
    }
   ],
   "source": [
    "corr = np.zeros((N,N))\n",
    "\n",
    "corr[2:5,2:5] = 1\n",
    "corr[3,3] = 2\n",
    "corr[3,4] = 3\n",
    "# corr[3,5] = 1\n",
    "corr -= 0.5\n",
    "corr"
   ]
  },
  {
   "cell_type": "code",
   "execution_count": 19,
   "id": "e154cf93",
   "metadata": {
    "execution": {
     "iopub.execute_input": "2022-10-20T19:15:32.771299Z",
     "iopub.status.busy": "2022-10-20T19:15:32.771035Z",
     "iopub.status.idle": "2022-10-20T19:15:32.776170Z",
     "shell.execute_reply": "2022-10-20T19:15:32.775034Z"
    },
    "papermill": {
     "duration": 0.015355,
     "end_time": "2022-10-20T19:15:32.778225",
     "exception": false,
     "start_time": "2022-10-20T19:15:32.762870",
     "status": "completed"
    },
    "tags": []
   },
   "outputs": [
    {
     "data": {
      "text/plain": [
       "(3.0, 3.75)"
      ]
     },
     "execution_count": 19,
     "metadata": {},
     "output_type": "execute_result"
    }
   ],
   "source": [
    "find_subpixel_peak_position(corr) # automatically uses parabolic method"
   ]
  },
  {
   "cell_type": "code",
   "execution_count": 20,
   "id": "37dd50f2",
   "metadata": {
    "execution": {
     "iopub.execute_input": "2022-10-20T19:15:32.798417Z",
     "iopub.status.busy": "2022-10-20T19:15:32.797716Z",
     "iopub.status.idle": "2022-10-20T19:15:32.804879Z",
     "shell.execute_reply": "2022-10-20T19:15:32.804098Z"
    },
    "papermill": {
     "duration": 0.018951,
     "end_time": "2022-10-20T19:15:32.806342",
     "exception": false,
     "start_time": "2022-10-20T19:15:32.787391",
     "status": "completed"
    },
    "tags": []
   },
   "outputs": [
    {
     "name": "stdout",
     "output_type": "stream",
     "text": [
      "Found 0 bad peak(s)\n",
      "Found 1 negative correlation indices resulting in NaNs\n",
      "Fallback for negative indices is a 3 point parabolic curve method\n"
     ]
    },
    {
     "name": "stderr",
     "output_type": "stream",
     "text": [
      "/home/user/Documents/repos/openpiv-python/openpiv/pyprocess.py:1200: RuntimeWarning: invalid value encountered in log\n",
      "  nom2 = log(cd) - log(cu)\n",
      "/home/user/Documents/repos/openpiv-python/openpiv/pyprocess.py:1201: RuntimeWarning: invalid value encountered in log\n",
      "  den2 = 2 * log(cd) - 4 * log(c) + 2 * log(cu)\n"
     ]
    },
    {
     "data": {
      "text/plain": [
       "array([[3.        ],\n",
       "       [3.74999997]])"
      ]
     },
     "execution_count": 20,
     "metadata": {},
     "output_type": "execute_result"
    }
   ],
   "source": [
    "np.flip(vectorized_correlation_to_displacements(corr[np.newaxis, :, :]) + np.floor(corr.shape[0] / 2))"
   ]
  },
  {
   "cell_type": "code",
   "execution_count": 21,
   "id": "cd6bacb4",
   "metadata": {
    "execution": {
     "iopub.execute_input": "2022-10-20T19:15:32.825931Z",
     "iopub.status.busy": "2022-10-20T19:15:32.825323Z",
     "iopub.status.idle": "2022-10-20T19:15:32.829424Z",
     "shell.execute_reply": "2022-10-20T19:15:32.828710Z"
    },
    "papermill": {
     "duration": 0.015253,
     "end_time": "2022-10-20T19:15:32.830931",
     "exception": false,
     "start_time": "2022-10-20T19:15:32.815678",
     "status": "completed"
    },
    "tags": []
   },
   "outputs": [],
   "source": [
    "## Corner case 3: zero next to the peak - the log(0) fails"
   ]
  },
  {
   "cell_type": "code",
   "execution_count": 22,
   "id": "703609dc",
   "metadata": {
    "execution": {
     "iopub.execute_input": "2022-10-20T19:15:32.850397Z",
     "iopub.status.busy": "2022-10-20T19:15:32.850177Z",
     "iopub.status.idle": "2022-10-20T19:15:32.855512Z",
     "shell.execute_reply": "2022-10-20T19:15:32.854977Z"
    },
    "papermill": {
     "duration": 0.016947,
     "end_time": "2022-10-20T19:15:32.856734",
     "exception": false,
     "start_time": "2022-10-20T19:15:32.839787",
     "status": "completed"
    },
    "tags": []
   },
   "outputs": [
    {
     "data": {
      "text/plain": [
       "array([[0., 0., 0., ..., 0., 0., 0.],\n",
       "       [0., 0., 0., ..., 0., 0., 0.],\n",
       "       [0., 0., 1., ..., 0., 0., 0.],\n",
       "       ...,\n",
       "       [0., 0., 0., ..., 0., 0., 0.],\n",
       "       [0., 0., 0., ..., 0., 0., 0.],\n",
       "       [0., 0., 0., ..., 0., 0., 0.]])"
      ]
     },
     "execution_count": 22,
     "metadata": {},
     "output_type": "execute_result"
    }
   ],
   "source": [
    "corr = np.zeros((N,N))\n",
    "\n",
    "corr[2:5,2:5] = 1\n",
    "corr[3,3] = 2\n",
    "corr[3,4] = 3\n",
    "# corr[3,5] = 1\n",
    "corr"
   ]
  },
  {
   "cell_type": "code",
   "execution_count": 23,
   "id": "5a7b23fa",
   "metadata": {
    "execution": {
     "iopub.execute_input": "2022-10-20T19:15:32.874116Z",
     "iopub.status.busy": "2022-10-20T19:15:32.873842Z",
     "iopub.status.idle": "2022-10-20T19:15:32.878988Z",
     "shell.execute_reply": "2022-10-20T19:15:32.878203Z"
    },
    "papermill": {
     "duration": 0.015107,
     "end_time": "2022-10-20T19:15:32.880466",
     "exception": false,
     "start_time": "2022-10-20T19:15:32.865359",
     "status": "completed"
    },
    "tags": []
   },
   "outputs": [
    {
     "data": {
      "text/plain": [
       "(3.0, 3.5230088020336483)"
      ]
     },
     "execution_count": 23,
     "metadata": {},
     "output_type": "execute_result"
    }
   ],
   "source": [
    "find_subpixel_peak_position(corr)"
   ]
  },
  {
   "cell_type": "code",
   "execution_count": 24,
   "id": "a9c886dd",
   "metadata": {
    "execution": {
     "iopub.execute_input": "2022-10-20T19:15:32.899022Z",
     "iopub.status.busy": "2022-10-20T19:15:32.898766Z",
     "iopub.status.idle": "2022-10-20T19:15:32.904518Z",
     "shell.execute_reply": "2022-10-20T19:15:32.903950Z"
    },
    "papermill": {
     "duration": 0.017336,
     "end_time": "2022-10-20T19:15:32.905817",
     "exception": false,
     "start_time": "2022-10-20T19:15:32.888481",
     "status": "completed"
    },
    "tags": []
   },
   "outputs": [
    {
     "name": "stdout",
     "output_type": "stream",
     "text": [
      "Found 0 bad peak(s)\n"
     ]
    },
    {
     "data": {
      "text/plain": [
       "array([[3.        ],\n",
       "       [3.52395087]])"
      ]
     },
     "execution_count": 24,
     "metadata": {},
     "output_type": "execute_result"
    }
   ],
   "source": [
    "np.flip(vectorized_correlation_to_displacements(corr[np.newaxis, :, :]) + np.floor(corr.shape[0] / 2))"
   ]
  },
  {
   "cell_type": "code",
   "execution_count": 25,
   "id": "080d081c",
   "metadata": {
    "execution": {
     "iopub.execute_input": "2022-10-20T19:15:32.924984Z",
     "iopub.status.busy": "2022-10-20T19:15:32.924590Z",
     "iopub.status.idle": "2022-10-20T19:15:32.930971Z",
     "shell.execute_reply": "2022-10-20T19:15:32.930237Z"
    },
    "papermill": {
     "duration": 0.015988,
     "end_time": "2022-10-20T19:15:32.932294",
     "exception": false,
     "start_time": "2022-10-20T19:15:32.916306",
     "status": "completed"
    },
    "tags": []
   },
   "outputs": [
    {
     "name": "stdout",
     "output_type": "stream",
     "text": [
      "3.0 3.5239508804084627\n",
      "3.0 3.5249733967346586\n",
      "3.0 3.75\n",
      "3.0 3.75\n",
      "3.0 3.600000095999977\n",
      "2.9999999999999996 3.600000143999948\n"
     ]
    }
   ],
   "source": [
    "eps = 1e-7\n",
    "for method in ['gaussian','parabolic','centroid']:\n",
    "    i,j = find_subpixel_peak_position(corr,method)\n",
    "    print(i,j)\n",
    "    i,j = find_subpixel_peak_position(corr+eps,method)\n",
    "    print(i,j)\n"
   ]
  },
  {
   "cell_type": "code",
   "execution_count": 26,
   "id": "70f94805",
   "metadata": {
    "execution": {
     "iopub.execute_input": "2022-10-20T19:15:32.952865Z",
     "iopub.status.busy": "2022-10-20T19:15:32.951794Z",
     "iopub.status.idle": "2022-10-20T19:15:32.957888Z",
     "shell.execute_reply": "2022-10-20T19:15:32.957346Z"
    },
    "papermill": {
     "duration": 0.019242,
     "end_time": "2022-10-20T19:15:32.959708",
     "exception": false,
     "start_time": "2022-10-20T19:15:32.940466",
     "status": "completed"
    },
    "tags": []
   },
   "outputs": [
    {
     "name": "stdout",
     "output_type": "stream",
     "text": [
      "Found 0 bad peak(s)\n",
      "[3.] [3.52532142]\n",
      "Found 0 bad peak(s)\n",
      "[3.] [3.75]\n",
      "Found 0 bad peak(s)\n",
      "[3.] [3.60000014]\n"
     ]
    }
   ],
   "source": [
    "for method in ['gaussian','parabolic','centroid']:\n",
    "    j, i = vectorized_correlation_to_displacements(corr[np.newaxis, :, :], subpixel_method = method) + np.floor(corr.shape[0] / 2)\n",
    "    print(i, j)"
   ]
  },
  {
   "cell_type": "markdown",
   "id": "fcbd904b",
   "metadata": {
    "papermill": {
     "duration": 0.008762,
     "end_time": "2022-10-20T19:15:32.977293",
     "exception": false,
     "start_time": "2022-10-20T19:15:32.968531",
     "status": "completed"
    },
    "tags": []
   },
   "source": [
    "### Speed increase demonstration"
   ]
  },
  {
   "cell_type": "code",
   "execution_count": 27,
   "id": "c1d66b68",
   "metadata": {
    "execution": {
     "iopub.execute_input": "2022-10-20T19:15:32.998802Z",
     "iopub.status.busy": "2022-10-20T19:15:32.998551Z",
     "iopub.status.idle": "2022-10-20T19:15:33.002563Z",
     "shell.execute_reply": "2022-10-20T19:15:33.002035Z"
    },
    "papermill": {
     "duration": 0.017783,
     "end_time": "2022-10-20T19:15:33.003886",
     "exception": false,
     "start_time": "2022-10-20T19:15:32.986103",
     "status": "completed"
    },
    "tags": []
   },
   "outputs": [],
   "source": [
    "import pylab"
   ]
  },
  {
   "cell_type": "markdown",
   "id": "ab23a3ba",
   "metadata": {
    "tags": [
     "papermill-error-cell-tag"
    ]
   },
   "source": [
    "<span id=\"papermill-error-cell\" style=\"color:red; font-family:Helvetica Neue, Helvetica, Arial, sans-serif; font-size:2em;\">Execution using papermill encountered an exception here and stopped:</span>"
   ]
  },
  {
   "cell_type": "code",
   "execution_count": 28,
   "id": "0fb4b3c6",
   "metadata": {
    "execution": {
     "iopub.execute_input": "2022-10-20T19:15:33.023186Z",
     "iopub.status.busy": "2022-10-20T19:15:33.022820Z",
     "iopub.status.idle": "2022-10-20T19:15:33.752115Z",
     "shell.execute_reply": "2022-10-20T19:15:33.751325Z"
    },
    "papermill": {
     "duration": 0.739413,
     "end_time": "2022-10-20T19:15:33.753080",
     "exception": true,
     "start_time": "2022-10-20T19:15:33.013667",
     "status": "failed"
    },
    "tags": []
   },
   "outputs": [
    {
     "ename": "FileNotFoundError",
     "evalue": "No such file: '/home/user/Documents/repos/test11/A001_1.tif'",
     "output_type": "error",
     "traceback": [
      "\u001b[0;31m---------------------------------------------------------------------------\u001b[0m",
      "\u001b[0;31mFileNotFoundError\u001b[0m                         Traceback (most recent call last)",
      "Input \u001b[0;32mIn [28]\u001b[0m, in \u001b[0;36m<cell line: 1>\u001b[0;34m()\u001b[0m\n\u001b[0;32m----> 1\u001b[0m frame_a \u001b[38;5;241m=\u001b[39m \u001b[43mimread\u001b[49m\u001b[43m(\u001b[49m\u001b[38;5;124;43m'\u001b[39;49m\u001b[38;5;124;43m../test11/A001_1.tif\u001b[39;49m\u001b[38;5;124;43m'\u001b[39;49m\u001b[43m)\u001b[49m\n\u001b[1;32m      2\u001b[0m frame_b \u001b[38;5;241m=\u001b[39m imread(\u001b[38;5;124m'\u001b[39m\u001b[38;5;124m../test11/A001_2.tif\u001b[39m\u001b[38;5;124m'\u001b[39m)\n\u001b[1;32m      3\u001b[0m pylab\u001b[38;5;241m.\u001b[39mimshow(np\u001b[38;5;241m.\u001b[39mc_[frame_a,np\u001b[38;5;241m.\u001b[39mones((frame_a\u001b[38;5;241m.\u001b[39mshape[\u001b[38;5;241m0\u001b[39m],\u001b[38;5;241m20\u001b[39m)),frame_b],\n\u001b[1;32m      4\u001b[0m              cmap\u001b[38;5;241m=\u001b[39mpylab\u001b[38;5;241m.\u001b[39mcm\u001b[38;5;241m.\u001b[39mgray)\n",
      "File \u001b[0;32m~/Documents/repos/openpiv-python/openpiv/tools.py:198\u001b[0m, in \u001b[0;36mimread\u001b[0;34m(filename, flatten)\u001b[0m\n\u001b[1;32m    172\u001b[0m \u001b[38;5;28;01mdef\u001b[39;00m \u001b[38;5;21mimread\u001b[39m(filename, flatten\u001b[38;5;241m=\u001b[39m\u001b[38;5;241m0\u001b[39m):\n\u001b[1;32m    173\u001b[0m     \u001b[38;5;124;03m\"\"\"Read an image file into a numpy array\u001b[39;00m\n\u001b[1;32m    174\u001b[0m \u001b[38;5;124;03m    using imageio imread\u001b[39;00m\n\u001b[1;32m    175\u001b[0m \u001b[38;5;124;03m    \u001b[39;00m\n\u001b[0;32m   (...)\u001b[0m\n\u001b[1;32m    196\u001b[0m \u001b[38;5;124;03m    \u001b[39;00m\n\u001b[1;32m    197\u001b[0m \u001b[38;5;124;03m    \"\"\"\u001b[39;00m\n\u001b[0;32m--> 198\u001b[0m     im \u001b[38;5;241m=\u001b[39m \u001b[43m_imread\u001b[49m\u001b[43m(\u001b[49m\u001b[43mfilename\u001b[49m\u001b[43m)\u001b[49m\n\u001b[1;32m    199\u001b[0m     \u001b[38;5;28;01mif\u001b[39;00m np\u001b[38;5;241m.\u001b[39mndim(im) \u001b[38;5;241m>\u001b[39m \u001b[38;5;241m2\u001b[39m:\n\u001b[1;32m    200\u001b[0m         im \u001b[38;5;241m=\u001b[39m rgb2gray(im)\n",
      "File \u001b[0;32m~/.edm/envs/echopiv/lib/python3.8/site-packages/imageio/v3.py:57\u001b[0m, in \u001b[0;36mimread\u001b[0;34m(uri, index, plugin, extension, format_hint, **kwargs)\u001b[0m\n\u001b[1;32m     54\u001b[0m \u001b[38;5;28;01mif\u001b[39;00m index \u001b[38;5;129;01mis\u001b[39;00m \u001b[38;5;129;01mnot\u001b[39;00m \u001b[38;5;28;01mNone\u001b[39;00m:\n\u001b[1;32m     55\u001b[0m     call_kwargs[\u001b[38;5;124m\"\u001b[39m\u001b[38;5;124mindex\u001b[39m\u001b[38;5;124m\"\u001b[39m] \u001b[38;5;241m=\u001b[39m index\n\u001b[0;32m---> 57\u001b[0m \u001b[38;5;28;01mwith\u001b[39;00m \u001b[43mimopen\u001b[49m\u001b[43m(\u001b[49m\u001b[43muri\u001b[49m\u001b[43m,\u001b[49m\u001b[43m \u001b[49m\u001b[38;5;124;43m\"\u001b[39;49m\u001b[38;5;124;43mr\u001b[39;49m\u001b[38;5;124;43m\"\u001b[39;49m\u001b[43m,\u001b[49m\u001b[43m \u001b[49m\u001b[38;5;241;43m*\u001b[39;49m\u001b[38;5;241;43m*\u001b[39;49m\u001b[43mplugin_kwargs\u001b[49m\u001b[43m)\u001b[49m \u001b[38;5;28;01mas\u001b[39;00m img_file:\n\u001b[1;32m     58\u001b[0m     \u001b[38;5;28;01mreturn\u001b[39;00m np\u001b[38;5;241m.\u001b[39masarray(img_file\u001b[38;5;241m.\u001b[39mread(\u001b[38;5;241m*\u001b[39m\u001b[38;5;241m*\u001b[39mcall_kwargs))\n",
      "File \u001b[0;32m~/.edm/envs/echopiv/lib/python3.8/site-packages/imageio/core/imopen.py:118\u001b[0m, in \u001b[0;36mimopen\u001b[0;34m(uri, io_mode, plugin, extension, format_hint, legacy_mode, **kwargs)\u001b[0m\n\u001b[1;32m    116\u001b[0m     request\u001b[38;5;241m.\u001b[39mformat_hint \u001b[38;5;241m=\u001b[39m format_hint\n\u001b[1;32m    117\u001b[0m \u001b[38;5;28;01melse\u001b[39;00m:\n\u001b[0;32m--> 118\u001b[0m     request \u001b[38;5;241m=\u001b[39m \u001b[43mRequest\u001b[49m\u001b[43m(\u001b[49m\u001b[43muri\u001b[49m\u001b[43m,\u001b[49m\u001b[43m \u001b[49m\u001b[43mio_mode\u001b[49m\u001b[43m,\u001b[49m\u001b[43m \u001b[49m\u001b[43mformat_hint\u001b[49m\u001b[38;5;241;43m=\u001b[39;49m\u001b[43mformat_hint\u001b[49m\u001b[43m,\u001b[49m\u001b[43m \u001b[49m\u001b[43mextension\u001b[49m\u001b[38;5;241;43m=\u001b[39;49m\u001b[43mextension\u001b[49m\u001b[43m)\u001b[49m\n\u001b[1;32m    120\u001b[0m source \u001b[38;5;241m=\u001b[39m \u001b[38;5;124m\"\u001b[39m\u001b[38;5;124m<bytes>\u001b[39m\u001b[38;5;124m\"\u001b[39m \u001b[38;5;28;01mif\u001b[39;00m \u001b[38;5;28misinstance\u001b[39m(uri, \u001b[38;5;28mbytes\u001b[39m) \u001b[38;5;28;01melse\u001b[39;00m uri\n\u001b[1;32m    122\u001b[0m \u001b[38;5;66;03m# fast-path based on plugin\u001b[39;00m\n\u001b[1;32m    123\u001b[0m \u001b[38;5;66;03m# (except in legacy mode)\u001b[39;00m\n",
      "File \u001b[0;32m~/.edm/envs/echopiv/lib/python3.8/site-packages/imageio/core/request.py:248\u001b[0m, in \u001b[0;36mRequest.__init__\u001b[0;34m(self, uri, mode, extension, format_hint, **kwargs)\u001b[0m\n\u001b[1;32m    245\u001b[0m     \u001b[38;5;28;01mraise\u001b[39;00m \u001b[38;5;167;01mValueError\u001b[39;00m(\u001b[38;5;124mf\u001b[39m\u001b[38;5;124m\"\u001b[39m\u001b[38;5;124mInvalid Request.Mode: \u001b[39m\u001b[38;5;132;01m{\u001b[39;00mmode\u001b[38;5;132;01m}\u001b[39;00m\u001b[38;5;124m\"\u001b[39m)\n\u001b[1;32m    247\u001b[0m \u001b[38;5;66;03m# Parse what was given\u001b[39;00m\n\u001b[0;32m--> 248\u001b[0m \u001b[38;5;28;43mself\u001b[39;49m\u001b[38;5;241;43m.\u001b[39;49m\u001b[43m_parse_uri\u001b[49m\u001b[43m(\u001b[49m\u001b[43muri\u001b[49m\u001b[43m)\u001b[49m\n\u001b[1;32m    250\u001b[0m \u001b[38;5;66;03m# Set extension\u001b[39;00m\n\u001b[1;32m    251\u001b[0m \u001b[38;5;28;01mif\u001b[39;00m extension \u001b[38;5;129;01mis\u001b[39;00m \u001b[38;5;129;01mnot\u001b[39;00m \u001b[38;5;28;01mNone\u001b[39;00m:\n",
      "File \u001b[0;32m~/.edm/envs/echopiv/lib/python3.8/site-packages/imageio/core/request.py:407\u001b[0m, in \u001b[0;36mRequest._parse_uri\u001b[0;34m(self, uri)\u001b[0m\n\u001b[1;32m    404\u001b[0m \u001b[38;5;28;01mif\u001b[39;00m is_read_request:\n\u001b[1;32m    405\u001b[0m     \u001b[38;5;66;03m# Reading: check that the file exists (but is allowed a dir)\u001b[39;00m\n\u001b[1;32m    406\u001b[0m     \u001b[38;5;28;01mif\u001b[39;00m \u001b[38;5;129;01mnot\u001b[39;00m os\u001b[38;5;241m.\u001b[39mpath\u001b[38;5;241m.\u001b[39mexists(fn):\n\u001b[0;32m--> 407\u001b[0m         \u001b[38;5;28;01mraise\u001b[39;00m \u001b[38;5;167;01mFileNotFoundError\u001b[39;00m(\u001b[38;5;124m\"\u001b[39m\u001b[38;5;124mNo such file: \u001b[39m\u001b[38;5;124m'\u001b[39m\u001b[38;5;132;01m%s\u001b[39;00m\u001b[38;5;124m'\u001b[39m\u001b[38;5;124m\"\u001b[39m \u001b[38;5;241m%\u001b[39m fn)\n\u001b[1;32m    408\u001b[0m \u001b[38;5;28;01melse\u001b[39;00m:\n\u001b[1;32m    409\u001b[0m     \u001b[38;5;66;03m# Writing: check that the directory to write to does exist\u001b[39;00m\n\u001b[1;32m    410\u001b[0m     dn \u001b[38;5;241m=\u001b[39m os\u001b[38;5;241m.\u001b[39mpath\u001b[38;5;241m.\u001b[39mdirname(fn)\n",
      "\u001b[0;31mFileNotFoundError\u001b[0m: No such file: '/home/user/Documents/repos/test11/A001_1.tif'"
     ]
    }
   ],
   "source": [
    "frame_a = imread('../test11/A001_1.tif')\n",
    "frame_b = imread('../test11/A001_2.tif')\n",
    "pylab.imshow(np.c_[frame_a,np.ones((frame_a.shape[0],20)),frame_b],\n",
    "             cmap=pylab.cm.gray)"
   ]
  },
  {
   "cell_type": "code",
   "execution_count": null,
   "id": "b2220ccc",
   "metadata": {
    "papermill": {
     "duration": null,
     "end_time": null,
     "exception": null,
     "start_time": null,
     "status": "pending"
    },
    "tags": []
   },
   "outputs": [],
   "source": [
    "window_size = 32\n",
    "overlap = 16\n",
    "from openpiv.pyprocess import sliding_window_array, get_field_shape,\\\n",
    "    get_coordinates, fft_correlate_images, correlation_to_displacement\n",
    "n_rows, n_cols = get_field_shape(\n",
    "            frame_a.shape, \n",
    "            window_size, \n",
    "            overlap\n",
    "        )\n",
    "x, y = get_coordinates(frame_a.shape, window_size, overlap)\n",
    "\n",
    "aa = sliding_window_array(\n",
    "            frame_a, \n",
    "            window_size, \n",
    "            overlap\n",
    ")\n",
    "\n",
    "bb = sliding_window_array(\n",
    "            frame_b, \n",
    "            window_size,\n",
    "            overlap\n",
    ")\n",
    "corr = fft_correlate_images(\n",
    "            aa, bb,\n",
    "            correlation_method='circular',\n",
    "            normalized_correlation = True\n",
    ")"
   ]
  },
  {
   "cell_type": "code",
   "execution_count": null,
   "id": "c51da976",
   "metadata": {
    "papermill": {
     "duration": null,
     "end_time": null,
     "exception": null,
     "start_time": null,
     "status": "pending"
    },
    "tags": []
   },
   "outputs": [],
   "source": [
    "from openpiv.pyprocess import find_all_first_peaks, find_all_second_peaks, find_second_peak\n",
    "peaks_v = find_all_second_peaks(corr)[0]\n",
    "peaks_o = []\n",
    "for i in range(len(corr)):\n",
    "    (k, m), _ = find_second_peak(corr[i,:,:])\n",
    "    peaks_o.append([i, k, m])\n",
    "print(['original', 'vectorized'])\n",
    "for i in range(len(peaks_v)):\n",
    "    #print(peaks_o[i], peaks_v[i])\n",
    "    if peaks_v[i][1] != peaks_o[i][1] or peaks_v[i][2] != peaks_o[i][2]:\n",
    "        print(False)"
   ]
  },
  {
   "cell_type": "code",
   "execution_count": null,
   "id": "d79b5441",
   "metadata": {
    "papermill": {
     "duration": null,
     "end_time": null,
     "exception": null,
     "start_time": null,
     "status": "pending"
    },
    "tags": []
   },
   "outputs": [],
   "source": [
    "%%time\n",
    "u_o, v_o = correlation_to_displacement(\n",
    "            corr, \n",
    "            n_rows,\n",
    "            n_cols,\n",
    "            subpixel_method='gaussian'\n",
    "        )"
   ]
  },
  {
   "cell_type": "code",
   "execution_count": null,
   "id": "b21308af",
   "metadata": {
    "papermill": {
     "duration": null,
     "end_time": null,
     "exception": null,
     "start_time": null,
     "status": "pending"
    },
    "tags": []
   },
   "outputs": [],
   "source": [
    "%%time\n",
    "u_v, v_v = vectorized_correlation_to_displacements(\n",
    "    corr,\n",
    "    n_rows,\n",
    "    n_cols,\n",
    "    subpixel_method='gaussian',\n",
    "    #eps = 1e-7\n",
    ")"
   ]
  },
  {
   "cell_type": "code",
   "execution_count": null,
   "id": "599c924f",
   "metadata": {
    "papermill": {
     "duration": null,
     "end_time": null,
     "exception": null,
     "start_time": null,
     "status": "pending"
    },
    "tags": []
   },
   "outputs": [],
   "source": [
    "# slight descrepancies possibly caused by setting eps to 1e-10\n",
    "print('[u original, u vectorized]')\n",
    "print(np.stack((u_o[0, 0:12], u_v[0, 0:12])).T)\n",
    "print((np.nanmean(u_o), np.nanmean(u_v)))"
   ]
  },
  {
   "cell_type": "markdown",
   "id": "7bb4ed15",
   "metadata": {
    "papermill": {
     "duration": null,
     "end_time": null,
     "exception": null,
     "start_time": null,
     "status": "pending"
    },
    "tags": []
   },
   "source": [
    "### Vectorized solution for signal-to-noise calculation"
   ]
  },
  {
   "cell_type": "code",
   "execution_count": null,
   "id": "cff13441",
   "metadata": {
    "papermill": {
     "duration": null,
     "end_time": null,
     "exception": null,
     "start_time": null,
     "status": "pending"
    },
    "tags": []
   },
   "outputs": [],
   "source": [
    "from openpiv.pyprocess import vectorized_sig2noise_ratio,\\\n",
    "    sig2noise_ratio"
   ]
  },
  {
   "cell_type": "code",
   "execution_count": null,
   "id": "9ad937b8",
   "metadata": {
    "papermill": {
     "duration": null,
     "end_time": null,
     "exception": null,
     "start_time": null,
     "status": "pending"
    },
    "tags": []
   },
   "outputs": [],
   "source": [
    "%%time\n",
    "peak2peak_o = sig2noise_ratio(corr, 'peak2peak')"
   ]
  },
  {
   "cell_type": "code",
   "execution_count": null,
   "id": "ceb3e9f7",
   "metadata": {
    "papermill": {
     "duration": null,
     "end_time": null,
     "exception": null,
     "start_time": null,
     "status": "pending"
    },
    "tags": []
   },
   "outputs": [],
   "source": [
    "%%time\n",
    "peak2peak_v = vectorized_sig2noise_ratio(corr, 'peak2peak')"
   ]
  },
  {
   "cell_type": "code",
   "execution_count": null,
   "id": "ae9d168b",
   "metadata": {
    "papermill": {
     "duration": null,
     "end_time": null,
     "exception": null,
     "start_time": null,
     "status": "pending"
    },
    "tags": []
   },
   "outputs": [],
   "source": [
    "%%time\n",
    "peak2mean_o = sig2noise_ratio(corr, 'peak2mean')"
   ]
  },
  {
   "cell_type": "code",
   "execution_count": null,
   "id": "f4c317b6",
   "metadata": {
    "papermill": {
     "duration": null,
     "end_time": null,
     "exception": null,
     "start_time": null,
     "status": "pending"
    },
    "tags": []
   },
   "outputs": [],
   "source": [
    "%%time\n",
    "peak2mean_v = vectorized_sig2noise_ratio(corr, 'peak2mean')"
   ]
  },
  {
   "cell_type": "code",
   "execution_count": null,
   "id": "0ba210f8",
   "metadata": {
    "papermill": {
     "duration": null,
     "end_time": null,
     "exception": null,
     "start_time": null,
     "status": "pending"
    },
    "tags": []
   },
   "outputs": [],
   "source": [
    "print('[original, vectorized]')\n",
    "print(np.stack((peak2peak_o[0:10], peak2peak_v[0:10])).T)\n",
    "print((peak2peak_o.mean(), peak2peak_v.mean()))"
   ]
  },
  {
   "cell_type": "code",
   "execution_count": null,
   "id": "87b21cfd",
   "metadata": {
    "papermill": {
     "duration": null,
     "end_time": null,
     "exception": null,
     "start_time": null,
     "status": "pending"
    },
    "tags": []
   },
   "outputs": [],
   "source": [
    "print('[original, vectorized]')\n",
    "print(np.stack((peak2mean_o[0:10], peak2mean_v[0:10])).T)\n",
    "print((peak2mean_o.mean(), peak2mean_v.mean()))"
   ]
  },
  {
   "cell_type": "markdown",
   "id": "37cb46bc",
   "metadata": {
    "papermill": {
     "duration": null,
     "end_time": null,
     "exception": null,
     "start_time": null,
     "status": "pending"
    },
    "tags": []
   },
   "source": [
    "## Test for bias errors"
   ]
  },
  {
   "cell_type": "code",
   "execution_count": null,
   "id": "294a0b51",
   "metadata": {
    "papermill": {
     "duration": null,
     "end_time": null,
     "exception": null,
     "start_time": null,
     "status": "pending"
    },
    "tags": []
   },
   "outputs": [],
   "source": [
    "from openpiv.pyprocess import correlation_to_displacement, fft_correlate_images, get_field_shape\n",
    "files = glob('../test14/*')\n",
    "files_a = files[::2]\n",
    "files_b = files[1::2]"
   ]
  },
  {
   "cell_type": "code",
   "execution_count": null,
   "id": "f9bec390",
   "metadata": {
    "papermill": {
     "duration": null,
     "end_time": null,
     "exception": null,
     "start_time": null,
     "status": "pending"
    },
    "tags": []
   },
   "outputs": [],
   "source": [
    "bias_error_original = []\n",
    "bias_error_vectorized = []\n",
    "window_size = 32\n",
    "overlap = 16\n",
    "real_disp = 3\n",
    "n = 1/32\n",
    "for i in range(len(files_a)):\n",
    "    frame_a = imread(files_a[i])\n",
    "    frame_b = imread(files_b[i])\n",
    "    n_rows, n_cols = get_field_shape(\n",
    "        frame_a.shape, \n",
    "        window_size, \n",
    "        overlap\n",
    "    )\n",
    "    aa = sliding_window_array(frame_a, window_size, overlap)\n",
    "    bb = sliding_window_array(frame_b, window_size, overlap)\n",
    "    corr = fft_correlate_images(aa, bb, 'circular', False)\n",
    "    u_o, v_o = correlation_to_displacement(corr, n_rows, n_cols, 'gaussian')\n",
    "    u_v, v_v = vectorized_correlation_to_displacements(corr, n_rows, n_cols, 'gaussian')\n",
    "    u_o = u_o[2:-2, 2:-2] # extract valid components\n",
    "    u_v = u_v[2:-2, 2:-2]\n",
    "    v_o = v_o[2:-2, 2:-2] \n",
    "    v_v = v_v[2:-2, 2:-2]\n",
    "    bias_error_original.append(np.hypot(real_disp,real_disp) - np.nanmean(np.hypot(u_o, v_o))) \n",
    "    bias_error_vectorized.append(np.hypot(real_disp,real_disp) - np.nanmean(np.hypot(u_v, v_v)))\n",
    "    real_disp += n"
   ]
  },
  {
   "cell_type": "code",
   "execution_count": null,
   "id": "4479b6c7",
   "metadata": {
    "papermill": {
     "duration": null,
     "end_time": null,
     "exception": null,
     "start_time": null,
     "status": "pending"
    },
    "tags": []
   },
   "outputs": [],
   "source": [
    "fig, ax = plt.subplots()\n",
    "ax.set_ylabel('Bias error [px]')\n",
    "ax.set_xlabel('Real u and v displacements [px]')\n",
    "ax.plot(np.mgrid[3:4+n:n], bias_error_original)\n",
    "ax.plot(np.mgrid[3:4+n:n], bias_error_vectorized)\n",
    "ax.legend(\n",
    "    ['orginal', 'vectorized'],\n",
    "    loc = 'upper right'\n",
    ")"
   ]
  },
  {
   "cell_type": "code",
   "execution_count": null,
   "id": "4bb3c0ec",
   "metadata": {
    "papermill": {
     "duration": null,
     "end_time": null,
     "exception": null,
     "start_time": null,
     "status": "pending"
    },
    "tags": []
   },
   "outputs": [],
   "source": []
  }
 ],
 "metadata": {
  "kernelspec": {
   "display_name": "Python 3",
   "language": "python",
   "name": "python3"
  },
  "language_info": {
   "codemirror_mode": {
    "name": "ipython",
    "version": 3
   },
   "file_extension": ".py",
   "mimetype": "text/x-python",
   "name": "python",
   "nbconvert_exporter": "python",
   "pygments_lexer": "ipython3",
   "version": "3.8.12"
  },
  "papermill": {
   "default_parameters": {},
   "duration": 4.096182,
   "end_time": "2022-10-20T19:15:34.083542",
   "environment_variables": {},
   "exception": true,
   "input_path": "./notebooks/test_vectorized_functions.ipynb",
   "output_path": "./notebooks/test_vectorized_functions.ipynb",
   "parameters": {},
   "start_time": "2022-10-20T19:15:29.987360",
   "version": "2.4.0"
  }
 },
 "nbformat": 4,
 "nbformat_minor": 5
}