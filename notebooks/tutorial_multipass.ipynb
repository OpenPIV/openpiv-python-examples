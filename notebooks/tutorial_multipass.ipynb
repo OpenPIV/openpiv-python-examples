{
 "cells": [
  {
   "cell_type": "code",
   "execution_count": null,
   "id": "cc774e3d",
   "metadata": {
    "papermill": {
     "duration": null,
     "end_time": null,
     "exception": null,
     "start_time": null,
     "status": "completed"
    },
    "tags": []
   },
   "outputs": [],
   "source": [
    "# %load red_Cell.py\n",
    "from openpiv import tools, pyprocess, scaling, filters, \\\n",
    "                    validation\n",
    "\n",
    "import numpy as np\n",
    "import matplotlib.pyplot as plt\n",
    "\n",
    "import imageio\n",
    "from pylab import *\n",
    "%matplotlib inline\n",
    "\n",
    "from skimage import img_as_uint"
   ]
  },
  {
   "cell_type": "code",
   "execution_count": null,
   "id": "09015a23",
   "metadata": {
    "papermill": {
     "duration": null,
     "end_time": null,
     "exception": null,
     "start_time": null,
     "status": "completed"
    },
    "tags": []
   },
   "outputs": [],
   "source": [
    "frame_a  = tools.imread('../test3/Y4-S3_Camera000398.tif')  \n",
    "frame_b  = tools.imread('../test3/Y4-S3_Camera000399.tif')"
   ]
  },
  {
   "cell_type": "code",
   "execution_count": null,
   "id": "1e7753ea",
   "metadata": {
    "papermill": {
     "duration": null,
     "end_time": null,
     "exception": null,
     "start_time": null,
     "status": "completed"
    },
    "tags": []
   },
   "outputs": [],
   "source": [
    "plt.imshow(np.c_[frame_a[40:,:-40],frame_b[40:,:-40]],cmap=plt.cm.gray)"
   ]
  },
  {
   "cell_type": "code",
   "execution_count": null,
   "id": "f1a6f841",
   "metadata": {
    "papermill": {
     "duration": null,
     "end_time": null,
     "exception": null,
     "start_time": null,
     "status": "completed"
    },
    "tags": []
   },
   "outputs": [],
   "source": [
    "frame_a = frame_a[40:, :-40].astype(np.int32) # change of type for the Cython WiDIM\n",
    "frame_b = frame_b[40:, :-40].astype(np.int32)"
   ]
  },
  {
   "cell_type": "code",
   "execution_count": null,
   "id": "a84bbd59",
   "metadata": {
    "papermill": {
     "duration": null,
     "end_time": null,
     "exception": null,
     "start_time": null,
     "status": "completed"
    },
    "tags": []
   },
   "outputs": [],
   "source": []
  },
  {
   "cell_type": "code",
   "execution_count": null,
   "id": "ff3342b4",
   "metadata": {
    "papermill": {
     "duration": null,
     "end_time": null,
     "exception": null,
     "start_time": null,
     "status": "completed"
    },
    "tags": []
   },
   "outputs": [],
   "source": [
    "# Use Python version, pyprocess:\n",
    "\n",
    "u, v, sig2noise = pyprocess.extended_search_area_piv( frame_a, frame_b, \n",
    "                                                     window_size=32, \n",
    "                                                     overlap=16,\n",
    "                                                     search_area_size=32,\n",
    "                                                     dt=.1, \n",
    "                                                     sig2noise_method='peak2peak',\n",
    "                                                    normalized_correlation=True,\n",
    "                                                    correlation_method = 'circular')\n",
    "x, y = pyprocess.get_coordinates(image_size=frame_a.shape, \n",
    "                                 search_area_size=32, \n",
    "                                 overlap=16)"
   ]
  },
  {
   "cell_type": "code",
   "execution_count": null,
   "id": "47b60f94",
   "metadata": {
    "papermill": {
     "duration": null,
     "end_time": null,
     "exception": null,
     "start_time": null,
     "status": "completed"
    },
    "tags": []
   },
   "outputs": [],
   "source": [
    "plt.quiver(x,y,u,-v,sig2noise)\n",
    "plt.gca().invert_yaxis()\n",
    "plt.colorbar()"
   ]
  },
  {
   "cell_type": "code",
   "execution_count": null,
   "id": "4a1184cf",
   "metadata": {
    "papermill": {
     "duration": null,
     "end_time": null,
     "exception": null,
     "start_time": null,
     "status": "completed"
    },
    "tags": []
   },
   "outputs": [],
   "source": [
    "plt.hist(sig2noise.flatten());\n",
    "p = percentile(sig2noise,5) # bottom 5%\n",
    "plt.plot([p,p],[0,35],lw=2)"
   ]
  },
  {
   "cell_type": "code",
   "execution_count": null,
   "id": "40c514ac",
   "metadata": {
    "papermill": {
     "duration": null,
     "end_time": null,
     "exception": null,
     "start_time": null,
     "status": "completed"
    },
    "tags": []
   },
   "outputs": [],
   "source": [
    "u, v, mask = validation.sig2noise_val( u, v, sig2noise, threshold = p )\n",
    "u, v = filters.replace_outliers( u, v, method='localmean', max_iter=1, kernel_size=2)\n",
    "x, y, u, v = scaling.uniform(x, y, u, v, scaling_factor = 1. )\n",
    "x, y, u, v = tools.transform_coordinates(x, y, u, v)\n",
    "tools.save(x, y, u, v, mask, 'Y4-S3_Camera000398_a.txt' )"
   ]
  },
  {
   "cell_type": "code",
   "execution_count": null,
   "id": "43cfd364",
   "metadata": {
    "papermill": {
     "duration": null,
     "end_time": null,
     "exception": null,
     "start_time": null,
     "status": "completed"
    },
    "tags": []
   },
   "outputs": [],
   "source": [
    "# \"natural\" view without image\n",
    "fig,ax = plt.subplots(2,1,figsize=(6,12))\n",
    "# ax[0].invert_yaxis()\n",
    "ax[0].quiver(x,y,u,v)\n",
    "ax[0].set_title(' Sort of natural view ')\n",
    "\n",
    "ax[1].quiver(x,y,u,v)\n",
    "ax[1].set_title('Quiver with 0,0 origin needs `negative` v for visualization purposes');\n",
    "# plt.quiver(x,y,u,v)"
   ]
  },
  {
   "cell_type": "code",
   "execution_count": null,
   "id": "19f313cd",
   "metadata": {
    "papermill": {
     "duration": null,
     "end_time": null,
     "exception": null,
     "start_time": null,
     "status": "completed"
    },
    "tags": []
   },
   "outputs": [],
   "source": [
    "fig,ax = plt.subplots(figsize=(8,8))\n",
    "tools.display_vector_field('Y4-S3_Camera000398_a.txt', \n",
    "                           on_img=True,\n",
    "                           image_name='../test3/Y4-S3_Camera000398.tif',\n",
    "                           scaling_factor=1.,\n",
    "                          ax = ax)"
   ]
  },
  {
   "cell_type": "code",
   "execution_count": null,
   "id": "eefabf4c",
   "metadata": {
    "papermill": {
     "duration": null,
     "end_time": null,
     "exception": null,
     "start_time": null,
     "status": "completed"
    },
    "tags": []
   },
   "outputs": [],
   "source": [
    "tools.display_vector_field('Y4-S3_Camera000398_a.txt', scale=300, \n",
    "                           width=0.005,scaling_factor=1.)"
   ]
  },
  {
   "cell_type": "code",
   "execution_count": null,
   "id": "cc1680cf",
   "metadata": {
    "papermill": {
     "duration": null,
     "end_time": null,
     "exception": null,
     "start_time": null,
     "status": "completed"
    },
    "tags": []
   },
   "outputs": [],
   "source": []
  }
 ],
 "metadata": {
  "jupytext": {
   "formats": "ipynb,py:percent"
  },
  "kernelspec": {
   "display_name": "Python 3.9 (XPython)",
   "language": "python",
   "name": "xpython"
  },
  "language_info": {
   "file_extension": ".py",
   "mimetype": "text/x-python",
   "name": "python",
   "version": "3.9.2"
  },
  "nteract": {
   "version": "0.14.3"
  },
  "papermill": {
   "default_parameters": {},
   "duration": 0.01654,
   "end_time": "2022-10-20T19:14:08.328607",
   "environment_variables": {},
   "exception": null,
   "input_path": "./notebooks/tutorial_multipass.ipynb",
   "output_path": "./notebooks/tutorial_multipass.ipynb",
   "parameters": {},
   "start_time": "2022-10-20T19:14:08.312067",
   "version": "2.4.0"
  }
 },
 "nbformat": 4,
 "nbformat_minor": 5
}