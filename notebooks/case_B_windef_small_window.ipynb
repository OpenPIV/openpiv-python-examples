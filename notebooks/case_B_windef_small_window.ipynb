{
 "cells": [
  {
   "cell_type": "markdown",
   "id": "daaafd1a",
   "metadata": {
    "tags": [
     "papermill-error-cell-tag"
    ]
   },
   "source": [
    "<span style=\"color:red; font-family:Helvetica Neue, Helvetica, Arial, sans-serif; font-size:2em;\">An Exception was encountered at '<a href=\"#papermill-error-cell\">In [6]</a>'.</span>"
   ]
  },
  {
   "cell_type": "code",
   "execution_count": 1,
   "id": "a83b9c36",
   "metadata": {
    "execution": {
     "iopub.execute_input": "2022-10-20T19:15:40.902227Z",
     "iopub.status.busy": "2022-10-20T19:15:40.901265Z",
     "iopub.status.idle": "2022-10-20T19:15:40.913534Z",
     "shell.execute_reply": "2022-10-20T19:15:40.911505Z"
    },
    "papermill": {
     "duration": 0.031268,
     "end_time": "2022-10-20T19:15:40.918783",
     "exception": false,
     "start_time": "2022-10-20T19:15:40.887515",
     "status": "completed"
    },
    "scrolled": true,
    "tags": []
   },
   "outputs": [],
   "source": [
    "#Run the new window deformation"
   ]
  },
  {
   "cell_type": "code",
   "execution_count": 2,
   "id": "e4d008f8",
   "metadata": {
    "execution": {
     "iopub.execute_input": "2022-10-20T19:15:40.935279Z",
     "iopub.status.busy": "2022-10-20T19:15:40.934884Z",
     "iopub.status.idle": "2022-10-20T19:15:40.945127Z",
     "shell.execute_reply": "2022-10-20T19:15:40.944214Z"
    },
    "papermill": {
     "duration": 0.01954,
     "end_time": "2022-10-20T19:15:40.947314",
     "exception": false,
     "start_time": "2022-10-20T19:15:40.927774",
     "status": "completed"
    },
    "tags": []
   },
   "outputs": [],
   "source": [
    "from time import time\n",
    "start = time()"
   ]
  },
  {
   "cell_type": "code",
   "execution_count": 3,
   "id": "7503b92d",
   "metadata": {
    "execution": {
     "iopub.execute_input": "2022-10-20T19:15:40.956012Z",
     "iopub.status.busy": "2022-10-20T19:15:40.955724Z",
     "iopub.status.idle": "2022-10-20T19:15:40.959307Z",
     "shell.execute_reply": "2022-10-20T19:15:40.958645Z"
    },
    "papermill": {
     "duration": 0.009627,
     "end_time": "2022-10-20T19:15:40.960932",
     "exception": false,
     "start_time": "2022-10-20T19:15:40.951305",
     "status": "completed"
    },
    "tags": []
   },
   "outputs": [],
   "source": [
    "new_windef = True"
   ]
  },
  {
   "cell_type": "code",
   "execution_count": 4,
   "id": "b7e97069",
   "metadata": {
    "execution": {
     "iopub.execute_input": "2022-10-20T19:15:40.967988Z",
     "iopub.status.busy": "2022-10-20T19:15:40.967718Z",
     "iopub.status.idle": "2022-10-20T19:15:41.948462Z",
     "shell.execute_reply": "2022-10-20T19:15:41.947853Z"
    },
    "papermill": {
     "duration": 0.986233,
     "end_time": "2022-10-20T19:15:41.950026",
     "exception": false,
     "start_time": "2022-10-20T19:15:40.963793",
     "status": "completed"
    },
    "tags": []
   },
   "outputs": [],
   "source": [
    "from openpiv import windef\n",
    "\n",
    "    \n",
    "from openpiv import tools, scaling, validation, filters, preprocess\n",
    "import openpiv.pyprocess as process\n",
    "from openpiv import pyprocess\n",
    "import numpy as np\n",
    "import pathlib\n",
    "import warnings\n",
    "\n",
    "\n",
    "import matplotlib.pyplot as plt\n",
    "%matplotlib inline\n",
    "\n",
    "import matplotlib\n",
    "matplotlib.rcParams['figure.figsize'] = (8.0, 8.0)"
   ]
  },
  {
   "cell_type": "code",
   "execution_count": 5,
   "id": "32a1a6e5",
   "metadata": {
    "execution": {
     "iopub.execute_input": "2022-10-20T19:15:41.959214Z",
     "iopub.status.busy": "2022-10-20T19:15:41.958943Z",
     "iopub.status.idle": "2022-10-20T19:15:41.967914Z",
     "shell.execute_reply": "2022-10-20T19:15:41.967335Z"
    },
    "papermill": {
     "duration": 0.015028,
     "end_time": "2022-10-20T19:15:41.969238",
     "exception": false,
     "start_time": "2022-10-20T19:15:41.954210",
     "status": "completed"
    },
    "tags": []
   },
   "outputs": [],
   "source": [
    "settings = windef.PIVSettings()\n",
    "\n",
    "\n",
    "'Data related settings'\n",
    "# Folder with the images to process\n",
    "settings.filepath_images = pathlib.Path('../test10/')\n",
    "# Folder for the outputs\n",
    "settings.save_path = pathlib.Path('../test1/')\n",
    "# Root name of the output Folder for Result Files\n",
    "settings.save_folder_suffix = 'Test_1'\n",
    "# Format and Image Sequence\n",
    "settings.frame_pattern_a = 'B001_1.tif'\n",
    "settings.frame_pattern_b = 'B001_2.tif'\n",
    "\n",
    "'Region of interest'\n",
    "# (50,300,50,300) #Region of interest: (xmin,xmax,ymin,ymax) or 'full' for full image\n",
    "settings.ROI = 'full'\n",
    "\n",
    "'Image preprocessing'\n",
    "# 'None' for no masking, 'edges' for edges masking, 'intensity' for intensity masking\n",
    "# WARNING: This part is under development so better not to use MASKS\n",
    "settings.dynamic_masking_method = 'edges'\n",
    "settings.dynamic_masking_threshold = 0.005\n",
    "settings.dynamic_masking_filter_size = 7\n",
    "\n",
    "# settings.deformation_method = 'symmetric' #'second image' #'symmetric' # or 'second image'\n",
    "\n",
    "'Processing Parameters'\n",
    "settings.correlation_method='linear' #'circular' or 'linear'\n",
    "settings.normalized_correlation = True\n",
    "\n",
    "\n",
    "settings.num_iterations = 4  # select the number of PIV passes\n",
    "# add the interrogation window size for each pass. \n",
    "# For the moment, it should be a power of 2 \n",
    "\n",
    "settings.windowsizes=(64, 32, 24, 8)\n",
    "settings.overlap=(32, 16, 12, 4)\n",
    "\n",
    "# settings.windowsizes = (128, 64, 32, 16, 8) # if longer than n iteration the rest is ignored\n",
    "# The overlap of the interroagtion window for each pass.\n",
    "# settings.overlap = (64, 32, 16, 8, 4) # This is 50% overlap\n",
    "\n",
    "\n",
    "\n",
    "# Has to be a value with base two. In general window size/2 is a good choice.\n",
    "# methode used for subpixel interpolation: 'gaussian','centroid','parabolic'\n",
    "settings.subpixel_method = 'gaussian'\n",
    "# order of the image interpolation for the window deformation\n",
    "settings.interpolation_order = 3\n",
    "settings.scaling_factor = 1  # scaling factor pixel/meter\n",
    "settings.dt = 1  # time between to frames (in seconds)\n",
    "'Signal to noise ratio options (only for the last pass)'\n",
    "# It is possible to decide if the S/N should be computed (for the last pass) or not\n",
    "if not new_windef:\n",
    "    settings.extract_sig2noise = True  # 'True' or 'False' (only for the last pass)\n",
    "    \n",
    "# method used to calculate the signal to noise ratio 'peak2peak' or 'peak2mean'\n",
    "settings.sig2noise_method = 'peak2mean'\n",
    "# select the width of the masked to masked out pixels next to the main peak\n",
    "settings.sig2noise_mask = 2\n",
    "# If extract_sig2noise==False the values in the signal to noise ratio\n",
    "# output column are set to NaN\n",
    "'vector validation options'\n",
    "# choose if you want to do validation of the first pass: True or False\n",
    "settings.validation_first_pass = True\n",
    "# only effecting the first pass of the interrogation the following passes\n",
    "# in the multipass will be validated\n",
    "'Validation Parameters'\n",
    "# The validation is done at each iteration based on three filters.\n",
    "# The first filter is based on the min/max ranges. Observe that these values are defined in\n",
    "# terms of minimum and maximum displacement in pixel/frames.\n",
    "settings.MinMax_U_disp = (-30, 30)\n",
    "settings.MinMax_V_disp = (-30, 30)\n",
    "# The second filter is based on the global STD threshold\n",
    "settings.std_threshold = 4  # threshold of the std validation\n",
    "# The third filter is the median test (not normalized at the moment)\n",
    "settings.median_threshold = 3  # threshold of the median validation\n",
    "# On the last iteration, an additional validation can be done based on the S/N.\n",
    "settings.median_size = 3 #defines the size of the local median\n",
    "'Validation based on the signal to noise ratio'\n",
    "# Note: only available when extract_sig2noise==True and only for the last\n",
    "# pass of the interrogation\n",
    "# Enable the signal to noise ratio validation. Options: True or False\n",
    "# settings.do_sig2noise_validation = False # This is time consuming\n",
    "# minmum signal to noise ratio that is need for a valid vector\n",
    "settings.sig2noise_threshold = 1.5\n",
    "'Outlier replacement or Smoothing options'\n",
    "# Replacment options for vectors which are masked as invalid by the validation\n",
    "settings.replace_vectors = True # Enable the replacment. Chosse: True or False\n",
    "settings.smoothn = False #Enables smoothing of the displacemenet field\n",
    "settings.smoothn_p = 0.5 # This is a smoothing parameter\n",
    "# select a method to replace the outliers: 'localmean', 'disk', 'distance'\n",
    "settings.filter_method = 'localmean'\n",
    "# maximum iterations performed to replace the outliers\n",
    "settings.max_filter_iteration = 4\n",
    "settings.filter_kernel_size = 2  # kernel size for the localmean method\n",
    "'Output options'\n",
    "# Select if you want to save the plotted vectorfield: True or False\n",
    "settings.save_plot = False\n",
    "# Choose wether you want to see the vectorfield or not :True or False\n",
    "settings.show_plot = True\n",
    "settings.scale_plot = 200  # select a value to scale the quiver plot of the vectorfield\n",
    "# run the script with the given settings\n",
    "\n",
    "settings.show_all_plots = False"
   ]
  },
  {
   "cell_type": "markdown",
   "id": "0e1fdfa1",
   "metadata": {
    "tags": [
     "papermill-error-cell-tag"
    ]
   },
   "source": [
    "<span id=\"papermill-error-cell\" style=\"color:red; font-family:Helvetica Neue, Helvetica, Arial, sans-serif; font-size:2em;\">Execution using papermill encountered an exception here and stopped:</span>"
   ]
  },
  {
   "cell_type": "code",
   "execution_count": 6,
   "id": "4318e46c",
   "metadata": {
    "execution": {
     "iopub.execute_input": "2022-10-20T19:15:41.977510Z",
     "iopub.status.busy": "2022-10-20T19:15:41.977296Z",
     "iopub.status.idle": "2022-10-20T19:15:42.619164Z",
     "shell.execute_reply": "2022-10-20T19:15:42.618382Z"
    },
    "papermill": {
     "duration": 0.648747,
     "end_time": "2022-10-20T19:15:42.620433",
     "exception": true,
     "start_time": "2022-10-20T19:15:41.971686",
     "status": "failed"
    },
    "tags": []
   },
   "outputs": [
    {
     "name": "stdout",
     "output_type": "stream",
     "text": [
      "../test10\n",
      "B001_1.tif\n",
      "False\n",
      "[]\n"
     ]
    },
    {
     "ename": "ValueError",
     "evalue": "Something failed loading the image file. No images were found. Please check directory and image template name.",
     "output_type": "error",
     "traceback": [
      "\u001b[0;31m---------------------------------------------------------------------------\u001b[0m",
      "\u001b[0;31mValueError\u001b[0m                                Traceback (most recent call last)",
      "Input \u001b[0;32mIn [6]\u001b[0m, in \u001b[0;36m<cell line: 1>\u001b[0;34m()\u001b[0m\n\u001b[0;32m----> 1\u001b[0m \u001b[43mwindef\u001b[49m\u001b[38;5;241;43m.\u001b[39;49m\u001b[43mpiv\u001b[49m\u001b[43m(\u001b[49m\u001b[43msettings\u001b[49m\u001b[43m)\u001b[49m\n",
      "File \u001b[0;32m~/Documents/repos/openpiv-python/openpiv/windef.py:466\u001b[0m, in \u001b[0;36mpiv\u001b[0;34m(settings)\u001b[0m\n\u001b[1;32m    463\u001b[0m \u001b[38;5;28;01mif\u001b[39;00m \u001b[38;5;129;01mnot\u001b[39;00m save_path\u001b[38;5;241m.\u001b[39mexists():\n\u001b[1;32m    464\u001b[0m     \u001b[38;5;66;03m# os.makedirs(save_path)\u001b[39;00m\n\u001b[1;32m    465\u001b[0m     save_path\u001b[38;5;241m.\u001b[39mmkdir(parents\u001b[38;5;241m=\u001b[39m\u001b[38;5;28;01mTrue\u001b[39;00m, exist_ok\u001b[38;5;241m=\u001b[39m\u001b[38;5;28;01mTrue\u001b[39;00m)\n\u001b[0;32m--> 466\u001b[0m task \u001b[38;5;241m=\u001b[39m \u001b[43mMultiprocesser\u001b[49m\u001b[43m(\u001b[49m\n\u001b[1;32m    467\u001b[0m \u001b[43m    \u001b[49m\u001b[43mdata_dir\u001b[49m\u001b[38;5;241;43m=\u001b[39;49m\u001b[43msettings\u001b[49m\u001b[38;5;241;43m.\u001b[39;49m\u001b[43mfilepath_images\u001b[49m\u001b[43m,\u001b[49m\n\u001b[1;32m    468\u001b[0m \u001b[43m    \u001b[49m\u001b[43mpattern_a\u001b[49m\u001b[38;5;241;43m=\u001b[39;49m\u001b[43msettings\u001b[49m\u001b[38;5;241;43m.\u001b[39;49m\u001b[43mframe_pattern_a\u001b[49m\u001b[43m,\u001b[49m\n\u001b[1;32m    469\u001b[0m \u001b[43m    \u001b[49m\u001b[43mpattern_b\u001b[49m\u001b[38;5;241;43m=\u001b[39;49m\u001b[43msettings\u001b[49m\u001b[38;5;241;43m.\u001b[39;49m\u001b[43mframe_pattern_b\u001b[49m\u001b[43m,\u001b[49m\n\u001b[1;32m    470\u001b[0m \u001b[43m\u001b[49m\u001b[43m)\u001b[49m\n\u001b[1;32m    471\u001b[0m task\u001b[38;5;241m.\u001b[39mrun(func\u001b[38;5;241m=\u001b[39mfunc, n_cpus\u001b[38;5;241m=\u001b[39m\u001b[38;5;241m1\u001b[39m)\n",
      "File \u001b[0;32m~/Documents/repos/openpiv-python/openpiv/tools.py:535\u001b[0m, in \u001b[0;36mMultiprocesser.__init__\u001b[0;34m(self, data_dir, pattern_a, pattern_b)\u001b[0m\n\u001b[1;32m    530\u001b[0m     \u001b[38;5;28;01mraise\u001b[39;00m \u001b[38;5;167;01mValueError\u001b[39;00m(\n\u001b[1;32m    531\u001b[0m         \u001b[38;5;124m'\u001b[39m\u001b[38;5;124mSomething failed loading the image file. There should be an equal number of \u001b[39m\u001b[38;5;124m\"\u001b[39m\u001b[38;5;124ma\u001b[39m\u001b[38;5;124m\"\u001b[39m\u001b[38;5;124m and \u001b[39m\u001b[38;5;124m\"\u001b[39m\u001b[38;5;124mb\u001b[39m\u001b[38;5;124m\"\u001b[39m\u001b[38;5;124m files.\u001b[39m\u001b[38;5;124m'\u001b[39m\n\u001b[1;32m    532\u001b[0m     )\n\u001b[1;32m    534\u001b[0m \u001b[38;5;28;01mif\u001b[39;00m \u001b[38;5;28mlen\u001b[39m(\u001b[38;5;28mself\u001b[39m\u001b[38;5;241m.\u001b[39mfiles_a) \u001b[38;5;241m==\u001b[39m \u001b[38;5;241m0\u001b[39m:\n\u001b[0;32m--> 535\u001b[0m     \u001b[38;5;28;01mraise\u001b[39;00m \u001b[38;5;167;01mValueError\u001b[39;00m(\n\u001b[1;32m    536\u001b[0m         \u001b[38;5;124m\"\u001b[39m\u001b[38;5;124mSomething failed loading the image file. No images were found. Please check directory and image template name.\u001b[39m\u001b[38;5;124m\"\u001b[39m\n\u001b[1;32m    537\u001b[0m     )\n",
      "\u001b[0;31mValueError\u001b[0m: Something failed loading the image file. No images were found. Please check directory and image template name."
     ]
    }
   ],
   "source": [
    "windef.piv(settings)"
   ]
  },
  {
   "cell_type": "code",
   "execution_count": null,
   "id": "9a34ce4d",
   "metadata": {
    "papermill": {
     "duration": null,
     "end_time": null,
     "exception": null,
     "start_time": null,
     "status": "pending"
    },
    "tags": []
   },
   "outputs": [],
   "source": [
    "#Run the extended search area PIV"
   ]
  },
  {
   "cell_type": "code",
   "execution_count": null,
   "id": "75550bdf",
   "metadata": {
    "papermill": {
     "duration": null,
     "end_time": null,
     "exception": null,
     "start_time": null,
     "status": "pending"
    },
    "tags": []
   },
   "outputs": [],
   "source": [
    "settings.frame_pattern_a = 'B002_1.tif'\n",
    "settings.frame_pattern_b = 'B002_2.tif'\n",
    "windef.piv(settings)"
   ]
  },
  {
   "cell_type": "code",
   "execution_count": null,
   "id": "a0d81050",
   "metadata": {
    "papermill": {
     "duration": null,
     "end_time": null,
     "exception": null,
     "start_time": null,
     "status": "pending"
    },
    "tags": []
   },
   "outputs": [],
   "source": [
    "settings.frame_pattern_a = 'B003_1.tif'\n",
    "settings.frame_pattern_b = 'B003_2.tif'\n",
    "windef.piv(settings)"
   ]
  },
  {
   "cell_type": "code",
   "execution_count": null,
   "id": "65a34e44",
   "metadata": {
    "papermill": {
     "duration": null,
     "end_time": null,
     "exception": null,
     "start_time": null,
     "status": "pending"
    },
    "tags": []
   },
   "outputs": [],
   "source": [
    "settings.frame_pattern_a = 'B004_1.tif'\n",
    "settings.frame_pattern_b = 'B004_2.tif'\n",
    "windef.piv(settings)"
   ]
  },
  {
   "cell_type": "code",
   "execution_count": null,
   "id": "1c0c44b7",
   "metadata": {
    "papermill": {
     "duration": null,
     "end_time": null,
     "exception": null,
     "start_time": null,
     "status": "pending"
    },
    "tags": []
   },
   "outputs": [],
   "source": [
    "settings.frame_pattern_a = 'B005_1.tif'\n",
    "settings.frame_pattern_b = 'B005_2.tif'\n",
    "windef.piv(settings)"
   ]
  },
  {
   "cell_type": "code",
   "execution_count": null,
   "id": "ee018086",
   "metadata": {
    "papermill": {
     "duration": null,
     "end_time": null,
     "exception": null,
     "start_time": null,
     "status": "pending"
    },
    "tags": []
   },
   "outputs": [],
   "source": [
    "settings.frame_pattern_a = 'B006_1.tif'\n",
    "settings.frame_pattern_b = 'B006_2.tif'\n",
    "windef.piv(settings)"
   ]
  },
  {
   "cell_type": "code",
   "execution_count": null,
   "id": "d61e41e9",
   "metadata": {
    "papermill": {
     "duration": null,
     "end_time": null,
     "exception": null,
     "start_time": null,
     "status": "pending"
    },
    "tags": []
   },
   "outputs": [],
   "source": [
    "from openpiv.pyprocess import extended_search_area_piv as piv\n",
    "from openpiv.piv import simple_piv\n",
    "from openpiv.pyprocess import get_coordinates\n",
    "from openpiv.tools import display_vector_field\n"
   ]
  },
  {
   "cell_type": "code",
   "execution_count": null,
   "id": "2642fc4e",
   "metadata": {
    "papermill": {
     "duration": null,
     "end_time": null,
     "exception": null,
     "start_time": null,
     "status": "pending"
    },
    "tags": []
   },
   "outputs": [],
   "source": [
    "files = sorted(settings.filepath_images.glob('*.tif'))\n",
    "from openpiv.tools import imread\n",
    "simple_piv(imread(files[0]), imread(files[1]));"
   ]
  },
  {
   "cell_type": "code",
   "execution_count": null,
   "id": "5ec06527",
   "metadata": {
    "papermill": {
     "duration": null,
     "end_time": null,
     "exception": null,
     "start_time": null,
     "status": "pending"
    },
    "tags": []
   },
   "outputs": [],
   "source": [
    "end = time()\n",
    "print(end - start)"
   ]
  },
  {
   "cell_type": "code",
   "execution_count": null,
   "id": "9fb9844f",
   "metadata": {
    "papermill": {
     "duration": null,
     "end_time": null,
     "exception": null,
     "start_time": null,
     "status": "pending"
    },
    "tags": []
   },
   "outputs": [],
   "source": []
  }
 ],
 "metadata": {
  "jupytext": {
   "formats": "ipynb,py:percent"
  },
  "kernelspec": {
   "display_name": "Python 3 (ipykernel)",
   "language": "python",
   "name": "python3"
  },
  "language_info": {
   "codemirror_mode": {
    "name": "ipython",
    "version": 3
   },
   "file_extension": ".py",
   "mimetype": "text/x-python",
   "name": "python",
   "nbconvert_exporter": "python",
   "pygments_lexer": "ipython3",
   "version": "3.8.12"
  },
  "papermill": {
   "default_parameters": {},
   "duration": 3.115989,
   "end_time": "2022-10-20T19:15:42.943652",
   "environment_variables": {},
   "exception": true,
   "input_path": "./notebooks/case_B_windef_small_window.ipynb",
   "output_path": "./notebooks/case_B_windef_small_window.ipynb",
   "parameters": {},
   "start_time": "2022-10-20T19:15:39.827663",
   "version": "2.4.0"
  }
 },
 "nbformat": 4,
 "nbformat_minor": 5
}