{
 "cells": [
  {
   "cell_type": "markdown",
   "id": "bf8b1474",
   "metadata": {
    "papermill": {
     "duration": null,
     "end_time": null,
     "exception": null,
     "start_time": null,
     "status": "completed"
    },
    "tags": []
   },
   "source": [
    "## OpenPIV tutorial of various correlation types\n",
    "\n",
    "In this notebook we compare the time to run the same analysis using Cython (precompiled) version\n",
    "with the Python process using FFT and/or direct cross-correlation method"
   ]
  },
  {
   "cell_type": "code",
   "execution_count": null,
   "id": "dcd8ee84",
   "metadata": {
    "papermill": {
     "duration": null,
     "end_time": null,
     "exception": null,
     "start_time": null,
     "status": "completed"
    },
    "tags": []
   },
   "outputs": [],
   "source": [
    "from openpiv import tools, scaling, pyprocess, validation, filters\n",
    "import numpy as np\n",
    "import pylab\n",
    "%matplotlib inline"
   ]
  },
  {
   "cell_type": "code",
   "execution_count": null,
   "id": "8cdba492",
   "metadata": {
    "papermill": {
     "duration": null,
     "end_time": null,
     "exception": null,
     "start_time": null,
     "status": "completed"
    },
    "tags": []
   },
   "outputs": [],
   "source": [
    "frame_a  = tools.imread( '../test1/exp1_001_a.bmp' )\n",
    "frame_b  = tools.imread( '../test1/exp1_001_b.bmp' )\n",
    "\n",
    "pylab.imshow(np.c_[frame_a,np.ones((frame_a.shape[0],20)),frame_b],\n",
    "             cmap=pylab.cm.gray)\n",
    "\n"
   ]
  },
  {
   "cell_type": "code",
   "execution_count": null,
   "id": "bd63f1f6",
   "metadata": {
    "papermill": {
     "duration": null,
     "end_time": null,
     "exception": null,
     "start_time": null,
     "status": "completed"
    },
    "tags": []
   },
   "outputs": [],
   "source": [
    "# Typical set of parameters \n",
    "\n",
    "window_size = 32 # pixels, IW size in frame A\n",
    "overlap = 16 # 50% overlap\n",
    "search_area_size = 32 # pixels, IW in frame B, helps for large displacements\n",
    "dt = 0.02 # second, 50 Hz, just an example\n",
    "scaling_factor = 96.52 # micron/pixel"
   ]
  },
  {
   "cell_type": "code",
   "execution_count": null,
   "id": "d2301c1e",
   "metadata": {
    "papermill": {
     "duration": null,
     "end_time": null,
     "exception": null,
     "start_time": null,
     "status": "completed"
    },
    "tags": []
   },
   "outputs": [],
   "source": [
    "%%time\n",
    "\n",
    "# default correlation is FFT circular type (faster, less robust)\n",
    "# default type of correlation is not normalized, faster\n",
    "# we do not know the values of signal to noise ratio a priori\n",
    "# therefore we decide that we remove lowest 5%\n",
    "# the signal to noise ratio is defined here as 1st to 2nd peak ratio\n",
    "# All the parameters need to be checked. \n",
    "\n",
    "# get the values of displacements in pixel/sec units\n",
    "u, v, sig2noise = pyprocess.extended_search_area_piv( \n",
    "    frame_a, frame_b, \n",
    "    window_size=window_size, \n",
    "    overlap=overlap, \n",
    "    dt=dt, \n",
    "    search_area_size=search_area_size, \n",
    "    sig2noise_method='peak2peak' )\n",
    "\n",
    "\n",
    "# prepare centers of the IWs to know where locate the vectors\n",
    "x, y = pyprocess.get_coordinates(frame_a.shape, \n",
    "                                 search_area_size=search_area_size, \n",
    "                                 overlap=overlap)\n",
    "\n",
    "u, v, mask = validation.sig2noise_val( u, v, \n",
    "                                      sig2noise, \n",
    "                                      threshold = np.percentile(sig2noise,5))\n",
    "\n",
    "# removing and filling in the outlier vectors\n",
    "u, v = filters.replace_outliers( u, v, method='localmean', \n",
    "                                max_iter=10, \n",
    "                                kernel_size=2)\n",
    "\n",
    "# rescale the results to millimeters and mm/sec\n",
    "x, y, u, v = scaling.uniform(x, y, u, v, \n",
    "                             scaling_factor=scaling_factor )\n",
    "\n",
    "# save the data\n",
    "x, y, u, v = tools.transform_coordinates(x, y, u, v)\n",
    "tools.save(x, y, u, v, mask, 'circular_default.txt' )"
   ]
  },
  {
   "cell_type": "code",
   "execution_count": null,
   "id": "dde71a66",
   "metadata": {
    "papermill": {
     "duration": null,
     "end_time": null,
     "exception": null,
     "start_time": null,
     "status": "completed"
    },
    "tags": []
   },
   "outputs": [],
   "source": [
    "%%time\n",
    "\n",
    "# use normalized_correlation\n",
    "# both image intensity is normalized before correlation\n",
    "# and the correlation map has peaks between 0..1\n",
    "\n",
    "# get the values of displacements in pixel/sec units\n",
    "u, v, sig2noise = pyprocess.extended_search_area_piv( \n",
    "    frame_a, frame_b, \n",
    "    window_size=window_size, \n",
    "    overlap=overlap, \n",
    "    dt=dt, \n",
    "    search_area_size=search_area_size, \n",
    "    sig2noise_method='peak2peak',\n",
    "    normalized_correlation = True)\n",
    "\n",
    "\n",
    "# prepare centers of the IWs to know where locate the vectors\n",
    "x, y = pyprocess.get_coordinates(frame_a.shape, \n",
    "                                 search_area_size=search_area_size, \n",
    "                                 overlap=overlap)\n",
    "\n",
    "u, v, mask = validation.sig2noise_val( u, v, \n",
    "                                      sig2noise, \n",
    "                                      threshold = np.percentile(sig2noise,5))\n",
    "\n",
    "# removing and filling in the outlier vectors\n",
    "u, v = filters.replace_outliers( u, v, method='localmean', \n",
    "                                max_iter=10, \n",
    "                                kernel_size=2)\n",
    "\n",
    "# rescale the results to millimeters and mm/sec\n",
    "x, y, u, v = scaling.uniform(x, y, u, v, \n",
    "                             scaling_factor=scaling_factor )\n",
    "\n",
    "# save the data\n",
    "x, y, u, v = tools.transform_coordinates(x, y, u, v)\n",
    "tools.save(x, y, u, v, mask, 'circular_normalized.txt' )"
   ]
  },
  {
   "cell_type": "code",
   "execution_count": null,
   "id": "4e4e16f3",
   "metadata": {
    "papermill": {
     "duration": null,
     "end_time": null,
     "exception": null,
     "start_time": null,
     "status": "completed"
    },
    "tags": []
   },
   "outputs": [],
   "source": [
    "%%time\n",
    "\n",
    "# change to another type of correlation 'linear' - uses\n",
    "# zero padding prior to the correlation\n",
    "# it requires uniform background and therefore \n",
    "# we need to normalize intensity of the images\n",
    "\n",
    "u, v, sig2noise = pyprocess.extended_search_area_piv( \n",
    "    pyprocess.normalize_intensity(frame_a), \n",
    "    pyprocess.normalize_intensity(frame_b), \n",
    "    window_size=window_size, \n",
    "    overlap=overlap, \n",
    "    dt=dt, \n",
    "    search_area_size=search_area_size, \n",
    "    sig2noise_method='peak2peak',\n",
    "    correlation_method = 'linear') \n",
    "\n",
    "\n",
    "# prepare centers of the IWs to know where locate the vectors\n",
    "x, y = pyprocess.get_coordinates(frame_a.shape, \n",
    "                                 search_area_size=search_area_size, \n",
    "                                 overlap=overlap)\n",
    "\n",
    "u, v, mask = validation.sig2noise_val( u, v, \n",
    "                                      sig2noise, \n",
    "                                      threshold = np.percentile(sig2noise,5))\n",
    "\n",
    "# removing and filling in the outlier vectors\n",
    "u, v = filters.replace_outliers( u, v, method='localmean', \n",
    "                                max_iter=10, \n",
    "                                kernel_size=2)\n",
    "\n",
    "# rescale the results to millimeters and mm/sec\n",
    "x, y, u, v = scaling.uniform(x, y, u, v, \n",
    "                             scaling_factor=scaling_factor )\n",
    "\n",
    "# save the data\n",
    "x, y, u, v = tools.transform_coordinates(x, y, u, v)\n",
    "tools.save(x, y, u, v, mask, 'linear_intensity.txt' )"
   ]
  },
  {
   "cell_type": "code",
   "execution_count": null,
   "id": "31710d9e",
   "metadata": {
    "papermill": {
     "duration": null,
     "end_time": null,
     "exception": null,
     "start_time": null,
     "status": "completed"
    },
    "tags": []
   },
   "outputs": [],
   "source": [
    "%%time\n",
    "\n",
    "# add normalized correlation to linear\n",
    "\n",
    "u, v, sig2noise = pyprocess.extended_search_area_piv( \n",
    "    pyprocess.normalize_intensity(frame_a), \n",
    "    pyprocess.normalize_intensity(frame_b), \n",
    "    window_size=window_size, \n",
    "    overlap=overlap, \n",
    "    dt=dt, \n",
    "    search_area_size=search_area_size, \n",
    "    sig2noise_method='peak2peak',\n",
    "    correlation_method='linear',\n",
    "    normalized_correlation=True) \n",
    "\n",
    "\n",
    "# prepare centers of the IWs to know where locate the vectors\n",
    "x, y = pyprocess.get_coordinates(frame_a.shape, \n",
    "                                 search_area_size=search_area_size, \n",
    "                                 overlap=overlap)\n",
    "\n",
    "u, v, mask = validation.sig2noise_val( u, v, \n",
    "                                      sig2noise, \n",
    "                                      threshold = np.percentile(sig2noise,5))\n",
    "\n",
    "# removing and filling in the outlier vectors\n",
    "u, v = filters.replace_outliers( u, v, method='localmean', \n",
    "                                max_iter=10, \n",
    "                                kernel_size=2)\n",
    "\n",
    "# rescale the results to millimeters and mm/sec\n",
    "x, y, u, v = scaling.uniform(x, y, u, v, \n",
    "                             scaling_factor=scaling_factor )\n",
    "\n",
    "# save the data\n",
    "x, y, u, v = tools.transform_coordinates(x, y, u, v)\n",
    "tools.save(x, y, u, v, mask, 'linear_normalized.txt' )"
   ]
  },
  {
   "cell_type": "code",
   "execution_count": null,
   "id": "a6adb9b5",
   "metadata": {
    "papermill": {
     "duration": null,
     "end_time": null,
     "exception": null,
     "start_time": null,
     "status": "completed"
    },
    "tags": []
   },
   "outputs": [],
   "source": [
    "%%time\n",
    "\n",
    "\n",
    "# change to the extended search_type when window size in B is \n",
    "# larger to capture large displacements\n",
    "\n",
    "search_area_size = 40\n",
    "\n",
    "u, v, sig2noise = pyprocess.extended_search_area_piv( \n",
    "    frame_a, \n",
    "    frame_b, \n",
    "    window_size=window_size, \n",
    "    overlap=overlap, \n",
    "    dt=dt, \n",
    "    search_area_size=search_area_size, \n",
    "    sig2noise_method='peak2peak',\n",
    "    correlation_method='linear',\n",
    "    normalized_correlation=True) \n",
    "\n",
    "\n",
    "# prepare centers of the IWs to know where locate the vectors\n",
    "x, y = pyprocess.get_coordinates(frame_a.shape, \n",
    "                                 search_area_size=search_area_size, \n",
    "                                 overlap=overlap)\n",
    "\n",
    "u, v, mask = validation.sig2noise_val( u, v, \n",
    "                                      sig2noise, \n",
    "                                      threshold = np.percentile(sig2noise,5))\n",
    "\n",
    "# removing and filling in the outlier vectors\n",
    "u, v = filters.replace_outliers( u, v, method='localmean', \n",
    "                                max_iter=10, \n",
    "                                kernel_size=2)\n",
    "\n",
    "# rescale the results to millimeters and mm/sec\n",
    "x, y, u, v = scaling.uniform(x, y, u, v, \n",
    "                             scaling_factor=scaling_factor )\n",
    "\n",
    "# save the data\n",
    "x, y, u, v = tools.transform_coordinates(x, y, u, v)\n",
    "tools.save(x, y, u, v, mask, 'linear_normalized_extended.txt' )"
   ]
  },
  {
   "cell_type": "code",
   "execution_count": null,
   "id": "e72abc92",
   "metadata": {
    "papermill": {
     "duration": null,
     "end_time": null,
     "exception": null,
     "start_time": null,
     "status": "completed"
    },
    "tags": []
   },
   "outputs": [],
   "source": [
    "%%time\n",
    "\n",
    "# default correlation is FFT circular type (faster, less robust)\n",
    "# default type of correlation is not normalized, faster\n",
    "# we do not know the values of signal to noise ratio a priori\n",
    "# therefore we decide that we remove lowest 5%\n",
    "# the signal to noise ratio is defined here as 1st to 2nd peak ratio\n",
    "# All the parameters need to be checked. \n",
    "\n",
    "# get the values of displacements in pixel/sec units\n",
    "u, v, sig2noise = pyprocess.extended_search_area_piv( \n",
    "    frame_a, frame_b, \n",
    "    window_size=window_size, \n",
    "    overlap=overlap, \n",
    "    dt=dt, \n",
    "    search_area_size=search_area_size, \n",
    "    sig2noise_method='peak2peak' )\n",
    "\n",
    "\n",
    "# prepare centers of the IWs to know where locate the vectors\n",
    "x, y = pyprocess.get_coordinates(frame_a.shape, \n",
    "                                 search_area_size=search_area_size, \n",
    "                                 overlap=overlap)\n",
    "\n",
    "u, v, mask = validation.sig2noise_val( u, v, \n",
    "                                      sig2noise, \n",
    "                                      threshold = np.percentile(sig2noise,5))\n",
    "\n",
    "# removing and filling in the outlier vectors\n",
    "u, v = filters.replace_outliers( u, v, method='localmean', \n",
    "                                max_iter=10, \n",
    "                                kernel_size=2)\n",
    "\n",
    "# rescale the results to millimeters and mm/sec\n",
    "x, y, u, v = scaling.uniform(x, y, u, v, \n",
    "                             scaling_factor=scaling_factor )\n",
    "\n",
    "# save the data\n",
    "x, y, u, v = tools.transform_coordinates(x, y, u, v)\n",
    "tools.save(x, y, u, v, mask, 'circular_extended.txt' )"
   ]
  },
  {
   "cell_type": "code",
   "execution_count": null,
   "id": "c23fdf96",
   "metadata": {
    "papermill": {
     "duration": null,
     "end_time": null,
     "exception": null,
     "start_time": null,
     "status": "completed"
    },
    "tags": []
   },
   "outputs": [],
   "source": [
    "tools.display_vector_field('linear_normalized_extended.txt', scale=30)\n",
    "tools.display_vector_field('linear_normalized.txt', scale=30)\n",
    "tools.display_vector_field('linear_intensity.txt', scale=30)\n",
    "tools.display_vector_field('circular_default.txt', scale=30);\n",
    "tools.display_vector_field('circular_normalized.txt', scale=30);\n",
    "tools.display_vector_field('circular_extended.txt', scale=30);"
   ]
  },
  {
   "cell_type": "code",
   "execution_count": null,
   "id": "6e642dff",
   "metadata": {
    "papermill": {
     "duration": null,
     "end_time": null,
     "exception": null,
     "start_time": null,
     "status": "completed"
    },
    "tags": []
   },
   "outputs": [],
   "source": []
  },
  {
   "cell_type": "code",
   "execution_count": null,
   "id": "d6a25647",
   "metadata": {
    "papermill": {
     "duration": null,
     "end_time": null,
     "exception": null,
     "start_time": null,
     "status": "completed"
    },
    "tags": []
   },
   "outputs": [],
   "source": []
  },
  {
   "cell_type": "code",
   "execution_count": null,
   "id": "213ac9cb",
   "metadata": {
    "papermill": {
     "duration": null,
     "end_time": null,
     "exception": null,
     "start_time": null,
     "status": "completed"
    },
    "tags": []
   },
   "outputs": [],
   "source": []
  }
 ],
 "metadata": {
  "anaconda-cloud": {},
  "jupytext": {
   "formats": "ipynb,py:percent"
  },
  "kernelspec": {
   "display_name": "Python [conda env:openpiv] *",
   "language": "python",
   "name": "conda-env-openpiv-py"
  },
  "language_info": {
   "codemirror_mode": {
    "name": "ipython",
    "version": 3
   },
   "file_extension": ".py",
   "mimetype": "text/x-python",
   "name": "python",
   "nbconvert_exporter": "python",
   "pygments_lexer": "ipython3",
   "version": "3.8.5"
  },
  "papermill": {
   "default_parameters": {},
   "duration": 0.016493,
   "end_time": "2022-10-20T19:13:57.798723",
   "environment_variables": {},
   "exception": null,
   "input_path": "./notebooks/pyprocess_correlations.ipynb",
   "output_path": "./notebooks/pyprocess_correlations.ipynb",
   "parameters": {},
   "start_time": "2022-10-20T19:13:57.782230",
   "version": "2.4.0"
  }
 },
 "nbformat": 4,
 "nbformat_minor": 5
}