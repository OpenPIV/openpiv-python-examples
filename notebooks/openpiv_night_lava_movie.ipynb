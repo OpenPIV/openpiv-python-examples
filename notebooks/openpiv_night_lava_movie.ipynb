{
 "cells": [
  {
   "cell_type": "markdown",
   "id": "62dad9b3",
   "metadata": {
    "tags": [
     "papermill-error-cell-tag"
    ]
   },
   "source": [
    "<span style=\"color:red; font-family:Helvetica Neue, Helvetica, Arial, sans-serif; font-size:2em;\">An Exception was encountered at '<a href=\"#papermill-error-cell\">In [7]</a>'.</span>"
   ]
  },
  {
   "cell_type": "code",
   "execution_count": 1,
   "id": "37fa9778",
   "metadata": {
    "execution": {
     "iopub.execute_input": "2022-10-20T19:13:59.169328Z",
     "iopub.status.busy": "2022-10-20T19:13:59.168136Z",
     "iopub.status.idle": "2022-10-20T19:13:59.185384Z",
     "shell.execute_reply": "2022-10-20T19:13:59.181580Z"
    },
    "papermill": {
     "duration": 0.044758,
     "end_time": "2022-10-20T19:13:59.192615",
     "exception": false,
     "start_time": "2022-10-20T19:13:59.147857",
     "status": "completed"
    },
    "tags": []
   },
   "outputs": [],
   "source": [
    "# we need to read frames from the movie\n",
    "# so we install opencv-python - change the next cell type to \"Code\""
   ]
  },
  {
   "cell_type": "raw",
   "id": "887056ab",
   "metadata": {
    "papermill": {
     "duration": 0.005338,
     "end_time": "2022-10-20T19:13:59.205891",
     "exception": false,
     "start_time": "2022-10-20T19:13:59.200553",
     "status": "completed"
    },
    "tags": []
   },
   "source": [
    "# !pip install opencv-python"
   ]
  },
  {
   "cell_type": "code",
   "execution_count": 2,
   "id": "8d85ac8a",
   "metadata": {
    "execution": {
     "iopub.execute_input": "2022-10-20T19:13:59.215423Z",
     "iopub.status.busy": "2022-10-20T19:13:59.215147Z",
     "iopub.status.idle": "2022-10-20T19:13:59.333952Z",
     "shell.execute_reply": "2022-10-20T19:13:59.333220Z"
    },
    "papermill": {
     "duration": 0.12513,
     "end_time": "2022-10-20T19:13:59.335422",
     "exception": false,
     "start_time": "2022-10-20T19:13:59.210292",
     "status": "completed"
    },
    "tags": []
   },
   "outputs": [],
   "source": [
    "import cv2"
   ]
  },
  {
   "cell_type": "code",
   "execution_count": 3,
   "id": "d6936d92",
   "metadata": {
    "execution": {
     "iopub.execute_input": "2022-10-20T19:13:59.342058Z",
     "iopub.status.busy": "2022-10-20T19:13:59.341754Z",
     "iopub.status.idle": "2022-10-20T19:13:59.925635Z",
     "shell.execute_reply": "2022-10-20T19:13:59.924239Z"
    },
    "papermill": {
     "duration": 0.589304,
     "end_time": "2022-10-20T19:13:59.927387",
     "exception": false,
     "start_time": "2022-10-20T19:13:59.338083",
     "status": "completed"
    },
    "tags": []
   },
   "outputs": [],
   "source": [
    "import numpy as np\n",
    "import matplotlib.pyplot as plt\n",
    "plt.rcParams[\"figure.figsize\"] = (12, 12)\n",
    "\n",
    "from skimage import exposure\n",
    "from skimage import img_as_ubyte"
   ]
  },
  {
   "cell_type": "code",
   "execution_count": 4,
   "id": "c41d7efb",
   "metadata": {
    "execution": {
     "iopub.execute_input": "2022-10-20T19:13:59.936832Z",
     "iopub.status.busy": "2022-10-20T19:13:59.936403Z",
     "iopub.status.idle": "2022-10-20T19:14:00.210528Z",
     "shell.execute_reply": "2022-10-20T19:14:00.209927Z"
    },
    "papermill": {
     "duration": 0.282014,
     "end_time": "2022-10-20T19:14:00.212098",
     "exception": false,
     "start_time": "2022-10-20T19:13:59.930084",
     "status": "completed"
    },
    "tags": []
   },
   "outputs": [],
   "source": [
    "from openpiv import pyprocess, piv, validation, tools, filters, scaling"
   ]
  },
  {
   "cell_type": "code",
   "execution_count": 5,
   "id": "27d6d163",
   "metadata": {
    "execution": {
     "iopub.execute_input": "2022-10-20T19:14:00.218476Z",
     "iopub.status.busy": "2022-10-20T19:14:00.218096Z",
     "iopub.status.idle": "2022-10-20T19:14:00.222174Z",
     "shell.execute_reply": "2022-10-20T19:14:00.221565Z"
    },
    "papermill": {
     "duration": 0.008576,
     "end_time": "2022-10-20T19:14:00.223514",
     "exception": false,
     "start_time": "2022-10-20T19:14:00.214938",
     "status": "completed"
    },
    "tags": []
   },
   "outputs": [],
   "source": [
    "def as_grey(frame):\n",
    "    red = frame[:, :, 0]\n",
    "    green = frame[:, :, 1]\n",
    "    blue = frame[:, :, 2]\n",
    "    im = np.ceil(0.2125 * red + 0.7154 * green + 0.0721 * blue).astype(np.uint8)\n",
    "    im = exposure.equalize_adapthist(im,clip_limit=1.2)\n",
    "    \n",
    "    return img_as_ubyte(im)"
   ]
  },
  {
   "cell_type": "code",
   "execution_count": 6,
   "id": "f7e960ab",
   "metadata": {
    "execution": {
     "iopub.execute_input": "2022-10-20T19:14:00.230254Z",
     "iopub.status.busy": "2022-10-20T19:14:00.230002Z",
     "iopub.status.idle": "2022-10-20T19:14:00.234710Z",
     "shell.execute_reply": "2022-10-20T19:14:00.234139Z"
    },
    "papermill": {
     "duration": 0.009554,
     "end_time": "2022-10-20T19:14:00.236031",
     "exception": false,
     "start_time": "2022-10-20T19:14:00.226477",
     "status": "completed"
    },
    "tags": []
   },
   "outputs": [
    {
     "name": "stderr",
     "output_type": "stream",
     "text": [
      "[ERROR:0@0.906] global /io/opencv/modules/videoio/src/cap.cpp (164) open VIDEOIO(CV_IMAGES): raised OpenCV exception:\n",
      "\n",
      "OpenCV(4.6.0) /io/opencv/modules/videoio/src/cap_images.cpp:253: error: (-5:Bad argument) CAP_IMAGES: can't find starting number (in the name of file): ../test16/Night_time_lavaflow_trim.mov in function 'icvExtractPattern'\n",
      "\n",
      "\n"
     ]
    }
   ],
   "source": [
    "# the video is the jet PIV from Youtube\n",
    "# https://www.youtube.com/watch?v=EeS1rYMZUxI&ab_channel=USUExperimentalFluidDynamicsLab\n",
    "# all the rights reserved to the authors\n",
    "\n",
    "vidcap = cv2.VideoCapture('../test16/Night_time_lavaflow_trim.mov')\n",
    "success, image1 = vidcap.read()\n",
    "skip = 3\n",
    "for i in range(skip):\n",
    "    success, image2 = vidcap.read()\n",
    "# count = 0\n",
    "# U = []\n",
    "# V = []\n",
    "\n",
    "# plt.figure(figsize=(12,12))\n",
    "\n",
    "# while success and count < 1:\n",
    "#     # cv2.imwrite(\"frame%d.jpg\" % count, image)     # save frame as JPEG file      \n",
    "#     success, image2 = vidcap.read()\n",
    "#     # print('Read a new frame: ', success)\n",
    "#     if success:\n",
    "#         x,y,u,v = piv.simple_piv(image1.sum(axis=2), image2.sum(axis=2),plot=True);\n",
    "#         # image1 = image2.copy()\n",
    "#         count += 1\n",
    "#         U.append(u)\n",
    "#         V.append(v)"
   ]
  },
  {
   "cell_type": "markdown",
   "id": "6bd75552",
   "metadata": {
    "tags": [
     "papermill-error-cell-tag"
    ]
   },
   "source": [
    "<span id=\"papermill-error-cell\" style=\"color:red; font-family:Helvetica Neue, Helvetica, Arial, sans-serif; font-size:2em;\">Execution using papermill encountered an exception here and stopped:</span>"
   ]
  },
  {
   "cell_type": "code",
   "execution_count": 7,
   "id": "0efe2e10",
   "metadata": {
    "execution": {
     "iopub.execute_input": "2022-10-20T19:14:00.243376Z",
     "iopub.status.busy": "2022-10-20T19:14:00.243172Z",
     "iopub.status.idle": "2022-10-20T19:14:00.698819Z",
     "shell.execute_reply": "2022-10-20T19:14:00.697933Z"
    },
    "papermill": {
     "duration": 0.460557,
     "end_time": "2022-10-20T19:14:00.699855",
     "exception": true,
     "start_time": "2022-10-20T19:14:00.239298",
     "status": "failed"
    },
    "tags": []
   },
   "outputs": [
    {
     "ename": "TypeError",
     "evalue": "'NoneType' object is not subscriptable",
     "output_type": "error",
     "traceback": [
      "\u001b[0;31m---------------------------------------------------------------------------\u001b[0m",
      "\u001b[0;31mTypeError\u001b[0m                                 Traceback (most recent call last)",
      "Input \u001b[0;32mIn [7]\u001b[0m, in \u001b[0;36m<cell line: 1>\u001b[0;34m()\u001b[0m\n\u001b[0;32m----> 1\u001b[0m plt\u001b[38;5;241m.\u001b[39mimshow(\u001b[43mas_grey\u001b[49m\u001b[43m(\u001b[49m\u001b[43mimage1\u001b[49m\u001b[43m)\u001b[49m,cmap\u001b[38;5;241m=\u001b[39m\u001b[38;5;124m'\u001b[39m\u001b[38;5;124mgray\u001b[39m\u001b[38;5;124m'\u001b[39m)\n",
      "Input \u001b[0;32mIn [5]\u001b[0m, in \u001b[0;36mas_grey\u001b[0;34m(frame)\u001b[0m\n\u001b[1;32m      1\u001b[0m \u001b[38;5;28;01mdef\u001b[39;00m \u001b[38;5;21mas_grey\u001b[39m(frame):\n\u001b[0;32m----> 2\u001b[0m     red \u001b[38;5;241m=\u001b[39m \u001b[43mframe\u001b[49m\u001b[43m[\u001b[49m\u001b[43m:\u001b[49m\u001b[43m,\u001b[49m\u001b[43m \u001b[49m\u001b[43m:\u001b[49m\u001b[43m,\u001b[49m\u001b[43m \u001b[49m\u001b[38;5;241;43m0\u001b[39;49m\u001b[43m]\u001b[49m\n\u001b[1;32m      3\u001b[0m     green \u001b[38;5;241m=\u001b[39m frame[:, :, \u001b[38;5;241m1\u001b[39m]\n\u001b[1;32m      4\u001b[0m     blue \u001b[38;5;241m=\u001b[39m frame[:, :, \u001b[38;5;241m2\u001b[39m]\n",
      "\u001b[0;31mTypeError\u001b[0m: 'NoneType' object is not subscriptable"
     ]
    }
   ],
   "source": [
    "plt.imshow(as_grey(image1),cmap='gray')"
   ]
  },
  {
   "cell_type": "code",
   "execution_count": null,
   "id": "7e71768e",
   "metadata": {
    "papermill": {
     "duration": null,
     "end_time": null,
     "exception": null,
     "start_time": null,
     "status": "pending"
    },
    "tags": []
   },
   "outputs": [],
   "source": [
    "plt.imshow(as_grey(image2),cmap='gray')"
   ]
  },
  {
   "cell_type": "code",
   "execution_count": null,
   "id": "d8b749e6",
   "metadata": {
    "papermill": {
     "duration": null,
     "end_time": null,
     "exception": null,
     "start_time": null,
     "status": "pending"
    },
    "tags": []
   },
   "outputs": [],
   "source": [
    "plt.imshow(as_grey(image2) - as_grey(image1),cmap='gray')"
   ]
  },
  {
   "cell_type": "code",
   "execution_count": null,
   "id": "3e549967",
   "metadata": {
    "papermill": {
     "duration": null,
     "end_time": null,
     "exception": null,
     "start_time": null,
     "status": "pending"
    },
    "tags": []
   },
   "outputs": [],
   "source": [
    "frame_a = as_grey(image1).astype(np.int32)\n",
    "frame_b = as_grey(image2).astype(np.int32)"
   ]
  },
  {
   "cell_type": "code",
   "execution_count": null,
   "id": "fcc32fb6",
   "metadata": {
    "papermill": {
     "duration": null,
     "end_time": null,
     "exception": null,
     "start_time": null,
     "status": "pending"
    },
    "tags": []
   },
   "outputs": [],
   "source": [
    "plt.imshow(frame_a,cmap='gray')"
   ]
  },
  {
   "cell_type": "code",
   "execution_count": null,
   "id": "aaa35b3c",
   "metadata": {
    "papermill": {
     "duration": null,
     "end_time": null,
     "exception": null,
     "start_time": null,
     "status": "pending"
    },
    "tags": []
   },
   "outputs": [],
   "source": [
    "winsize = 64 # pixels, interrogation window size in frame A\n",
    "searchsize = 128  # pixels, search in image B\n",
    "overlap = 32 # pixels, 50% overlap\n",
    "dt = 1 # sec, time interval between pulses\n",
    "\n",
    "\n",
    "u0, v0, sig2noise = pyprocess.extended_search_area_piv(frame_a, \n",
    "                                                       frame_b, \n",
    "                                                       window_size=winsize, \n",
    "                                                       overlap=overlap, \n",
    "                                                       dt=dt, \n",
    "                                                       search_area_size=searchsize, \n",
    "                                                       sig2noise_method='peak2peak')\n",
    "\n",
    "x, y = pyprocess.get_coordinates( image_size=frame_a.shape, \n",
    "                                 search_area_size=searchsize, \n",
    "                                 overlap=overlap )\n",
    "\n",
    "u1, v1, mask = validation.sig2noise_val( u0, v0, \n",
    "                                        sig2noise, \n",
    "                                        threshold = 1.0)\n",
    "# if you need more detailed look, first create a histogram of sig2noise\n",
    "# plt.hist(sig2noise.flatten(),bins=100)\n",
    "# to see where is a reasonable limit\n",
    "\n",
    "# filter out outliers that are very different from the\n",
    "# neighbours\n",
    "\n",
    "u2, v2 = filters.replace_outliers( u1, v1, \n",
    "                                  method='localmean', \n",
    "                                  max_iter=3, \n",
    "                                  kernel_size=3)\n",
    "# convert x,y to mm\n",
    "# convert u,v to mm/sec\n",
    "\n",
    "x, y, u3, v3 = scaling.uniform(x, y, u2, v2, \n",
    "                               scaling_factor = 1.0 ) \n",
    "\n",
    "# 0,0 shall be bottom left, positive rotation rate is counterclockwise\n",
    "x, y, u3, v3 = tools.transform_coordinates(x, y, u3, v3)\n",
    "\n",
    "tools.save(x, y, u3, v3, mask, '../test16/night_lava_test.txt' )\n",
    "\n",
    "tools.imsave('../test16/bkg.png',as_grey(image1))"
   ]
  },
  {
   "cell_type": "code",
   "execution_count": null,
   "id": "714673ec",
   "metadata": {
    "papermill": {
     "duration": null,
     "end_time": null,
     "exception": null,
     "start_time": null,
     "status": "pending"
    },
    "tags": []
   },
   "outputs": [],
   "source": [
    "fig, ax = plt.subplots()\n",
    "\n",
    "tools.display_vector_field('../test16/night_lava_test.txt', \n",
    "                           ax=ax, scaling_factor=1, \n",
    "                           scale=1000, # scale defines here the arrow length\n",
    "                           width=0.0035, # width is the thickness of the arrow\n",
    "                           on_img=True, # overlay on the image\n",
    "                           image_name='../test16/bkg.png');"
   ]
  },
  {
   "cell_type": "raw",
   "id": "29a5f2fb",
   "metadata": {
    "papermill": {
     "duration": null,
     "end_time": null,
     "exception": null,
     "start_time": null,
     "status": "pending"
    },
    "tags": []
   },
   "source": [
    "U = np.stack(U)\n",
    "Umean = np.mean(U, axis=0)\n",
    "V = np.stack(V)\n",
    "Vmean = np.mean(V,axis=0)"
   ]
  },
  {
   "cell_type": "raw",
   "id": "8cf44fbf",
   "metadata": {
    "papermill": {
     "duration": null,
     "end_time": null,
     "exception": null,
     "start_time": null,
     "status": "pending"
    },
    "tags": []
   },
   "source": [
    "fig,ax = plt.subplots(figsize=(8,8))\n",
    "ax.imshow(image1,alpha=0.7)\n",
    "ax.quiver(x,y,Umean,Vmean,scale=200,color='r',width=.008)\n",
    "# plt.show()\n",
    "plt.plot(np.mean(Umean,axis=1)*20,y[:,0],color='y',lw=3)"
   ]
  },
  {
   "cell_type": "code",
   "execution_count": null,
   "id": "4979b728",
   "metadata": {
    "papermill": {
     "duration": null,
     "end_time": null,
     "exception": null,
     "start_time": null,
     "status": "pending"
    },
    "tags": []
   },
   "outputs": [],
   "source": [
    "from skimage.registration import optical_flow_ilk\n",
    "# --- Compute the optical flow\n",
    "\n",
    "\n",
    "v, u = optical_flow_ilk(frame_a, frame_b, radius=15)\n",
    "\n",
    "# --- Compute flow magnitude\n",
    "norm = np.sqrt(u ** 2 + v ** 2)\n",
    "\n",
    "# --- Display\n",
    "fig, (ax0, ax1) = plt.subplots(1, 2, figsize=(8, 4))\n",
    "\n",
    "# --- Sequence image sample\n",
    "\n",
    "ax0.imshow(frame_a, cmap='gray')\n",
    "ax0.set_title(\"Sequence image sample\")\n",
    "ax0.set_axis_off()\n",
    "\n",
    "# --- Quiver plot arguments\n",
    "\n",
    "nvec = 20  # Number of vectors to be displayed along each image dimension\n",
    "nl, nc = frame_a.shape\n",
    "step = max(nl//nvec, nc//nvec)\n",
    "\n",
    "y, x = np.mgrid[:nl:step, :nc:step]\n",
    "u_ = u[::step, ::step]\n",
    "v_ = v[::step, ::step]\n",
    "\n",
    "ax1.imshow(norm)\n",
    "ax1.quiver(x, y, u_, v_, color='r', units='dots',\n",
    "           angles='xy', scale_units='xy', lw=3)\n",
    "ax1.set_title(\"Optical flow magnitude and vector field\")\n",
    "ax1.set_axis_off()\n",
    "fig.tight_layout()\n",
    "\n",
    "plt.show()"
   ]
  },
  {
   "cell_type": "code",
   "execution_count": null,
   "id": "cc22a775",
   "metadata": {
    "papermill": {
     "duration": null,
     "end_time": null,
     "exception": null,
     "start_time": null,
     "status": "pending"
    },
    "tags": []
   },
   "outputs": [],
   "source": []
  }
 ],
 "metadata": {
  "kernelspec": {
   "display_name": "Python 3 (ipykernel)",
   "language": "python",
   "name": "python3"
  },
  "language_info": {
   "codemirror_mode": {
    "name": "ipython",
    "version": 3
   },
   "file_extension": ".py",
   "mimetype": "text/x-python",
   "name": "python",
   "nbconvert_exporter": "python",
   "pygments_lexer": "ipython3",
   "version": "3.8.12"
  },
  "papermill": {
   "default_parameters": {},
   "duration": 2.693759,
   "end_time": "2022-10-20T19:14:01.024077",
   "environment_variables": {},
   "exception": true,
   "input_path": "./notebooks/openpiv_night_lava_movie.ipynb",
   "output_path": "./notebooks/openpiv_night_lava_movie.ipynb",
   "parameters": {},
   "start_time": "2022-10-20T19:13:58.330318",
   "version": "2.4.0"
  }
 },
 "nbformat": 4,
 "nbformat_minor": 5
}