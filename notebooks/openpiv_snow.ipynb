{
 "cells": [
  {
   "cell_type": "code",
   "execution_count": null,
   "id": "e52ddbe1",
   "metadata": {
    "papermill": {
     "duration": null,
     "end_time": null,
     "exception": null,
     "start_time": null,
     "status": "completed"
    },
    "tags": []
   },
   "outputs": [],
   "source": [
    "# !pip install pytube==10.4.1\n",
    "from pytube import YouTube\n",
    "# misc\n",
    "import os\n",
    "import shutil\n",
    "import math\n",
    "import datetime\n",
    "# plots\n",
    "import matplotlib.pyplot as plt\n",
    "%matplotlib inline\n",
    "# image operation\n",
    "import cv2"
   ]
  },
  {
   "cell_type": "code",
   "execution_count": null,
   "id": "934e22ab",
   "metadata": {
    "papermill": {
     "duration": null,
     "end_time": null,
     "exception": null,
     "start_time": null,
     "status": "completed"
    },
    "tags": []
   },
   "outputs": [],
   "source": [
    "# thanks to the Medium article \n",
    "# https://towardsdatascience.com/the-easiest-way-to-download-youtube-videos-using-python-2640958318ab\n",
    "video = YouTube('https://www.youtube.com/watch?v=OHl_0s4qqUY&ab_channel=umnSAFL')"
   ]
  },
  {
   "cell_type": "code",
   "execution_count": null,
   "id": "bb6d18d8",
   "metadata": {
    "papermill": {
     "duration": null,
     "end_time": null,
     "exception": null,
     "start_time": null,
     "status": "completed"
    },
    "tags": []
   },
   "outputs": [],
   "source": [
    "video.streams.filter(file_extension = \"mp4\").all()"
   ]
  },
  {
   "cell_type": "code",
   "execution_count": null,
   "id": "c74fe0f3",
   "metadata": {
    "papermill": {
     "duration": null,
     "end_time": null,
     "exception": null,
     "start_time": null,
     "status": "completed"
    },
    "tags": []
   },
   "outputs": [],
   "source": [
    "video.streams.get_by_itag(135).download()"
   ]
  },
  {
   "cell_type": "code",
   "execution_count": null,
   "id": "4caa6940",
   "metadata": {
    "papermill": {
     "duration": null,
     "end_time": null,
     "exception": null,
     "start_time": null,
     "status": "completed"
    },
    "tags": []
   },
   "outputs": [],
   "source": [
    "class FrameExtractor():\n",
    "    '''\n",
    "    Class used for extracting frames from a video file.\n",
    "    '''\n",
    "    def __init__(self, video_path):\n",
    "        self.video_path = video_path\n",
    "        self.vid_cap = cv2.VideoCapture(video_path)\n",
    "        self.n_frames = int(self.vid_cap.get(cv2.CAP_PROP_FRAME_COUNT))\n",
    "        self.fps = int(self.vid_cap.get(cv2.CAP_PROP_FPS))\n",
    "        \n",
    "    def get_video_duration(self):\n",
    "        duration = self.n_frames/self.fps\n",
    "        print(f'Duration: {datetime.timedelta(seconds=duration)}')\n",
    "        \n",
    "    def get_n_images(self, every_x_frame):\n",
    "        n_images = math.floor(self.n_frames / every_x_frame) + 1\n",
    "        print(f'Extracting every {every_x_frame} (nd/rd/th) frame would result in {n_images} images.')\n",
    "        \n",
    "    def extract_frames(self, every_x_frame, img_name, dest_path=None, img_ext = '.jpg'):\n",
    "        if not self.vid_cap.isOpened():\n",
    "            self.vid_cap = cv2.VideoCapture(self.video_path)\n",
    "        \n",
    "        if dest_path is None:\n",
    "            dest_path = os.getcwd()\n",
    "        else:\n",
    "            if not os.path.isdir(dest_path):\n",
    "                os.mkdir(dest_path)\n",
    "                print(f'Created the following directory: {dest_path}')\n",
    "        \n",
    "        frame_cnt = 0\n",
    "        img_cnt = 0\n",
    "\n",
    "        while self.vid_cap.isOpened():\n",
    "            \n",
    "            success,image = self.vid_cap.read() \n",
    "            \n",
    "            if not success:\n",
    "                break\n",
    "            \n",
    "            if frame_cnt % every_x_frame == 0:\n",
    "                img_path = os.path.join(dest_path, ''.join([img_name, '_', str(img_cnt), img_ext]))\n",
    "                cv2.imwrite(img_path, image)  \n",
    "                img_cnt += 1\n",
    "                \n",
    "            frame_cnt += 1\n",
    "        \n",
    "        self.vid_cap.release()\n",
    "        cv2.destroyAllWindows()"
   ]
  },
  {
   "cell_type": "code",
   "execution_count": null,
   "id": "ac235a05",
   "metadata": {
    "papermill": {
     "duration": null,
     "end_time": null,
     "exception": null,
     "start_time": null,
     "status": "completed"
    },
    "tags": []
   },
   "outputs": [],
   "source": [
    "fe = FrameExtractor('/home/user/Downloads/repos/openpiv-python/openpiv/examples/notebooks/Super-Large-Scale Flow Visualization with Snow.mp4')"
   ]
  },
  {
   "cell_type": "code",
   "execution_count": null,
   "id": "624cdff6",
   "metadata": {
    "papermill": {
     "duration": null,
     "end_time": null,
     "exception": null,
     "start_time": null,
     "status": "completed"
    },
    "tags": []
   },
   "outputs": [],
   "source": [
    "fe.get_video_duration()\n"
   ]
  },
  {
   "cell_type": "code",
   "execution_count": null,
   "id": "1202af02",
   "metadata": {
    "papermill": {
     "duration": null,
     "end_time": null,
     "exception": null,
     "start_time": null,
     "status": "completed"
    },
    "tags": []
   },
   "outputs": [],
   "source": [
    "fe.get_n_images(every_x_frame=4)"
   ]
  },
  {
   "cell_type": "code",
   "execution_count": null,
   "id": "150a06f8",
   "metadata": {
    "papermill": {
     "duration": null,
     "end_time": null,
     "exception": null,
     "start_time": null,
     "status": "completed"
    },
    "tags": []
   },
   "outputs": [],
   "source": [
    "fe.extract_frames(every_x_frame=4, \n",
    "                  img_name='test', \n",
    "                  dest_path='test_images')"
   ]
  },
  {
   "cell_type": "code",
   "execution_count": null,
   "id": "4f8503b2",
   "metadata": {
    "papermill": {
     "duration": null,
     "end_time": null,
     "exception": null,
     "start_time": null,
     "status": "completed"
    },
    "tags": []
   },
   "outputs": [],
   "source": [
    "import os, glob, re\n",
    "\n",
    "image_list = glob.glob('./test_images/test_*.jpg')\n",
    "image_list.sort(key=lambda x:float(re.findall(\"(\\d+)\",x)[0]))\n",
    "# print(image_list)"
   ]
  },
  {
   "cell_type": "code",
   "execution_count": null,
   "id": "c21d9c9a",
   "metadata": {
    "papermill": {
     "duration": null,
     "end_time": null,
     "exception": null,
     "start_time": null,
     "status": "completed"
    },
    "tags": []
   },
   "outputs": [],
   "source": [
    "import matplotlib.pyplot as plt\n",
    "import imageio\n",
    "from openpiv.piv import simple_piv\n",
    "\n",
    "plt.imshow(imageio.imread(image_list[130]))"
   ]
  },
  {
   "cell_type": "code",
   "execution_count": null,
   "id": "2f8af46f",
   "metadata": {
    "papermill": {
     "duration": null,
     "end_time": null,
     "exception": null,
     "start_time": null,
     "status": "completed"
    },
    "tags": []
   },
   "outputs": [],
   "source": [
    "import numpy as np\n",
    "\n",
    "def rgb2gray(rgb):\n",
    "    return np.dot(rgb[...,:3], [0.2989, 0.5870, 0.1140])\n",
    "\n",
    "for i in range(130, 134, 1):\n",
    "    print(i)\n",
    "    a = rgb2gray(imageio.imread(image_list[i]))\n",
    "    b = rgb2gray(imageio.imread(image_list[i+1]))\n",
    "    # plt.figure()\n",
    "    # plt.imshow(np.sum(a,axis=2),cmap='gray')\n",
    "    # plt.figure()\n",
    "    # plt.imshow(np.sum(b,axis=2),cmap='gray')\n",
    "    simple_piv(a, b)"
   ]
  },
  {
   "cell_type": "code",
   "execution_count": null,
   "id": "086b4d60",
   "metadata": {
    "papermill": {
     "duration": null,
     "end_time": null,
     "exception": null,
     "start_time": null,
     "status": "completed"
    },
    "tags": []
   },
   "outputs": [],
   "source": [
    "import shutil\n",
    "shutil.rmtree('./test_images')"
   ]
  },
  {
   "cell_type": "code",
   "execution_count": null,
   "id": "6f008625",
   "metadata": {
    "papermill": {
     "duration": null,
     "end_time": null,
     "exception": null,
     "start_time": null,
     "status": "completed"
    },
    "tags": []
   },
   "outputs": [],
   "source": []
  }
 ],
 "metadata": {
  "kernelspec": {
   "display_name": "Python 3.8.5 64-bit ('openpiv': conda)",
   "name": "python385jvsc74a57bd041f5f0438dc4e3a82bed3f79924308eb45f1e47bd23729f3ef4bcb36970735b2"
  },
  "language_info": {
   "version": "3.8.5"
  },
  "metadata": {
   "interpreter": {
    "hash": "41f5f0438dc4e3a82bed3f79924308eb45f1e47bd23729f3ef4bcb36970735b2"
   }
  },
  "papermill": {
   "default_parameters": {},
   "duration": 0.043168,
   "end_time": "2022-10-20T19:15:35.284869",
   "environment_variables": {},
   "exception": null,
   "input_path": "./notebooks/openpiv_snow.ipynb",
   "output_path": "./notebooks/openpiv_snow.ipynb",
   "parameters": {},
   "start_time": "2022-10-20T19:15:35.241701",
   "version": "2.4.0"
  }
 },
 "nbformat": 4,
 "nbformat_minor": 5
}