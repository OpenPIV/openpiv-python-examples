{
 "cells": [
  {
   "cell_type": "markdown",
   "id": "903f7ee2",
   "metadata": {
    "papermill": {
     "duration": null,
     "end_time": null,
     "exception": null,
     "start_time": null,
     "status": "completed"
    },
    "tags": []
   },
   "source": [
    "# OpenPIV tutorial 2\n",
    "\n",
    "\n",
    "Demonstrates the use of the multiprocessing run"
   ]
  },
  {
   "cell_type": "code",
   "execution_count": null,
   "id": "836bc6c7",
   "metadata": {
    "lines_to_next_cell": 2,
    "papermill": {
     "duration": null,
     "end_time": null,
     "exception": null,
     "start_time": null,
     "status": "completed"
    },
    "tags": []
   },
   "outputs": [],
   "source": [
    "from openpiv import tools, scaling, pyprocess, validation, filters\n",
    "import os\n",
    "import numpy as np"
   ]
  },
  {
   "cell_type": "code",
   "execution_count": null,
   "id": "8fd335a5",
   "metadata": {
    "papermill": {
     "duration": null,
     "end_time": null,
     "exception": null,
     "start_time": null,
     "status": "completed"
    },
    "tags": []
   },
   "outputs": [],
   "source": [
    "\n",
    "def func( args ):\n",
    "    \"\"\"A function to process each image pair.\"\"\"\n",
    "\n",
    "    # this line is REQUIRED for multiprocessing to work\n",
    "    # always use it in your custom function\n",
    "\n",
    "    file_a, file_b, counter = args\n",
    "\n",
    "\n",
    "    #####################\n",
    "    # Here goes you code\n",
    "    #####################\n",
    "\n",
    "    # read images into numpy arrays\n",
    "    frame_a  = tools.imread( os.path.join(path,file_a) )\n",
    "    frame_b  = tools.imread( os.path.join(path,file_b) )\n",
    "\n",
    "    frame_a = (frame_a*1024).astype(np.int32)\n",
    "    frame_b = (frame_b*1024).astype(np.int32)\n",
    "\n",
    "\n",
    "    # process image pair with extended search area piv algorithm.\n",
    "    u, v, sig2noise = pyprocess.extended_search_area_piv( frame_a, frame_b, \\\n",
    "        window_size=64, overlap=32, dt=0.02, search_area_size=128, sig2noise_method='peak2peak')\n",
    "    u, v, mask = validation.sig2noise_val( u, v, sig2noise, threshold = 1.5 )\n",
    "    u, v = filters.replace_outliers( u, v, method='localmean', max_iter=10, kernel_size=2)\n",
    "    # get window centers coordinates\n",
    "    x, y = pyprocess.get_coordinates( image_size=frame_a.shape, search_area_size=128, overlap=32 )\n",
    "    # save to a file\n",
    "    tools.save(x, y, u, v, mask, 'test2_%03d.txt' % counter)\n",
    "    tools.display_vector_field('test2_%03d.txt' % counter)\n"
   ]
  },
  {
   "cell_type": "code",
   "execution_count": null,
   "id": "d3ecf5ab",
   "metadata": {
    "papermill": {
     "duration": null,
     "end_time": null,
     "exception": null,
     "start_time": null,
     "status": "completed"
    },
    "tags": []
   },
   "outputs": [],
   "source": [
    "\n",
    "path = '../test2/'\n",
    "task = tools.Multiprocesser( data_dir = path, pattern_a='2image_*0.tif', pattern_b='2image_*1.tif' )\n",
    "task.run( func = func, n_cpus=1 )"
   ]
  }
 ],
 "metadata": {
  "jupytext": {
   "formats": "ipynb,py:percent"
  },
  "kernelspec": {
   "display_name": "Python 3.7.10 64-bit ('openpiv': conda)",
   "name": "python385jvsc74a57bd041f5f0438dc4e3a82bed3f79924308eb45f1e47bd23729f3ef4bcb36970735b2"
  },
  "language_info": {
   "codemirror_mode": {
    "name": "ipython",
    "version": 3
   },
   "file_extension": ".py",
   "mimetype": "text/x-python",
   "name": "python",
   "nbconvert_exporter": "python",
   "pygments_lexer": "ipython3",
   "version": "3.7.10"
  },
  "metadata": {
   "interpreter": {
    "hash": "41f5f0438dc4e3a82bed3f79924308eb45f1e47bd23729f3ef4bcb36970735b2"
   }
  },
  "papermill": {
   "default_parameters": {},
   "duration": 0.045153,
   "end_time": "2022-10-20T19:15:39.273440",
   "environment_variables": {},
   "exception": null,
   "input_path": "./notebooks/tutorial2.ipynb",
   "output_path": "./notebooks/tutorial2.ipynb",
   "parameters": {},
   "start_time": "2022-10-20T19:15:39.228287",
   "version": "2.4.0"
  }
 },
 "nbformat": 4,
 "nbformat_minor": 5
}