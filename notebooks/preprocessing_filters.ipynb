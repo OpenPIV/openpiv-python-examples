{
 "cells": [
  {
   "cell_type": "markdown",
   "id": "b22668a1",
   "metadata": {
    "tags": [
     "papermill-error-cell-tag"
    ]
   },
   "source": [
    "<span style=\"color:red; font-family:Helvetica Neue, Helvetica, Arial, sans-serif; font-size:2em;\">An Exception was encountered at '<a href=\"#papermill-error-cell\">In [3]</a>'.</span>"
   ]
  },
  {
   "cell_type": "markdown",
   "id": "98cee803",
   "metadata": {
    "papermill": {
     "duration": 0.007508,
     "end_time": "2022-10-20T19:16:06.242086",
     "exception": false,
     "start_time": "2022-10-20T19:16:06.234578",
     "status": "completed"
    },
    "tags": []
   },
   "source": [
    "### Here are some Particle Image Velocimetry (PIV) pre-processing functions that can be used to enhance image quality.\n",
    "#### Written by Erich Zimmer\n",
    "#### Created at 20210813, 0108 CTZ"
   ]
  },
  {
   "cell_type": "code",
   "execution_count": 1,
   "id": "dd4cadcd",
   "metadata": {
    "execution": {
     "iopub.execute_input": "2022-10-20T19:16:06.257821Z",
     "iopub.status.busy": "2022-10-20T19:16:06.257055Z",
     "iopub.status.idle": "2022-10-20T19:16:07.277730Z",
     "shell.execute_reply": "2022-10-20T19:16:07.277138Z"
    },
    "papermill": {
     "duration": 1.030529,
     "end_time": "2022-10-20T19:16:07.279275",
     "exception": false,
     "start_time": "2022-10-20T19:16:06.248746",
     "status": "completed"
    },
    "tags": []
   },
   "outputs": [],
   "source": [
    "from skimage import exposure, filters, util\n",
    "from openpiv import preprocess as piv_pre\n",
    "import openpiv.tools as piv_tls\n",
    "import numpy as np\n",
    "import matplotlib as mpl\n",
    "from matplotlib import pyplot as plt"
   ]
  },
  {
   "cell_type": "markdown",
   "id": "b206878c",
   "metadata": {
    "papermill": {
     "duration": 0.00217,
     "end_time": "2022-10-20T19:16:07.284044",
     "exception": false,
     "start_time": "2022-10-20T19:16:07.281874",
     "status": "completed"
    },
    "tags": []
   },
   "source": [
    "## Spatial filters"
   ]
  },
  {
   "cell_type": "code",
   "execution_count": 2,
   "id": "c40f317a",
   "metadata": {
    "execution": {
     "iopub.execute_input": "2022-10-20T19:16:07.288890Z",
     "iopub.status.busy": "2022-10-20T19:16:07.288571Z",
     "iopub.status.idle": "2022-10-20T19:16:07.291937Z",
     "shell.execute_reply": "2022-10-20T19:16:07.291483Z"
    },
    "papermill": {
     "duration": 0.007117,
     "end_time": "2022-10-20T19:16:07.293142",
     "exception": false,
     "start_time": "2022-10-20T19:16:07.286025",
     "status": "completed"
    },
    "tags": []
   },
   "outputs": [],
   "source": [
    "i1 = '../test12/A001a.tif'\n",
    "i2 = '../test12/A001b.tif'\n",
    "i3 = '../test12/A002a.tif'\n",
    "i4 = '../test12/A002b.tif'\n",
    "img_list = [i1, i2, i3, i4]"
   ]
  },
  {
   "cell_type": "markdown",
   "id": "42095b5d",
   "metadata": {
    "tags": [
     "papermill-error-cell-tag"
    ]
   },
   "source": [
    "<span id=\"papermill-error-cell\" style=\"color:red; font-family:Helvetica Neue, Helvetica, Arial, sans-serif; font-size:2em;\">Execution using papermill encountered an exception here and stopped:</span>"
   ]
  },
  {
   "cell_type": "code",
   "execution_count": 3,
   "id": "3731dba7",
   "metadata": {
    "execution": {
     "iopub.execute_input": "2022-10-20T19:16:07.298679Z",
     "iopub.status.busy": "2022-10-20T19:16:07.297829Z",
     "iopub.status.idle": "2022-10-20T19:16:08.018436Z",
     "shell.execute_reply": "2022-10-20T19:16:08.017531Z"
    },
    "papermill": {
     "duration": 0.724868,
     "end_time": "2022-10-20T19:16:08.020021",
     "exception": true,
     "start_time": "2022-10-20T19:16:07.295153",
     "status": "failed"
    },
    "tags": []
   },
   "outputs": [
    {
     "ename": "FileNotFoundError",
     "evalue": "No such file: '/home/user/Documents/repos/test12/A001a.tif'",
     "output_type": "error",
     "traceback": [
      "\u001b[0;31m---------------------------------------------------------------------------\u001b[0m",
      "\u001b[0;31mFileNotFoundError\u001b[0m                         Traceback (most recent call last)",
      "Input \u001b[0;32mIn [3]\u001b[0m, in \u001b[0;36m<cell line: 2>\u001b[0;34m()\u001b[0m\n\u001b[1;32m      1\u001b[0m \u001b[38;5;66;03m# its a good idea to normalize arrays to [0, 1] float, but not needed\u001b[39;00m\n\u001b[0;32m----> 2\u001b[0m img \u001b[38;5;241m=\u001b[39m piv_pre\u001b[38;5;241m.\u001b[39mnormalize_array(\u001b[43mpiv_tls\u001b[49m\u001b[38;5;241;43m.\u001b[39;49m\u001b[43mimread\u001b[49m\u001b[43m(\u001b[49m\u001b[43mi1\u001b[49m\u001b[43m)\u001b[49m) \n\u001b[1;32m      3\u001b[0m img_CLAHE \u001b[38;5;241m=\u001b[39m exposure\u001b[38;5;241m.\u001b[39mequalize_adapthist(\n\u001b[1;32m      4\u001b[0m     img\u001b[38;5;241m.\u001b[39mcopy(), \n\u001b[1;32m      5\u001b[0m     kernel_size \u001b[38;5;241m=\u001b[39m \u001b[38;5;28;01mNone\u001b[39;00m, \n\u001b[1;32m      6\u001b[0m     clip_limit  \u001b[38;5;241m=\u001b[39m \u001b[38;5;241m0.01\u001b[39m,\n\u001b[1;32m      7\u001b[0m     nbins       \u001b[38;5;241m=\u001b[39m \u001b[38;5;241m256\u001b[39m\n\u001b[1;32m      8\u001b[0m )\n\u001b[1;32m      9\u001b[0m img_CLAHE \u001b[38;5;241m=\u001b[39m piv_pre\u001b[38;5;241m.\u001b[39minstensity_cap(img_CLAHE, \u001b[38;5;241m4\u001b[39m)\n",
      "File \u001b[0;32m~/Documents/repos/openpiv-python/openpiv/tools.py:198\u001b[0m, in \u001b[0;36mimread\u001b[0;34m(filename, flatten)\u001b[0m\n\u001b[1;32m    172\u001b[0m \u001b[38;5;28;01mdef\u001b[39;00m \u001b[38;5;21mimread\u001b[39m(filename, flatten\u001b[38;5;241m=\u001b[39m\u001b[38;5;241m0\u001b[39m):\n\u001b[1;32m    173\u001b[0m     \u001b[38;5;124;03m\"\"\"Read an image file into a numpy array\u001b[39;00m\n\u001b[1;32m    174\u001b[0m \u001b[38;5;124;03m    using imageio imread\u001b[39;00m\n\u001b[1;32m    175\u001b[0m \u001b[38;5;124;03m    \u001b[39;00m\n\u001b[0;32m   (...)\u001b[0m\n\u001b[1;32m    196\u001b[0m \u001b[38;5;124;03m    \u001b[39;00m\n\u001b[1;32m    197\u001b[0m \u001b[38;5;124;03m    \"\"\"\u001b[39;00m\n\u001b[0;32m--> 198\u001b[0m     im \u001b[38;5;241m=\u001b[39m \u001b[43m_imread\u001b[49m\u001b[43m(\u001b[49m\u001b[43mfilename\u001b[49m\u001b[43m)\u001b[49m\n\u001b[1;32m    199\u001b[0m     \u001b[38;5;28;01mif\u001b[39;00m np\u001b[38;5;241m.\u001b[39mndim(im) \u001b[38;5;241m>\u001b[39m \u001b[38;5;241m2\u001b[39m:\n\u001b[1;32m    200\u001b[0m         im \u001b[38;5;241m=\u001b[39m rgb2gray(im)\n",
      "File \u001b[0;32m~/.edm/envs/echopiv/lib/python3.8/site-packages/imageio/v3.py:57\u001b[0m, in \u001b[0;36mimread\u001b[0;34m(uri, index, plugin, extension, format_hint, **kwargs)\u001b[0m\n\u001b[1;32m     54\u001b[0m \u001b[38;5;28;01mif\u001b[39;00m index \u001b[38;5;129;01mis\u001b[39;00m \u001b[38;5;129;01mnot\u001b[39;00m \u001b[38;5;28;01mNone\u001b[39;00m:\n\u001b[1;32m     55\u001b[0m     call_kwargs[\u001b[38;5;124m\"\u001b[39m\u001b[38;5;124mindex\u001b[39m\u001b[38;5;124m\"\u001b[39m] \u001b[38;5;241m=\u001b[39m index\n\u001b[0;32m---> 57\u001b[0m \u001b[38;5;28;01mwith\u001b[39;00m \u001b[43mimopen\u001b[49m\u001b[43m(\u001b[49m\u001b[43muri\u001b[49m\u001b[43m,\u001b[49m\u001b[43m \u001b[49m\u001b[38;5;124;43m\"\u001b[39;49m\u001b[38;5;124;43mr\u001b[39;49m\u001b[38;5;124;43m\"\u001b[39;49m\u001b[43m,\u001b[49m\u001b[43m \u001b[49m\u001b[38;5;241;43m*\u001b[39;49m\u001b[38;5;241;43m*\u001b[39;49m\u001b[43mplugin_kwargs\u001b[49m\u001b[43m)\u001b[49m \u001b[38;5;28;01mas\u001b[39;00m img_file:\n\u001b[1;32m     58\u001b[0m     \u001b[38;5;28;01mreturn\u001b[39;00m np\u001b[38;5;241m.\u001b[39masarray(img_file\u001b[38;5;241m.\u001b[39mread(\u001b[38;5;241m*\u001b[39m\u001b[38;5;241m*\u001b[39mcall_kwargs))\n",
      "File \u001b[0;32m~/.edm/envs/echopiv/lib/python3.8/site-packages/imageio/core/imopen.py:118\u001b[0m, in \u001b[0;36mimopen\u001b[0;34m(uri, io_mode, plugin, extension, format_hint, legacy_mode, **kwargs)\u001b[0m\n\u001b[1;32m    116\u001b[0m     request\u001b[38;5;241m.\u001b[39mformat_hint \u001b[38;5;241m=\u001b[39m format_hint\n\u001b[1;32m    117\u001b[0m \u001b[38;5;28;01melse\u001b[39;00m:\n\u001b[0;32m--> 118\u001b[0m     request \u001b[38;5;241m=\u001b[39m \u001b[43mRequest\u001b[49m\u001b[43m(\u001b[49m\u001b[43muri\u001b[49m\u001b[43m,\u001b[49m\u001b[43m \u001b[49m\u001b[43mio_mode\u001b[49m\u001b[43m,\u001b[49m\u001b[43m \u001b[49m\u001b[43mformat_hint\u001b[49m\u001b[38;5;241;43m=\u001b[39;49m\u001b[43mformat_hint\u001b[49m\u001b[43m,\u001b[49m\u001b[43m \u001b[49m\u001b[43mextension\u001b[49m\u001b[38;5;241;43m=\u001b[39;49m\u001b[43mextension\u001b[49m\u001b[43m)\u001b[49m\n\u001b[1;32m    120\u001b[0m source \u001b[38;5;241m=\u001b[39m \u001b[38;5;124m\"\u001b[39m\u001b[38;5;124m<bytes>\u001b[39m\u001b[38;5;124m\"\u001b[39m \u001b[38;5;28;01mif\u001b[39;00m \u001b[38;5;28misinstance\u001b[39m(uri, \u001b[38;5;28mbytes\u001b[39m) \u001b[38;5;28;01melse\u001b[39;00m uri\n\u001b[1;32m    122\u001b[0m \u001b[38;5;66;03m# fast-path based on plugin\u001b[39;00m\n\u001b[1;32m    123\u001b[0m \u001b[38;5;66;03m# (except in legacy mode)\u001b[39;00m\n",
      "File \u001b[0;32m~/.edm/envs/echopiv/lib/python3.8/site-packages/imageio/core/request.py:248\u001b[0m, in \u001b[0;36mRequest.__init__\u001b[0;34m(self, uri, mode, extension, format_hint, **kwargs)\u001b[0m\n\u001b[1;32m    245\u001b[0m     \u001b[38;5;28;01mraise\u001b[39;00m \u001b[38;5;167;01mValueError\u001b[39;00m(\u001b[38;5;124mf\u001b[39m\u001b[38;5;124m\"\u001b[39m\u001b[38;5;124mInvalid Request.Mode: \u001b[39m\u001b[38;5;132;01m{\u001b[39;00mmode\u001b[38;5;132;01m}\u001b[39;00m\u001b[38;5;124m\"\u001b[39m)\n\u001b[1;32m    247\u001b[0m \u001b[38;5;66;03m# Parse what was given\u001b[39;00m\n\u001b[0;32m--> 248\u001b[0m \u001b[38;5;28;43mself\u001b[39;49m\u001b[38;5;241;43m.\u001b[39;49m\u001b[43m_parse_uri\u001b[49m\u001b[43m(\u001b[49m\u001b[43muri\u001b[49m\u001b[43m)\u001b[49m\n\u001b[1;32m    250\u001b[0m \u001b[38;5;66;03m# Set extension\u001b[39;00m\n\u001b[1;32m    251\u001b[0m \u001b[38;5;28;01mif\u001b[39;00m extension \u001b[38;5;129;01mis\u001b[39;00m \u001b[38;5;129;01mnot\u001b[39;00m \u001b[38;5;28;01mNone\u001b[39;00m:\n",
      "File \u001b[0;32m~/.edm/envs/echopiv/lib/python3.8/site-packages/imageio/core/request.py:407\u001b[0m, in \u001b[0;36mRequest._parse_uri\u001b[0;34m(self, uri)\u001b[0m\n\u001b[1;32m    404\u001b[0m \u001b[38;5;28;01mif\u001b[39;00m is_read_request:\n\u001b[1;32m    405\u001b[0m     \u001b[38;5;66;03m# Reading: check that the file exists (but is allowed a dir)\u001b[39;00m\n\u001b[1;32m    406\u001b[0m     \u001b[38;5;28;01mif\u001b[39;00m \u001b[38;5;129;01mnot\u001b[39;00m os\u001b[38;5;241m.\u001b[39mpath\u001b[38;5;241m.\u001b[39mexists(fn):\n\u001b[0;32m--> 407\u001b[0m         \u001b[38;5;28;01mraise\u001b[39;00m \u001b[38;5;167;01mFileNotFoundError\u001b[39;00m(\u001b[38;5;124m\"\u001b[39m\u001b[38;5;124mNo such file: \u001b[39m\u001b[38;5;124m'\u001b[39m\u001b[38;5;132;01m%s\u001b[39;00m\u001b[38;5;124m'\u001b[39m\u001b[38;5;124m\"\u001b[39m \u001b[38;5;241m%\u001b[39m fn)\n\u001b[1;32m    408\u001b[0m \u001b[38;5;28;01melse\u001b[39;00m:\n\u001b[1;32m    409\u001b[0m     \u001b[38;5;66;03m# Writing: check that the directory to write to does exist\u001b[39;00m\n\u001b[1;32m    410\u001b[0m     dn \u001b[38;5;241m=\u001b[39m os\u001b[38;5;241m.\u001b[39mpath\u001b[38;5;241m.\u001b[39mdirname(fn)\n",
      "\u001b[0;31mFileNotFoundError\u001b[0m: No such file: '/home/user/Documents/repos/test12/A001a.tif'"
     ]
    }
   ],
   "source": [
    "# its a good idea to normalize arrays to [0, 1] float, but not needed\n",
    "img = piv_pre.normalize_array(piv_tls.imread(i1)) \n",
    "img_CLAHE = exposure.equalize_adapthist(\n",
    "    img.copy(), \n",
    "    kernel_size = None, \n",
    "    clip_limit  = 0.01,\n",
    "    nbins       = 256\n",
    ")\n",
    "img_CLAHE = piv_pre.instensity_cap(img_CLAHE, 4)\n",
    "img_str = piv_pre.contrast_stretch(img.copy(), 2, 99)\n",
    "img_str = piv_pre.instensity_cap(img_str, 2)\n",
    "img_norm = piv_pre.local_variance_normalization(img.copy(), 1.75, 1.5, 'zero')\n",
    "fig, ax = plt.subplots(2,2, figsize = (13, 13))\n",
    "ax[0,0].imshow(img*255, cmap = plt.cm.gray, vmax = 255)\n",
    "ax[0,1].imshow(img_CLAHE*255, cmap = plt.cm.gray, vmax = 255)\n",
    "ax[1,0].imshow(img_str*255, cmap = plt.cm.gray, vmax = 255)\n",
    "ax[1,1].imshow(img_norm*255, cmap = plt.cm.gray, vmax = 255)\n",
    "ax[0,0].set_title('Original')\n",
    "ax[0,1].set_title('CLAHE and cap')\n",
    "ax[1,0].set_title('Contrast stretch and cap')\n",
    "ax[1,1].set_title('Local variance normalization')"
   ]
  },
  {
   "cell_type": "code",
   "execution_count": null,
   "id": "cf9f9eb3",
   "metadata": {
    "papermill": {
     "duration": null,
     "end_time": null,
     "exception": null,
     "start_time": null,
     "status": "pending"
    },
    "tags": []
   },
   "outputs": [],
   "source": [
    "# some additional filters\n",
    "img = piv_pre.normalize_array(piv_tls.imread(i1)) \n",
    "\n",
    "img_hp = piv_pre.high_pass(img.copy(), 5, clip = True) \n",
    "img_cp = piv_pre.intensity_clip(img.copy(), 0.1, 0.99, 'clip')\n",
    "img_norm = piv_pre.local_variance_normalization(img.copy(), 2, 1.5, 'zero')\n",
    "img_bin = piv_pre.threshold_binarize(img_norm, 0.1, 1) # this doesn't work properly anymore?\n",
    "fig, ax = plt.subplots(2,2, figsize = (13, 13))\n",
    "ax[0,0].imshow(img*255, cmap = plt.cm.gray, vmax = 255)\n",
    "ax[0,1].imshow(img_hp*255, cmap = plt.cm.gray, vmax = 255)\n",
    "ax[1,0].imshow(img_cp*255, cmap = plt.cm.gray, vmax = 255)\n",
    "ax[1,1].imshow(img_bin*255, cmap = plt.cm.gray, vmax = 255)\n",
    "ax[0,0].set_title('Original')\n",
    "ax[0,1].set_title('gaussian high pass')\n",
    "ax[1,0].set_title('intensity clip')\n",
    "ax[1,1].set_title('local variance norm with threshold binarizing')"
   ]
  },
  {
   "cell_type": "markdown",
   "id": "2f2a160d",
   "metadata": {
    "papermill": {
     "duration": null,
     "end_time": null,
     "exception": null,
     "start_time": null,
     "status": "pending"
    },
    "tags": []
   },
   "source": [
    "## Temporal filters for background subtraction\n",
    "Currently two filters are implemented: temporal averaging and temporal low pass. Apply by subtracting the image of interest with the generated background image."
   ]
  },
  {
   "cell_type": "code",
   "execution_count": null,
   "id": "ade35b9b",
   "metadata": {
    "papermill": {
     "duration": null,
     "end_time": null,
     "exception": null,
     "start_time": null,
     "status": "pending"
    },
    "tags": []
   },
   "outputs": [],
   "source": [
    "i1 = '../test13/00020359.bmp'\n",
    "i2 = '../test13/00020360.bmp'\n",
    "i3 = '../test13/00020361.bmp'\n",
    "i4 = '../test13/00020362.bmp'\n",
    "img_list = [i1, i2, i3, i4]"
   ]
  },
  {
   "cell_type": "code",
   "execution_count": null,
   "id": "2478288a",
   "metadata": {
    "papermill": {
     "duration": null,
     "end_time": null,
     "exception": null,
     "start_time": null,
     "status": "pending"
    },
    "tags": []
   },
   "outputs": [],
   "source": [
    "# temporal filtering\n",
    "background_min = piv_pre.gen_min_background(img_list, resize = 255)\n",
    "# works better than min of images for low amount of images, produces less invalid vectors \n",
    "background_low = piv_pre.gen_lowpass_background(img_list, resize = 255) \n",
    "# normalizing can be disabled by setting »resize« to None"
   ]
  },
  {
   "cell_type": "code",
   "execution_count": null,
   "id": "b93c7b10",
   "metadata": {
    "papermill": {
     "duration": null,
     "end_time": null,
     "exception": null,
     "start_time": null,
     "status": "pending"
    },
    "tags": []
   },
   "outputs": [],
   "source": [
    "fig, ax = plt.subplots(2,2, figsize = (13, 13))\n",
    "img = piv_pre.normalize_array(piv_tls.imread(i1))*255\n",
    "new_img = img - background_low\n",
    "new_img[new_img < 0] = 0\n",
    "ax[0,0].imshow(img, cmap = plt.cm.gray, vmax = 255)\n",
    "ax[0,1].imshow(background_min, cmap = plt.cm.gray, vmax = 255)\n",
    "ax[1,1].imshow(background_low, cmap = plt.cm.gray, vmax = 255)\n",
    "ax[1,0].imshow(new_img, cmap = plt.cm.gray, vmax = 255)\n",
    "ax[0,0].set_title('Original')\n",
    "ax[0,1].set_title('Min background')\n",
    "ax[1,1].set_title('Lowpass background')\n",
    "ax[1,0].set_title('Temporal high pass')"
   ]
  },
  {
   "cell_type": "markdown",
   "id": "0d6306ef",
   "metadata": {
    "papermill": {
     "duration": null,
     "end_time": null,
     "exception": null,
     "start_time": null,
     "status": "pending"
    },
    "tags": []
   },
   "source": [
    "## Transformations\n",
    "Offsetting one image can be useful when frame straddling two offset cameras with a similar field of view."
   ]
  },
  {
   "cell_type": "code",
   "execution_count": null,
   "id": "11592e86",
   "metadata": {
    "papermill": {
     "duration": null,
     "end_time": null,
     "exception": null,
     "start_time": null,
     "status": "pending"
    },
    "tags": []
   },
   "outputs": [],
   "source": [
    "img = piv_pre.normalize_array(piv_tls.imread(i1))*255\n",
    "fig, ax = plt.subplots(2,2, figsize = (13, 13))\n",
    "ax[0,0].imshow(img, cmap = plt.cm.gray, vmax = 255)\n",
    "ax[0,1].imshow(piv_pre.stretch_image(img, 0, 1), cmap = plt.cm.gray, vmax = 255)\n",
    "ax[1,0].imshow(piv_pre.offset_image(img, 50, 0, pad = 'reflect'), cmap = plt.cm.gray, vmax = 255)\n",
    "ax[1,1].imshow(piv_pre.offset_image(img, -50, 0), cmap = plt.cm.gray, vmax = 255)\n",
    "ax[0,0].set_title('Original')\n",
    "ax[0,1].set_title('stretched')\n",
    "ax[1,1].set_title('padded negative, pad = zeros')\n",
    "ax[1,0].set_title('padded positive, pad = reflection')"
   ]
  },
  {
   "cell_type": "code",
   "execution_count": null,
   "id": "8dae9b90",
   "metadata": {
    "papermill": {
     "duration": null,
     "end_time": null,
     "exception": null,
     "start_time": null,
     "status": "pending"
    },
    "tags": []
   },
   "outputs": [],
   "source": []
  }
 ],
 "metadata": {
  "kernelspec": {
   "display_name": "Python 3",
   "language": "python",
   "name": "python3"
  },
  "language_info": {
   "codemirror_mode": {
    "name": "ipython",
    "version": 3
   },
   "file_extension": ".py",
   "mimetype": "text/x-python",
   "name": "python",
   "nbconvert_exporter": "python",
   "pygments_lexer": "ipython3",
   "version": "3.8.12"
  },
  "papermill": {
   "default_parameters": {},
   "duration": 3.07186,
   "end_time": "2022-10-20T19:16:08.349975",
   "environment_variables": {},
   "exception": true,
   "input_path": "./notebooks/preprocessing_filters.ipynb",
   "output_path": "./notebooks/preprocessing_filters.ipynb",
   "parameters": {},
   "start_time": "2022-10-20T19:16:05.278115",
   "version": "2.4.0"
  }
 },
 "nbformat": 4,
 "nbformat_minor": 5
}