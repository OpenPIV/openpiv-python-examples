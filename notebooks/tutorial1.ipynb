{
 "cells": [
  {
   "cell_type": "markdown",
   "id": "7b37c772",
   "metadata": {
    "papermill": {
     "duration": null,
     "end_time": null,
     "exception": null,
     "start_time": null,
     "status": "completed"
    },
    "tags": []
   },
   "source": [
    "# OpenPIV tutorial 1\n",
    "\n",
    "\n",
    "In this tutorial we read the pair of images using `imread`, compare them visually \n",
    "and process using OpenPIV. Here the import is using directly the basic functions and methods"
   ]
  },
  {
   "cell_type": "code",
   "execution_count": null,
   "id": "958a714c",
   "metadata": {
    "lines_to_next_cell": 2,
    "papermill": {
     "duration": null,
     "end_time": null,
     "exception": null,
     "start_time": null,
     "status": "completed"
    },
    "tags": []
   },
   "outputs": [],
   "source": [
    "from openpiv import tools, pyprocess, validation, filters, scaling \n",
    "\n",
    "import numpy as np\n",
    "import matplotlib.pyplot as plt\n",
    "%matplotlib inline\n",
    "\n",
    "import imageio"
   ]
  },
  {
   "cell_type": "code",
   "execution_count": null,
   "id": "8629d46a",
   "metadata": {
    "papermill": {
     "duration": null,
     "end_time": null,
     "exception": null,
     "start_time": null,
     "status": "completed"
    },
    "tags": []
   },
   "outputs": [],
   "source": [
    "frame_a  = tools.imread( '../test1/exp1_001_a.bmp' )\n",
    "frame_b  = tools.imread( '../test1/exp1_001_b.bmp' )"
   ]
  },
  {
   "cell_type": "code",
   "execution_count": null,
   "id": "e96f254d",
   "metadata": {
    "lines_to_next_cell": 2,
    "papermill": {
     "duration": null,
     "end_time": null,
     "exception": null,
     "start_time": null,
     "status": "completed"
    },
    "tags": []
   },
   "outputs": [],
   "source": [
    "fig,ax = plt.subplots(1,2,figsize=(12,10))\n",
    "ax[0].imshow(frame_a,cmap=plt.cm.gray)\n",
    "ax[1].imshow(frame_b,cmap=plt.cm.gray)"
   ]
  },
  {
   "cell_type": "code",
   "execution_count": null,
   "id": "8dc5e0f5",
   "metadata": {
    "papermill": {
     "duration": null,
     "end_time": null,
     "exception": null,
     "start_time": null,
     "status": "completed"
    },
    "tags": []
   },
   "outputs": [],
   "source": [
    "winsize = 32 # pixels, interrogation window size in frame A\n",
    "searchsize = 38  # pixels, search in image B\n",
    "overlap = 12 # pixels, 50% overlap\n",
    "dt = 0.02 # sec, time interval between pulses\n",
    "\n",
    "\n",
    "u0, v0, sig2noise = pyprocess.extended_search_area_piv(frame_a.astype(np.int32), \n",
    "                                                       frame_b.astype(np.int32), \n",
    "                                                       window_size=winsize, \n",
    "                                                       overlap=overlap, \n",
    "                                                       dt=dt, \n",
    "                                                       search_area_size=searchsize, \n",
    "                                                       sig2noise_method='peak2peak')"
   ]
  },
  {
   "cell_type": "code",
   "execution_count": null,
   "id": "39352569",
   "metadata": {
    "papermill": {
     "duration": null,
     "end_time": null,
     "exception": null,
     "start_time": null,
     "status": "completed"
    },
    "tags": []
   },
   "outputs": [],
   "source": [
    "x, y = pyprocess.get_coordinates( image_size=frame_a.shape, \n",
    "                                 search_area_size=searchsize, \n",
    "                                 overlap=overlap )"
   ]
  },
  {
   "cell_type": "code",
   "execution_count": null,
   "id": "0d631714",
   "metadata": {
    "papermill": {
     "duration": null,
     "end_time": null,
     "exception": null,
     "start_time": null,
     "status": "completed"
    },
    "tags": []
   },
   "outputs": [],
   "source": [
    "u1, v1, mask = validation.sig2noise_val( u0, v0, \n",
    "                                        sig2noise, \n",
    "                                        threshold = 1.05 )\n",
    "# if you need more detailed look, first create a histogram of sig2noise\n",
    "# plt.hist(sig2noise.flatten())\n",
    "# to see where is a reasonable limit"
   ]
  },
  {
   "cell_type": "code",
   "execution_count": null,
   "id": "4df1957a",
   "metadata": {
    "papermill": {
     "duration": null,
     "end_time": null,
     "exception": null,
     "start_time": null,
     "status": "completed"
    },
    "tags": []
   },
   "outputs": [],
   "source": [
    "# filter out outliers that are very different from the\n",
    "# neighbours\n",
    "\n",
    "u2, v2 = filters.replace_outliers( u1, v1, \n",
    "                                  method='localmean', \n",
    "                                  max_iter=3, \n",
    "                                  kernel_size=3)\n"
   ]
  },
  {
   "cell_type": "code",
   "execution_count": null,
   "id": "bc0b3f3d",
   "metadata": {
    "papermill": {
     "duration": null,
     "end_time": null,
     "exception": null,
     "start_time": null,
     "status": "completed"
    },
    "tags": []
   },
   "outputs": [],
   "source": [
    "# convert x,y to mm\n",
    "# convert u,v to mm/sec\n",
    "\n",
    "x, y, u3, v3 = scaling.uniform(x, y, u2, v2, \n",
    "                               scaling_factor = 96.52 ) # 96.52 microns/pixel\n",
    "\n",
    "# 0,0 shall be bottom left, positive rotation rate is counterclockwise\n",
    "x, y, u3, v3 = tools.transform_coordinates(x, y, u3, v3)"
   ]
  },
  {
   "cell_type": "code",
   "execution_count": null,
   "id": "ca45c6de",
   "metadata": {
    "papermill": {
     "duration": null,
     "end_time": null,
     "exception": null,
     "start_time": null,
     "status": "completed"
    },
    "tags": []
   },
   "outputs": [],
   "source": [
    "#save in the simple ASCII table format\n",
    "tools.save(x, y, u3, v3, mask, 'exp1_001.txt' )"
   ]
  },
  {
   "cell_type": "code",
   "execution_count": null,
   "id": "c1fb3fb8",
   "metadata": {
    "papermill": {
     "duration": null,
     "end_time": null,
     "exception": null,
     "start_time": null,
     "status": "completed"
    },
    "tags": []
   },
   "outputs": [],
   "source": [
    "fig, ax = plt.subplots(figsize=(8,8))\n",
    "tools.display_vector_field('exp1_001.txt', \n",
    "                           ax=ax, scaling_factor=96.52, \n",
    "                           scale=50, # scale defines here the arrow length\n",
    "                           width=0.0035, # width is the thickness of the arrow\n",
    "                           on_img=True, # overlay on the image\n",
    "                           image_name='../test1/exp1_001_a.bmp');"
   ]
  },
  {
   "cell_type": "markdown",
   "id": "15447ce1",
   "metadata": {
    "papermill": {
     "duration": null,
     "end_time": null,
     "exception": null,
     "start_time": null,
     "status": "completed"
    },
    "tags": []
   },
   "source": [
    "## One could also use some shortcuts"
   ]
  },
  {
   "cell_type": "code",
   "execution_count": null,
   "id": "df0dad8c",
   "metadata": {
    "papermill": {
     "duration": null,
     "end_time": null,
     "exception": null,
     "start_time": null,
     "status": "completed"
    },
    "tags": []
   },
   "outputs": [],
   "source": [
    "\n",
    "from openpiv import piv\n",
    "piv.simple_piv(frame_a, frame_b);"
   ]
  },
  {
   "cell_type": "code",
   "execution_count": null,
   "id": "3f5297f9",
   "metadata": {
    "papermill": {
     "duration": null,
     "end_time": null,
     "exception": null,
     "start_time": null,
     "status": "completed"
    },
    "tags": []
   },
   "outputs": [],
   "source": [
    "piv.piv_example();"
   ]
  },
  {
   "cell_type": "code",
   "execution_count": null,
   "id": "35dd17b4",
   "metadata": {
    "papermill": {
     "duration": null,
     "end_time": null,
     "exception": null,
     "start_time": null,
     "status": "completed"
    },
    "tags": []
   },
   "outputs": [],
   "source": []
  }
 ],
 "metadata": {
  "jupytext": {
   "formats": "ipynb,py:percent"
  },
  "kernelspec": {
   "display_name": "Python [conda env:openpiv] *",
   "language": "python",
   "name": "conda-env-openpiv-py"
  },
  "language_info": {
   "codemirror_mode": {
    "name": "ipython",
    "version": 3
   },
   "file_extension": ".py",
   "mimetype": "text/x-python",
   "name": "python",
   "nbconvert_exporter": "python",
   "pygments_lexer": "ipython3",
   "version": "3.8.5"
  },
  "papermill": {
   "default_parameters": {},
   "duration": 0.015189,
   "end_time": "2022-10-20T19:14:01.605532",
   "environment_variables": {},
   "exception": null,
   "input_path": "./notebooks/tutorial1.ipynb",
   "output_path": "./notebooks/tutorial1.ipynb",
   "parameters": {},
   "start_time": "2022-10-20T19:14:01.590343",
   "version": "2.4.0"
  }
 },
 "nbformat": 4,
 "nbformat_minor": 5
}