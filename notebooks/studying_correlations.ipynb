{
 "cells": [
  {
   "cell_type": "markdown",
   "id": "5f4bf0ce",
   "metadata": {
    "papermill": {
     "duration": null,
     "end_time": null,
     "exception": null,
     "start_time": null,
     "status": "completed"
    },
    "tags": []
   },
   "source": [
    "# Linear vs Circular, Normalized vs non-normalized correlations"
   ]
  },
  {
   "cell_type": "code",
   "execution_count": null,
   "id": "409bc3c0",
   "metadata": {
    "papermill": {
     "duration": null,
     "end_time": null,
     "exception": null,
     "start_time": null,
     "status": "completed"
    },
    "tags": []
   },
   "outputs": [],
   "source": [
    "# we should test linear vs circular to understand the differences\n",
    "# the main difference in the new version was a bug as \n",
    "# the zero-padding for linear case does not work as long as you leave values on the \n",
    "# borders not zero. \n",
    "# see new normalize_intensity function that should take care of uneven illumination\n",
    "# both between the frames and at different regions of the image A or B\n"
   ]
  },
  {
   "cell_type": "code",
   "execution_count": null,
   "id": "8dfee62b",
   "metadata": {
    "papermill": {
     "duration": null,
     "end_time": null,
     "exception": null,
     "start_time": null,
     "status": "completed"
    },
    "tags": []
   },
   "outputs": [],
   "source": [
    "import numpy as np\n",
    "import matplotlib.pyplot as plt\n",
    "\n",
    "from skimage.registration import phase_cross_correlation\n",
    "from skimage import feature\n",
    "# from skimage.feature.phase_cross_correlation import _upsampled_dft\n",
    "from scipy.ndimage import fourier_shift\n",
    "from skimage.exposure import match_histograms"
   ]
  },
  {
   "cell_type": "code",
   "execution_count": null,
   "id": "6a9bfb1e",
   "metadata": {
    "papermill": {
     "duration": null,
     "end_time": null,
     "exception": null,
     "start_time": null,
     "status": "completed"
    },
    "tags": []
   },
   "outputs": [],
   "source": [
    "from openpiv.tools import imread\n",
    "from pylab import *"
   ]
  },
  {
   "cell_type": "code",
   "execution_count": null,
   "id": "e97f0258",
   "metadata": {
    "papermill": {
     "duration": null,
     "end_time": null,
     "exception": null,
     "start_time": null,
     "status": "completed"
    },
    "tags": []
   },
   "outputs": [],
   "source": [
    "from scipy.fft import rfft2, rfftn"
   ]
  },
  {
   "cell_type": "code",
   "execution_count": null,
   "id": "a7d672f4",
   "metadata": {
    "papermill": {
     "duration": null,
     "end_time": null,
     "exception": null,
     "start_time": null,
     "status": "completed"
    },
    "tags": []
   },
   "outputs": [],
   "source": [
    "from openpiv.pyprocess import find_subpixel_peak_position\n",
    "from openpiv.pyprocess import normalize_intensity, fft_correlate_images"
   ]
  },
  {
   "cell_type": "code",
   "execution_count": null,
   "id": "ba08daf9",
   "metadata": {
    "papermill": {
     "duration": null,
     "end_time": null,
     "exception": null,
     "start_time": null,
     "status": "completed"
    },
    "tags": []
   },
   "outputs": [],
   "source": [
    "a = imread('../test11/A001_1.tif')\n",
    "# b = imread('../data/PIVChallenge2001_A/A001_2.tif')\n",
    "a = a[:32,:32].copy()\n",
    "a[16:18,16:18] = 255\n",
    "# b = b[:32,:32]\n",
    "\n",
    "# should be in the order of y,x:\n",
    "# so it's about 5 pixels upwards and about 3 pixels to the right\n",
    "shift = (-12.035, -10.92)\n",
    "# The shift corresponds to the pixel offset relative to the reference image\n",
    "b = fourier_shift(np.fft.fftn(a), shift)\n",
    "b = np.fft.ifftn(b).real\n",
    "b = match_histograms(b,a).astype('uint8')\n",
    "# b = b + np.linspace(10,85,32)"
   ]
  },
  {
   "cell_type": "code",
   "execution_count": null,
   "id": "6cb417a6",
   "metadata": {
    "papermill": {
     "duration": null,
     "end_time": null,
     "exception": null,
     "start_time": null,
     "status": "completed"
    },
    "tags": []
   },
   "outputs": [],
   "source": [
    "imshow(a)\n",
    "colorbar()"
   ]
  },
  {
   "cell_type": "code",
   "execution_count": null,
   "id": "5dcf3d3f",
   "metadata": {
    "papermill": {
     "duration": null,
     "end_time": null,
     "exception": null,
     "start_time": null,
     "status": "completed"
    },
    "tags": []
   },
   "outputs": [],
   "source": [
    "imshow(b)\n",
    "colorbar()"
   ]
  },
  {
   "cell_type": "code",
   "execution_count": null,
   "id": "0d164049",
   "metadata": {
    "papermill": {
     "duration": null,
     "end_time": null,
     "exception": null,
     "start_time": null,
     "status": "completed"
    },
    "tags": []
   },
   "outputs": [],
   "source": [
    "# like moving window with the 0th dimension the IW no.\n",
    "a = a[np.newaxis,:,:]\n",
    "b = b[np.newaxis,:,:]"
   ]
  },
  {
   "cell_type": "code",
   "execution_count": null,
   "id": "968cf5e9",
   "metadata": {
    "papermill": {
     "duration": null,
     "end_time": null,
     "exception": null,
     "start_time": null,
     "status": "completed"
    },
    "tags": []
   },
   "outputs": [],
   "source": [
    "# %%timeit \n",
    "c1 = fft_correlate_images(a,b,'circular',normalized_correlation=False)"
   ]
  },
  {
   "cell_type": "code",
   "execution_count": null,
   "id": "05e66484",
   "metadata": {
    "papermill": {
     "duration": null,
     "end_time": null,
     "exception": null,
     "start_time": null,
     "status": "completed"
    },
    "tags": []
   },
   "outputs": [],
   "source": [
    "# %%timeit\n",
    "c2 = fft_correlate_images(a,b,'linear',normalized_correlation=False)"
   ]
  },
  {
   "cell_type": "code",
   "execution_count": null,
   "id": "a8f527d5",
   "metadata": {
    "papermill": {
     "duration": null,
     "end_time": null,
     "exception": null,
     "start_time": null,
     "status": "completed"
    },
    "tags": []
   },
   "outputs": [],
   "source": [
    "# %%timeit\n",
    "c3 = fft_correlate_images(a,b,'circular',normalized_correlation=True)"
   ]
  },
  {
   "cell_type": "code",
   "execution_count": null,
   "id": "f0086113",
   "metadata": {
    "papermill": {
     "duration": null,
     "end_time": null,
     "exception": null,
     "start_time": null,
     "status": "completed"
    },
    "tags": []
   },
   "outputs": [],
   "source": [
    "# %%timeit\n",
    "c4 = fft_correlate_images(a,b,'linear',normalized_correlation=True)"
   ]
  },
  {
   "cell_type": "code",
   "execution_count": null,
   "id": "3481b581",
   "metadata": {
    "papermill": {
     "duration": null,
     "end_time": null,
     "exception": null,
     "start_time": null,
     "status": "completed"
    },
    "tags": []
   },
   "outputs": [],
   "source": [
    "fig,ax = plt.subplots(1,4,figsize=(14,2.5))\n",
    "\n",
    "counter = 0\n",
    "for c in [c1,c2,c3,c4]:\n",
    "    s = ax[counter].contourf(c[0,:,:])\n",
    "    ax[counter].invert_yaxis()\n",
    "    colorbar(s, ax=ax[counter])\n",
    "\n",
    "    default_peak_position = np.floor(np.array(c[0,:,:].shape)/2)\n",
    "    i = np.array(find_subpixel_peak_position(c[0,:,:]))\n",
    "    ax[counter].plot(i[1],i[0],'rx')\n",
    "    print(np.array(i - default_peak_position),\n",
    "          np.sum(np.abs(np.array(i - default_peak_position)-np.array(shift))))\n",
    "    counter += 1"
   ]
  },
  {
   "cell_type": "code",
   "execution_count": null,
   "id": "709db5c5",
   "metadata": {
    "papermill": {
     "duration": null,
     "end_time": null,
     "exception": null,
     "start_time": null,
     "status": "completed"
    },
    "tags": []
   },
   "outputs": [],
   "source": [
    "image = a[0,:,:]\n",
    "offset_image = b[0,:,:]\n",
    "# pixel precision first\n",
    "shift, error, diffphase = phase_cross_correlation(image, offset_image)\n",
    "\n",
    "fig = plt.figure(figsize=(8, 3))\n",
    "ax1 = plt.subplot(1, 3, 1)\n",
    "ax2 = plt.subplot(1, 3, 2, sharex=ax1, sharey=ax1)\n",
    "ax3 = plt.subplot(1, 3, 3)\n",
    "\n",
    "ax1.imshow(image, cmap='gray')\n",
    "ax1.set_axis_off()\n",
    "ax1.set_title('Reference image')\n",
    "\n",
    "ax2.imshow(offset_image.real, cmap='gray')\n",
    "ax2.set_axis_off()\n",
    "ax2.set_title('Offset image')\n",
    "\n",
    "# Show the output of a cross-correlation to show what the algorithm is\n",
    "# doing behind the scenes\n",
    "image_product = np.fft.fft2(image).conj() * np.fft.fft2(offset_image)\n",
    "cc_image = np.fft.fftshift(np.fft.ifft2(image_product))\n",
    "ax3.imshow(cc_image.real)\n",
    "ax3.set_axis_off()\n",
    "ax3.set_title(\"Cross-correlation\")\n",
    "\n",
    "plt.show()\n",
    "\n",
    "print(\"Detected pixel offset (y, x): {}\".format(shift))\n",
    "\n",
    "# subpixel precision\n",
    "shift, error, diffphase = phase_cross_correlation(offset_image, image, upsample_factor=1000)\n",
    "\n",
    "fig = plt.figure(figsize=(8, 3))\n",
    "ax1 = plt.subplot(1, 3, 1)\n",
    "ax2 = plt.subplot(1, 3, 2, sharex=ax1, sharey=ax1)\n",
    "# ax3 = plt.subplot(1, 3, 3)\n",
    "\n",
    "ax1.imshow(image, cmap='gray')\n",
    "ax1.set_axis_off()\n",
    "ax1.set_title('Reference image')\n",
    "\n",
    "ax2.imshow(offset_image.real, cmap='gray')\n",
    "ax2.set_axis_off()\n",
    "ax2.set_title('Offset image')\n",
    "\n",
    "# Calculate the upsampled DFT, again to show what the algorithm is doing\n",
    "# behind the scenes.  Constants correspond to calculated values in routine.\n",
    "# See source code for details.\n",
    "# cc_image = _upsampled_dft(image_product, 150, 100, (shift*100)+75).conj()\n",
    "# ax3.imshow(cc_image.real)\n",
    "# ax3.set_axis_off()\n",
    "# ax3.set_title(\"Supersampled XC sub-area\")\n",
    "\n",
    "\n",
    "plt.show()\n",
    "\n",
    "print(\"Detected subpixel offset (y, x): {}\".format(shift))"
   ]
  },
  {
   "cell_type": "code",
   "execution_count": null,
   "id": "7cfbb6b2",
   "metadata": {
    "papermill": {
     "duration": null,
     "end_time": null,
     "exception": null,
     "start_time": null,
     "status": "completed"
    },
    "tags": []
   },
   "outputs": [],
   "source": []
  },
  {
   "cell_type": "code",
   "execution_count": null,
   "id": "bb6f99f7",
   "metadata": {
    "papermill": {
     "duration": null,
     "end_time": null,
     "exception": null,
     "start_time": null,
     "status": "completed"
    },
    "tags": []
   },
   "outputs": [],
   "source": []
  },
  {
   "cell_type": "code",
   "execution_count": null,
   "id": "c0daa72f",
   "metadata": {
    "papermill": {
     "duration": null,
     "end_time": null,
     "exception": null,
     "start_time": null,
     "status": "completed"
    },
    "tags": []
   },
   "outputs": [],
   "source": []
  }
 ],
 "metadata": {
  "kernelspec": {
   "display_name": "Python [conda env:test_robustness]",
   "language": "python",
   "name": "conda-env-test_robustness-py"
  },
  "language_info": {
   "codemirror_mode": {
    "name": "ipython",
    "version": 3
   },
   "file_extension": ".py",
   "mimetype": "text/x-python",
   "name": "python",
   "nbconvert_exporter": "python",
   "pygments_lexer": "ipython3",
   "version": "3.8.5"
  },
  "papermill": {
   "default_parameters": {},
   "duration": 0.048653,
   "end_time": "2022-10-20T19:16:01.045215",
   "environment_variables": {},
   "exception": null,
   "input_path": "./notebooks/studying_correlations.ipynb",
   "output_path": "./notebooks/studying_correlations.ipynb",
   "parameters": {},
   "start_time": "2022-10-20T19:16:00.996562",
   "version": "2.4.0"
  }
 },
 "nbformat": 4,
 "nbformat_minor": 5
}