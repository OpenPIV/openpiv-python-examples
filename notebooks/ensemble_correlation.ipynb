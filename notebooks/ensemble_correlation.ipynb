{
 "cells": [
  {
   "cell_type": "markdown",
   "id": "0bc41de9",
   "metadata": {
    "tags": [
     "papermill-error-cell-tag"
    ]
   },
   "source": [
    "<span style=\"color:red; font-family:Helvetica Neue, Helvetica, Arial, sans-serif; font-size:2em;\">An Exception was encountered at '<a href=\"#papermill-error-cell\">In [5]</a>'.</span>"
   ]
  },
  {
   "cell_type": "markdown",
   "id": "006f24d3",
   "metadata": {
    "papermill": {
     "duration": 0.008479,
     "end_time": "2022-10-20T19:14:03.182253",
     "exception": false,
     "start_time": "2022-10-20T19:14:03.173774",
     "status": "completed"
    },
    "tags": []
   },
   "source": [
    "# Ensemble correlation concept using OpenPIV"
   ]
  },
  {
   "cell_type": "markdown",
   "id": "93cf33c0",
   "metadata": {
    "papermill": {
     "duration": 0.003058,
     "end_time": "2022-10-20T19:14:03.191898",
     "exception": false,
     "start_time": "2022-10-20T19:14:03.188840",
     "status": "completed"
    },
    "tags": []
   },
   "source": [
    "Ensemble correlation should work in places where the flow is really steady and repeatable \n",
    "or could be phase averaged in the sense that the correlation map in a single interrogation \n",
    "window represents displacements from a statistically stationary distribution. \n",
    "\n",
    "In such case, the noisy position of the correlation peak is due to randomness that can \n",
    "be averaged out like the white noise and the avergaging of the correlation maps will \n",
    "yield a high quality peak that has great signal to noise ratio and close to Gaussian\n",
    "\n",
    "In this case the velocity estimate in the interrogation window will approach the mean\n",
    "velocity value at that location. "
   ]
  },
  {
   "cell_type": "code",
   "execution_count": 1,
   "id": "b38194e9",
   "metadata": {
    "execution": {
     "iopub.execute_input": "2022-10-20T19:14:03.198806Z",
     "iopub.status.busy": "2022-10-20T19:14:03.198523Z",
     "iopub.status.idle": "2022-10-20T19:14:04.121987Z",
     "shell.execute_reply": "2022-10-20T19:14:04.121344Z"
    },
    "papermill": {
     "duration": 0.928859,
     "end_time": "2022-10-20T19:14:04.123617",
     "exception": false,
     "start_time": "2022-10-20T19:14:03.194758",
     "status": "completed"
    },
    "tags": []
   },
   "outputs": [],
   "source": [
    "from openpiv.pyprocess import *\n",
    "from openpiv.tools import *"
   ]
  },
  {
   "cell_type": "code",
   "execution_count": 2,
   "id": "f2a2bcb6",
   "metadata": {
    "execution": {
     "iopub.execute_input": "2022-10-20T19:14:04.130871Z",
     "iopub.status.busy": "2022-10-20T19:14:04.130564Z",
     "iopub.status.idle": "2022-10-20T19:14:04.134310Z",
     "shell.execute_reply": "2022-10-20T19:14:04.133552Z"
    },
    "papermill": {
     "duration": 0.009044,
     "end_time": "2022-10-20T19:14:04.135884",
     "exception": false,
     "start_time": "2022-10-20T19:14:04.126840",
     "status": "completed"
    },
    "tags": []
   },
   "outputs": [],
   "source": [
    "from glob import glob"
   ]
  },
  {
   "cell_type": "code",
   "execution_count": 3,
   "id": "fed1bc4f",
   "metadata": {
    "execution": {
     "iopub.execute_input": "2022-10-20T19:14:04.142364Z",
     "iopub.status.busy": "2022-10-20T19:14:04.142125Z",
     "iopub.status.idle": "2022-10-20T19:14:04.146057Z",
     "shell.execute_reply": "2022-10-20T19:14:04.145591Z"
    },
    "papermill": {
     "duration": 0.008555,
     "end_time": "2022-10-20T19:14:04.147280",
     "exception": false,
     "start_time": "2022-10-20T19:14:04.138725",
     "status": "completed"
    },
    "tags": []
   },
   "outputs": [],
   "source": [
    "from pylab import *"
   ]
  },
  {
   "cell_type": "code",
   "execution_count": 4,
   "id": "94f417a1",
   "metadata": {
    "execution": {
     "iopub.execute_input": "2022-10-20T19:14:04.153906Z",
     "iopub.status.busy": "2022-10-20T19:14:04.153682Z",
     "iopub.status.idle": "2022-10-20T19:14:04.157444Z",
     "shell.execute_reply": "2022-10-20T19:14:04.156975Z"
    },
    "papermill": {
     "duration": 0.008489,
     "end_time": "2022-10-20T19:14:04.158652",
     "exception": false,
     "start_time": "2022-10-20T19:14:04.150163",
     "status": "completed"
    },
    "tags": []
   },
   "outputs": [
    {
     "name": "stdout",
     "output_type": "stream",
     "text": [
      "[]\n"
     ]
    }
   ],
   "source": [
    "imlist = glob('../test12/*.tif')\n",
    "imlist.sort()\n",
    "print(imlist)"
   ]
  },
  {
   "cell_type": "markdown",
   "id": "ae1194b1",
   "metadata": {
    "tags": [
     "papermill-error-cell-tag"
    ]
   },
   "source": [
    "<span id=\"papermill-error-cell\" style=\"color:red; font-family:Helvetica Neue, Helvetica, Arial, sans-serif; font-size:2em;\">Execution using papermill encountered an exception here and stopped:</span>"
   ]
  },
  {
   "cell_type": "code",
   "execution_count": 5,
   "id": "4b8522ee",
   "metadata": {
    "execution": {
     "iopub.execute_input": "2022-10-20T19:14:04.165177Z",
     "iopub.status.busy": "2022-10-20T19:14:04.164989Z",
     "iopub.status.idle": "2022-10-20T19:14:04.623183Z",
     "shell.execute_reply": "2022-10-20T19:14:04.622247Z"
    },
    "papermill": {
     "duration": 0.462844,
     "end_time": "2022-10-20T19:14:04.624388",
     "exception": true,
     "start_time": "2022-10-20T19:14:04.161544",
     "status": "failed"
    },
    "tags": []
   },
   "outputs": [
    {
     "ename": "IndexError",
     "evalue": "list index out of range",
     "output_type": "error",
     "traceback": [
      "\u001b[0;31m---------------------------------------------------------------------------\u001b[0m",
      "\u001b[0;31mIndexError\u001b[0m                                Traceback (most recent call last)",
      "Input \u001b[0;32mIn [5]\u001b[0m, in \u001b[0;36m<cell line: 3>\u001b[0;34m()\u001b[0m\n\u001b[1;32m      1\u001b[0m \u001b[38;5;66;03m# just a quick look at the data\u001b[39;00m\n\u001b[1;32m      2\u001b[0m \u001b[38;5;28;01mfrom\u001b[39;00m \u001b[38;5;21;01mopenpiv\u001b[39;00m\u001b[38;5;21;01m.\u001b[39;00m\u001b[38;5;21;01mpiv\u001b[39;00m \u001b[38;5;28;01mimport\u001b[39;00m simple_piv\n\u001b[0;32m----> 3\u001b[0m simple_piv(\u001b[43mimlist\u001b[49m\u001b[43m[\u001b[49m\u001b[38;5;241;43m0\u001b[39;49m\u001b[43m]\u001b[49m, imlist[\u001b[38;5;241m1\u001b[39m])\n",
      "\u001b[0;31mIndexError\u001b[0m: list index out of range"
     ]
    }
   ],
   "source": [
    "# just a quick look at the data\n",
    "from openpiv.piv import simple_piv\n",
    "simple_piv(imlist[0], imlist[1]);"
   ]
  },
  {
   "cell_type": "markdown",
   "id": "e5b1fc09",
   "metadata": {
    "papermill": {
     "duration": null,
     "end_time": null,
     "exception": null,
     "start_time": null,
     "status": "pending"
    },
    "tags": []
   },
   "source": [
    "## Ensemble averaged correlation using FFT based correlation from OpenPIV"
   ]
  },
  {
   "cell_type": "code",
   "execution_count": null,
   "id": "7b3a6d58",
   "metadata": {
    "papermill": {
     "duration": null,
     "end_time": null,
     "exception": null,
     "start_time": null,
     "status": "pending"
    },
    "tags": []
   },
   "outputs": [],
   "source": [
    "corrs = []\n",
    "for i,j in zip(imlist[::2],imlist[1::2]):\n",
    "    # print(i,j)\n",
    "    corrs.append(fft_correlate_images(moving_window_array(imread(i),64,32),\n",
    "                                        moving_window_array(imread(j),64,32),\n",
    "                                        normalized_correlation=True))"
   ]
  },
  {
   "cell_type": "code",
   "execution_count": null,
   "id": "b269a68c",
   "metadata": {
    "papermill": {
     "duration": null,
     "end_time": null,
     "exception": null,
     "start_time": null,
     "status": "pending"
    },
    "tags": []
   },
   "outputs": [],
   "source": [
    "corrs = np.array(corrs)  # save also single image pair correlations\n",
    "mean_correlation = corrs.mean(axis=0)  # ensemble average"
   ]
  },
  {
   "cell_type": "code",
   "execution_count": null,
   "id": "26c200b4",
   "metadata": {
    "papermill": {
     "duration": null,
     "end_time": null,
     "exception": null,
     "start_time": null,
     "status": "pending"
    },
    "tags": []
   },
   "outputs": [],
   "source": [
    "# Let's compare the result with instantaneous results\n",
    "contourf(mean_correlation[23,:,:])\n",
    "colorbar()"
   ]
  },
  {
   "cell_type": "code",
   "execution_count": null,
   "id": "6aae5650",
   "metadata": {
    "papermill": {
     "duration": null,
     "end_time": null,
     "exception": null,
     "start_time": null,
     "status": "pending"
    },
    "tags": []
   },
   "outputs": [],
   "source": [
    "for i in range(corrs.shape[0]):\n",
    "    figure()\n",
    "    contourf(corrs[i,252,:,:])\n",
    "    colorbar()"
   ]
  },
  {
   "cell_type": "code",
   "execution_count": null,
   "id": "f4bf9a51",
   "metadata": {
    "papermill": {
     "duration": null,
     "end_time": null,
     "exception": null,
     "start_time": null,
     "status": "pending"
    },
    "tags": []
   },
   "outputs": [],
   "source": [
    "im = imread(imlist[0])\n",
    "im.shape"
   ]
  },
  {
   "cell_type": "code",
   "execution_count": null,
   "id": "be037f68",
   "metadata": {
    "papermill": {
     "duration": null,
     "end_time": null,
     "exception": null,
     "start_time": null,
     "status": "pending"
    },
    "tags": []
   },
   "outputs": [],
   "source": [
    "grid = get_field_shape(im.shape,search_area_size=64,overlap=32)\n",
    "nrows, ncols = grid[0], grid[1]"
   ]
  },
  {
   "cell_type": "code",
   "execution_count": null,
   "id": "a5835d2c",
   "metadata": {
    "papermill": {
     "duration": null,
     "end_time": null,
     "exception": null,
     "start_time": null,
     "status": "pending"
    },
    "tags": []
   },
   "outputs": [],
   "source": [
    "u,v = correlation_to_displacement(mean_correlation, nrows, ncols)"
   ]
  },
  {
   "cell_type": "code",
   "execution_count": null,
   "id": "3b51e3e4",
   "metadata": {
    "papermill": {
     "duration": null,
     "end_time": null,
     "exception": null,
     "start_time": null,
     "status": "pending"
    },
    "tags": []
   },
   "outputs": [],
   "source": [
    "x,y = get_coordinates(im.shape, 64, 32)"
   ]
  },
  {
   "cell_type": "code",
   "execution_count": null,
   "id": "aae9a32f",
   "metadata": {
    "papermill": {
     "duration": null,
     "end_time": null,
     "exception": null,
     "start_time": null,
     "status": "pending"
    },
    "tags": []
   },
   "outputs": [],
   "source": [
    "fig, ax = subplots(figsize=(8,8))\n",
    "ax.quiver(x,y,u,v,scale=80,width=.003)\n",
    "ax.invert_yaxis()\n",
    "plot(u.mean(axis=1)*80+400,y[:,0])"
   ]
  },
  {
   "cell_type": "code",
   "execution_count": null,
   "id": "396b191d",
   "metadata": {
    "papermill": {
     "duration": null,
     "end_time": null,
     "exception": null,
     "start_time": null,
     "status": "pending"
    },
    "tags": []
   },
   "outputs": [],
   "source": [
    "# another way is the averaging of velocity fields"
   ]
  },
  {
   "cell_type": "code",
   "execution_count": null,
   "id": "90a4251a",
   "metadata": {
    "papermill": {
     "duration": null,
     "end_time": null,
     "exception": null,
     "start_time": null,
     "status": "pending"
    },
    "tags": []
   },
   "outputs": [],
   "source": [
    "U = []\n",
    "V = []\n",
    "\n",
    "for i in range(corrs.shape[0]):\n",
    "    tmpu,tmpv = correlation_to_displacement(corrs[i,:,:,:], nrows, ncols)\n",
    "    U.append(tmpu)\n",
    "    V.append(tmpv)\n",
    "    fig, ax = subplots(figsize=(6,6))\n",
    "    ax.quiver(x,y,tmpu,tmpv,scale=200)\n",
    "    ax.invert_yaxis()\n",
    "    plot(tmpu.mean(axis=1)*80+400,y[:,0])\n",
    "    \n",
    "    \n",
    "U = np.array(U)\n",
    "V = np.array(V)\n",
    "\n",
    "meanU = np.mean(U, axis=0)\n",
    "meanV = np.mean(V, axis=0)"
   ]
  },
  {
   "cell_type": "code",
   "execution_count": null,
   "id": "24b2aa2b",
   "metadata": {
    "papermill": {
     "duration": null,
     "end_time": null,
     "exception": null,
     "start_time": null,
     "status": "pending"
    },
    "tags": []
   },
   "outputs": [],
   "source": [
    "fig, ax = subplots(figsize=(8,8))\n",
    "ax.quiver(x,y,meanU,meanV,scale=200)\n",
    "ax.invert_yaxis()\n",
    "plot(meanU.mean(axis=1)*80+400,y[:,0])"
   ]
  },
  {
   "cell_type": "code",
   "execution_count": null,
   "id": "eb982331",
   "metadata": {
    "papermill": {
     "duration": null,
     "end_time": null,
     "exception": null,
     "start_time": null,
     "status": "pending"
    },
    "tags": []
   },
   "outputs": [],
   "source": []
  }
 ],
 "metadata": {
  "kernelspec": {
   "display_name": "Python 3 (ipykernel)",
   "language": "python",
   "name": "python3"
  },
  "language_info": {
   "codemirror_mode": {
    "name": "ipython",
    "version": 3
   },
   "file_extension": ".py",
   "mimetype": "text/x-python",
   "name": "python",
   "nbconvert_exporter": "python",
   "pygments_lexer": "ipython3",
   "version": "3.8.12"
  },
  "papermill": {
   "default_parameters": {},
   "duration": 2.803419,
   "end_time": "2022-10-20T19:14:04.946962",
   "environment_variables": {},
   "exception": true,
   "input_path": "./notebooks/ensemble_correlation.ipynb",
   "output_path": "./notebooks/ensemble_correlation.ipynb",
   "parameters": {},
   "start_time": "2022-10-20T19:14:02.143543",
   "version": "2.4.0"
  }
 },
 "nbformat": 4,
 "nbformat_minor": 5
}