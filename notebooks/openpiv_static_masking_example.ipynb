{
 "cells": [
  {
   "cell_type": "markdown",
   "id": "48618626",
   "metadata": {
    "tags": [
     "papermill-error-cell-tag"
    ]
   },
   "source": [
    "<span style=\"color:red; font-family:Helvetica Neue, Helvetica, Arial, sans-serif; font-size:2em;\">An Exception was encountered at '<a href=\"#papermill-error-cell\">In [4]</a>'.</span>"
   ]
  },
  {
   "cell_type": "markdown",
   "id": "83ed8d80-9c86-4307-8f5a-60af211f074f",
   "metadata": {
    "papermill": {
     "duration": 0.01494,
     "end_time": "2022-10-20T19:15:36.884933",
     "exception": false,
     "start_time": "2022-10-20T19:15:36.869993",
     "status": "completed"
    },
    "tags": []
   },
   "source": [
    "# OpenPIV static masking example%load_ext watermark\n",
    "%watermark -v -m -p numpy,openpiv -g -b"
   ]
  },
  {
   "cell_type": "code",
   "execution_count": 1,
   "id": "edab327c-e166-4eac-b1df-7870b10a729f",
   "metadata": {
    "execution": {
     "iopub.execute_input": "2022-10-20T19:15:36.903287Z",
     "iopub.status.busy": "2022-10-20T19:15:36.902756Z",
     "iopub.status.idle": "2022-10-20T19:15:37.013223Z",
     "shell.execute_reply": "2022-10-20T19:15:37.012554Z"
    },
    "papermill": {
     "duration": 0.119518,
     "end_time": "2022-10-20T19:15:37.014607",
     "exception": false,
     "start_time": "2022-10-20T19:15:36.895089",
     "status": "completed"
    },
    "tags": []
   },
   "outputs": [
    {
     "name": "stdout",
     "output_type": "stream",
     "text": [
      "Python implementation: CPython\n",
      "Python version       : 3.8.12\n",
      "IPython version      : 8.4.0\n",
      "\n",
      "numpy  : 1.23.1\n",
      "openpiv: 0.24.4a0\n",
      "\n",
      "Compiler    : GCC 4.8.5 20150623 (Red Hat 4.8.5-44)\n",
      "OS          : Linux\n",
      "Release     : 5.4.0-131-generic\n",
      "Machine     : x86_64\n",
      "Processor   : x86_64\n",
      "CPU cores   : 8\n",
      "Architecture: 64bit\n",
      "\n",
      "Git hash: 982832a2d87a3b9e116a68b52b3f917d88373c89\n",
      "\n",
      "Git branch: main\n",
      "\n"
     ]
    }
   ],
   "source": [
    "%load_ext watermark\n",
    "%watermark -v -m -p numpy,openpiv -g -b"
   ]
  },
  {
   "cell_type": "code",
   "execution_count": 2,
   "id": "e87e0c54-a0b5-4c30-bd0e-b956ab0355e6",
   "metadata": {
    "execution": {
     "iopub.execute_input": "2022-10-20T19:15:37.020587Z",
     "iopub.status.busy": "2022-10-20T19:15:37.020126Z",
     "iopub.status.idle": "2022-10-20T19:15:37.848152Z",
     "shell.execute_reply": "2022-10-20T19:15:37.847565Z"
    },
    "papermill": {
     "duration": 0.832472,
     "end_time": "2022-10-20T19:15:37.849643",
     "exception": false,
     "start_time": "2022-10-20T19:15:37.017171",
     "status": "completed"
    },
    "tags": []
   },
   "outputs": [],
   "source": [
    "from openpiv import tools\n",
    "from openpiv.piv import simple_piv\n",
    "\n",
    "import pathlib\n",
    "import matplotlib.pyplot as plt\n",
    "import numpy as np"
   ]
  },
  {
   "cell_type": "code",
   "execution_count": 3,
   "id": "a88aba60-aa88-4616-b78a-e1794fe791ce",
   "metadata": {
    "execution": {
     "iopub.execute_input": "2022-10-20T19:15:37.855283Z",
     "iopub.status.busy": "2022-10-20T19:15:37.854995Z",
     "iopub.status.idle": "2022-10-20T19:15:37.858694Z",
     "shell.execute_reply": "2022-10-20T19:15:37.858111Z"
    },
    "papermill": {
     "duration": 0.007945,
     "end_time": "2022-10-20T19:15:37.859915",
     "exception": false,
     "start_time": "2022-10-20T19:15:37.851970",
     "status": "completed"
    },
    "tags": []
   },
   "outputs": [
    {
     "name": "stdout",
     "output_type": "stream",
     "text": [
      "[]\n"
     ]
    }
   ],
   "source": [
    "images = sorted(pathlib.Path('../test9').glob('*.jpg'))\n",
    "print(images)"
   ]
  },
  {
   "cell_type": "markdown",
   "id": "d52c0f52",
   "metadata": {
    "tags": [
     "papermill-error-cell-tag"
    ]
   },
   "source": [
    "<span id=\"papermill-error-cell\" style=\"color:red; font-family:Helvetica Neue, Helvetica, Arial, sans-serif; font-size:2em;\">Execution using papermill encountered an exception here and stopped:</span>"
   ]
  },
  {
   "cell_type": "code",
   "execution_count": 4,
   "id": "44ffa34f-fca0-4082-8a35-6a6f754239ff",
   "metadata": {
    "execution": {
     "iopub.execute_input": "2022-10-20T19:15:37.865189Z",
     "iopub.status.busy": "2022-10-20T19:15:37.864974Z",
     "iopub.status.idle": "2022-10-20T19:15:38.318194Z",
     "shell.execute_reply": "2022-10-20T19:15:38.317354Z"
    },
    "papermill": {
     "duration": 0.457248,
     "end_time": "2022-10-20T19:15:38.319382",
     "exception": true,
     "start_time": "2022-10-20T19:15:37.862134",
     "status": "failed"
    },
    "tags": []
   },
   "outputs": [
    {
     "ename": "IndexError",
     "evalue": "list index out of range",
     "output_type": "error",
     "traceback": [
      "\u001b[0;31m---------------------------------------------------------------------------\u001b[0m",
      "\u001b[0;31mIndexError\u001b[0m                                Traceback (most recent call last)",
      "Input \u001b[0;32mIn [4]\u001b[0m, in \u001b[0;36m<cell line: 1>\u001b[0;34m()\u001b[0m\n\u001b[0;32m----> 1\u001b[0m a,b \u001b[38;5;241m=\u001b[39m tools\u001b[38;5;241m.\u001b[39mimread(\u001b[43mimages\u001b[49m\u001b[43m[\u001b[49m\u001b[38;5;241;43m0\u001b[39;49m\u001b[43m]\u001b[49m), tools\u001b[38;5;241m.\u001b[39mimread(images[\u001b[38;5;241m1\u001b[39m])\n\u001b[1;32m      2\u001b[0m plt\u001b[38;5;241m.\u001b[39mimshow(np\u001b[38;5;241m.\u001b[39mc_[a,b])\n",
      "\u001b[0;31mIndexError\u001b[0m: list index out of range"
     ]
    }
   ],
   "source": [
    "a,b = tools.imread(images[0]), tools.imread(images[1])\n",
    "plt.imshow(np.c_[a,b])"
   ]
  },
  {
   "cell_type": "markdown",
   "id": "0bf7c39b-9107-46af-b4b8-736459978b6b",
   "metadata": {
    "papermill": {
     "duration": null,
     "end_time": null,
     "exception": null,
     "start_time": null,
     "status": "pending"
    },
    "tags": []
   },
   "source": [
    "We see the mask as a circle, but OpenPIV does not know about it, we see some vectors \"inside the masked region\". Since the arrows inside are erroneous, these are removed in the post-processing validation. "
   ]
  },
  {
   "cell_type": "code",
   "execution_count": null,
   "id": "b655ced2-a7db-4bde-bc5e-3a155a432275",
   "metadata": {
    "papermill": {
     "duration": null,
     "end_time": null,
     "exception": null,
     "start_time": null,
     "status": "pending"
    },
    "tags": []
   },
   "outputs": [],
   "source": [
    "simple_piv(a,b);"
   ]
  },
  {
   "cell_type": "markdown",
   "id": "990b510b-1a58-4645-8eee-76d81d46527b",
   "metadata": {
    "papermill": {
     "duration": null,
     "end_time": null,
     "exception": null,
     "start_time": null,
     "status": "pending"
    },
    "tags": []
   },
   "source": [
    "## Let's create a mask - it's an image size matrix of booleans"
   ]
  },
  {
   "cell_type": "code",
   "execution_count": null,
   "id": "d071a4f9-7420-40aa-a27d-77e656a0388e",
   "metadata": {
    "papermill": {
     "duration": null,
     "end_time": null,
     "exception": null,
     "start_time": null,
     "status": "pending"
    },
    "tags": []
   },
   "outputs": [],
   "source": [
    "from skimage.morphology import binary_dilation, disk, white_tophat\n",
    "\n",
    "\n",
    "# binary thresholding - all above 210 can be an object\n",
    "mask = a > 210\n",
    "\n",
    "# remove tracers:\n",
    "mask = np.logical_xor(mask, white_tophat(mask, disk(3))) # remove small objects\n",
    "\n",
    "# increase a bit the mask borders \n",
    "mask = binary_dilation(mask, disk(7)) # dilate large object\n",
    "\n",
    "plt.imshow(mask)"
   ]
  },
  {
   "cell_type": "code",
   "execution_count": null,
   "id": "d5a3401d-98e6-4d08-81b4-d075139d146e",
   "metadata": {
    "papermill": {
     "duration": null,
     "end_time": null,
     "exception": null,
     "start_time": null,
     "status": "pending"
    },
    "tags": []
   },
   "outputs": [],
   "source": [
    "# long and descriptive way:\n",
    "masked_a = a.copy()\n",
    "masked_b = b.copy()\n",
    "masked_a[mask] = 0\n",
    "masked_b[mask] = 0\n",
    "plt.imshow(np.c_[masked_a, masked_b])"
   ]
  },
  {
   "cell_type": "code",
   "execution_count": null,
   "id": "2eff8848-7f11-4baa-8174-4ca2219b9f01",
   "metadata": {
    "papermill": {
     "duration": null,
     "end_time": null,
     "exception": null,
     "start_time": null,
     "status": "pending"
    },
    "tags": []
   },
   "outputs": [],
   "source": [
    "simple_piv(masked_a, masked_b);"
   ]
  },
  {
   "cell_type": "code",
   "execution_count": null,
   "id": "db5a0134-cbef-4e43-8346-4e3258278e5b",
   "metadata": {
    "papermill": {
     "duration": null,
     "end_time": null,
     "exception": null,
     "start_time": null,
     "status": "pending"
    },
    "tags": []
   },
   "outputs": [],
   "source": [
    "# shorthand\n",
    "masked_a = a | mask\n",
    "masked_b = b | mask\n",
    "simple_piv(masked_a, masked_b);"
   ]
  },
  {
   "cell_type": "markdown",
   "id": "ad5a3f7d-0f24-4611-8de4-5e9e3194161a",
   "metadata": {
    "papermill": {
     "duration": null,
     "end_time": null,
     "exception": null,
     "start_time": null,
     "status": "pending"
    },
    "tags": []
   },
   "source": [
    "## How to use static masking with multi-pass window deformation processor"
   ]
  },
  {
   "cell_type": "code",
   "execution_count": null,
   "id": "3768ae99-5780-4618-b002-f3aea7bdd52f",
   "metadata": {
    "papermill": {
     "duration": null,
     "end_time": null,
     "exception": null,
     "start_time": null,
     "status": "pending"
    },
    "tags": []
   },
   "outputs": [],
   "source": [
    "from openpiv import windef\n",
    "settings = windef.PIVSettings()\n",
    "settings.filepath_images = pathlib.Path('.')\n",
    "settings.frame_pattern_a = str(images[0])\n",
    "settings.frame_pattern_b = str(images[1])\n",
    "\n",
    "settings.static_masking = True\n",
    "settings.static_mask = mask\n",
    "settings.show_all_plots = True\n",
    "settings.show_plot = True"
   ]
  },
  {
   "cell_type": "code",
   "execution_count": null,
   "id": "af8d5ed0-4ae3-4c1a-98ec-7a7cb85bd3c3",
   "metadata": {
    "papermill": {
     "duration": null,
     "end_time": null,
     "exception": null,
     "start_time": null,
     "status": "pending"
    },
    "tags": []
   },
   "outputs": [],
   "source": [
    "windef.piv(settings)"
   ]
  },
  {
   "cell_type": "code",
   "execution_count": null,
   "id": "80a00f4f-2d27-486e-b0a0-5fc03fe8fd32",
   "metadata": {
    "papermill": {
     "duration": null,
     "end_time": null,
     "exception": null,
     "start_time": null,
     "status": "pending"
    },
    "tags": []
   },
   "outputs": [],
   "source": []
  }
 ],
 "metadata": {
  "kernelspec": {
   "display_name": "Python 3.8.12 ('echopiv')",
   "language": "python",
   "name": "python3"
  },
  "language_info": {
   "codemirror_mode": {
    "name": "ipython",
    "version": 3
   },
   "file_extension": ".py",
   "mimetype": "text/x-python",
   "name": "python",
   "nbconvert_exporter": "python",
   "pygments_lexer": "ipython3",
   "version": "3.8.12"
  },
  "papermill": {
   "default_parameters": {},
   "duration": 2.802255,
   "end_time": "2022-10-20T19:15:38.640384",
   "environment_variables": {},
   "exception": true,
   "input_path": "./notebooks/openpiv_static_masking_example.ipynb",
   "output_path": "./notebooks/openpiv_static_masking_example.ipynb",
   "parameters": {},
   "start_time": "2022-10-20T19:15:35.838129",
   "version": "2.4.0"
  },
  "vscode": {
   "interpreter": {
    "hash": "f83b0c3a4910470a1212112b1707d582432916ed4ba8aec962241a050aa18fae"
   }
  }
 },
 "nbformat": 4,
 "nbformat_minor": 5
}