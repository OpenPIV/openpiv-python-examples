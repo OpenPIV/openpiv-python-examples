{
 "cells": [
  {
   "cell_type": "markdown",
   "id": "9111227e",
   "metadata": {
    "tags": [
     "papermill-error-cell-tag"
    ]
   },
   "source": [
    "<span style=\"color:red; font-family:Helvetica Neue, Helvetica, Arial, sans-serif; font-size:2em;\">An Exception was encountered at '<a href=\"#papermill-error-cell\">In [2]</a>'.</span>"
   ]
  },
  {
   "cell_type": "code",
   "execution_count": 1,
   "id": "277db951",
   "metadata": {
    "execution": {
     "iopub.execute_input": "2022-10-20T19:15:44.641903Z",
     "iopub.status.busy": "2022-10-20T19:15:44.640410Z",
     "iopub.status.idle": "2022-10-20T19:15:45.605538Z",
     "shell.execute_reply": "2022-10-20T19:15:45.604411Z"
    },
    "papermill": {
     "duration": 0.977669,
     "end_time": "2022-10-20T19:15:45.607229",
     "exception": false,
     "start_time": "2022-10-20T19:15:44.629560",
     "status": "completed"
    },
    "tags": []
   },
   "outputs": [],
   "source": [
    "from openpiv.piv import simple_piv\n",
    "import imageio"
   ]
  },
  {
   "cell_type": "markdown",
   "id": "13cf7158",
   "metadata": {
    "tags": [
     "papermill-error-cell-tag"
    ]
   },
   "source": [
    "<span id=\"papermill-error-cell\" style=\"color:red; font-family:Helvetica Neue, Helvetica, Arial, sans-serif; font-size:2em;\">Execution using papermill encountered an exception here and stopped:</span>"
   ]
  },
  {
   "cell_type": "code",
   "execution_count": 2,
   "id": "e2de6f3d",
   "metadata": {
    "execution": {
     "iopub.execute_input": "2022-10-20T19:15:45.611716Z",
     "iopub.status.busy": "2022-10-20T19:15:45.611068Z",
     "iopub.status.idle": "2022-10-20T19:15:50.885685Z",
     "shell.execute_reply": "2022-10-20T19:15:50.884816Z"
    },
    "papermill": {
     "duration": 5.278181,
     "end_time": "2022-10-20T19:15:50.886796",
     "exception": true,
     "start_time": "2022-10-20T19:15:45.608615",
     "status": "failed"
    },
    "tags": []
   },
   "outputs": [
    {
     "name": "stdout",
     "output_type": "stream",
     "text": [
      "Reading ..\n",
      "http://www.vsj.jp/~pivstd/gif/image01.gif\n"
     ]
    },
    {
     "ename": "ValueError",
     "evalue": "operands could not be broadcast together with shapes (3,) (2,) ",
     "output_type": "error",
     "traceback": [
      "\u001b[0;31m---------------------------------------------------------------------------\u001b[0m",
      "\u001b[0;31mValueError\u001b[0m                                Traceback (most recent call last)",
      "Input \u001b[0;32mIn [2]\u001b[0m, in \u001b[0;36m<cell line: 6>\u001b[0;34m()\u001b[0m\n\u001b[1;32m     14\u001b[0m     images\u001b[38;5;241m.\u001b[39mappend(frame)\n\u001b[1;32m     16\u001b[0m \u001b[38;5;28;01mfor\u001b[39;00m I,J \u001b[38;5;129;01min\u001b[39;00m \u001b[38;5;28mzip\u001b[39m(images[:\u001b[38;5;241m-\u001b[39m\u001b[38;5;241m1\u001b[39m],images[\u001b[38;5;241m1\u001b[39m:]):\n\u001b[0;32m---> 17\u001b[0m     \u001b[43msimple_piv\u001b[49m\u001b[43m(\u001b[49m\u001b[43mI\u001b[49m\u001b[43m,\u001b[49m\u001b[43mJ\u001b[49m\u001b[43m)\u001b[49m\n",
      "File \u001b[0;32m~/Documents/repos/openpiv-python/openpiv/piv.py:42\u001b[0m, in \u001b[0;36msimple_piv\u001b[0;34m(im1, im2, plot)\u001b[0m\n\u001b[1;32m     39\u001b[0m     im1 \u001b[38;5;241m=\u001b[39m tools\u001b[38;5;241m.\u001b[39mimread(im1)\n\u001b[1;32m     40\u001b[0m     im2 \u001b[38;5;241m=\u001b[39m tools\u001b[38;5;241m.\u001b[39mimread(im2)\n\u001b[0;32m---> 42\u001b[0m u, v, s2n \u001b[38;5;241m=\u001b[39m \u001b[43mpyprocess\u001b[49m\u001b[38;5;241;43m.\u001b[39;49m\u001b[43mextended_search_area_piv\u001b[49m\u001b[43m(\u001b[49m\n\u001b[1;32m     43\u001b[0m \u001b[43m    \u001b[49m\u001b[43mim1\u001b[49m\u001b[38;5;241;43m.\u001b[39;49m\u001b[43mastype\u001b[49m\u001b[43m(\u001b[49m\u001b[43mnp\u001b[49m\u001b[38;5;241;43m.\u001b[39;49m\u001b[43mint32\u001b[49m\u001b[43m)\u001b[49m\u001b[43m,\u001b[49m\u001b[43m \u001b[49m\u001b[43mim2\u001b[49m\u001b[38;5;241;43m.\u001b[39;49m\u001b[43mastype\u001b[49m\u001b[43m(\u001b[49m\u001b[43mnp\u001b[49m\u001b[38;5;241;43m.\u001b[39;49m\u001b[43mint32\u001b[49m\u001b[43m)\u001b[49m\u001b[43m,\u001b[49m\u001b[43m \u001b[49m\u001b[43mwindow_size\u001b[49m\u001b[38;5;241;43m=\u001b[39;49m\u001b[38;5;241;43m32\u001b[39;49m\u001b[43m,\u001b[49m\n\u001b[1;32m     44\u001b[0m \u001b[43m    \u001b[49m\u001b[43moverlap\u001b[49m\u001b[38;5;241;43m=\u001b[39;49m\u001b[38;5;241;43m16\u001b[39;49m\u001b[43m,\u001b[49m\u001b[43m \u001b[49m\u001b[43msearch_area_size\u001b[49m\u001b[38;5;241;43m=\u001b[39;49m\u001b[38;5;241;43m32\u001b[39;49m\n\u001b[1;32m     45\u001b[0m \u001b[43m\u001b[49m\u001b[43m)\u001b[49m\n\u001b[1;32m     46\u001b[0m x, y \u001b[38;5;241m=\u001b[39m pyprocess\u001b[38;5;241m.\u001b[39mget_coordinates(image_size\u001b[38;5;241m=\u001b[39mim1\u001b[38;5;241m.\u001b[39mshape,\n\u001b[1;32m     47\u001b[0m                                  search_area_size\u001b[38;5;241m=\u001b[39m\u001b[38;5;241m32\u001b[39m, overlap\u001b[38;5;241m=\u001b[39m\u001b[38;5;241m16\u001b[39m)\n\u001b[1;32m     49\u001b[0m valid \u001b[38;5;241m=\u001b[39m s2n \u001b[38;5;241m>\u001b[39m np\u001b[38;5;241m.\u001b[39mpercentile(s2n, \u001b[38;5;241m5\u001b[39m)\n",
      "File \u001b[0;32m~/Documents/repos/openpiv-python/openpiv/pyprocess.py:1038\u001b[0m, in \u001b[0;36mextended_search_area_piv\u001b[0;34m(frame_a, frame_b, window_size, overlap, dt, search_area_size, correlation_method, subpixel_method, sig2noise_method, width, normalized_correlation, use_vectorized)\u001b[0m\n\u001b[1;32m   1036\u001b[0m \u001b[38;5;66;03m# We implement the new vectorized code\u001b[39;00m\n\u001b[1;32m   1037\u001b[0m aa \u001b[38;5;241m=\u001b[39m sliding_window_array(frame_a, search_area_size, overlap)\n\u001b[0;32m-> 1038\u001b[0m bb \u001b[38;5;241m=\u001b[39m \u001b[43msliding_window_array\u001b[49m\u001b[43m(\u001b[49m\u001b[43mframe_b\u001b[49m\u001b[43m,\u001b[49m\u001b[43m \u001b[49m\u001b[43msearch_area_size\u001b[49m\u001b[43m,\u001b[49m\u001b[43m \u001b[49m\u001b[43moverlap\u001b[49m\u001b[43m)\u001b[49m\n\u001b[1;32m   1040\u001b[0m \u001b[38;5;66;03m# for the case of extended seearch, the window size is smaller than\u001b[39;00m\n\u001b[1;32m   1041\u001b[0m \u001b[38;5;66;03m# the search_area_size. In order to keep it all vectorized the\u001b[39;00m\n\u001b[1;32m   1042\u001b[0m \u001b[38;5;66;03m# approach is to use the interrogation window in both\u001b[39;00m\n\u001b[1;32m   1043\u001b[0m \u001b[38;5;66;03m# frames of the same size of search_area_asize,\u001b[39;00m\n\u001b[1;32m   1044\u001b[0m \u001b[38;5;66;03m# but mask out the region around\u001b[39;00m\n\u001b[1;32m   1045\u001b[0m \u001b[38;5;66;03m# the interrogation window in the frame A\u001b[39;00m\n\u001b[1;32m   1047\u001b[0m \u001b[38;5;28;01mif\u001b[39;00m search_area_size \u001b[38;5;241m>\u001b[39m window_size:\n\u001b[1;32m   1048\u001b[0m     \u001b[38;5;66;03m# before masking with zeros we need to remove\u001b[39;00m\n\u001b[1;32m   1049\u001b[0m     \u001b[38;5;66;03m# edges\u001b[39;00m\n",
      "File \u001b[0;32m~/Documents/repos/openpiv-python/openpiv/pyprocess.py:201\u001b[0m, in \u001b[0;36msliding_window_array\u001b[0;34m(image, window_size, overlap)\u001b[0m\n\u001b[1;32m    188\u001b[0m \u001b[38;5;124;03m'''\u001b[39;00m\n\u001b[1;32m    189\u001b[0m \u001b[38;5;124;03mThis version does not use numpy as_strided and is much more memory efficient.\u001b[39;00m\n\u001b[1;32m    190\u001b[0m \u001b[38;5;124;03mBasically, we have a 2d array and we want to perform cross-correlation\u001b[39;00m\n\u001b[0;32m   (...)\u001b[0m\n\u001b[1;32m    194\u001b[0m \u001b[38;5;124;03mwhich each slice, (along the first axis) is an interrogation window. \u001b[39;00m\n\u001b[1;32m    195\u001b[0m \u001b[38;5;124;03m'''\u001b[39;00m\n\u001b[1;32m    196\u001b[0m \u001b[38;5;66;03m# if isinstance(window_size, tuple) is False and isinstance(window_size, list) is False:\u001b[39;00m\n\u001b[1;32m    197\u001b[0m \u001b[38;5;66;03m#     window_size = [window_size, window_size]\u001b[39;00m\n\u001b[1;32m    198\u001b[0m \u001b[38;5;66;03m# if isinstance(overlap, tuple) is False and isinstance(overlap, list) is False:\u001b[39;00m\n\u001b[1;32m    199\u001b[0m \u001b[38;5;66;03m#     overlap = [overlap, overlap]\u001b[39;00m\n\u001b[0;32m--> 201\u001b[0m x, y \u001b[38;5;241m=\u001b[39m \u001b[43mget_rect_coordinates\u001b[49m\u001b[43m(\u001b[49m\u001b[43mimage\u001b[49m\u001b[38;5;241;43m.\u001b[39;49m\u001b[43mshape\u001b[49m\u001b[43m,\u001b[49m\u001b[43m \u001b[49m\u001b[43mwindow_size\u001b[49m\u001b[43m,\u001b[49m\u001b[43m \u001b[49m\u001b[43moverlap\u001b[49m\u001b[43m,\u001b[49m\u001b[43m \u001b[49m\u001b[43mcenter_on_field\u001b[49m\u001b[43m \u001b[49m\u001b[38;5;241;43m=\u001b[39;49m\u001b[43m \u001b[49m\u001b[38;5;28;43;01mFalse\u001b[39;49;00m\u001b[43m)\u001b[49m\n\u001b[1;32m    202\u001b[0m x \u001b[38;5;241m=\u001b[39m (x \u001b[38;5;241m-\u001b[39m window_size[\u001b[38;5;241m1\u001b[39m]\u001b[38;5;241m/\u001b[39m\u001b[38;5;241m/\u001b[39m\u001b[38;5;241m2\u001b[39m)\u001b[38;5;241m.\u001b[39mastype(\u001b[38;5;28mint\u001b[39m); y \u001b[38;5;241m=\u001b[39m (y \u001b[38;5;241m-\u001b[39m window_size[\u001b[38;5;241m0\u001b[39m]\u001b[38;5;241m/\u001b[39m\u001b[38;5;241m/\u001b[39m\u001b[38;5;241m2\u001b[39m)\u001b[38;5;241m.\u001b[39mastype(\u001b[38;5;28mint\u001b[39m)\n\u001b[1;32m    203\u001b[0m x, y \u001b[38;5;241m=\u001b[39m np\u001b[38;5;241m.\u001b[39mreshape(x, (\u001b[38;5;241m-\u001b[39m\u001b[38;5;241m1\u001b[39m,\u001b[38;5;241m1\u001b[39m,\u001b[38;5;241m1\u001b[39m)), np\u001b[38;5;241m.\u001b[39mreshape(y, (\u001b[38;5;241m-\u001b[39m\u001b[38;5;241m1\u001b[39m,\u001b[38;5;241m1\u001b[39m,\u001b[38;5;241m1\u001b[39m))\n",
      "File \u001b[0;32m~/Documents/repos/openpiv-python/openpiv/pyprocess.py:175\u001b[0m, in \u001b[0;36mget_rect_coordinates\u001b[0;34m(image_size, window_size, overlap, center_on_field)\u001b[0m\n\u001b[1;32m    171\u001b[0m     overlap \u001b[38;5;241m=\u001b[39m (overlap, overlap)\n\u001b[1;32m    173\u001b[0m \u001b[38;5;66;03m# @alexlib why the center_on_field is False? \u001b[39;00m\n\u001b[1;32m    174\u001b[0m \u001b[38;5;66;03m# todo: test True as well \u001b[39;00m\n\u001b[0;32m--> 175\u001b[0m _, y \u001b[38;5;241m=\u001b[39m \u001b[43mget_coordinates\u001b[49m\u001b[43m(\u001b[49m\u001b[43mimage_size\u001b[49m\u001b[43m,\u001b[49m\u001b[43m \u001b[49m\u001b[43mwindow_size\u001b[49m\u001b[43m[\u001b[49m\u001b[38;5;241;43m0\u001b[39;49m\u001b[43m]\u001b[49m\u001b[43m,\u001b[49m\u001b[43m \u001b[49m\u001b[43moverlap\u001b[49m\u001b[43m[\u001b[49m\u001b[38;5;241;43m0\u001b[39;49m\u001b[43m]\u001b[49m\u001b[43m,\u001b[49m\u001b[43m \u001b[49m\u001b[43mcenter_on_field\u001b[49m\u001b[38;5;241;43m=\u001b[39;49m\u001b[43mcenter_on_field\u001b[49m\u001b[43m)\u001b[49m\n\u001b[1;32m    176\u001b[0m x, _ \u001b[38;5;241m=\u001b[39m get_coordinates(image_size, window_size[\u001b[38;5;241m1\u001b[39m], overlap[\u001b[38;5;241m1\u001b[39m], center_on_field\u001b[38;5;241m=\u001b[39mcenter_on_field)\n\u001b[1;32m    178\u001b[0m X,Y \u001b[38;5;241m=\u001b[39m np\u001b[38;5;241m.\u001b[39mmeshgrid(x[\u001b[38;5;241m0\u001b[39m,:], y[:,\u001b[38;5;241m0\u001b[39m])\n",
      "File \u001b[0;32m~/Documents/repos/openpiv-python/openpiv/pyprocess.py:117\u001b[0m, in \u001b[0;36mget_coordinates\u001b[0;34m(image_size, search_area_size, overlap, center_on_field)\u001b[0m\n\u001b[1;32m     76\u001b[0m \u001b[38;5;124;03m\"\"\"Compute the x, y coordinates of the centers of the interrogation windows.\u001b[39;00m\n\u001b[1;32m     77\u001b[0m \u001b[38;5;124;03mfor the SQUARE windows only, see also get_rect_coordinates\u001b[39;00m\n\u001b[1;32m     78\u001b[0m \n\u001b[0;32m   (...)\u001b[0m\n\u001b[1;32m    113\u001b[0m \n\u001b[1;32m    114\u001b[0m \u001b[38;5;124;03m\"\"\"\u001b[39;00m\n\u001b[1;32m    116\u001b[0m \u001b[38;5;66;03m# get shape of the resulting flow field as a 2 component array \u001b[39;00m\n\u001b[0;32m--> 117\u001b[0m field_shape \u001b[38;5;241m=\u001b[39m \u001b[43mget_field_shape\u001b[49m\u001b[43m(\u001b[49m\u001b[43mimage_size\u001b[49m\u001b[43m,\u001b[49m\n\u001b[1;32m    118\u001b[0m \u001b[43m                              \u001b[49m\u001b[43m(\u001b[49m\u001b[43msearch_area_size\u001b[49m\u001b[43m,\u001b[49m\u001b[43m \u001b[49m\u001b[43msearch_area_size\u001b[49m\u001b[43m)\u001b[49m\u001b[43m,\u001b[49m\n\u001b[1;32m    119\u001b[0m \u001b[43m                              \u001b[49m\u001b[43m(\u001b[49m\u001b[43moverlap\u001b[49m\u001b[43m,\u001b[49m\u001b[43m \u001b[49m\u001b[43moverlap\u001b[49m\u001b[43m)\u001b[49m\n\u001b[1;32m    120\u001b[0m \u001b[43m                              \u001b[49m\u001b[43m)\u001b[49m\n\u001b[1;32m    122\u001b[0m \u001b[38;5;66;03m# compute grid coordinates of the search area window centers\u001b[39;00m\n\u001b[1;32m    123\u001b[0m \u001b[38;5;66;03m# note the field_shape[1] (columns) for x\u001b[39;00m\n\u001b[1;32m    124\u001b[0m x \u001b[38;5;241m=\u001b[39m (\n\u001b[1;32m    125\u001b[0m     np\u001b[38;5;241m.\u001b[39marange(field_shape[\u001b[38;5;241m1\u001b[39m]) \u001b[38;5;241m*\u001b[39m (search_area_size \u001b[38;5;241m-\u001b[39m overlap)\n\u001b[1;32m    126\u001b[0m     \u001b[38;5;241m+\u001b[39m (search_area_size) \u001b[38;5;241m/\u001b[39m \u001b[38;5;241m2.0\u001b[39m\n\u001b[1;32m    127\u001b[0m )\n",
      "File \u001b[0;32m~/Documents/repos/openpiv-python/openpiv/pyprocess.py:63\u001b[0m, in \u001b[0;36mget_field_shape\u001b[0;34m(image_size, search_area_size, overlap)\u001b[0m\n\u001b[1;32m     31\u001b[0m \u001b[38;5;28;01mdef\u001b[39;00m \u001b[38;5;21mget_field_shape\u001b[39m(\n\u001b[1;32m     32\u001b[0m     image_size: Tuple[\u001b[38;5;28mint\u001b[39m,\u001b[38;5;28mint\u001b[39m],\n\u001b[1;32m     33\u001b[0m     search_area_size: Tuple[\u001b[38;5;28mint\u001b[39m,\u001b[38;5;28mint\u001b[39m],\n\u001b[1;32m     34\u001b[0m     overlap: Tuple[\u001b[38;5;28mint\u001b[39m,\u001b[38;5;28mint\u001b[39m],\n\u001b[1;32m     35\u001b[0m     )\u001b[38;5;241m-\u001b[39m\u001b[38;5;241m>\u001b[39mTuple[\u001b[38;5;28mint\u001b[39m,\u001b[38;5;28mint\u001b[39m]:\n\u001b[1;32m     36\u001b[0m     \u001b[38;5;124;03m\"\"\"Compute the shape of the resulting flow field.\u001b[39;00m\n\u001b[1;32m     37\u001b[0m \n\u001b[1;32m     38\u001b[0m \u001b[38;5;124;03m    Given the image size, the interrogation window size and\u001b[39;00m\n\u001b[0;32m   (...)\u001b[0m\n\u001b[1;32m     61\u001b[0m \u001b[38;5;124;03m        the shape of the resulting flow field\u001b[39;00m\n\u001b[1;32m     62\u001b[0m \u001b[38;5;124;03m    \"\"\"\u001b[39;00m\n\u001b[0;32m---> 63\u001b[0m     field_shape \u001b[38;5;241m=\u001b[39m (\u001b[43mnp\u001b[49m\u001b[38;5;241;43m.\u001b[39;49m\u001b[43marray\u001b[49m\u001b[43m(\u001b[49m\u001b[43mimage_size\u001b[49m\u001b[43m)\u001b[49m\u001b[43m \u001b[49m\u001b[38;5;241;43m-\u001b[39;49m\u001b[43m \u001b[49m\u001b[43mnp\u001b[49m\u001b[38;5;241;43m.\u001b[39;49m\u001b[43marray\u001b[49m\u001b[43m(\u001b[49m\u001b[43msearch_area_size\u001b[49m\u001b[43m)\u001b[49m) \u001b[38;5;241m/\u001b[39m\u001b[38;5;241m/\u001b[39m (  \u001b[38;5;66;03m# type: ignore\u001b[39;00m\n\u001b[1;32m     64\u001b[0m         np\u001b[38;5;241m.\u001b[39marray(search_area_size) \u001b[38;5;241m-\u001b[39m np\u001b[38;5;241m.\u001b[39marray(overlap)\n\u001b[1;32m     65\u001b[0m     ) \u001b[38;5;241m+\u001b[39m \u001b[38;5;241m1\u001b[39m\n\u001b[1;32m     67\u001b[0m     \u001b[38;5;28;01mreturn\u001b[39;00m field_shape\n",
      "\u001b[0;31mValueError\u001b[0m: operands could not be broadcast together with shapes (3,) (2,) "
     ]
    }
   ],
   "source": [
    "list_of_gifs = ['01','02','03','04','05','06','07','08','21','22','23','24','41']\n",
    "base_path = 'http://www.vsj.jp/~pivstd/gif/'\n",
    "base_name = 'image'\n",
    "base_ext = '.gif'\n",
    "\n",
    "for gif in list_of_gifs: \n",
    "    print('Reading ..')\n",
    "    print(f'{base_path}{base_name}{gif}{base_ext}')\n",
    "    im = imageio.get_reader(f'{base_path}{base_name}{gif}{base_ext}')\n",
    "    # print(im)\n",
    "\n",
    "    images = []\n",
    "    for frame in im:\n",
    "        images.append(frame)\n",
    "\n",
    "    for I,J in zip(images[:-1],images[1:]):\n",
    "        simple_piv(I,J)\n",
    "\n"
   ]
  },
  {
   "cell_type": "code",
   "execution_count": null,
   "id": "9e2cb923",
   "metadata": {
    "papermill": {
     "duration": null,
     "end_time": null,
     "exception": null,
     "start_time": null,
     "status": "pending"
    },
    "tags": []
   },
   "outputs": [],
   "source": []
  },
  {
   "cell_type": "code",
   "execution_count": null,
   "id": "d2d31e13",
   "metadata": {
    "papermill": {
     "duration": null,
     "end_time": null,
     "exception": null,
     "start_time": null,
     "status": "pending"
    },
    "tags": []
   },
   "outputs": [],
   "source": []
  }
 ],
 "metadata": {
  "kernelspec": {
   "display_name": "Python 3",
   "language": "python",
   "name": "python3"
  },
  "language_info": {
   "codemirror_mode": {
    "name": "ipython",
    "version": 3
   },
   "file_extension": ".py",
   "mimetype": "text/x-python",
   "name": "python",
   "nbconvert_exporter": "python",
   "pygments_lexer": "ipython3",
   "version": "3.8.12"
  },
  "papermill": {
   "default_parameters": {},
   "duration": 7.658795,
   "end_time": "2022-10-20T19:15:51.207968",
   "environment_variables": {},
   "exception": true,
   "input_path": "./notebooks/openpiv_gifs.ipynb",
   "output_path": "./notebooks/openpiv_gifs.ipynb",
   "parameters": {},
   "start_time": "2022-10-20T19:15:43.549173",
   "version": "2.4.0"
  }
 },
 "nbformat": 4,
 "nbformat_minor": 5
}