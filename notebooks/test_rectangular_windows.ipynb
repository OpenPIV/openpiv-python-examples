{
 "cells": [
  {
   "cell_type": "markdown",
   "id": "d10df73c",
   "metadata": {
    "tags": [
     "papermill-error-cell-tag"
    ]
   },
   "source": [
    "<span style=\"color:red; font-family:Helvetica Neue, Helvetica, Arial, sans-serif; font-size:2em;\">An Exception was encountered at '<a href=\"#papermill-error-cell\">In [2]</a>'.</span>"
   ]
  },
  {
   "cell_type": "code",
   "execution_count": 1,
   "id": "b3c0b457",
   "metadata": {
    "execution": {
     "iopub.execute_input": "2022-10-20T19:14:13.526197Z",
     "iopub.status.busy": "2022-10-20T19:14:13.525712Z",
     "iopub.status.idle": "2022-10-20T19:14:14.744034Z",
     "shell.execute_reply": "2022-10-20T19:14:14.743369Z"
    },
    "papermill": {
     "duration": 1.222916,
     "end_time": "2022-10-20T19:14:14.745636",
     "exception": false,
     "start_time": "2022-10-20T19:14:13.522720",
     "status": "completed"
    },
    "tags": []
   },
   "outputs": [],
   "source": [
    "from openpiv import windef\n",
    "from openpiv import tools, scaling, validation, filters, preprocess, pyprocess as process\n",
    "import numpy as np\n",
    "import os\n",
    "from time import time\n",
    "import warnings\n",
    "\n",
    "import matplotlib.pyplot as plt"
   ]
  },
  {
   "cell_type": "markdown",
   "id": "5a9b2fb1",
   "metadata": {
    "tags": [
     "papermill-error-cell-tag"
    ]
   },
   "source": [
    "<span id=\"papermill-error-cell\" style=\"color:red; font-family:Helvetica Neue, Helvetica, Arial, sans-serif; font-size:2em;\">Execution using papermill encountered an exception here and stopped:</span>"
   ]
  },
  {
   "cell_type": "code",
   "execution_count": 2,
   "id": "4901c4bc",
   "metadata": {
    "execution": {
     "iopub.execute_input": "2022-10-20T19:14:14.749543Z",
     "iopub.status.busy": "2022-10-20T19:14:14.749186Z",
     "iopub.status.idle": "2022-10-20T19:14:15.228227Z",
     "shell.execute_reply": "2022-10-20T19:14:15.227424Z"
    },
    "papermill": {
     "duration": 0.48208,
     "end_time": "2022-10-20T19:14:15.229164",
     "exception": true,
     "start_time": "2022-10-20T19:14:14.747084",
     "status": "failed"
    },
    "tags": []
   },
   "outputs": [
    {
     "ename": "AttributeError",
     "evalue": "module 'openpiv.windef' has no attribute 'Settings'",
     "output_type": "error",
     "traceback": [
      "\u001b[0;31m---------------------------------------------------------------------------\u001b[0m",
      "\u001b[0;31mAttributeError\u001b[0m                            Traceback (most recent call last)",
      "Input \u001b[0;32mIn [2]\u001b[0m, in \u001b[0;36m<cell line: 2>\u001b[0;34m()\u001b[0m\n\u001b[1;32m      1\u001b[0m \u001b[38;5;124m'\u001b[39m\u001b[38;5;124mA more detailed scipt can be seen in the window_deformation notebook.\u001b[39m\u001b[38;5;124m'\u001b[39m\n\u001b[0;32m----> 2\u001b[0m settings \u001b[38;5;241m=\u001b[39m \u001b[43mwindef\u001b[49m\u001b[38;5;241;43m.\u001b[39;49m\u001b[43mSettings\u001b[49m()\n\u001b[1;32m      4\u001b[0m \u001b[38;5;124m'\u001b[39m\u001b[38;5;124mData related settings\u001b[39m\u001b[38;5;124m'\u001b[39m\n\u001b[1;32m      5\u001b[0m \u001b[38;5;66;03m# Folder with the images to process\u001b[39;00m\n",
      "\u001b[0;31mAttributeError\u001b[0m: module 'openpiv.windef' has no attribute 'Settings'"
     ]
    }
   ],
   "source": [
    "'A more detailed scipt can be seen in the window_deformation notebook.'\n",
    "settings = windef.PIVSettings()\n",
    "\n",
    "'Data related settings'\n",
    "# Folder with the images to process\n",
    "settings.filepath_images = '../test15/'\n",
    "# Folder for the outputs\n",
    "settings.save_path = '../test15/'\n",
    "# Root name of the output Folder for Result Files\n",
    "settings.save_folder_suffix = 'Test_15'\n",
    "# Format and Image Sequence\n",
    "settings.frame_pattern_a = '../test15/synt00_a.pgm'\n",
    "settings.frame_pattern_b = '../test15/synt00_b.pgm'\n",
    "\n",
    "'Processing Parameters'\n",
    "settings.deformation_method = 'second image'\n",
    "settings.correlation_method='circular'  # 'circular' or 'linear'\n",
    "settings.normalized_correlation=False\n",
    "settings.num_iterations = 3  # select the number of PIV passes\n",
    "# rectangular windows are arrange as [y,x], scalars are assumed to be square windows\n",
    "settings.windowsizes = ([16,96], [16,64], 32)\n",
    "settings.overlap = ([8,72], [8,32], 16)\n",
    "settings.subpixel_method = 'gaussian'\n",
    "settings.use_vectorized = True\n",
    "settings.interpolation_order = 3\n",
    "\n",
    "'Validation Parameters'\n",
    "settings.validation_first_pass = True\n",
    "settings.median_threshold = 5  # threshold of the median validation\n",
    "settings.median_size=1 #defines the size of the local median\n",
    "settings.sig2noise_method = 'peak2peak'\n",
    "settings.sig2noise_mask = 2\n",
    "settings.sig2noise_threshold = 1\n",
    "\n",
    "'Outlier replacement or Smoothing options'\n",
    "settings.replace_vectors = True # Enable the replacment. Chosse: True or False\n",
    "settings.smoothn=True #Enables smoothing of the displacemenet field\n",
    "settings.smoothn_p=0.5 # This is a smoothing parameter\n",
    "settings.filter_method = 'localmean'\n",
    "settings.max_filter_iteration = 4\n",
    "settings.filter_kernel_size = 2  # kernel size for the localmean method\n",
    "\n",
    "'Output options'\n",
    "settings.show_plot = True\n",
    "settings.save_plot = False\n",
    "settings.scale_plot = 500  # select a value to scale the quiver plot of the vectorfield\n"
   ]
  },
  {
   "cell_type": "code",
   "execution_count": null,
   "id": "9d1ba617",
   "metadata": {
    "papermill": {
     "duration": null,
     "end_time": null,
     "exception": null,
     "start_time": null,
     "status": "pending"
    },
    "tags": []
   },
   "outputs": [],
   "source": [
    "windef.piv(settings)"
   ]
  },
  {
   "cell_type": "code",
   "execution_count": null,
   "id": "4a115666",
   "metadata": {
    "papermill": {
     "duration": null,
     "end_time": null,
     "exception": null,
     "start_time": null,
     "status": "pending"
    },
    "tags": []
   },
   "outputs": [],
   "source": [
    "# we can run it from any folder\n",
    "path = settings.filepath_images\n",
    "\n",
    "frame_a  = tools.imread( os.path.join(path,settings.frame_pattern_a)).astype(np.int32)\n",
    "frame_b  = tools.imread( os.path.join(path,settings.frame_pattern_b)).astype(np.int32)\n",
    "\n",
    "\n",
    "window_size = [16,96]\n",
    "overlap = [8,72] # [50%, 75%] overlap\n",
    "\n",
    "u, v, sig2noise = process.extended_search_area_piv( frame_a, frame_b, \\\n",
    "    window_size=window_size, overlap=overlap, dt=1, search_area_size=window_size, sig2noise_method='peak2peak' )\n",
    "print(f'Mean peak-to-peak ratio: {np.nanmean(sig2noise)}')\n",
    "\n",
    "x, y = process.get_rect_coordinates(frame_a.shape, \n",
    "                                    window_size, \n",
    "                                    overlap)\n",
    "\n",
    "#u, v, mask = validation.sig2noise_val( u, v, sig2noise, threshold = 1.3 )\n",
    "#u, v = filters.replace_outliers( u, v, method='localmean', max_iter=10, kernel_size=2)\n",
    "#x, y, u, v = scaling.uniform(x, y, u, v, scaling_factor = 1)\n",
    "x, y, u, v = tools.transform_coordinates(x, y, u, v)\n",
    "\n",
    "#tools.save(x, y, u, v, mask, 'test1.vec' )\n",
    "#tools.display_vector_field('test1.vec', scale=75, width=0.0035);\n",
    "plt.figure(figsize = (8,8))\n",
    "plt.quiver(x,y,u,v)\n",
    "plt.show()"
   ]
  },
  {
   "cell_type": "code",
   "execution_count": null,
   "id": "46b555c0",
   "metadata": {
    "papermill": {
     "duration": null,
     "end_time": null,
     "exception": null,
     "start_time": null,
     "status": "pending"
    },
    "tags": []
   },
   "outputs": [],
   "source": []
  }
 ],
 "metadata": {
  "kernelspec": {
   "display_name": "Python 3",
   "language": "python",
   "name": "python3"
  },
  "language_info": {
   "codemirror_mode": {
    "name": "ipython",
    "version": 3
   },
   "file_extension": ".py",
   "mimetype": "text/x-python",
   "name": "python",
   "nbconvert_exporter": "python",
   "pygments_lexer": "ipython3",
   "version": "3.8.12"
  },
  "papermill": {
   "default_parameters": {},
   "duration": 3.060576,
   "end_time": "2022-10-20T19:14:15.549826",
   "environment_variables": {},
   "exception": true,
   "input_path": "./notebooks/test_rectangular_windows.ipynb",
   "output_path": "./notebooks/test_rectangular_windows.ipynb",
   "parameters": {},
   "start_time": "2022-10-20T19:14:12.489250",
   "version": "2.4.0"
  }
 },
 "nbformat": 4,
 "nbformat_minor": 5
}