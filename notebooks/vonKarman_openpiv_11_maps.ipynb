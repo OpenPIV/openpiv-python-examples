{
 "cells": [
  {
   "cell_type": "markdown",
   "id": "2b70f33e",
   "metadata": {
    "papermill": {
     "duration": null,
     "end_time": null,
     "exception": null,
     "start_time": null,
     "status": "completed"
    },
    "tags": []
   },
   "source": [
    "# compare the OpenPIV Python with PIVLab\n"
   ]
  },
  {
   "cell_type": "raw",
   "id": "ab7af5c8",
   "metadata": {
    "papermill": {
     "duration": null,
     "end_time": null,
     "exception": null,
     "start_time": null,
     "status": "completed"
    },
    "tags": []
   },
   "source": [
    "Analysis of the Karman images\n",
    "final int area 6 pixels and 50% overlap, \n",
    "vector validation is allowed, but no smoothing after the last correlation. \n",
    "Only the circle in the middle must be masked, not the shadows.\n",
    "\n",
    "Then we can compare the vorticity maps (color bar scale of uncalibrated data -0.3 1/frame until +0.3 1/frame, \n",
    "color map preferably \"parula\", but \"jet\" is also ok). That might give an idea about the \"quality\"...?"
   ]
  },
  {
   "cell_type": "raw",
   "id": "c4508ca6",
   "metadata": {
    "papermill": {
     "duration": null,
     "end_time": null,
     "exception": null,
     "start_time": null,
     "status": "completed"
    },
    "tags": []
   },
   "source": [
    "FFT window deformation\n",
    "Pass1: 64x64 px with 50% overlap\n",
    "Pass2: 32x32 px with 50% overlap\n",
    "Pass3: 16x16 px with 50% overlap\n",
    "Pass4: 6x6 px with 50% overlap\n",
    "Gauss2x3-point subpixel estimator\n",
    "Correlation quality: Extreme"
   ]
  },
  {
   "cell_type": "code",
   "execution_count": null,
   "id": "648cfc78",
   "metadata": {
    "papermill": {
     "duration": null,
     "end_time": null,
     "exception": null,
     "start_time": null,
     "status": "completed"
    },
    "tags": []
   },
   "outputs": [],
   "source": [
    "%reload_ext watermark\n",
    "%watermark -v -m -p numpy,openpiv"
   ]
  },
  {
   "cell_type": "code",
   "execution_count": null,
   "id": "dcc9ea8c",
   "metadata": {
    "papermill": {
     "duration": null,
     "end_time": null,
     "exception": null,
     "start_time": null,
     "status": "completed"
    },
    "tags": []
   },
   "outputs": [],
   "source": [
    "from openpiv import windef\n",
    "\n",
    "import numpy as np\n",
    "import os\n",
    "from time import time\n",
    "\n",
    "import matplotlib.pyplot as plt\n",
    "%matplotlib inline\n",
    "\n",
    "import matplotlib\n",
    "matplotlib.rcParams['figure.figsize'] = (8.0, 6.0)\n"
   ]
  },
  {
   "cell_type": "code",
   "execution_count": null,
   "id": "ea47e038",
   "metadata": {
    "papermill": {
     "duration": null,
     "end_time": null,
     "exception": null,
     "start_time": null,
     "status": "completed"
    },
    "tags": []
   },
   "outputs": [],
   "source": [
    "settings = windef.Settings()\n",
    "\n",
    "# 'Data related settings'\n",
    "# Folder with the images to process\n",
    "settings.filepath_images = '../test9/'\n",
    "# Folder for the outputs\n",
    "settings.save_path = '../test9/results/'\n",
    "# Root name of the output Folder for Result Files\n",
    "settings.save_folder_suffix = 'Test_1'\n",
    "# Format and Image Sequence\n",
    "settings.frame_pattern_a = 'karman_16Hz_000_A.jpg'\n",
    "settings.frame_pattern_b = 'karman_16Hz_000_B.jpg'\n",
    "\n",
    "'Region of interest'\n",
    "# (50,300,50,300) #Region of interest: (xmin,xmax,ymin,ymax) or 'full' for full image\n",
    "settings.ROI = 'full'\n",
    "# settings.ROI = (200,400,500,900)\n",
    "\n",
    "# settings.deformation_method = 'symmetric' \n",
    "settings.deformation_method = 'second image'\n",
    "\n",
    "\n",
    "settings.num_iterations = 4  # select the number of PIV passes\n",
    "\n",
    "# add the interrogation window size for each pass. \n",
    "# For the moment, it should be a power of 2 \n",
    "settings.windowsizes=(64, 32, 16, 6)\n",
    "settings.overlap=(32, 16, 8, 3)\n",
    "\n",
    "# settings.windowsizes = (128, 64, 32, 16, 8) # if longer than n iteration the rest is ignored\n",
    "# The overlap of the interroagtion window for each pass.\n",
    "# settings.overlap = (64, 32, 16, 8, 4) # This is 50% overlap\n",
    "\n",
    "\n",
    "# Has to be a value with base two. In general window size/2 is a good choice.\n",
    "# methode used for subpixel interpolation: 'gaussian','centroid','parabolic'\n",
    "settings.subpixel_method = 'gaussian'\n",
    "\n",
    "# order of the image interpolation for the window deformation\n",
    "settings.interpolation_order = 3\n",
    "settings.scaling_factor = 1  # scaling factor pixel/meter\n",
    "settings.dt = 1  # time between to frames (in seconds)\n",
    "\n",
    "# 'Signal to noise ratio options (only for the last pass)'\n",
    "# It is possible to decide if the S/N should be computed (for the last pass) or not\n",
    "# settings.extract_sig2noise = True  # 'True' or 'False' (only for the last pass)\n",
    "settings.sig2noise_threshold = 1.25\n",
    "# method used to calculate the signal to noise ratio 'peak2peak' or 'peak2mean'\n",
    "settings.sig2noise_method = 'peak2peak'\n",
    "# select the width of the masked to masked out pixels next to the main peak\n",
    "settings.sig2noise_mask = 2\n",
    "settings.sig2noise_validate = False\n",
    "\n",
    "# If extract_sig2noise==False the values in the signal to noise ratio\n",
    "# output column are set to NaN\n",
    "\n",
    "# only effecting the first pass of the interrogation the following passes\n",
    "# in the multipass will be validated\n",
    "\n",
    "'Output options'\n",
    "# Select if you want to save the plotted vectorfield: True or False\n",
    "settings.save_plot = False\n",
    "# Choose wether you want to see the vectorfield or not :True or False\n",
    "settings.show_plot = True\n",
    "settings.scale_plot = 100  # select a value to scale the quiver plot of the vectorfield\n",
    "# run the script with the given settings\n",
    "\n",
    "\n",
    "\n",
    "# 'Processing Parameters'\n",
    "settings.correlation_method='circular'  # 'circular' or 'linear'\n",
    "settings.normalized_correlation = False\n",
    "\n",
    "# 'vector validation options'\n",
    "# choose if you want to do validation of the first pass: True or False\n",
    "settings.validation_first_pass = True\n",
    "\n",
    "\n",
    "settings.filter_method = 'localmean'\n",
    "\n",
    "\n",
    "settings.replace_vectors = True\n",
    "# maximum iterations performed to replace the outliers\n",
    "settings.max_filter_iteration = 4\n",
    "settings.filter_kernel_size = 2  # kernel size for the localmean method\n",
    "\n",
    "\n",
    "\n",
    "settings.MinMax_U_disp = (-10, 10)\n",
    "settings.MinMax_V_disp = (-10, 10)\n",
    "\n",
    "# The second filter is based on the global STD threshold\n",
    "settings.std_threshold = 5  # threshold of the std validation\n",
    "\n",
    "# The third filter is the median test (not normalized at the moment)\n",
    "settings.median_threshold = 3  # threshold of the median validation\n",
    "# On the last iteration, an additional validation can be done based on the S/N.\n",
    "settings.median_size = 2 # defines the size of the local median, it'll be 3 x 3\n",
    "\n",
    "# New settings for version 0.23.2c\n",
    "settings.image_mask = False\n",
    "\n",
    "# Image mask properties\n",
    "settings.dynamic_masking_method = 'intensity'\n",
    "settings.dynamic_masking_threshold = 0.1\n",
    "settings.dynamic_masking_filter_size = 21\n",
    "\n",
    "\n",
    "\n",
    "# Smoothing after the first pass\n",
    "settings.smoothn = False #Enables smoothing of the displacemenet field\n",
    "settings.smoothn_p = 0.5 # This is a smoothing parameter\n",
    "\n",
    "\n",
    "settings.show_all_plots = False"
   ]
  },
  {
   "cell_type": "raw",
   "id": "09f0e24c",
   "metadata": {
    "papermill": {
     "duration": null,
     "end_time": null,
     "exception": null,
     "start_time": null,
     "status": "completed"
    },
    "tags": []
   },
   "source": [
    "import glob\n",
    "file_list = sorted(glob.glob('../data/karman_16Hz_*.jpg'))\n",
    "file_list = file_list[-2:]\n",
    "file_list"
   ]
  },
  {
   "cell_type": "code",
   "execution_count": null,
   "id": "843ffba3",
   "metadata": {
    "papermill": {
     "duration": null,
     "end_time": null,
     "exception": null,
     "start_time": null,
     "status": "completed"
    },
    "tags": []
   },
   "outputs": [],
   "source": [
    "%time\n",
    "windef.piv(settings)"
   ]
  },
  {
   "cell_type": "code",
   "execution_count": null,
   "id": "494de8f6",
   "metadata": {
    "papermill": {
     "duration": null,
     "end_time": null,
     "exception": null,
     "start_time": null,
     "status": "completed"
    },
    "tags": []
   },
   "outputs": [],
   "source": [
    "from pivpy import pivpy, io, graphics\n",
    "import xarray as xr"
   ]
  },
  {
   "cell_type": "code",
   "execution_count": null,
   "id": "94fecfcf",
   "metadata": {
    "papermill": {
     "duration": null,
     "end_time": null,
     "exception": null,
     "start_time": null,
     "status": "completed"
    },
    "tags": []
   },
   "outputs": [],
   "source": [
    "import glob\n",
    "\n",
    "file_list = sorted(glob.glob('../test9/results/Open_PIV_results_'+str(settings.windowsizes[settings.num_iterations-1])+'_Test_1/*.txt'))\n",
    "file_list"
   ]
  },
  {
   "cell_type": "code",
   "execution_count": null,
   "id": "0bd88675",
   "metadata": {
    "papermill": {
     "duration": null,
     "end_time": null,
     "exception": null,
     "start_time": null,
     "status": "completed"
    },
    "tags": []
   },
   "outputs": [],
   "source": [
    "data = []\n",
    "frame = 0\n",
    "for f in file_list:\n",
    "    data.append(io.load_txt(f,frame=frame))\n",
    "    frame += 1\n",
    "    \n",
    "data = xr.concat(data,dim='t')\n",
    "data.attrs['units']= ['pix','pix','pix/dt','pix/dt']\n",
    "# file_list = sorted(glob.glob('../OpenPIV_results/Open_PIV_results_6_Test_1/*.txt'))"
   ]
  },
  {
   "cell_type": "code",
   "execution_count": null,
   "id": "8f918042",
   "metadata": {
    "papermill": {
     "duration": null,
     "end_time": null,
     "exception": null,
     "start_time": null,
     "status": "completed"
    },
    "tags": []
   },
   "outputs": [],
   "source": [
    "data.piv.vorticity();"
   ]
  },
  {
   "cell_type": "code",
   "execution_count": null,
   "id": "b33f0700",
   "metadata": {
    "papermill": {
     "duration": null,
     "end_time": null,
     "exception": null,
     "start_time": null,
     "status": "completed"
    },
    "tags": []
   },
   "outputs": [],
   "source": [
    "import matplotlib.pyplot as plt\n",
    "def plot_data(data):\n",
    "    fig, ax = plt.subplots(1,1,figsize=(20,12))\n",
    "    # for ax in axs:\n",
    "    ax.quiver(data.x.data, data.y.data, data.u.isel(t=0).data.T, data.v.isel(t=0).data.T, color='r', scale=120)\n",
    "    s = ax.pcolor(data.x,data.y,data.w.T.isel(t=0), shading='interp', vmin=-.3, vmax=.3,alpha=0.7)\n",
    "    ax.set_aspect(1)\n",
    "    fig.colorbar(s, ax=ax,)\n",
    "    plt.show()\n",
    "    \n",
    "plot_data(data)"
   ]
  },
  {
   "cell_type": "code",
   "execution_count": null,
   "id": "bbdade98",
   "metadata": {
    "papermill": {
     "duration": null,
     "end_time": null,
     "exception": null,
     "start_time": null,
     "status": "completed"
    },
    "tags": []
   },
   "outputs": [],
   "source": [
    "import openpiv.original_windef as original_windef"
   ]
  },
  {
   "cell_type": "code",
   "execution_count": null,
   "id": "87ad9fd5",
   "metadata": {
    "papermill": {
     "duration": null,
     "end_time": null,
     "exception": null,
     "start_time": null,
     "status": "completed"
    },
    "tags": []
   },
   "outputs": [],
   "source": [
    "# %pdb\n",
    "\n",
    "newsettings = original_windef.Settings()\n",
    "for att in newsettings.__dict__:\n",
    "    if hasattr(settings, att):\n",
    "        setattr(newsettings,att,getattr(settings,att))\n",
    "\n",
    "\n",
    "\n",
    "newsettings.do_sig2noise_validation = settings.sig2noise_validate\n",
    "newsettings.extract_sig2noise = settings.sig2noise_validate\n",
    "newsettings.save_folder_suffix = 'Test_2'\n",
    "newsettings.normalized_correlation=False\n",
    "# newsettings.num_iterations = settings.num_iterations\n",
    "\n",
    "# settings.correlation_method='linear'\n",
    "# settings.show_all_plots = True\n",
    "\n",
    "attrs = vars(newsettings)\n",
    "[item for item in attrs.items()]"
   ]
  },
  {
   "cell_type": "code",
   "execution_count": null,
   "id": "eca0019d",
   "metadata": {
    "papermill": {
     "duration": null,
     "end_time": null,
     "exception": null,
     "start_time": null,
     "status": "completed"
    },
    "tags": []
   },
   "outputs": [],
   "source": [
    "%time\n",
    "original_windef.piv(newsettings)"
   ]
  },
  {
   "cell_type": "code",
   "execution_count": null,
   "id": "749eb5fc",
   "metadata": {
    "papermill": {
     "duration": null,
     "end_time": null,
     "exception": null,
     "start_time": null,
     "status": "completed"
    },
    "tags": []
   },
   "outputs": [],
   "source": [
    "file_list = sorted(glob.glob('../test9/results/Open_PIV_results_'+str(newsettings.windowsizes[newsettings.num_iterations-1])+'_Test_2/*.txt'))\n",
    "file_list"
   ]
  },
  {
   "cell_type": "code",
   "execution_count": null,
   "id": "e8b81e1f",
   "metadata": {
    "papermill": {
     "duration": null,
     "end_time": null,
     "exception": null,
     "start_time": null,
     "status": "completed"
    },
    "tags": []
   },
   "outputs": [],
   "source": [
    "data = []\n",
    "frame = 0\n",
    "for f in file_list:\n",
    "    data.append(io.load_txt(f,frame=frame))\n",
    "    frame += 1\n",
    "    \n",
    "data = xr.concat(data,dim='t')\n",
    "data.attrs['units']= ['pix','pix','pix/dt','pix/dt']\n",
    "data.piv.vorticity();\n",
    "\n",
    "plot_data(data)"
   ]
  },
  {
   "cell_type": "raw",
   "id": "dfe8a527",
   "metadata": {
    "papermill": {
     "duration": null,
     "end_time": null,
     "exception": null,
     "start_time": null,
     "status": "completed"
    },
    "tags": []
   },
   "source": [
    "for att in tmp.__dict__:\n",
    "    setattr(tmp,att,getattr(settings,att))"
   ]
  },
  {
   "cell_type": "code",
   "execution_count": null,
   "id": "83027a21",
   "metadata": {
    "papermill": {
     "duration": null,
     "end_time": null,
     "exception": null,
     "start_time": null,
     "status": "completed"
    },
    "tags": []
   },
   "outputs": [],
   "source": []
  }
 ],
 "metadata": {
  "jupytext": {
   "formats": "ipynb,py:percent"
  },
  "kernelspec": {
   "display_name": "Python [conda env:openpiv] *",
   "language": "python",
   "name": "conda-env-openpiv-py"
  },
  "language_info": {
   "codemirror_mode": {
    "name": "ipython",
    "version": 3
   },
   "file_extension": ".py",
   "mimetype": "text/x-python",
   "name": "python",
   "nbconvert_exporter": "python",
   "pygments_lexer": "ipython3",
   "version": "3.8.5"
  },
  "papermill": {
   "default_parameters": {},
   "duration": 0.048709,
   "end_time": "2022-10-20T19:15:52.495715",
   "environment_variables": {},
   "exception": null,
   "input_path": "./notebooks/vonKarman_openpiv_11_maps.ipynb",
   "output_path": "./notebooks/vonKarman_openpiv_11_maps.ipynb",
   "parameters": {},
   "start_time": "2022-10-20T19:15:52.447006",
   "version": "2.4.0"
  }
 },
 "nbformat": 4,
 "nbformat_minor": 5
}