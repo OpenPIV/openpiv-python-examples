{
 "cells": [
  {
   "cell_type": "markdown",
   "id": "3a2dfbac",
   "metadata": {
    "tags": [
     "papermill-error-cell-tag"
    ]
   },
   "source": [
    "<span style=\"color:red; font-family:Helvetica Neue, Helvetica, Arial, sans-serif; font-size:2em;\">An Exception was encountered at '<a href=\"#papermill-error-cell\">In [4]</a>'.</span>"
   ]
  },
  {
   "cell_type": "markdown",
   "id": "cb353fdd",
   "metadata": {
    "papermill": {
     "duration": 0.0122,
     "end_time": "2022-10-20T19:14:09.862731",
     "exception": false,
     "start_time": "2022-10-20T19:14:09.850531",
     "status": "completed"
    },
    "tags": []
   },
   "source": [
    "# Breakdown the PIV into separate functions and details"
   ]
  },
  {
   "cell_type": "code",
   "execution_count": 1,
   "id": "bcf33c44",
   "metadata": {
    "execution": {
     "iopub.execute_input": "2022-10-20T19:19:26.129092Z",
     "iopub.status.busy": "2022-10-20T19:19:26.128163Z",
     "iopub.status.idle": "2022-10-20T19:19:26.141259Z",
     "shell.execute_reply": "2022-10-20T19:19:26.139079Z"
    },
    "papermill": {
     "duration": 0.024058,
     "end_time": "2022-10-20T19:14:09.896292",
     "exception": false,
     "start_time": "2022-10-20T19:14:09.872234",
     "status": "completed"
    },
    "tags": []
   },
   "outputs": [],
   "source": [
    "# test the idea of vectorized cross correlation for \n",
    "# strided images, rectangular windows and extended search area\n",
    "# in one function"
   ]
  },
  {
   "cell_type": "code",
   "execution_count": 2,
   "id": "c3b039ba",
   "metadata": {
    "execution": {
     "iopub.execute_input": "2022-10-20T19:19:26.149984Z",
     "iopub.status.busy": "2022-10-20T19:19:26.149278Z",
     "iopub.status.idle": "2022-10-20T19:19:26.919987Z",
     "shell.execute_reply": "2022-10-20T19:19:26.918960Z"
    },
    "papermill": {
     "duration": 0.746244,
     "end_time": "2022-10-20T19:14:10.646814",
     "exception": false,
     "start_time": "2022-10-20T19:14:09.900570",
     "status": "completed"
    },
    "tags": []
   },
   "outputs": [],
   "source": [
    "import numpy as np\n",
    "import matplotlib.pyplot as plt\n",
    "\n",
    "from scipy.fft import rfft2, irfft2, fftshift"
   ]
  },
  {
   "cell_type": "code",
   "execution_count": 3,
   "id": "54beb307",
   "metadata": {
    "execution": {
     "iopub.execute_input": "2022-10-20T19:19:26.925357Z",
     "iopub.status.busy": "2022-10-20T19:19:26.924676Z",
     "iopub.status.idle": "2022-10-20T19:19:27.274469Z",
     "shell.execute_reply": "2022-10-20T19:19:27.273650Z"
    },
    "papermill": {
     "duration": 0.290236,
     "end_time": "2022-10-20T19:14:10.942644",
     "exception": false,
     "start_time": "2022-10-20T19:14:10.652408",
     "status": "completed"
    },
    "tags": []
   },
   "outputs": [],
   "source": [
    "from openpiv.pyprocess import moving_window_array, \\\n",
    "                            normalize_intensity,\\\n",
    "                            find_subpixel_peak_position, \\\n",
    "                            get_field_shape, \\\n",
    "                            get_coordinates,\\\n",
    "                            correlation_to_displacement,\\\n",
    "                            fft_correlate_images\n",
    "from openpiv.tools import imread, transform_coordinates"
   ]
  },
  {
   "cell_type": "markdown",
   "id": "7629da2d",
   "metadata": {
    "tags": [
     "papermill-error-cell-tag"
    ]
   },
   "source": [
    "<span id=\"papermill-error-cell\" style=\"color:red; font-family:Helvetica Neue, Helvetica, Arial, sans-serif; font-size:2em;\">Execution using papermill encountered an exception here and stopped:</span>"
   ]
  },
  {
   "cell_type": "code",
   "execution_count": 4,
   "id": "9a21fa0a",
   "metadata": {
    "execution": {
     "iopub.execute_input": "2022-10-20T19:19:27.277577Z",
     "iopub.status.busy": "2022-10-20T19:19:27.277210Z",
     "iopub.status.idle": "2022-10-20T19:19:27.287136Z",
     "shell.execute_reply": "2022-10-20T19:19:27.286288Z"
    },
    "papermill": {
     "duration": 0.697919,
     "end_time": "2022-10-20T19:14:11.643048",
     "exception": true,
     "start_time": "2022-10-20T19:14:10.945129",
     "status": "failed"
    },
    "tags": []
   },
   "outputs": [],
   "source": [
    "frame_a = imread('../test1/exp1_001_a.bmp')\n",
    "frame_b = imread('../test1/exp1_001_b.bmp')\n",
    "\n",
    "# frame_a = frame_a[:128,:128]\n",
    "# frame_b = frame_b[:128,:128]\n",
    "\n",
    "# frame_a = normalize_intensity(frame_a)\n",
    "# frame_b = normalize_intensity(frame_b)"
   ]
  },
  {
   "cell_type": "code",
   "execution_count": 5,
   "id": "7cd2d11c",
   "metadata": {
    "execution": {
     "iopub.execute_input": "2022-10-20T19:19:27.290050Z",
     "iopub.status.busy": "2022-10-20T19:19:27.289779Z",
     "iopub.status.idle": "2022-10-20T19:19:27.292795Z",
     "shell.execute_reply": "2022-10-20T19:19:27.292260Z"
    },
    "papermill": {
     "duration": null,
     "end_time": null,
     "exception": null,
     "start_time": null,
     "status": "pending"
    },
    "tags": []
   },
   "outputs": [],
   "source": [
    "# for debugging purposes \n",
    "# frame_a = frame_a[:64,:64]\n",
    "# frame_b = frame_b[:64,:64]"
   ]
  },
  {
   "cell_type": "code",
   "execution_count": 6,
   "id": "0679abbf",
   "metadata": {
    "execution": {
     "iopub.execute_input": "2022-10-20T19:19:27.315231Z",
     "iopub.status.busy": "2022-10-20T19:19:27.315017Z",
     "iopub.status.idle": "2022-10-20T19:19:27.318457Z",
     "shell.execute_reply": "2022-10-20T19:19:27.317523Z"
    },
    "papermill": {
     "duration": null,
     "end_time": null,
     "exception": null,
     "start_time": null,
     "status": "pending"
    },
    "tags": []
   },
   "outputs": [],
   "source": [
    "# parameters for the test\n",
    "window_size = 48\n",
    "overlap = 8\n",
    "search_size = window_size #not extended search for a while"
   ]
  },
  {
   "cell_type": "code",
   "execution_count": 7,
   "id": "248481be",
   "metadata": {
    "execution": {
     "iopub.execute_input": "2022-10-20T19:19:27.322465Z",
     "iopub.status.busy": "2022-10-20T19:19:27.322258Z",
     "iopub.status.idle": "2022-10-20T19:19:27.325743Z",
     "shell.execute_reply": "2022-10-20T19:19:27.325098Z"
    },
    "papermill": {
     "duration": null,
     "end_time": null,
     "exception": null,
     "start_time": null,
     "status": "pending"
    },
    "tags": []
   },
   "outputs": [],
   "source": [
    "# for the regular square windows case:\n",
    "aa = moving_window_array(frame_a, window_size, overlap)\n",
    "bb = moving_window_array(frame_b, window_size, overlap)"
   ]
  },
  {
   "cell_type": "code",
   "execution_count": 8,
   "id": "578ea6a4",
   "metadata": {
    "execution": {
     "iopub.execute_input": "2022-10-20T19:19:27.329293Z",
     "iopub.status.busy": "2022-10-20T19:19:27.329042Z",
     "iopub.status.idle": "2022-10-20T19:19:27.353278Z",
     "shell.execute_reply": "2022-10-20T19:19:27.352518Z"
    },
    "papermill": {
     "duration": null,
     "end_time": null,
     "exception": null,
     "start_time": null,
     "status": "pending"
    },
    "tags": []
   },
   "outputs": [],
   "source": [
    "c = fft_correlate_images(aa,bb)\n",
    "n_rows, n_cols = get_field_shape(frame_a.shape, search_size, overlap)\n",
    "u,v = correlation_to_displacement(c, n_rows,n_cols)\n",
    "x,y = get_coordinates(frame_a.shape,search_size,overlap)"
   ]
  },
  {
   "cell_type": "code",
   "execution_count": 9,
   "id": "02b9e299",
   "metadata": {
    "execution": {
     "iopub.execute_input": "2022-10-20T19:19:27.356133Z",
     "iopub.status.busy": "2022-10-20T19:19:27.355923Z",
     "iopub.status.idle": "2022-10-20T19:19:27.359431Z",
     "shell.execute_reply": "2022-10-20T19:19:27.358846Z"
    },
    "papermill": {
     "duration": null,
     "end_time": null,
     "exception": null,
     "start_time": null,
     "status": "pending"
    },
    "tags": []
   },
   "outputs": [],
   "source": [
    "# let's assume we want the extended search type of PIV analysis\n",
    "# with search_area_size in image B > window_size in image A\n",
    "window_size = 32\n",
    "overlap = 8\n",
    "search_size = 48"
   ]
  },
  {
   "cell_type": "code",
   "execution_count": 10,
   "id": "d9c353ce",
   "metadata": {
    "execution": {
     "iopub.execute_input": "2022-10-20T19:19:27.361945Z",
     "iopub.status.busy": "2022-10-20T19:19:27.361682Z",
     "iopub.status.idle": "2022-10-20T19:19:27.733669Z",
     "shell.execute_reply": "2022-10-20T19:19:27.733009Z"
    },
    "papermill": {
     "duration": null,
     "end_time": null,
     "exception": null,
     "start_time": null,
     "status": "pending"
    },
    "tags": []
   },
   "outputs": [
    {
     "data": {
      "text/plain": [
       "<matplotlib.image.AxesImage at 0x7f5037da7970>"
      ]
     },
     "execution_count": 10,
     "metadata": {},
     "output_type": "execute_result"
    },
    {
     "data": {
      "image/png": "[encoded data removed]",
      "text/plain": [
       "<Figure size 432x288 with 1 Axes>"
      ]
     },
     "metadata": {
      "needs_background": "light"
     },
     "output_type": "display_data"
    },
    {
     "data": {
      "image/png": "[encoded data removed]",
      "text/plain": [
       "<Figure size 432x288 with 1 Axes>"
      ]
     },
     "metadata": {
      "needs_background": "light"
     },
     "output_type": "display_data"
    },
    {
     "data": {
      "image/png": "[encoded data removed]",
      "text/plain": [
       "<Figure size 432x288 with 1 Axes>"
      ]
     },
     "metadata": {
      "needs_background": "light"
     },
     "output_type": "display_data"
    }
   ],
   "source": [
    "# for the regular square windows case:\n",
    "aa = moving_window_array(frame_a, search_size, overlap)\n",
    "bb = moving_window_array(frame_b, search_size, overlap)\n",
    "\n",
    "aa = normalize_intensity(aa)\n",
    "bb = normalize_intensity(bb)\n",
    "\n",
    "# make it use only a small window inside a larger window\n",
    "plt.figure()\n",
    "plt.imshow(aa[-1,:,:],cmap=plt.cm.gray)\n",
    "\n",
    "\n",
    "mask = np.zeros((search_size,search_size))\n",
    "pad = int((search_size - window_size) / 2)\n",
    "\n",
    "mask[slice(pad,search_size-pad),slice(pad,search_size-pad)] = 1\n",
    "\n",
    "mask = np.broadcast_to(mask, aa.shape)\n",
    "aa *= mask.astype(aa.dtype)\n",
    "\n",
    "\n",
    "plt.figure()\n",
    "plt.imshow(aa[0,:,:],cmap=plt.cm.gray)\n",
    "plt.figure()\n",
    "plt.imshow(bb[0,:,:],cmap=plt.cm.gray)"
   ]
  },
  {
   "cell_type": "code",
   "execution_count": 11,
   "id": "0d1e46f5",
   "metadata": {
    "execution": {
     "iopub.execute_input": "2022-10-20T19:19:27.737888Z",
     "iopub.status.busy": "2022-10-20T19:19:27.737600Z",
     "iopub.status.idle": "2022-10-20T19:19:27.812884Z",
     "shell.execute_reply": "2022-10-20T19:19:27.812247Z"
    },
    "papermill": {
     "duration": null,
     "end_time": null,
     "exception": null,
     "start_time": null,
     "status": "pending"
    },
    "tags": []
   },
   "outputs": [],
   "source": [
    "c1 = fft_correlate_images(aa, bb, correlation_method='linear')\n"
   ]
  },
  {
   "cell_type": "code",
   "execution_count": 12,
   "id": "3c0ef682",
   "metadata": {
    "execution": {
     "iopub.execute_input": "2022-10-20T19:19:27.816082Z",
     "iopub.status.busy": "2022-10-20T19:19:27.815733Z",
     "iopub.status.idle": "2022-10-20T19:19:27.899530Z",
     "shell.execute_reply": "2022-10-20T19:19:27.898721Z"
    },
    "papermill": {
     "duration": null,
     "end_time": null,
     "exception": null,
     "start_time": null,
     "status": "pending"
    },
    "tags": []
   },
   "outputs": [
    {
     "data": {
      "text/plain": [
       "<matplotlib.contour.QuadContourSet at 0x7f5037cddfd0>"
      ]
     },
     "execution_count": 12,
     "metadata": {},
     "output_type": "execute_result"
    },
    {
     "data": {
      "image/png": "[encoded data removed]",
      "text/plain": [
       "<Figure size 432x288 with 1 Axes>"
      ]
     },
     "metadata": {
      "needs_background": "light"
     },
     "output_type": "display_data"
    }
   ],
   "source": [
    "plt.contourf(c1[2,:,:])"
   ]
  },
  {
   "cell_type": "code",
   "execution_count": 13,
   "id": "59dd5db4",
   "metadata": {
    "execution": {
     "iopub.execute_input": "2022-10-20T19:19:27.904063Z",
     "iopub.status.busy": "2022-10-20T19:19:27.903598Z",
     "iopub.status.idle": "2022-10-20T19:19:27.908716Z",
     "shell.execute_reply": "2022-10-20T19:19:27.907827Z"
    },
    "papermill": {
     "duration": null,
     "end_time": null,
     "exception": null,
     "start_time": null,
     "status": "pending"
    },
    "tags": []
   },
   "outputs": [],
   "source": [
    "n_rows, n_cols = get_field_shape(frame_a.shape, search_size, overlap)"
   ]
  },
  {
   "cell_type": "code",
   "execution_count": 14,
   "id": "385c1e95",
   "metadata": {
    "execution": {
     "iopub.execute_input": "2022-10-20T19:19:27.912700Z",
     "iopub.status.busy": "2022-10-20T19:19:27.912285Z",
     "iopub.status.idle": "2022-10-20T19:19:27.921085Z",
     "shell.execute_reply": "2022-10-20T19:19:27.920518Z"
    },
    "papermill": {
     "duration": null,
     "end_time": null,
     "exception": null,
     "start_time": null,
     "status": "pending"
    },
    "tags": []
   },
   "outputs": [],
   "source": [
    "u1,v1 = correlation_to_displacement(c1,n_rows,n_cols)\n",
    "x1,y1 = get_coordinates(frame_a.shape,search_size,overlap)"
   ]
  },
  {
   "cell_type": "code",
   "execution_count": 15,
   "id": "7ba344b8",
   "metadata": {
    "execution": {
     "iopub.execute_input": "2022-10-20T19:19:27.925003Z",
     "iopub.status.busy": "2022-10-20T19:19:27.924708Z",
     "iopub.status.idle": "2022-10-20T19:19:27.928445Z",
     "shell.execute_reply": "2022-10-20T19:19:27.927687Z"
    },
    "papermill": {
     "duration": null,
     "end_time": null,
     "exception": null,
     "start_time": null,
     "status": "pending"
    },
    "tags": []
   },
   "outputs": [],
   "source": [
    "x,y,u,v = transform_coordinates(x, y, u, v)\n",
    "x1,y1,u1,v1 = transform_coordinates(x1, y1, u1, v1)"
   ]
  },
  {
   "cell_type": "code",
   "execution_count": 16,
   "id": "dda78bcb",
   "metadata": {
    "execution": {
     "iopub.execute_input": "2022-10-20T19:19:27.931184Z",
     "iopub.status.busy": "2022-10-20T19:19:27.930830Z",
     "iopub.status.idle": "2022-10-20T19:19:28.035170Z",
     "shell.execute_reply": "2022-10-20T19:19:28.034187Z"
    },
    "papermill": {
     "duration": null,
     "end_time": null,
     "exception": null,
     "start_time": null,
     "status": "pending"
    },
    "tags": []
   },
   "outputs": [
    {
     "data": {
      "text/plain": [
       "<matplotlib.quiver.Quiver at 0x7f5037a45e80>"
      ]
     },
     "execution_count": 16,
     "metadata": {},
     "output_type": "execute_result"
    },
    {
     "data": {
      "image/png": "[encoded data removed]",
      "text/plain": [
       "<Figure size 864x864 with 1 Axes>"
      ]
     },
     "metadata": {
      "needs_background": "light"
     },
     "output_type": "display_data"
    }
   ],
   "source": [
    "plt.figure(figsize=(12,12))\n",
    "plt.quiver(x,y,u,v,scale=100,color='b',alpha=0.2)\n",
    "plt.quiver(x1,y1,u1,v1,scale=100,color='r',alpha=0.2)"
   ]
  },
  {
   "cell_type": "code",
   "execution_count": null,
   "id": "ba6fdd7d",
   "metadata": {
    "papermill": {
     "duration": null,
     "end_time": null,
     "exception": null,
     "start_time": null,
     "status": "pending"
    },
    "tags": []
   },
   "outputs": [],
   "source": []
  }
 ],
 "metadata": {
  "jupytext": {
   "formats": "ipynb,py:percent"
  },
  "kernelspec": {
   "display_name": "Python 3 (ipykernel)",
   "language": "python",
   "name": "python3"
  },
  "language_info": {
   "codemirror_mode": {
    "name": "ipython",
    "version": 3
   },
   "file_extension": ".py",
   "mimetype": "text/x-python",
   "name": "python",
   "nbconvert_exporter": "python",
   "pygments_lexer": "ipython3",
   "version": "3.8.12"
  },
  "papermill": {
   "default_parameters": {},
   "duration": 3.115691,
   "end_time": "2022-10-20T19:14:11.961668",
   "environment_variables": {},
   "exception": true,
   "input_path": "./notebooks/extended_search_area_vectorized.ipynb",
   "output_path": "./notebooks/extended_search_area_vectorized.ipynb",
   "parameters": {},
   "start_time": "2022-10-20T19:14:08.845977",
   "version": "2.4.0"
  }
 },
 "nbformat": 4,
 "nbformat_minor": 5
}
