{
 "cells": [
  {
   "cell_type": "code",
   "execution_count": 4,
   "metadata": {},
   "outputs": [
    {
     "name": "stdout",
     "output_type": "stream",
     "text": [
      "Collecting opencv-python-headless (from -r requirements.txt (line 1))\n",
      "  Downloading opencv_python_headless-4.10.0.84-cp37-abi3-manylinux_2_17_x86_64.manylinux2014_x86_64.whl.metadata (20 kB)\n",
      "Collecting jupyter (from -r requirements.txt (line 2))\n",
      "  Using cached jupyter-1.0.0-py2.py3-none-any.whl.metadata (995 bytes)\n",
      "Requirement already satisfied: watermark in ./.conda/lib/python3.10/site-packages (from -r requirements.txt (line 3)) (2.4.3)\n",
      "Requirement already satisfied: nbconvert in ./.conda/lib/python3.10/site-packages (from -r requirements.txt (line 4)) (7.16.4)\n",
      "Collecting openpiv (from -r requirements.txt (line 5))\n",
      "  Using cached openpiv-0.25.3-py3-none-any.whl.metadata (6.2 kB)\n",
      "Collecting numpy>=1.21.2 (from opencv-python-headless->-r requirements.txt (line 1))\n",
      "  Downloading numpy-2.0.0-cp310-cp310-manylinux_2_17_x86_64.manylinux2014_x86_64.whl.metadata (60 kB)\n",
      "\u001b[2K     \u001b[90m━━━━━━━━━━━━━━━━━━━━━━━━━━━━━━━━━━━━━━━━\u001b[0m \u001b[32m60.9/60.9 kB\u001b[0m \u001b[31m1.1 MB/s\u001b[0m eta \u001b[36m0:00:00\u001b[0ma \u001b[36m0:00:01\u001b[0m\n",
      "\u001b[?25hCollecting notebook (from jupyter->-r requirements.txt (line 2))\n",
      "  Downloading notebook-7.2.1-py3-none-any.whl.metadata (10 kB)\n",
      "Collecting qtconsole (from jupyter->-r requirements.txt (line 2))\n",
      "  Downloading qtconsole-5.5.2-py3-none-any.whl.metadata (5.1 kB)\n",
      "Collecting jupyter-console (from jupyter->-r requirements.txt (line 2))\n",
      "  Using cached jupyter_console-6.6.3-py3-none-any.whl.metadata (5.8 kB)\n",
      "Requirement already satisfied: ipykernel in ./.conda/lib/python3.10/site-packages (from jupyter->-r requirements.txt (line 2)) (6.29.4)\n",
      "Collecting ipywidgets (from jupyter->-r requirements.txt (line 2))\n",
      "  Downloading ipywidgets-8.1.3-py3-none-any.whl.metadata (2.4 kB)\n",
      "Requirement already satisfied: ipython>=6.0 in ./.conda/lib/python3.10/site-packages (from watermark->-r requirements.txt (line 3)) (8.26.0)\n",
      "Requirement already satisfied: importlib-metadata>=1.4 in ./.conda/lib/python3.10/site-packages (from watermark->-r requirements.txt (line 3)) (8.0.0)\n",
      "Requirement already satisfied: setuptools in ./.conda/lib/python3.10/site-packages (from watermark->-r requirements.txt (line 3)) (70.1.1)\n",
      "Requirement already satisfied: beautifulsoup4 in ./.conda/lib/python3.10/site-packages (from nbconvert->-r requirements.txt (line 4)) (4.12.3)\n",
      "Requirement already satisfied: bleach!=5.0.0 in ./.conda/lib/python3.10/site-packages (from nbconvert->-r requirements.txt (line 4)) (6.1.0)\n",
      "Requirement already satisfied: defusedxml in ./.conda/lib/python3.10/site-packages (from nbconvert->-r requirements.txt (line 4)) (0.7.1)\n",
      "Requirement already satisfied: jinja2>=3.0 in ./.conda/lib/python3.10/site-packages (from nbconvert->-r requirements.txt (line 4)) (3.1.4)\n",
      "Requirement already satisfied: jupyter-core>=4.7 in ./.conda/lib/python3.10/site-packages (from nbconvert->-r requirements.txt (line 4)) (5.7.2)\n",
      "Requirement already satisfied: jupyterlab-pygments in ./.conda/lib/python3.10/site-packages (from nbconvert->-r requirements.txt (line 4)) (0.3.0)\n",
      "Requirement already satisfied: markupsafe>=2.0 in ./.conda/lib/python3.10/site-packages (from nbconvert->-r requirements.txt (line 4)) (2.1.5)\n",
      "Requirement already satisfied: mistune<4,>=2.0.3 in ./.conda/lib/python3.10/site-packages (from nbconvert->-r requirements.txt (line 4)) (3.0.2)\n",
      "Requirement already satisfied: nbclient>=0.5.0 in ./.conda/lib/python3.10/site-packages (from nbconvert->-r requirements.txt (line 4)) (0.10.0)\n",
      "Requirement already satisfied: nbformat>=5.7 in ./.conda/lib/python3.10/site-packages (from nbconvert->-r requirements.txt (line 4)) (5.10.4)\n",
      "Requirement already satisfied: packaging in ./.conda/lib/python3.10/site-packages (from nbconvert->-r requirements.txt (line 4)) (24.1)\n",
      "Requirement already satisfied: pandocfilters>=1.4.1 in ./.conda/lib/python3.10/site-packages (from nbconvert->-r requirements.txt (line 4)) (1.5.1)\n",
      "Requirement already satisfied: pygments>=2.4.1 in ./.conda/lib/python3.10/site-packages (from nbconvert->-r requirements.txt (line 4)) (2.18.0)\n",
      "Requirement already satisfied: tinycss2 in ./.conda/lib/python3.10/site-packages (from nbconvert->-r requirements.txt (line 4)) (1.3.0)\n",
      "Requirement already satisfied: traitlets>=5.1 in ./.conda/lib/python3.10/site-packages (from nbconvert->-r requirements.txt (line 4)) (5.14.3)\n",
      "Collecting imageio<3.0.0,>=2.22.4 (from openpiv->-r requirements.txt (line 5))\n",
      "  Using cached imageio-2.34.2-py3-none-any.whl.metadata (4.9 kB)\n",
      "Collecting importlib_resources==5.12.0 (from openpiv->-r requirements.txt (line 5))\n",
      "  Using cached importlib_resources-5.12.0-py3-none-any.whl.metadata (4.1 kB)\n",
      "Collecting matplotlib<4,>=3 (from openpiv->-r requirements.txt (line 5))\n",
      "  Using cached matplotlib-3.9.0-cp310-cp310-manylinux_2_17_x86_64.manylinux2014_x86_64.whl.metadata (11 kB)\n",
      "Collecting natsort<9.0.0,>=8.4.0 (from openpiv->-r requirements.txt (line 5))\n",
      "  Using cached natsort-8.4.0-py3-none-any.whl.metadata (21 kB)\n",
      "Collecting numpy>=1.21.2 (from opencv-python-headless->-r requirements.txt (line 1))\n",
      "  Using cached numpy-1.26.4-cp310-cp310-manylinux_2_17_x86_64.manylinux2014_x86_64.whl.metadata (61 kB)\n",
      "Collecting scikit-image>=0.23 (from openpiv->-r requirements.txt (line 5))\n",
      "  Using cached scikit_image-0.24.0-cp310-cp310-manylinux_2_17_x86_64.manylinux2014_x86_64.whl.metadata (14 kB)\n",
      "Collecting scipy<2.0.0,>=1.7.3 (from openpiv->-r requirements.txt (line 5))\n",
      "  Using cached scipy-1.14.0-cp310-cp310-manylinux_2_17_x86_64.manylinux2014_x86_64.whl.metadata (60 kB)\n",
      "Collecting tqdm<5.0.0,>=4.66.1 (from openpiv->-r requirements.txt (line 5))\n",
      "  Using cached tqdm-4.66.4-py3-none-any.whl.metadata (57 kB)\n",
      "Requirement already satisfied: six>=1.9.0 in ./.conda/lib/python3.10/site-packages (from bleach!=5.0.0->nbconvert->-r requirements.txt (line 4)) (1.16.0)\n",
      "Requirement already satisfied: webencodings in ./.conda/lib/python3.10/site-packages (from bleach!=5.0.0->nbconvert->-r requirements.txt (line 4)) (0.5.1)\n",
      "Collecting pillow>=8.3.2 (from imageio<3.0.0,>=2.22.4->openpiv->-r requirements.txt (line 5))\n",
      "  Using cached pillow-10.3.0-cp310-cp310-manylinux_2_28_x86_64.whl.metadata (9.2 kB)\n",
      "Requirement already satisfied: zipp>=0.5 in ./.conda/lib/python3.10/site-packages (from importlib-metadata>=1.4->watermark->-r requirements.txt (line 3)) (3.19.2)\n",
      "Requirement already satisfied: decorator in ./.conda/lib/python3.10/site-packages (from ipython>=6.0->watermark->-r requirements.txt (line 3)) (5.1.1)\n",
      "Requirement already satisfied: jedi>=0.16 in ./.conda/lib/python3.10/site-packages (from ipython>=6.0->watermark->-r requirements.txt (line 3)) (0.19.1)\n",
      "Requirement already satisfied: matplotlib-inline in ./.conda/lib/python3.10/site-packages (from ipython>=6.0->watermark->-r requirements.txt (line 3)) (0.1.7)\n",
      "Requirement already satisfied: prompt-toolkit<3.1.0,>=3.0.41 in ./.conda/lib/python3.10/site-packages (from ipython>=6.0->watermark->-r requirements.txt (line 3)) (3.0.47)\n",
      "Requirement already satisfied: stack-data in ./.conda/lib/python3.10/site-packages (from ipython>=6.0->watermark->-r requirements.txt (line 3)) (0.6.2)\n",
      "Requirement already satisfied: exceptiongroup in ./.conda/lib/python3.10/site-packages (from ipython>=6.0->watermark->-r requirements.txt (line 3)) (1.2.0)\n",
      "Requirement already satisfied: typing-extensions>=4.6 in ./.conda/lib/python3.10/site-packages (from ipython>=6.0->watermark->-r requirements.txt (line 3)) (4.12.2)\n",
      "Requirement already satisfied: pexpect>4.3 in ./.conda/lib/python3.10/site-packages (from ipython>=6.0->watermark->-r requirements.txt (line 3)) (4.9.0)\n",
      "Requirement already satisfied: platformdirs>=2.5 in ./.conda/lib/python3.10/site-packages (from jupyter-core>=4.7->nbconvert->-r requirements.txt (line 4)) (4.2.2)\n",
      "Collecting contourpy>=1.0.1 (from matplotlib<4,>=3->openpiv->-r requirements.txt (line 5))\n",
      "  Using cached contourpy-1.2.1-cp310-cp310-manylinux_2_17_x86_64.manylinux2014_x86_64.whl.metadata (5.8 kB)\n",
      "Collecting cycler>=0.10 (from matplotlib<4,>=3->openpiv->-r requirements.txt (line 5))\n",
      "  Using cached cycler-0.12.1-py3-none-any.whl.metadata (3.8 kB)\n",
      "Collecting fonttools>=4.22.0 (from matplotlib<4,>=3->openpiv->-r requirements.txt (line 5))\n",
      "  Using cached fonttools-4.53.0-cp310-cp310-manylinux_2_17_x86_64.manylinux2014_x86_64.whl.metadata (162 kB)\n",
      "Collecting kiwisolver>=1.3.1 (from matplotlib<4,>=3->openpiv->-r requirements.txt (line 5))\n",
      "  Using cached kiwisolver-1.4.5-cp310-cp310-manylinux_2_12_x86_64.manylinux2010_x86_64.whl.metadata (6.4 kB)\n",
      "Collecting pyparsing>=2.3.1 (from matplotlib<4,>=3->openpiv->-r requirements.txt (line 5))\n",
      "  Using cached pyparsing-3.1.2-py3-none-any.whl.metadata (5.1 kB)\n",
      "Requirement already satisfied: python-dateutil>=2.7 in ./.conda/lib/python3.10/site-packages (from matplotlib<4,>=3->openpiv->-r requirements.txt (line 5)) (2.9.0)\n",
      "Requirement already satisfied: jupyter-client>=6.1.12 in ./.conda/lib/python3.10/site-packages (from nbclient>=0.5.0->nbconvert->-r requirements.txt (line 4)) (8.6.2)\n",
      "Requirement already satisfied: fastjsonschema>=2.15 in ./.conda/lib/python3.10/site-packages (from nbformat>=5.7->nbconvert->-r requirements.txt (line 4)) (2.20.0)\n",
      "Requirement already satisfied: jsonschema>=2.6 in ./.conda/lib/python3.10/site-packages (from nbformat>=5.7->nbconvert->-r requirements.txt (line 4)) (4.22.0)\n",
      "Collecting networkx>=2.8 (from scikit-image>=0.23->openpiv->-r requirements.txt (line 5))\n",
      "  Using cached networkx-3.3-py3-none-any.whl.metadata (5.1 kB)\n",
      "Collecting tifffile>=2022.8.12 (from scikit-image>=0.23->openpiv->-r requirements.txt (line 5))\n",
      "  Using cached tifffile-2024.6.18-py3-none-any.whl.metadata (31 kB)\n",
      "Collecting lazy-loader>=0.4 (from scikit-image>=0.23->openpiv->-r requirements.txt (line 5))\n",
      "  Using cached lazy_loader-0.4-py3-none-any.whl.metadata (7.6 kB)\n",
      "Requirement already satisfied: soupsieve>1.2 in ./.conda/lib/python3.10/site-packages (from beautifulsoup4->nbconvert->-r requirements.txt (line 4)) (2.5)\n",
      "Requirement already satisfied: comm>=0.1.1 in ./.conda/lib/python3.10/site-packages (from ipykernel->jupyter->-r requirements.txt (line 2)) (0.2.2)\n",
      "Requirement already satisfied: debugpy>=1.6.5 in ./.conda/lib/python3.10/site-packages (from ipykernel->jupyter->-r requirements.txt (line 2)) (1.8.2)\n",
      "Requirement already satisfied: nest-asyncio in ./.conda/lib/python3.10/site-packages (from ipykernel->jupyter->-r requirements.txt (line 2)) (1.6.0)\n",
      "Requirement already satisfied: psutil in ./.conda/lib/python3.10/site-packages (from ipykernel->jupyter->-r requirements.txt (line 2)) (6.0.0)\n",
      "Requirement already satisfied: pyzmq>=24 in ./.conda/lib/python3.10/site-packages (from ipykernel->jupyter->-r requirements.txt (line 2)) (26.0.3)\n",
      "Requirement already satisfied: tornado>=6.1 in ./.conda/lib/python3.10/site-packages (from ipykernel->jupyter->-r requirements.txt (line 2)) (6.4.1)\n",
      "Collecting widgetsnbextension~=4.0.11 (from ipywidgets->jupyter->-r requirements.txt (line 2))\n",
      "  Downloading widgetsnbextension-4.0.11-py3-none-any.whl.metadata (1.6 kB)\n",
      "Collecting jupyterlab-widgets~=3.0.11 (from ipywidgets->jupyter->-r requirements.txt (line 2))\n",
      "  Downloading jupyterlab_widgets-3.0.11-py3-none-any.whl.metadata (4.1 kB)\n",
      "Collecting jupyter-server<3,>=2.4.0 (from notebook->jupyter->-r requirements.txt (line 2))\n",
      "  Downloading jupyter_server-2.14.1-py3-none-any.whl.metadata (8.4 kB)\n",
      "Collecting jupyterlab-server<3,>=2.27.1 (from notebook->jupyter->-r requirements.txt (line 2))\n",
      "  Downloading jupyterlab_server-2.27.2-py3-none-any.whl.metadata (5.9 kB)\n",
      "Collecting jupyterlab<4.3,>=4.2.0 (from notebook->jupyter->-r requirements.txt (line 2))\n",
      "  Downloading jupyterlab-4.2.3-py3-none-any.whl.metadata (16 kB)\n",
      "Collecting notebook-shim<0.3,>=0.2 (from notebook->jupyter->-r requirements.txt (line 2))\n",
      "  Using cached notebook_shim-0.2.4-py3-none-any.whl.metadata (4.0 kB)\n",
      "Collecting qtpy>=2.4.0 (from qtconsole->jupyter->-r requirements.txt (line 2))\n",
      "  Using cached QtPy-2.4.1-py3-none-any.whl.metadata (12 kB)\n",
      "Requirement already satisfied: parso<0.9.0,>=0.8.3 in ./.conda/lib/python3.10/site-packages (from jedi>=0.16->ipython>=6.0->watermark->-r requirements.txt (line 3)) (0.8.4)\n",
      "Requirement already satisfied: attrs>=22.2.0 in ./.conda/lib/python3.10/site-packages (from jsonschema>=2.6->nbformat>=5.7->nbconvert->-r requirements.txt (line 4)) (23.2.0)\n",
      "Requirement already satisfied: jsonschema-specifications>=2023.03.6 in ./.conda/lib/python3.10/site-packages (from jsonschema>=2.6->nbformat>=5.7->nbconvert->-r requirements.txt (line 4)) (2023.12.1)\n",
      "Requirement already satisfied: referencing>=0.28.4 in ./.conda/lib/python3.10/site-packages (from jsonschema>=2.6->nbformat>=5.7->nbconvert->-r requirements.txt (line 4)) (0.35.1)\n",
      "Requirement already satisfied: rpds-py>=0.7.1 in ./.conda/lib/python3.10/site-packages (from jsonschema>=2.6->nbformat>=5.7->nbconvert->-r requirements.txt (line 4)) (0.18.1)\n",
      "Collecting anyio>=3.1.0 (from jupyter-server<3,>=2.4.0->notebook->jupyter->-r requirements.txt (line 2))\n",
      "  Downloading anyio-4.4.0-py3-none-any.whl.metadata (4.6 kB)\n",
      "Collecting argon2-cffi>=21.1 (from jupyter-server<3,>=2.4.0->notebook->jupyter->-r requirements.txt (line 2))\n",
      "  Using cached argon2_cffi-23.1.0-py3-none-any.whl.metadata (5.2 kB)\n",
      "Collecting jupyter-events>=0.9.0 (from jupyter-server<3,>=2.4.0->notebook->jupyter->-r requirements.txt (line 2))\n",
      "  Using cached jupyter_events-0.10.0-py3-none-any.whl.metadata (5.9 kB)\n",
      "Collecting jupyter-server-terminals>=0.4.4 (from jupyter-server<3,>=2.4.0->notebook->jupyter->-r requirements.txt (line 2))\n",
      "  Using cached jupyter_server_terminals-0.5.3-py3-none-any.whl.metadata (5.6 kB)\n",
      "Collecting overrides>=5.0 (from jupyter-server<3,>=2.4.0->notebook->jupyter->-r requirements.txt (line 2))\n",
      "  Using cached overrides-7.7.0-py3-none-any.whl.metadata (5.8 kB)\n",
      "Collecting prometheus-client>=0.9 (from jupyter-server<3,>=2.4.0->notebook->jupyter->-r requirements.txt (line 2))\n",
      "  Using cached prometheus_client-0.20.0-py3-none-any.whl.metadata (1.8 kB)\n",
      "Collecting send2trash>=1.8.2 (from jupyter-server<3,>=2.4.0->notebook->jupyter->-r requirements.txt (line 2))\n",
      "  Using cached Send2Trash-1.8.3-py3-none-any.whl.metadata (4.0 kB)\n",
      "Collecting terminado>=0.8.3 (from jupyter-server<3,>=2.4.0->notebook->jupyter->-r requirements.txt (line 2))\n",
      "  Using cached terminado-0.18.1-py3-none-any.whl.metadata (5.8 kB)\n",
      "Collecting websocket-client>=1.7 (from jupyter-server<3,>=2.4.0->notebook->jupyter->-r requirements.txt (line 2))\n",
      "  Using cached websocket_client-1.8.0-py3-none-any.whl.metadata (8.0 kB)\n",
      "Collecting async-lru>=1.0.0 (from jupyterlab<4.3,>=4.2.0->notebook->jupyter->-r requirements.txt (line 2))\n",
      "  Using cached async_lru-2.0.4-py3-none-any.whl.metadata (4.5 kB)\n",
      "Collecting httpx>=0.25.0 (from jupyterlab<4.3,>=4.2.0->notebook->jupyter->-r requirements.txt (line 2))\n",
      "  Using cached httpx-0.27.0-py3-none-any.whl.metadata (7.2 kB)\n",
      "Collecting jupyter-lsp>=2.0.0 (from jupyterlab<4.3,>=4.2.0->notebook->jupyter->-r requirements.txt (line 2))\n",
      "  Using cached jupyter_lsp-2.2.5-py3-none-any.whl.metadata (1.8 kB)\n",
      "Collecting tomli>=1.2.2 (from jupyterlab<4.3,>=4.2.0->notebook->jupyter->-r requirements.txt (line 2))\n",
      "  Using cached tomli-2.0.1-py3-none-any.whl.metadata (8.9 kB)\n",
      "Collecting babel>=2.10 (from jupyterlab-server<3,>=2.27.1->notebook->jupyter->-r requirements.txt (line 2))\n",
      "  Downloading Babel-2.15.0-py3-none-any.whl.metadata (1.5 kB)\n",
      "Collecting json5>=0.9.0 (from jupyterlab-server<3,>=2.27.1->notebook->jupyter->-r requirements.txt (line 2))\n",
      "  Using cached json5-0.9.25-py3-none-any.whl.metadata (30 kB)\n",
      "Collecting requests>=2.31 (from jupyterlab-server<3,>=2.27.1->notebook->jupyter->-r requirements.txt (line 2))\n",
      "  Using cached requests-2.32.3-py3-none-any.whl.metadata (4.6 kB)\n",
      "Requirement already satisfied: ptyprocess>=0.5 in ./.conda/lib/python3.10/site-packages (from pexpect>4.3->ipython>=6.0->watermark->-r requirements.txt (line 3)) (0.7.0)\n",
      "Requirement already satisfied: wcwidth in ./.conda/lib/python3.10/site-packages (from prompt-toolkit<3.1.0,>=3.0.41->ipython>=6.0->watermark->-r requirements.txt (line 3)) (0.2.13)\n",
      "Requirement already satisfied: executing>=1.2.0 in ./.conda/lib/python3.10/site-packages (from stack-data->ipython>=6.0->watermark->-r requirements.txt (line 3)) (2.0.1)\n",
      "Requirement already satisfied: asttokens>=2.1.0 in ./.conda/lib/python3.10/site-packages (from stack-data->ipython>=6.0->watermark->-r requirements.txt (line 3)) (2.4.1)\n",
      "Requirement already satisfied: pure-eval in ./.conda/lib/python3.10/site-packages (from stack-data->ipython>=6.0->watermark->-r requirements.txt (line 3)) (0.2.2)\n",
      "Collecting idna>=2.8 (from anyio>=3.1.0->jupyter-server<3,>=2.4.0->notebook->jupyter->-r requirements.txt (line 2))\n",
      "  Using cached idna-3.7-py3-none-any.whl.metadata (9.9 kB)\n",
      "Collecting sniffio>=1.1 (from anyio>=3.1.0->jupyter-server<3,>=2.4.0->notebook->jupyter->-r requirements.txt (line 2))\n",
      "  Using cached sniffio-1.3.1-py3-none-any.whl.metadata (3.9 kB)\n",
      "Collecting argon2-cffi-bindings (from argon2-cffi>=21.1->jupyter-server<3,>=2.4.0->notebook->jupyter->-r requirements.txt (line 2))\n",
      "  Using cached argon2_cffi_bindings-21.2.0-cp36-abi3-manylinux_2_17_x86_64.manylinux2014_x86_64.whl.metadata (6.7 kB)\n",
      "Collecting certifi (from httpx>=0.25.0->jupyterlab<4.3,>=4.2.0->notebook->jupyter->-r requirements.txt (line 2))\n",
      "  Using cached certifi-2024.6.2-py3-none-any.whl.metadata (2.2 kB)\n",
      "Collecting httpcore==1.* (from httpx>=0.25.0->jupyterlab<4.3,>=4.2.0->notebook->jupyter->-r requirements.txt (line 2))\n",
      "  Using cached httpcore-1.0.5-py3-none-any.whl.metadata (20 kB)\n",
      "Collecting h11<0.15,>=0.13 (from httpcore==1.*->httpx>=0.25.0->jupyterlab<4.3,>=4.2.0->notebook->jupyter->-r requirements.txt (line 2))\n",
      "  Using cached h11-0.14.0-py3-none-any.whl.metadata (8.2 kB)\n",
      "Collecting python-json-logger>=2.0.4 (from jupyter-events>=0.9.0->jupyter-server<3,>=2.4.0->notebook->jupyter->-r requirements.txt (line 2))\n",
      "  Using cached python_json_logger-2.0.7-py3-none-any.whl.metadata (6.5 kB)\n",
      "Collecting pyyaml>=5.3 (from jupyter-events>=0.9.0->jupyter-server<3,>=2.4.0->notebook->jupyter->-r requirements.txt (line 2))\n",
      "  Using cached PyYAML-6.0.1-cp310-cp310-manylinux_2_17_x86_64.manylinux2014_x86_64.whl.metadata (2.1 kB)\n",
      "Collecting rfc3339-validator (from jupyter-events>=0.9.0->jupyter-server<3,>=2.4.0->notebook->jupyter->-r requirements.txt (line 2))\n",
      "  Using cached rfc3339_validator-0.1.4-py2.py3-none-any.whl.metadata (1.5 kB)\n",
      "Collecting rfc3986-validator>=0.1.1 (from jupyter-events>=0.9.0->jupyter-server<3,>=2.4.0->notebook->jupyter->-r requirements.txt (line 2))\n",
      "  Using cached rfc3986_validator-0.1.1-py2.py3-none-any.whl.metadata (1.7 kB)\n",
      "Collecting charset-normalizer<4,>=2 (from requests>=2.31->jupyterlab-server<3,>=2.27.1->notebook->jupyter->-r requirements.txt (line 2))\n",
      "  Using cached charset_normalizer-3.3.2-cp310-cp310-manylinux_2_17_x86_64.manylinux2014_x86_64.whl.metadata (33 kB)\n",
      "Collecting urllib3<3,>=1.21.1 (from requests>=2.31->jupyterlab-server<3,>=2.27.1->notebook->jupyter->-r requirements.txt (line 2))\n",
      "  Using cached urllib3-2.2.2-py3-none-any.whl.metadata (6.4 kB)\n",
      "Collecting fqdn (from jsonschema[format-nongpl]>=4.18.0->jupyter-events>=0.9.0->jupyter-server<3,>=2.4.0->notebook->jupyter->-r requirements.txt (line 2))\n",
      "  Using cached fqdn-1.5.1-py3-none-any.whl.metadata (1.4 kB)\n",
      "Collecting isoduration (from jsonschema[format-nongpl]>=4.18.0->jupyter-events>=0.9.0->jupyter-server<3,>=2.4.0->notebook->jupyter->-r requirements.txt (line 2))\n",
      "  Using cached isoduration-20.11.0-py3-none-any.whl.metadata (5.7 kB)\n",
      "Collecting jsonpointer>1.13 (from jsonschema[format-nongpl]>=4.18.0->jupyter-events>=0.9.0->jupyter-server<3,>=2.4.0->notebook->jupyter->-r requirements.txt (line 2))\n",
      "  Downloading jsonpointer-3.0.0-py2.py3-none-any.whl.metadata (2.3 kB)\n",
      "Collecting uri-template (from jsonschema[format-nongpl]>=4.18.0->jupyter-events>=0.9.0->jupyter-server<3,>=2.4.0->notebook->jupyter->-r requirements.txt (line 2))\n",
      "  Using cached uri_template-1.3.0-py3-none-any.whl.metadata (8.8 kB)\n",
      "Collecting webcolors>=1.11 (from jsonschema[format-nongpl]>=4.18.0->jupyter-events>=0.9.0->jupyter-server<3,>=2.4.0->notebook->jupyter->-r requirements.txt (line 2))\n",
      "  Downloading webcolors-24.6.0-py3-none-any.whl.metadata (2.6 kB)\n",
      "Collecting cffi>=1.0.1 (from argon2-cffi-bindings->argon2-cffi>=21.1->jupyter-server<3,>=2.4.0->notebook->jupyter->-r requirements.txt (line 2))\n",
      "  Downloading cffi-1.16.0-cp310-cp310-manylinux_2_17_x86_64.manylinux2014_x86_64.whl.metadata (1.5 kB)\n",
      "Collecting pycparser (from cffi>=1.0.1->argon2-cffi-bindings->argon2-cffi>=21.1->jupyter-server<3,>=2.4.0->notebook->jupyter->-r requirements.txt (line 2))\n",
      "  Using cached pycparser-2.22-py3-none-any.whl.metadata (943 bytes)\n",
      "Collecting arrow>=0.15.0 (from isoduration->jsonschema[format-nongpl]>=4.18.0->jupyter-events>=0.9.0->jupyter-server<3,>=2.4.0->notebook->jupyter->-r requirements.txt (line 2))\n",
      "  Using cached arrow-1.3.0-py3-none-any.whl.metadata (7.5 kB)\n",
      "Collecting types-python-dateutil>=2.8.10 (from arrow>=0.15.0->isoduration->jsonschema[format-nongpl]>=4.18.0->jupyter-events>=0.9.0->jupyter-server<3,>=2.4.0->notebook->jupyter->-r requirements.txt (line 2))\n",
      "  Using cached types_python_dateutil-2.9.0.20240316-py3-none-any.whl.metadata (1.8 kB)\n",
      "Downloading opencv_python_headless-4.10.0.84-cp37-abi3-manylinux_2_17_x86_64.manylinux2014_x86_64.whl (49.9 MB)\n",
      "\u001b[2K   \u001b[90m━━━━━━━━━━━━━━━━━━━━━━━━━━━━━━━━━━━━━━━━\u001b[0m \u001b[32m49.9/49.9 MB\u001b[0m \u001b[31m21.8 MB/s\u001b[0m eta \u001b[36m0:00:00\u001b[0m00:01\u001b[0m00:01\u001b[0m\n",
      "\u001b[?25hUsing cached jupyter-1.0.0-py2.py3-none-any.whl (2.7 kB)\n",
      "Using cached openpiv-0.25.3-py3-none-any.whl (38.1 MB)\n",
      "Using cached importlib_resources-5.12.0-py3-none-any.whl (36 kB)\n",
      "Using cached imageio-2.34.2-py3-none-any.whl (313 kB)\n",
      "Using cached matplotlib-3.9.0-cp310-cp310-manylinux_2_17_x86_64.manylinux2014_x86_64.whl (8.3 MB)\n",
      "Using cached natsort-8.4.0-py3-none-any.whl (38 kB)\n",
      "Using cached numpy-1.26.4-cp310-cp310-manylinux_2_17_x86_64.manylinux2014_x86_64.whl (18.2 MB)\n",
      "Using cached scikit_image-0.24.0-cp310-cp310-manylinux_2_17_x86_64.manylinux2014_x86_64.whl (14.9 MB)\n",
      "Using cached scipy-1.14.0-cp310-cp310-manylinux_2_17_x86_64.manylinux2014_x86_64.whl (41.1 MB)\n",
      "Using cached tqdm-4.66.4-py3-none-any.whl (78 kB)\n",
      "Downloading ipywidgets-8.1.3-py3-none-any.whl (139 kB)\n",
      "\u001b[2K   \u001b[90m━━━━━━━━━━━━━━━━━━━━━━━━━━━━━━━━━━━━━━━━\u001b[0m \u001b[32m139.4/139.4 kB\u001b[0m \u001b[31m10.7 MB/s\u001b[0m eta \u001b[36m0:00:00\u001b[0m\n",
      "\u001b[?25hUsing cached jupyter_console-6.6.3-py3-none-any.whl (24 kB)\n",
      "Downloading notebook-7.2.1-py3-none-any.whl (5.0 MB)\n",
      "\u001b[2K   \u001b[90m━━━━━━━━━━━━━━━━━━━━━━━━━━━━━━━━━━━━━━━━\u001b[0m \u001b[32m5.0/5.0 MB\u001b[0m \u001b[31m31.7 MB/s\u001b[0m eta \u001b[36m0:00:00\u001b[0ma \u001b[36m0:00:01\u001b[0m\n",
      "\u001b[?25hDownloading qtconsole-5.5.2-py3-none-any.whl (123 kB)\n",
      "\u001b[2K   \u001b[90m━━━━━━━━━━━━━━━━━━━━━━━━━━━━━━━━━━━━━━━━\u001b[0m \u001b[32m123.4/123.4 kB\u001b[0m \u001b[31m14.8 MB/s\u001b[0m eta \u001b[36m0:00:00\u001b[0m\n",
      "\u001b[?25hUsing cached contourpy-1.2.1-cp310-cp310-manylinux_2_17_x86_64.manylinux2014_x86_64.whl (305 kB)\n",
      "Using cached cycler-0.12.1-py3-none-any.whl (8.3 kB)\n",
      "Using cached fonttools-4.53.0-cp310-cp310-manylinux_2_17_x86_64.manylinux2014_x86_64.whl (4.6 MB)\n",
      "Downloading jupyter_server-2.14.1-py3-none-any.whl (383 kB)\n",
      "\u001b[2K   \u001b[90m━━━━━━━━━━━━━━━━━━━━━━━━━━━━━━━━━━━━━━━━\u001b[0m \u001b[32m383.4/383.4 kB\u001b[0m \u001b[31m33.8 MB/s\u001b[0m eta \u001b[36m0:00:00\u001b[0m\n",
      "\u001b[?25hDownloading jupyterlab-4.2.3-py3-none-any.whl (11.6 MB)\n",
      "\u001b[2K   \u001b[90m━━━━━━━━━━━━━━━━━━━━━━━━━━━━━━━━━━━━━━━━\u001b[0m \u001b[32m11.6/11.6 MB\u001b[0m \u001b[31m27.4 MB/s\u001b[0m eta \u001b[36m0:00:00\u001b[0m00:01\u001b[0m00:01\u001b[0m\n",
      "\u001b[?25hDownloading jupyterlab_server-2.27.2-py3-none-any.whl (59 kB)\n",
      "\u001b[2K   \u001b[90m━━━━━━━━━━━━━━━━━━━━━━━━━━━━━━━━━━━━━━━━\u001b[0m \u001b[32m59.4/59.4 kB\u001b[0m \u001b[31m5.3 MB/s\u001b[0m eta \u001b[36m0:00:00\u001b[0m\n",
      "\u001b[?25hDownloading jupyterlab_widgets-3.0.11-py3-none-any.whl (214 kB)\n",
      "\u001b[2K   \u001b[90m━━━━━━━━━━━━━━━━━━━━━━━━━━━━━━━━━━━━━━━━\u001b[0m \u001b[32m214.4/214.4 kB\u001b[0m \u001b[31m20.4 MB/s\u001b[0m eta \u001b[36m0:00:00\u001b[0m\n",
      "\u001b[?25hUsing cached kiwisolver-1.4.5-cp310-cp310-manylinux_2_12_x86_64.manylinux2010_x86_64.whl (1.6 MB)\n",
      "Using cached lazy_loader-0.4-py3-none-any.whl (12 kB)\n",
      "Using cached networkx-3.3-py3-none-any.whl (1.7 MB)\n",
      "Using cached notebook_shim-0.2.4-py3-none-any.whl (13 kB)\n",
      "Using cached pillow-10.3.0-cp310-cp310-manylinux_2_28_x86_64.whl (4.5 MB)\n",
      "Using cached pyparsing-3.1.2-py3-none-any.whl (103 kB)\n",
      "Using cached QtPy-2.4.1-py3-none-any.whl (93 kB)\n",
      "Using cached tifffile-2024.6.18-py3-none-any.whl (226 kB)\n",
      "Downloading widgetsnbextension-4.0.11-py3-none-any.whl (2.3 MB)\n",
      "\u001b[2K   \u001b[90m━━━━━━━━━━━━━━━━━━━━━━━━━━━━━━━━━━━━━━━━\u001b[0m \u001b[32m2.3/2.3 MB\u001b[0m \u001b[31m28.5 MB/s\u001b[0m eta \u001b[36m0:00:00\u001b[0ma \u001b[36m0:00:01\u001b[0m\n",
      "\u001b[?25hDownloading anyio-4.4.0-py3-none-any.whl (86 kB)\n",
      "\u001b[2K   \u001b[90m━━━━━━━━━━━━━━━━━━━━━━━━━━━━━━━━━━━━━━━━\u001b[0m \u001b[32m86.8/86.8 kB\u001b[0m \u001b[31m8.7 MB/s\u001b[0m eta \u001b[36m0:00:00\u001b[0m\n",
      "\u001b[?25hUsing cached argon2_cffi-23.1.0-py3-none-any.whl (15 kB)\n",
      "Using cached async_lru-2.0.4-py3-none-any.whl (6.1 kB)\n",
      "Downloading Babel-2.15.0-py3-none-any.whl (9.6 MB)\n",
      "\u001b[2K   \u001b[90m━━━━━━━━━━━━━━━━━━━━━━━━━━━━━━━━━━━━━━━━\u001b[0m \u001b[32m9.6/9.6 MB\u001b[0m \u001b[31m28.0 MB/s\u001b[0m eta \u001b[36m0:00:00\u001b[0m00:01\u001b[0m00:01\u001b[0m\n",
      "\u001b[?25hUsing cached httpx-0.27.0-py3-none-any.whl (75 kB)\n",
      "Using cached httpcore-1.0.5-py3-none-any.whl (77 kB)\n",
      "Using cached json5-0.9.25-py3-none-any.whl (30 kB)\n",
      "Using cached jupyter_events-0.10.0-py3-none-any.whl (18 kB)\n",
      "Using cached jupyter_lsp-2.2.5-py3-none-any.whl (69 kB)\n",
      "Using cached jupyter_server_terminals-0.5.3-py3-none-any.whl (13 kB)\n",
      "Using cached overrides-7.7.0-py3-none-any.whl (17 kB)\n",
      "Using cached prometheus_client-0.20.0-py3-none-any.whl (54 kB)\n",
      "Using cached requests-2.32.3-py3-none-any.whl (64 kB)\n",
      "Using cached Send2Trash-1.8.3-py3-none-any.whl (18 kB)\n",
      "Using cached terminado-0.18.1-py3-none-any.whl (14 kB)\n",
      "Using cached tomli-2.0.1-py3-none-any.whl (12 kB)\n",
      "Using cached websocket_client-1.8.0-py3-none-any.whl (58 kB)\n",
      "Using cached certifi-2024.6.2-py3-none-any.whl (164 kB)\n",
      "Using cached charset_normalizer-3.3.2-cp310-cp310-manylinux_2_17_x86_64.manylinux2014_x86_64.whl (142 kB)\n",
      "Using cached idna-3.7-py3-none-any.whl (66 kB)\n",
      "Using cached python_json_logger-2.0.7-py3-none-any.whl (8.1 kB)\n",
      "Using cached PyYAML-6.0.1-cp310-cp310-manylinux_2_17_x86_64.manylinux2014_x86_64.whl (705 kB)\n",
      "Using cached rfc3986_validator-0.1.1-py2.py3-none-any.whl (4.2 kB)\n",
      "Using cached sniffio-1.3.1-py3-none-any.whl (10 kB)\n",
      "Using cached urllib3-2.2.2-py3-none-any.whl (121 kB)\n",
      "Using cached argon2_cffi_bindings-21.2.0-cp36-abi3-manylinux_2_17_x86_64.manylinux2014_x86_64.whl (86 kB)\n",
      "Using cached rfc3339_validator-0.1.4-py2.py3-none-any.whl (3.5 kB)\n",
      "Downloading cffi-1.16.0-cp310-cp310-manylinux_2_17_x86_64.manylinux2014_x86_64.whl (443 kB)\n",
      "\u001b[2K   \u001b[90m━━━━━━━━━━━━━━━━━━━━━━━━━━━━━━━━━━━━━━━━\u001b[0m \u001b[32m443.9/443.9 kB\u001b[0m \u001b[31m23.5 MB/s\u001b[0m eta \u001b[36m0:00:00\u001b[0m\n",
      "\u001b[?25hUsing cached h11-0.14.0-py3-none-any.whl (58 kB)\n",
      "Downloading jsonpointer-3.0.0-py2.py3-none-any.whl (7.6 kB)\n",
      "Downloading webcolors-24.6.0-py3-none-any.whl (14 kB)\n",
      "Using cached fqdn-1.5.1-py3-none-any.whl (9.1 kB)\n",
      "Using cached isoduration-20.11.0-py3-none-any.whl (11 kB)\n",
      "Using cached uri_template-1.3.0-py3-none-any.whl (11 kB)\n",
      "Using cached arrow-1.3.0-py3-none-any.whl (66 kB)\n",
      "Using cached pycparser-2.22-py3-none-any.whl (117 kB)\n",
      "Using cached types_python_dateutil-2.9.0.20240316-py3-none-any.whl (9.7 kB)\n",
      "Installing collected packages: widgetsnbextension, websocket-client, webcolors, urllib3, uri-template, types-python-dateutil, tqdm, tomli, terminado, sniffio, send2trash, rfc3986-validator, rfc3339-validator, qtpy, pyyaml, python-json-logger, pyparsing, pycparser, prometheus-client, pillow, overrides, numpy, networkx, natsort, lazy-loader, kiwisolver, jupyterlab-widgets, jsonpointer, json5, importlib_resources, idna, h11, fqdn, fonttools, cycler, charset-normalizer, certifi, babel, async-lru, tifffile, scipy, requests, opencv-python-headless, jupyter-server-terminals, imageio, httpcore, contourpy, cffi, arrow, anyio, scikit-image, matplotlib, isoduration, httpx, argon2-cffi-bindings, openpiv, ipywidgets, argon2-cffi, qtconsole, jupyter-events, jupyter-console, jupyter-server, notebook-shim, jupyterlab-server, jupyter-lsp, jupyterlab, notebook, jupyter\n",
      "Successfully installed anyio-4.4.0 argon2-cffi-23.1.0 argon2-cffi-bindings-21.2.0 arrow-1.3.0 async-lru-2.0.4 babel-2.15.0 certifi-2024.6.2 cffi-1.16.0 charset-normalizer-3.3.2 contourpy-1.2.1 cycler-0.12.1 fonttools-4.53.0 fqdn-1.5.1 h11-0.14.0 httpcore-1.0.5 httpx-0.27.0 idna-3.7 imageio-2.34.2 importlib_resources-5.12.0 ipywidgets-8.1.3 isoduration-20.11.0 json5-0.9.25 jsonpointer-3.0.0 jupyter-1.0.0 jupyter-console-6.6.3 jupyter-events-0.10.0 jupyter-lsp-2.2.5 jupyter-server-2.14.1 jupyter-server-terminals-0.5.3 jupyterlab-4.2.3 jupyterlab-server-2.27.2 jupyterlab-widgets-3.0.11 kiwisolver-1.4.5 lazy-loader-0.4 matplotlib-3.9.0 natsort-8.4.0 networkx-3.3 notebook-7.2.1 notebook-shim-0.2.4 numpy-1.26.4 opencv-python-headless-4.10.0.84 openpiv-0.25.3 overrides-7.7.0 pillow-10.3.0 prometheus-client-0.20.0 pycparser-2.22 pyparsing-3.1.2 python-json-logger-2.0.7 pyyaml-6.0.1 qtconsole-5.5.2 qtpy-2.4.1 requests-2.32.3 rfc3339-validator-0.1.4 rfc3986-validator-0.1.1 scikit-image-0.24.0 scipy-1.14.0 send2trash-1.8.3 sniffio-1.3.1 terminado-0.18.1 tifffile-2024.6.18 tomli-2.0.1 tqdm-4.66.4 types-python-dateutil-2.9.0.20240316 uri-template-1.3.0 urllib3-2.2.2 webcolors-24.6.0 websocket-client-1.8.0 widgetsnbextension-4.0.11\n",
      "Note: you may need to restart the kernel to use updated packages.\n"
     ]
    }
   ],
   "source": [
    "# Only once, for the first time you install the project\n",
    "# conda create -n openpiv-examples python=3.10\n",
    "# conda activate openpiv-examples\n",
    "# %pip install -r requirements.txt\n"
   ]
  },
  {
   "cell_type": "code",
   "execution_count": 5,
   "metadata": {},
   "outputs": [
    {
     "name": "stdout",
     "output_type": "stream",
     "text": [
      "./notebooks/testing_rotation_differences.ipynb\n"
     ]
    },
    {
     "name": "stderr",
     "output_type": "stream",
     "text": [
      "[NbConvertApp] Converting notebook ./notebooks/testing_rotation_differences.ipynb to notebook\n",
      "[NbConvertApp] Writing 162625 bytes to notebooks/testing_rotation_differences.nbconvert.ipynb\n"
     ]
    },
    {
     "name": "stdout",
     "output_type": "stream",
     "text": [
      "./notebooks/dynamic_masking.ipynb\n"
     ]
    },
    {
     "name": "stderr",
     "output_type": "stream",
     "text": [
      "[NbConvertApp] Converting notebook ./notebooks/dynamic_masking.ipynb to notebook\n",
      "[NbConvertApp] Writing 1518488 bytes to notebooks/dynamic_masking.nbconvert.ipynb\n"
     ]
    },
    {
     "name": "stdout",
     "output_type": "stream",
     "text": [
      "./notebooks/pyprocess_correlations.ipynb\n"
     ]
    },
    {
     "name": "stderr",
     "output_type": "stream",
     "text": [
      "[NbConvertApp] Converting notebook ./notebooks/pyprocess_correlations.ipynb to notebook\n",
      "[NbConvertApp] Writing 894302 bytes to notebooks/pyprocess_correlations.nbconvert.ipynb\n"
     ]
    },
    {
     "name": "stdout",
     "output_type": "stream",
     "text": [
      "./notebooks/openpiv_night_lava_movie.ipynb\n"
     ]
    },
    {
     "name": "stderr",
     "output_type": "stream",
     "text": [
      "[NbConvertApp] Converting notebook ./notebooks/openpiv_night_lava_movie.ipynb to notebook\n",
      "[NbConvertApp] Writing 1664372 bytes to notebooks/openpiv_night_lava_movie.nbconvert.ipynb\n"
     ]
    },
    {
     "name": "stdout",
     "output_type": "stream",
     "text": [
      "./notebooks/tutorial1.ipynb\n"
     ]
    },
    {
     "name": "stderr",
     "output_type": "stream",
     "text": [
      "[NbConvertApp] Converting notebook ./notebooks/tutorial1.ipynb to notebook\n",
      "[NbConvertApp] Writing 2251995 bytes to notebooks/tutorial1.nbconvert.ipynb\n"
     ]
    },
    {
     "name": "stdout",
     "output_type": "stream",
     "text": [
      "./notebooks/ensemble_correlation.ipynb\n"
     ]
    },
    {
     "name": "stderr",
     "output_type": "stream",
     "text": [
      "[NbConvertApp] Converting notebook ./notebooks/ensemble_correlation.ipynb to notebook\n",
      "[NbConvertApp] Writing 1388739 bytes to notebooks/ensemble_correlation.nbconvert.ipynb\n"
     ]
    },
    {
     "name": "stdout",
     "output_type": "stream",
     "text": [
      "./notebooks/all_test_cases_sample.ipynb\n"
     ]
    },
    {
     "name": "stderr",
     "output_type": "stream",
     "text": [
      "[NbConvertApp] Converting notebook ./notebooks/all_test_cases_sample.ipynb to notebook\n"
     ]
    }
   ],
   "source": [
    "import subprocess\n",
    "from glob import glob\n",
    "\n",
    "for nb in glob('./notebooks/*.ipynb'):\n",
    "    print(nb)\n",
    "    # subprocess.run(['papermill',nb,nb])\n",
    "    subprocess.run(['jupyter','nbconvert','--to','notebook','--execute',nb])"
   ]
  },
  {
   "cell_type": "code",
   "execution_count": null,
   "metadata": {},
   "outputs": [],
   "source": []
  },
  {
   "cell_type": "code",
   "execution_count": null,
   "metadata": {},
   "outputs": [],
   "source": []
  }
 ],
 "metadata": {
  "kernelspec": {
   "display_name": "Python 3 (ipykernel)",
   "language": "python",
   "name": "python3"
  },
  "language_info": {
   "codemirror_mode": {
    "name": "ipython",
    "version": 3
   },
   "file_extension": ".py",
   "mimetype": "text/x-python",
   "name": "python",
   "nbconvert_exporter": "python",
   "pygments_lexer": "ipython3",
   "version": "3.10.14"
  },
  "vscode": {
   "interpreter": {
    "hash": "f83b0c3a4910470a1212112b1707d582432916ed4ba8aec962241a050aa18fae"
   }
  }
 },
 "nbformat": 4,
 "nbformat_minor": 4
}
