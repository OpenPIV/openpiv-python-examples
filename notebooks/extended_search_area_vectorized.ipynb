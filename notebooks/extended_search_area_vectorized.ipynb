{
 "cells": [
  {
   "cell_type": "markdown",
   "id": "3a2dfbac",
   "metadata": {
    "tags": [
     "papermill-error-cell-tag"
    ]
   },
   "source": [
    "<span style=\"color:red; font-family:Helvetica Neue, Helvetica, Arial, sans-serif; font-size:2em;\">An Exception was encountered at '<a href=\"#papermill-error-cell\">In [4]</a>'.</span>"
   ]
  },
  {
   "cell_type": "markdown",
   "id": "cb353fdd",
   "metadata": {
    "papermill": {
     "duration": 0.0122,
     "end_time": "2022-10-20T19:14:09.862731",
     "exception": false,
     "start_time": "2022-10-20T19:14:09.850531",
     "status": "completed"
    },
    "tags": []
   },
   "source": [
    "# Breakdown the PIV into separate functions and details"
   ]
  },
  {
   "cell_type": "code",
   "execution_count": 1,
   "id": "bcf33c44",
   "metadata": {
    "execution": {
     "iopub.execute_input": "2022-10-20T19:14:09.884467Z",
     "iopub.status.busy": "2022-10-20T19:14:09.883874Z",
     "iopub.status.idle": "2022-10-20T19:14:09.893190Z",
     "shell.execute_reply": "2022-10-20T19:14:09.891809Z"
    },
    "papermill": {
     "duration": 0.024058,
     "end_time": "2022-10-20T19:14:09.896292",
     "exception": false,
     "start_time": "2022-10-20T19:14:09.872234",
     "status": "completed"
    },
    "tags": []
   },
   "outputs": [],
   "source": [
    "# test the idea of vectorized cross correlation for \n",
    "# strided images, rectangular windows and extended search area\n",
    "# in one function"
   ]
  },
  {
   "cell_type": "code",
   "execution_count": 2,
   "id": "c3b039ba",
   "metadata": {
    "execution": {
     "iopub.execute_input": "2022-10-20T19:14:09.905785Z",
     "iopub.status.busy": "2022-10-20T19:14:09.905490Z",
     "iopub.status.idle": "2022-10-20T19:14:10.644236Z",
     "shell.execute_reply": "2022-10-20T19:14:10.643225Z"
    },
    "papermill": {
     "duration": 0.746244,
     "end_time": "2022-10-20T19:14:10.646814",
     "exception": false,
     "start_time": "2022-10-20T19:14:09.900570",
     "status": "completed"
    },
    "tags": []
   },
   "outputs": [],
   "source": [
    "import numpy as np\n",
    "import matplotlib.pyplot as plt\n",
    "\n",
    "from scipy.fft import rfft2, irfft2, fftshift"
   ]
  },
  {
   "cell_type": "code",
   "execution_count": 3,
   "id": "54beb307",
   "metadata": {
    "execution": {
     "iopub.execute_input": "2022-10-20T19:14:10.659964Z",
     "iopub.status.busy": "2022-10-20T19:14:10.659390Z",
     "iopub.status.idle": "2022-10-20T19:14:10.941134Z",
     "shell.execute_reply": "2022-10-20T19:14:10.940500Z"
    },
    "papermill": {
     "duration": 0.290236,
     "end_time": "2022-10-20T19:14:10.942644",
     "exception": false,
     "start_time": "2022-10-20T19:14:10.652408",
     "status": "completed"
    },
    "tags": []
   },
   "outputs": [],
   "source": [
    "from openpiv.pyprocess import moving_window_array, \\\n",
    "                            normalize_intensity,\\\n",
    "                            find_subpixel_peak_position, \\\n",
    "                            get_field_shape, \\\n",
    "                            get_coordinates,\\\n",
    "                            correlation_to_displacement,\\\n",
    "                            fft_correlate_images\n",
    "from openpiv.tools import imread, transform_coordinates"
   ]
  },
  {
   "cell_type": "markdown",
   "id": "7629da2d",
   "metadata": {
    "tags": [
     "papermill-error-cell-tag"
    ]
   },
   "source": [
    "<span id=\"papermill-error-cell\" style=\"color:red; font-family:Helvetica Neue, Helvetica, Arial, sans-serif; font-size:2em;\">Execution using papermill encountered an exception here and stopped:</span>"
   ]
  },
  {
   "cell_type": "code",
   "execution_count": 4,
   "id": "9a21fa0a",
   "metadata": {
    "execution": {
     "iopub.execute_input": "2022-10-20T19:14:10.950468Z",
     "iopub.status.busy": "2022-10-20T19:14:10.950187Z",
     "iopub.status.idle": "2022-10-20T19:14:11.642135Z",
     "shell.execute_reply": "2022-10-20T19:14:11.641331Z"
    },
    "papermill": {
     "duration": 0.697919,
     "end_time": "2022-10-20T19:14:11.643048",
     "exception": true,
     "start_time": "2022-10-20T19:14:10.945129",
     "status": "failed"
    },
    "tags": []
   },
   "outputs": [
    {
     "ename": "FileNotFoundError",
     "evalue": "No such file: '/home/user/Documents/repos/test1/exp1_001_a.bmp'",
     "output_type": "error",
     "traceback": [
      "\u001b[0;31m---------------------------------------------------------------------------\u001b[0m",
      "\u001b[0;31mFileNotFoundError\u001b[0m                         Traceback (most recent call last)",
      "Input \u001b[0;32mIn [4]\u001b[0m, in \u001b[0;36m<cell line: 1>\u001b[0;34m()\u001b[0m\n\u001b[0;32m----> 1\u001b[0m frame_a \u001b[38;5;241m=\u001b[39m \u001b[43mimread\u001b[49m\u001b[43m(\u001b[49m\u001b[38;5;124;43m'\u001b[39;49m\u001b[38;5;124;43m../test1/exp1_001_a.bmp\u001b[39;49m\u001b[38;5;124;43m'\u001b[39;49m\u001b[43m)\u001b[49m\n\u001b[1;32m      2\u001b[0m frame_b \u001b[38;5;241m=\u001b[39m imread(\u001b[38;5;124m'\u001b[39m\u001b[38;5;124m../test1/exp1_001_b.bmp\u001b[39m\u001b[38;5;124m'\u001b[39m)\n",
      "File \u001b[0;32m~/Documents/repos/openpiv-python/openpiv/tools.py:198\u001b[0m, in \u001b[0;36mimread\u001b[0;34m(filename, flatten)\u001b[0m\n\u001b[1;32m    172\u001b[0m \u001b[38;5;28;01mdef\u001b[39;00m \u001b[38;5;21mimread\u001b[39m(filename, flatten\u001b[38;5;241m=\u001b[39m\u001b[38;5;241m0\u001b[39m):\n\u001b[1;32m    173\u001b[0m     \u001b[38;5;124;03m\"\"\"Read an image file into a numpy array\u001b[39;00m\n\u001b[1;32m    174\u001b[0m \u001b[38;5;124;03m    using imageio imread\u001b[39;00m\n\u001b[1;32m    175\u001b[0m \u001b[38;5;124;03m    \u001b[39;00m\n\u001b[0;32m   (...)\u001b[0m\n\u001b[1;32m    196\u001b[0m \u001b[38;5;124;03m    \u001b[39;00m\n\u001b[1;32m    197\u001b[0m \u001b[38;5;124;03m    \"\"\"\u001b[39;00m\n\u001b[0;32m--> 198\u001b[0m     im \u001b[38;5;241m=\u001b[39m \u001b[43m_imread\u001b[49m\u001b[43m(\u001b[49m\u001b[43mfilename\u001b[49m\u001b[43m)\u001b[49m\n\u001b[1;32m    199\u001b[0m     \u001b[38;5;28;01mif\u001b[39;00m np\u001b[38;5;241m.\u001b[39mndim(im) \u001b[38;5;241m>\u001b[39m \u001b[38;5;241m2\u001b[39m:\n\u001b[1;32m    200\u001b[0m         im \u001b[38;5;241m=\u001b[39m rgb2gray(im)\n",
      "File \u001b[0;32m~/.edm/envs/echopiv/lib/python3.8/site-packages/imageio/v3.py:57\u001b[0m, in \u001b[0;36mimread\u001b[0;34m(uri, index, plugin, extension, format_hint, **kwargs)\u001b[0m\n\u001b[1;32m     54\u001b[0m \u001b[38;5;28;01mif\u001b[39;00m index \u001b[38;5;129;01mis\u001b[39;00m \u001b[38;5;129;01mnot\u001b[39;00m \u001b[38;5;28;01mNone\u001b[39;00m:\n\u001b[1;32m     55\u001b[0m     call_kwargs[\u001b[38;5;124m\"\u001b[39m\u001b[38;5;124mindex\u001b[39m\u001b[38;5;124m\"\u001b[39m] \u001b[38;5;241m=\u001b[39m index\n\u001b[0;32m---> 57\u001b[0m \u001b[38;5;28;01mwith\u001b[39;00m \u001b[43mimopen\u001b[49m\u001b[43m(\u001b[49m\u001b[43muri\u001b[49m\u001b[43m,\u001b[49m\u001b[43m \u001b[49m\u001b[38;5;124;43m\"\u001b[39;49m\u001b[38;5;124;43mr\u001b[39;49m\u001b[38;5;124;43m\"\u001b[39;49m\u001b[43m,\u001b[49m\u001b[43m \u001b[49m\u001b[38;5;241;43m*\u001b[39;49m\u001b[38;5;241;43m*\u001b[39;49m\u001b[43mplugin_kwargs\u001b[49m\u001b[43m)\u001b[49m \u001b[38;5;28;01mas\u001b[39;00m img_file:\n\u001b[1;32m     58\u001b[0m     \u001b[38;5;28;01mreturn\u001b[39;00m np\u001b[38;5;241m.\u001b[39masarray(img_file\u001b[38;5;241m.\u001b[39mread(\u001b[38;5;241m*\u001b[39m\u001b[38;5;241m*\u001b[39mcall_kwargs))\n",
      "File \u001b[0;32m~/.edm/envs/echopiv/lib/python3.8/site-packages/imageio/core/imopen.py:118\u001b[0m, in \u001b[0;36mimopen\u001b[0;34m(uri, io_mode, plugin, extension, format_hint, legacy_mode, **kwargs)\u001b[0m\n\u001b[1;32m    116\u001b[0m     request\u001b[38;5;241m.\u001b[39mformat_hint \u001b[38;5;241m=\u001b[39m format_hint\n\u001b[1;32m    117\u001b[0m \u001b[38;5;28;01melse\u001b[39;00m:\n\u001b[0;32m--> 118\u001b[0m     request \u001b[38;5;241m=\u001b[39m \u001b[43mRequest\u001b[49m\u001b[43m(\u001b[49m\u001b[43muri\u001b[49m\u001b[43m,\u001b[49m\u001b[43m \u001b[49m\u001b[43mio_mode\u001b[49m\u001b[43m,\u001b[49m\u001b[43m \u001b[49m\u001b[43mformat_hint\u001b[49m\u001b[38;5;241;43m=\u001b[39;49m\u001b[43mformat_hint\u001b[49m\u001b[43m,\u001b[49m\u001b[43m \u001b[49m\u001b[43mextension\u001b[49m\u001b[38;5;241;43m=\u001b[39;49m\u001b[43mextension\u001b[49m\u001b[43m)\u001b[49m\n\u001b[1;32m    120\u001b[0m source \u001b[38;5;241m=\u001b[39m \u001b[38;5;124m\"\u001b[39m\u001b[38;5;124m<bytes>\u001b[39m\u001b[38;5;124m\"\u001b[39m \u001b[38;5;28;01mif\u001b[39;00m \u001b[38;5;28misinstance\u001b[39m(uri, \u001b[38;5;28mbytes\u001b[39m) \u001b[38;5;28;01melse\u001b[39;00m uri\n\u001b[1;32m    122\u001b[0m \u001b[38;5;66;03m# fast-path based on plugin\u001b[39;00m\n\u001b[1;32m    123\u001b[0m \u001b[38;5;66;03m# (except in legacy mode)\u001b[39;00m\n",
      "File \u001b[0;32m~/.edm/envs/echopiv/lib/python3.8/site-packages/imageio/core/request.py:248\u001b[0m, in \u001b[0;36mRequest.__init__\u001b[0;34m(self, uri, mode, extension, format_hint, **kwargs)\u001b[0m\n\u001b[1;32m    245\u001b[0m     \u001b[38;5;28;01mraise\u001b[39;00m \u001b[38;5;167;01mValueError\u001b[39;00m(\u001b[38;5;124mf\u001b[39m\u001b[38;5;124m\"\u001b[39m\u001b[38;5;124mInvalid Request.Mode: \u001b[39m\u001b[38;5;132;01m{\u001b[39;00mmode\u001b[38;5;132;01m}\u001b[39;00m\u001b[38;5;124m\"\u001b[39m)\n\u001b[1;32m    247\u001b[0m \u001b[38;5;66;03m# Parse what was given\u001b[39;00m\n\u001b[0;32m--> 248\u001b[0m \u001b[38;5;28;43mself\u001b[39;49m\u001b[38;5;241;43m.\u001b[39;49m\u001b[43m_parse_uri\u001b[49m\u001b[43m(\u001b[49m\u001b[43muri\u001b[49m\u001b[43m)\u001b[49m\n\u001b[1;32m    250\u001b[0m \u001b[38;5;66;03m# Set extension\u001b[39;00m\n\u001b[1;32m    251\u001b[0m \u001b[38;5;28;01mif\u001b[39;00m extension \u001b[38;5;129;01mis\u001b[39;00m \u001b[38;5;129;01mnot\u001b[39;00m \u001b[38;5;28;01mNone\u001b[39;00m:\n",
      "File \u001b[0;32m~/.edm/envs/echopiv/lib/python3.8/site-packages/imageio/core/request.py:407\u001b[0m, in \u001b[0;36mRequest._parse_uri\u001b[0;34m(self, uri)\u001b[0m\n\u001b[1;32m    404\u001b[0m \u001b[38;5;28;01mif\u001b[39;00m is_read_request:\n\u001b[1;32m    405\u001b[0m     \u001b[38;5;66;03m# Reading: check that the file exists (but is allowed a dir)\u001b[39;00m\n\u001b[1;32m    406\u001b[0m     \u001b[38;5;28;01mif\u001b[39;00m \u001b[38;5;129;01mnot\u001b[39;00m os\u001b[38;5;241m.\u001b[39mpath\u001b[38;5;241m.\u001b[39mexists(fn):\n\u001b[0;32m--> 407\u001b[0m         \u001b[38;5;28;01mraise\u001b[39;00m \u001b[38;5;167;01mFileNotFoundError\u001b[39;00m(\u001b[38;5;124m\"\u001b[39m\u001b[38;5;124mNo such file: \u001b[39m\u001b[38;5;124m'\u001b[39m\u001b[38;5;132;01m%s\u001b[39;00m\u001b[38;5;124m'\u001b[39m\u001b[38;5;124m\"\u001b[39m \u001b[38;5;241m%\u001b[39m fn)\n\u001b[1;32m    408\u001b[0m \u001b[38;5;28;01melse\u001b[39;00m:\n\u001b[1;32m    409\u001b[0m     \u001b[38;5;66;03m# Writing: check that the directory to write to does exist\u001b[39;00m\n\u001b[1;32m    410\u001b[0m     dn \u001b[38;5;241m=\u001b[39m os\u001b[38;5;241m.\u001b[39mpath\u001b[38;5;241m.\u001b[39mdirname(fn)\n",
      "\u001b[0;31mFileNotFoundError\u001b[0m: No such file: '/home/user/Documents/repos/test1/exp1_001_a.bmp'"
     ]
    }
   ],
   "source": [
    "frame_a = imread('../test1/exp1_001_a.bmp')\n",
    "frame_b = imread('../test1/exp1_001_b.bmp')\n",
    "\n",
    "# frame_a = frame_a[:128,:128]\n",
    "# frame_b = frame_b[:128,:128]\n",
    "\n",
    "# frame_a = normalize_intensity(frame_a)\n",
    "# frame_b = normalize_intensity(frame_b)"
   ]
  },
  {
   "cell_type": "code",
   "execution_count": null,
   "id": "7cd2d11c",
   "metadata": {
    "papermill": {
     "duration": null,
     "end_time": null,
     "exception": null,
     "start_time": null,
     "status": "pending"
    },
    "tags": []
   },
   "outputs": [],
   "source": [
    "# for debugging purposes \n",
    "# frame_a = frame_a[:64,:64]\n",
    "# frame_b = frame_b[:64,:64]"
   ]
  },
  {
   "cell_type": "code",
   "execution_count": null,
   "id": "0679abbf",
   "metadata": {
    "papermill": {
     "duration": null,
     "end_time": null,
     "exception": null,
     "start_time": null,
     "status": "pending"
    },
    "tags": []
   },
   "outputs": [],
   "source": [
    "# parameters for the test\n",
    "window_size = 48\n",
    "overlap = 8\n",
    "search_size = window_size #not extended search for a while"
   ]
  },
  {
   "cell_type": "code",
   "execution_count": null,
   "id": "248481be",
   "metadata": {
    "papermill": {
     "duration": null,
     "end_time": null,
     "exception": null,
     "start_time": null,
     "status": "pending"
    },
    "tags": []
   },
   "outputs": [],
   "source": [
    "# for the regular square windows case:\n",
    "aa = moving_window_array(frame_a, window_size, overlap)\n",
    "bb = moving_window_array(frame_b, window_size, overlap)"
   ]
  },
  {
   "cell_type": "code",
   "execution_count": null,
   "id": "578ea6a4",
   "metadata": {
    "papermill": {
     "duration": null,
     "end_time": null,
     "exception": null,
     "start_time": null,
     "status": "pending"
    },
    "tags": []
   },
   "outputs": [],
   "source": [
    "c = fft_correlate_images(aa,bb)\n",
    "n_rows, n_cols = get_field_shape(frame_a.shape, search_size, overlap)\n",
    "u,v = correlation_to_displacement(c, n_rows,n_cols)\n",
    "x,y = get_coordinates(frame_a.shape,search_size,overlap)"
   ]
  },
  {
   "cell_type": "code",
   "execution_count": null,
   "id": "02b9e299",
   "metadata": {
    "papermill": {
     "duration": null,
     "end_time": null,
     "exception": null,
     "start_time": null,
     "status": "pending"
    },
    "tags": []
   },
   "outputs": [],
   "source": [
    "# let's assume we want the extended search type of PIV analysis\n",
    "# with search_area_size in image B > window_size in image A\n",
    "window_size = 32\n",
    "overlap = 8\n",
    "search_size = 48"
   ]
  },
  {
   "cell_type": "code",
   "execution_count": null,
   "id": "d9c353ce",
   "metadata": {
    "papermill": {
     "duration": null,
     "end_time": null,
     "exception": null,
     "start_time": null,
     "status": "pending"
    },
    "tags": []
   },
   "outputs": [],
   "source": [
    "# for the regular square windows case:\n",
    "aa = moving_window_array(frame_a, search_size, overlap)\n",
    "bb = moving_window_array(frame_b, search_size, overlap)\n",
    "\n",
    "aa = normalize_intensity(aa)\n",
    "bb = normalize_intensity(bb)\n",
    "\n",
    "# make it use only a small window inside a larger window\n",
    "plt.figure()\n",
    "plt.imshow(aa[-1,:,:],cmap=plt.cm.gray)\n",
    "\n",
    "\n",
    "mask = np.zeros((search_size,search_size))\n",
    "pad = int((search_size - window_size) / 2)\n",
    "\n",
    "mask[slice(pad,search_size-pad),slice(pad,search_size-pad)] = 1\n",
    "\n",
    "mask = np.broadcast_to(mask, aa.shape)\n",
    "aa *= mask.astype(aa.dtype)\n",
    "\n",
    "\n",
    "plt.figure()\n",
    "plt.imshow(aa[0,:,:],cmap=plt.cm.gray)\n",
    "plt.figure()\n",
    "plt.imshow(bb[0,:,:],cmap=plt.cm.gray)"
   ]
  },
  {
   "cell_type": "code",
   "execution_count": null,
   "id": "0d1e46f5",
   "metadata": {
    "papermill": {
     "duration": null,
     "end_time": null,
     "exception": null,
     "start_time": null,
     "status": "pending"
    },
    "tags": []
   },
   "outputs": [],
   "source": [
    "c1 = fft_correlate_images(aa, bb, correlation_method='linear')\n"
   ]
  },
  {
   "cell_type": "code",
   "execution_count": null,
   "id": "3c0ef682",
   "metadata": {
    "papermill": {
     "duration": null,
     "end_time": null,
     "exception": null,
     "start_time": null,
     "status": "pending"
    },
    "tags": []
   },
   "outputs": [],
   "source": [
    "plt.contourf(c1[2,:,:])"
   ]
  },
  {
   "cell_type": "code",
   "execution_count": null,
   "id": "59dd5db4",
   "metadata": {
    "papermill": {
     "duration": null,
     "end_time": null,
     "exception": null,
     "start_time": null,
     "status": "pending"
    },
    "tags": []
   },
   "outputs": [],
   "source": [
    "n_rows, n_cols = get_field_shape(frame_a.shape, search_size, overlap)"
   ]
  },
  {
   "cell_type": "code",
   "execution_count": null,
   "id": "385c1e95",
   "metadata": {
    "papermill": {
     "duration": null,
     "end_time": null,
     "exception": null,
     "start_time": null,
     "status": "pending"
    },
    "tags": []
   },
   "outputs": [],
   "source": [
    "u1,v1 = correlation_to_displacement(c1,n_rows,n_cols)\n",
    "x1,y1 = get_coordinates(frame_a.shape,search_size,overlap)"
   ]
  },
  {
   "cell_type": "code",
   "execution_count": null,
   "id": "7ba344b8",
   "metadata": {
    "papermill": {
     "duration": null,
     "end_time": null,
     "exception": null,
     "start_time": null,
     "status": "pending"
    },
    "tags": []
   },
   "outputs": [],
   "source": [
    "x,y,u,v = transform_coordinates(x, y, u, v)\n",
    "x1,y1,u1,v1 = transform_coordinates(x1, y1, u1, v1)"
   ]
  },
  {
   "cell_type": "code",
   "execution_count": null,
   "id": "dda78bcb",
   "metadata": {
    "papermill": {
     "duration": null,
     "end_time": null,
     "exception": null,
     "start_time": null,
     "status": "pending"
    },
    "tags": []
   },
   "outputs": [],
   "source": [
    "plt.figure(figsize=(12,12))\n",
    "plt.quiver(x,y,u,v,scale=100,color='b',alpha=0.2)\n",
    "plt.quiver(x1,y1,u1,v1,scale=100,color='r',alpha=0.2)"
   ]
  },
  {
   "cell_type": "code",
   "execution_count": null,
   "id": "ba6fdd7d",
   "metadata": {
    "papermill": {
     "duration": null,
     "end_time": null,
     "exception": null,
     "start_time": null,
     "status": "pending"
    },
    "tags": []
   },
   "outputs": [],
   "source": []
  }
 ],
 "metadata": {
  "jupytext": {
   "formats": "ipynb,py:percent"
  },
  "kernelspec": {
   "display_name": "Python 3 (ipykernel)",
   "language": "python",
   "name": "python3"
  },
  "language_info": {
   "codemirror_mode": {
    "name": "ipython",
    "version": 3
   },
   "file_extension": ".py",
   "mimetype": "text/x-python",
   "name": "python",
   "nbconvert_exporter": "python",
   "pygments_lexer": "ipython3",
   "version": "3.8.12"
  },
  "papermill": {
   "default_parameters": {},
   "duration": 3.115691,
   "end_time": "2022-10-20T19:14:11.961668",
   "environment_variables": {},
   "exception": true,
   "input_path": "./notebooks/extended_search_area_vectorized.ipynb",
   "output_path": "./notebooks/extended_search_area_vectorized.ipynb",
   "parameters": {},
   "start_time": "2022-10-20T19:14:08.845977",
   "version": "2.4.0"
  }
 },
 "nbformat": 4,
 "nbformat_minor": 5
}